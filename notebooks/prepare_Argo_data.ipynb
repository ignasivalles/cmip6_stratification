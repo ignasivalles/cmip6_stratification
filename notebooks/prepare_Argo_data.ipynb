{
 "cells": [
  {
   "cell_type": "code",
   "execution_count": 18,
   "id": "93b61967-b1ea-439c-9a46-8efa294a371a",
   "metadata": {},
   "outputs": [],
   "source": [
    "import xarray as xr\n",
    "import xarray as xr\n",
    "import matplotlib.pyplot as plt\n",
    "import numpy as np\n",
    "\n",
    "sys.path.append('/Users/ignasivalles/Oceanography/IEO/projects/cmip6_stratification/src')\n",
    "from data_functions import *\n",
    "from cmip6_reanalysis_handler import *\n",
    "\n",
    "A11=xr.open_dataset('/Users/ignasivalles/Oceanography/IEO/projects/cmip6_stratification/data/raw/Argo/Gridded_A1_ARGO-SHDR_2x2_20052014_v2.nc')\n",
    "A12=xr.open_dataset('/Users/ignasivalles/Oceanography/IEO/projects/cmip6_stratification/data/raw/Argo/Gridded_A1_ARGO-SHDR_2x2_20132022_v2.nc')\n",
    "B31=xr.open_dataset('/Users/ignasivalles/Oceanography/IEO/projects/cmip6_stratification/data/raw/Argo/Gridded_B3_ARGO-SHDR_2x2_20052014_v2.nc')\n",
    "B32=xr.open_dataset('/Users/ignasivalles/Oceanography/IEO/projects/cmip6_stratification/data/raw/Argo/Gridded_B3_ARGO-SHDR_2x2_20132022_v2.nc')\n",
    "D11=xr.open_dataset('/Users/ignasivalles/Oceanography/IEO/projects/cmip6_stratification/data/raw/Argo/Gridded_MLD_ARGO-SHDR_2x2_20052014.nc')\n",
    "D12=xr.open_dataset('/Users/ignasivalles/Oceanography/IEO/projects/cmip6_stratification/data/raw/Argo/Gridded_MLD_ARGO-SHDR_2x2_20132022_v2.nc')\n",
    "Gmax1=xr.open_dataset('/Users/ignasivalles/Oceanography/IEO/projects/cmip6_stratification/data/raw/Argo/Gridded_Gmax_ARGO-SHDR_2x2_20052014_v2.nc')\n",
    "Gmax2=xr.open_dataset('/Users/ignasivalles/Oceanography/IEO/projects/cmip6_stratification/data/raw/Argo/Gridded_Gmax_ARGO-SHDR_2x2_20132022_v2.nc')\n",
    "\n",
    "\n",
    "a1=xr.concat((A11,A12), dim='time').mld.rename('a1')\n",
    "b3=xr.concat((B31,B32), dim='time').mld.rename('b3')\n",
    "D1=xr.concat((D11,D12), dim='time').mld.rename('D1')\n",
    "Gmax=xr.concat((Gmax1,Gmax2), dim='time').mld.rename('Gmax')\n"
   ]
  },
  {
   "cell_type": "code",
   "execution_count": 17,
   "id": "4200c6cf-79fa-4be4-96ad-30a940eec8f7",
   "metadata": {},
   "outputs": [],
   "source": [
    "\n",
    "dataset = xr.Dataset({\"a1\": a1, \"b3\": b3, \"D1\": D1, \"Gmax\": Gmax})\n",
    "dataset.to_netcdf('/Users/ignasivalles/Oceanography/IEO/projects/cmip6_stratification/data/raw/Argo/Gridded_ARGO_SHDR.nc')\n"
   ]
  },
  {
   "cell_type": "code",
   "execution_count": 22,
   "id": "79cb1eeb-47c2-477e-aacc-28e69db167ba",
   "metadata": {},
   "outputs": [],
   "source": [
    "\n",
    "dataset_rg=regrid_models_simple(dataset)\n",
    "dataset_rg.to_netcdf('/Users/ignasivalles/Oceanography/IEO/projects/cmip6_stratification/data/processed/Gridded_ARGO_SHDR_rg.nc')\n"
   ]
  },
  {
   "cell_type": "code",
   "execution_count": null,
   "id": "a28c8adc-1e76-4633-8255-7eeffb07077e",
   "metadata": {},
   "outputs": [],
   "source": []
  }
 ],
 "metadata": {
  "kernelspec": {
   "display_name": "Python 3 (ipykernel)",
   "language": "python",
   "name": "python3"
  },
  "language_info": {
   "codemirror_mode": {
    "name": "ipython",
    "version": 3
   },
   "file_extension": ".py",
   "mimetype": "text/x-python",
   "name": "python",
   "nbconvert_exporter": "python",
   "pygments_lexer": "ipython3",
   "version": "3.12.8"
  }
 },
 "nbformat": 4,
 "nbformat_minor": 5
}
