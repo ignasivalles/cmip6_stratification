{
 "cells": [
  {
   "cell_type": "code",
   "execution_count": 1,
   "id": "7e55fc2a-09cc-4b95-a1d4-c6d4d24ab0fc",
   "metadata": {},
   "outputs": [],
   "source": [
    "import pandas as pd\n",
    "import numpy as np\n",
    "import matplotlib.pyplot as plt\n",
    "import gsw as gsw\n",
    "import xarray as xr\n",
    "\n",
    "from SHDR import fit_profile, fit_time_series, _FitOptions\n",
    "from SHDR_utils import fit_function\n",
    "\n",
    "so=\"/Volumes/Thalassa/CMIP6/EC-Earth-Veg/so_Omon_EC-Earth3-Veg-LR_historical_r1i1p1f1_gn_198001-201412.nc\"\n",
    "thetao=\"/Volumes/Thalassa/CMIP6/EC-Earth-Veg/thetao_Omon_EC-Earth3-Veg-LR_historical_r1i1p1f1_gn_198001-201412.nc\"\n",
    "\n",
    "so=xr.open_dataset(so).so\n",
    "thetao=xr.open_dataset(thetao).thetao"
   ]
  },
  {
   "cell_type": "code",
   "execution_count": null,
   "id": "aa6903e0-2160-43a4-bf9b-92adc9af6680",
   "metadata": {},
   "outputs": [],
   "source": [
    "thetao=gsw.CT_from_pt(so, thetao)\n",
    "rho = gsw.sigma0(so, thetao).rename('rho')"
   ]
  },
  {
   "cell_type": "code",
   "execution_count": null,
   "id": "6d148624-a108-48ad-b4f2-3c6899c135cc",
   "metadata": {},
   "outputs": [],
   "source": [
    "import numpy as np\n",
    "import xarray as xr\n",
    "\n",
    "\n",
    "\n",
    "# Define depth threshold\n",
    "depth_threshold = 1000  # meters\n",
    "\n",
    "# Filter for valid levels where depth > 1000 m and values are not NaN\n",
    "valid_points = (\n",
    "    (so.lev > depth_threshold) &  # Depth condition\n",
    "    (~so.isnull()) &              # Valid salinity\n",
    "    (~thetao.isnull())            # Valid temperature\n",
    ")\n",
    "\n",
    "# Reduce the valid points to indices (time, lev, j, i)\n",
    "valid_indices = np.array(np.where(valid_points))\n",
    "\n",
    "# Randomly sample 10 points from valid indices\n",
    "np.random.seed(42)  # For reproducibility\n",
    "selected_indices = valid_indices[:, np.random.choice(valid_indices.shape[1], size=10, replace=False)]\n",
    "\n",
    "# Convert the selected indices into readable format\n",
    "selected_points = []\n",
    "for idx in range(selected_indices.shape[1]):\n",
    "    time_idx, lev_idx, j_idx, i_idx = selected_indices[:, idx]\n",
    "    selected_points.append((time_idx, lev_idx, j_idx, i_idx))\n",
    "\n",
    "# Print the selected points\n",
    "for i, (time, lev, j, i_) in enumerate(selected_points, 1):\n",
    "    print(f\"Point {i}: Time={time}, Lev={lev}, J={j}, I={i_}\")\n"
   ]
  },
  {
   "cell_type": "code",
   "execution_count": null,
   "id": "b9a5fef2-9dca-46be-b261-42411bdb65f9",
   "metadata": {},
   "outputs": [],
   "source": []
  }
 ],
 "metadata": {
  "kernelspec": {
   "display_name": "Python 3 (ipykernel)",
   "language": "python",
   "name": "python3"
  },
  "language_info": {
   "codemirror_mode": {
    "name": "ipython",
    "version": 3
   },
   "file_extension": ".py",
   "mimetype": "text/x-python",
   "name": "python",
   "nbconvert_exporter": "python",
   "pygments_lexer": "ipython3",
   "version": "3.7.12"
  }
 },
 "nbformat": 4,
 "nbformat_minor": 5
}
