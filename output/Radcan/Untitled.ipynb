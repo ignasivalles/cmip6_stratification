{
 "cells": [
  {
   "cell_type": "code",
   "execution_count": 19,
   "id": "09e235ab-c007-475b-a038-5721b0461c39",
   "metadata": {},
   "outputs": [],
   "source": [
    "import sys\n",
    "import os\n",
    "import re\n",
    "import numpy as np\n",
    "import xarray as xr\n",
    "import xesmf as xe\n",
    "import seaborn as sns\n",
    "from glob import glob\n",
    "from scipy.io import loadmat\n",
    "import matplotlib.pyplot as plt\n",
    "\n",
    "def matlab_to_numpy_datetime(matlab_time):\n",
    "    # MATLAB epoch (days since 0000-01-01) to Unix epoch (days since 1970-01-01)\n",
    "    MATLAB_EPOCH_DIFF = 719529  # days\n",
    "    # Convert MATLAB time to Unix time in days\n",
    "    unix_days = matlab_time - MATLAB_EPOCH_DIFF\n",
    "    # Convert days to seconds (numpy.datetime64 uses seconds or nanoseconds)\n",
    "    unix_seconds = unix_days * 86400\n",
    "    # Convert to numpy.datetime64 in seconds\n",
    "    return np.datetime64('1970-01-01') + unix_seconds.astype('timedelta64[s]')"
   ]
  },
  {
   "cell_type": "code",
   "execution_count": 32,
   "id": "def2bd4f-6972-4454-a362-6f5f2a418d07",
   "metadata": {},
   "outputs": [],
   "source": [
    "s7_data=loadmat('/Users/ignasi/Desktop/Oceanography/IEO/projects/stratification_CMIP6/Radcan/station7_MLD_stratif.mat')\n",
    "s4_data=loadmat('/Users/ignasi/Desktop/Oceanography/IEO/projects/stratification_CMIP6/Radcan/stationg4_MLD_stratif.mat')"
   ]
  },
  {
   "cell_type": "code",
   "execution_count": 27,
   "id": "c68e770d-5fe5-47bd-8876-5f718d38a971",
   "metadata": {},
   "outputs": [],
   "source": [
    "timesS7=matlab_to_numpy_datetime(np.squeeze(s7_data['dates']))\n",
    "a1S7=np.squeeze(s7_data['a1_all'])\n",
    "b3S7=np.squeeze(s7_data['b3_all'])\n",
    "DS7=np.squeeze(s7_data['D_all'])\n",
    "\n",
    "ds_S7=xr.Dataset(\n",
    "    {\"a1\": (\"time\", a1S7),\n",
    "     \"b3\": (\"time\", b3S7),\n",
    "     \"D\": (\"time\", DS7)},\n",
    "    coords={\"time\": timesS7})\n"
   ]
  },
  {
   "cell_type": "code",
   "execution_count": 33,
   "id": "a8e1fa79-a41d-4d3a-ab8b-3933cb2a972f",
   "metadata": {},
   "outputs": [],
   "source": [
    "timesS4=matlab_to_numpy_datetime(np.squeeze(s4_data['dates']))\n",
    "a1S4=np.squeeze(s4_data['a1_all'])\n",
    "b3S4=np.squeeze(s4_data['b3_all'])\n",
    "DS4=np.squeeze(s4_data['D_all'])\n",
    "\n",
    "ds_S4=xr.Dataset(\n",
    "    {\"a1\": (\"time\", a1S4),\n",
    "     \"b3\": (\"time\", b3S4),\n",
    "     \"D\": (\"time\", DS4)},\n",
    "    coords={\"time\": timesS4})"
   ]
  },
  {
   "cell_type": "code",
   "execution_count": 35,
   "id": "5681db3d-1d2e-4d80-b034-9c17f78e13ee",
   "metadata": {},
   "outputs": [],
   "source": [
    "ds_S4.to_netcdf('/Users/ignasi/Desktop/Oceanography/IEO/projects/stratification_CMIP6/Radcan/ds_S4.nc')\n",
    "ds_S7.to_netcdf('/Users/ignasi/Desktop/Oceanography/IEO/projects/stratification_CMIP6/Radcan/ds_S7.nc')"
   ]
  },
  {
   "cell_type": "code",
   "execution_count": null,
   "id": "2570614a-8805-4db7-9405-ef36df2caf1a",
   "metadata": {},
   "outputs": [],
   "source": []
  }
 ],
 "metadata": {
  "kernelspec": {
   "display_name": "Python 3 (ipykernel)",
   "language": "python",
   "name": "python3"
  },
  "language_info": {
   "codemirror_mode": {
    "name": "ipython",
    "version": 3
   },
   "file_extension": ".py",
   "mimetype": "text/x-python",
   "name": "python",
   "nbconvert_exporter": "python",
   "pygments_lexer": "ipython3",
   "version": "3.7.12"
  }
 },
 "nbformat": 4,
 "nbformat_minor": 5
}
