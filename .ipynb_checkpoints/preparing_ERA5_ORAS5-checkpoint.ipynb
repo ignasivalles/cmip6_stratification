{
 "cells": [
  {
   "cell_type": "code",
   "execution_count": 2,
   "id": "96ff6da8-1609-4960-bed6-b152e4b333f4",
   "metadata": {},
   "outputs": [],
   "source": [
    "import sys\n",
    "import os\n",
    "import re\n",
    "import numpy as np\n",
    "import xarray as xr\n",
    "import xesmf as xe\n",
    "import seaborn as sns\n",
    "from glob import glob\n",
    "import cftime\n",
    "from xgcm import Grid\n",
    "from xgcm.autogenerate import generate_grid_ds\n",
    "sys.path.append('/Users/ignasi/Desktop/Oceanography/IEO/projects/stratification_CMIP6')\n",
    "from cmip6_reanalysis_handler import *\n",
    "from data_functions import *\n",
    "import gsw\n",
    "import pandas as pd\n",
    "from xgcm import Grid\n",
    "from xgcm.autogenerate import generate_grid_ds\n",
    "\n",
    "ERA5_path='/Volumes/Thalassa/ERA5_data/'\n",
    "files=glob(ERA5_path+'ERA5_sst*.nc')"
   ]
  },
  {
   "cell_type": "code",
   "execution_count": 21,
   "id": "f291aa1d-b641-43db-a8a1-ace7dcf1d1ed",
   "metadata": {},
   "outputs": [
    {
     "name": "stdout",
     "output_type": "stream",
     "text": [
      "/Volumes/Thalassa/ERA5_data/ERA5_sst_199001-200912.nc\n",
      "/Volumes/Thalassa/ERA5_data/ERA5_sst_201001-202412.nc\n",
      "/Volumes/Thalassa/ERA5_data/ERA5_sst_197001-198912.nc\n"
     ]
    }
   ],
   "source": [
    "for f in files:\n",
    "    print(f)\n",
    "    f_rg=regrid_models_simple(xr.open_dataset(f))\n",
    "    f_rg.to_netcdf(f[0:-3]+'_rg.nc')"
   ]
  },
  {
   "cell_type": "code",
   "execution_count": 25,
   "id": "438f0fdc-99e9-4b65-8683-8e049280a306",
   "metadata": {},
   "outputs": [
    {
     "name": "stdout",
     "output_type": "stream",
     "text": [
      "/Volumes/Thalassa/ERA5_data/ERA5_10mWind_200001-202412.nc\n",
      "/Volumes/Thalassa/ERA5_data/ERA5_10mWind_197001-199912.nc\n"
     ]
    }
   ],
   "source": [
    "files=glob(ERA5_path+'ERA5_10mWind*.nc')\n",
    "\n",
    "for f in files:\n",
    "    print(f)\n",
    "    f_rg=regrid_models_simple(xr.open_dataset(f))\n",
    "    f_rg.to_netcdf(f[0:-3]+'_rg.nc')"
   ]
  },
  {
   "cell_type": "code",
   "execution_count": 2,
   "id": "7646c55e-ff2d-405c-ba73-201d2a51966e",
   "metadata": {},
   "outputs": [
    {
     "name": "stdout",
     "output_type": "stream",
     "text": [
      "200001-202412_rg\n",
      "197001-199912_rg\n"
     ]
    }
   ],
   "source": [
    "### Calculate wind stress curl and SDFlux ###\n",
    "\n",
    "# WIND STRESS CURL  ERA5#\n",
    "\n",
    "files=glob(ERA5_path+'ERA5_10mWind*_rg.nc')\n",
    "\n",
    "for f in files:\n",
    "    ds=xr.open_dataset(f)\n",
    "    lat_2d = np.tile(ds.lat.values[:, np.newaxis], (1, len(ds.lon.values)))\n",
    "    \n",
    "    ds_full=generate_grid_ds(ds,{'Y':'lat','X':'lon'})\n",
    "    grid=Grid(ds_full,periodic=['X'])\n",
    "    dlong = grid.diff(ds_full.lon, 'X', boundary='extend', fill_value=np.nan)\n",
    "    dlatg = grid.diff(ds_full.lat, 'Y', boundary='extrapolate', fill_value=np.nan)\n",
    "\n",
    "    dlong[0]=dlong[1]\n",
    "\n",
    "    [dx,dy]=dll_dist(dlong, dlatg, ds.lon, ds.lat)\n",
    "    \n",
    "    du_dy = grid.diff(ds.v10, 'Y', boundary='fill', fill_value=np.nan) / dy\n",
    "    dv_dx = grid.diff(ds.u10, 'X') / dx\n",
    "\n",
    "    du_dy['lat_left']=dv_dx['lat'].values\n",
    "    dv_dx['lon_left']=du_dy['lon'].values\n",
    "    du_dy=np.squeeze(du_dy.isel(lat=0).drop('lat'))\n",
    "\n",
    "    du_dy=du_dy.rename({'lat_left': 'lat'})\n",
    "    dv_dx=dv_dx.rename({'lon_left': 'lon'})\n",
    "\n",
    "    # Curl: dVdx - dUdy\n",
    "    curl = dv_dx - du_dy\n",
    "    years=f[-19:-3]\n",
    "    print(years)\n",
    "    curl.rename('curl').to_netcdf('/Volumes/Thalassa/ERA5_data/ERA5_curl_'+years+'.nc')    \n"
   ]
  },
  {
   "cell_type": "code",
   "execution_count": null,
   "id": "6c0b2ad8-0272-42b1-8281-788d02943a80",
   "metadata": {},
   "outputs": [],
   "source": [
    "### Regrid ORAS5\n",
    "\n",
    "ORAS5_path='/Volumes/Thalassa/ORAS5/ORAS5_original_data/ORAS5_hflux/'\n",
    "ORAS5_output='/Volumes/Thalassa/ORAS5/ORAS5_hflux_rg/'\n",
    "files=glob(ORAS5_path+'*.nc')\n",
    "\n",
    "for f in files:\n",
    "    # Open the dataset\n",
    "    ds = xr.open_dataset(f)\n",
    "    \n",
    "    # Extract the time information\n",
    "    t = ds.time_counter.values\n",
    "    t = str(np.datetime_as_string(t, unit='M')[0])[0:4] + str(np.datetime_as_string(t, unit='M')[0])[5:7]\n",
    "    \n",
    "    # Construct the output file name\n",
    "    output_file = ORAS5_output + f'ORAS5_hflux_{t}_rg.nc'\n",
    "    \n",
    "    # Check if the file already exists\n",
    "    if not os.path.exists(output_file):\n",
    "        # Perform regridding and save to netCDF if the file does not exist\n",
    "        f_rg = regrid_models_simple(ds)\n",
    "        f_rg.to_netcdf(output_file)\n",
    "        print(f\"{output_file} done\")\n",
    "    else:\n",
    "        print(f\"{output_file} already exists, skipping.\")\n",
    "\n"
   ]
  },
  {
   "cell_type": "code",
   "execution_count": 4,
   "id": "e7e6ad1c-64c2-4759-ba3a-0be9059de75d",
   "metadata": {},
   "outputs": [
    {
     "name": "stderr",
     "output_type": "stream",
     "text": [
      "/Users/ignasi/miniconda3/envs/xesmf_env/lib/python3.7/site-packages/xesmf/smm.py:130: UserWarning: Input array is not C_CONTIGUOUS. Will affect performance.\n",
      "  warnings.warn('Input array is not C_CONTIGUOUS. ' 'Will affect performance.')\n"
     ]
    },
    {
     "name": "stdout",
     "output_type": "stream",
     "text": [
      "/Volumes/Thalassa/CORA_SHDR_rg/CORA_SHDR_200001_rg.nc done\n"
     ]
    },
    {
     "name": "stderr",
     "output_type": "stream",
     "text": [
      "/Users/ignasi/miniconda3/envs/xesmf_env/lib/python3.7/site-packages/xesmf/smm.py:130: UserWarning: Input array is not C_CONTIGUOUS. Will affect performance.\n",
      "  warnings.warn('Input array is not C_CONTIGUOUS. ' 'Will affect performance.')\n"
     ]
    },
    {
     "name": "stdout",
     "output_type": "stream",
     "text": [
      "/Volumes/Thalassa/CORA_SHDR_rg/CORA_SHDR_200002_rg.nc done\n"
     ]
    },
    {
     "name": "stderr",
     "output_type": "stream",
     "text": [
      "/Users/ignasi/miniconda3/envs/xesmf_env/lib/python3.7/site-packages/xesmf/smm.py:130: UserWarning: Input array is not C_CONTIGUOUS. Will affect performance.\n",
      "  warnings.warn('Input array is not C_CONTIGUOUS. ' 'Will affect performance.')\n"
     ]
    },
    {
     "name": "stdout",
     "output_type": "stream",
     "text": [
      "/Volumes/Thalassa/CORA_SHDR_rg/CORA_SHDR_200003_rg.nc done\n"
     ]
    },
    {
     "name": "stderr",
     "output_type": "stream",
     "text": [
      "/Users/ignasi/miniconda3/envs/xesmf_env/lib/python3.7/site-packages/xesmf/smm.py:130: UserWarning: Input array is not C_CONTIGUOUS. Will affect performance.\n",
      "  warnings.warn('Input array is not C_CONTIGUOUS. ' 'Will affect performance.')\n"
     ]
    },
    {
     "name": "stdout",
     "output_type": "stream",
     "text": [
      "/Volumes/Thalassa/CORA_SHDR_rg/CORA_SHDR_200004_rg.nc done\n"
     ]
    },
    {
     "name": "stderr",
     "output_type": "stream",
     "text": [
      "/Users/ignasi/miniconda3/envs/xesmf_env/lib/python3.7/site-packages/xesmf/smm.py:130: UserWarning: Input array is not C_CONTIGUOUS. Will affect performance.\n",
      "  warnings.warn('Input array is not C_CONTIGUOUS. ' 'Will affect performance.')\n"
     ]
    },
    {
     "name": "stdout",
     "output_type": "stream",
     "text": [
      "/Volumes/Thalassa/CORA_SHDR_rg/CORA_SHDR_200005_rg.nc done\n"
     ]
    },
    {
     "name": "stderr",
     "output_type": "stream",
     "text": [
      "/Users/ignasi/miniconda3/envs/xesmf_env/lib/python3.7/site-packages/xesmf/smm.py:130: UserWarning: Input array is not C_CONTIGUOUS. Will affect performance.\n",
      "  warnings.warn('Input array is not C_CONTIGUOUS. ' 'Will affect performance.')\n"
     ]
    },
    {
     "name": "stdout",
     "output_type": "stream",
     "text": [
      "/Volumes/Thalassa/CORA_SHDR_rg/CORA_SHDR_200006_rg.nc done\n"
     ]
    },
    {
     "name": "stderr",
     "output_type": "stream",
     "text": [
      "/Users/ignasi/miniconda3/envs/xesmf_env/lib/python3.7/site-packages/xesmf/smm.py:130: UserWarning: Input array is not C_CONTIGUOUS. Will affect performance.\n",
      "  warnings.warn('Input array is not C_CONTIGUOUS. ' 'Will affect performance.')\n"
     ]
    },
    {
     "name": "stdout",
     "output_type": "stream",
     "text": [
      "/Volumes/Thalassa/CORA_SHDR_rg/CORA_SHDR_200007_rg.nc done\n"
     ]
    },
    {
     "name": "stderr",
     "output_type": "stream",
     "text": [
      "/Users/ignasi/miniconda3/envs/xesmf_env/lib/python3.7/site-packages/xesmf/smm.py:130: UserWarning: Input array is not C_CONTIGUOUS. Will affect performance.\n",
      "  warnings.warn('Input array is not C_CONTIGUOUS. ' 'Will affect performance.')\n"
     ]
    },
    {
     "name": "stdout",
     "output_type": "stream",
     "text": [
      "/Volumes/Thalassa/CORA_SHDR_rg/CORA_SHDR_200008_rg.nc done\n"
     ]
    },
    {
     "name": "stderr",
     "output_type": "stream",
     "text": [
      "/Users/ignasi/miniconda3/envs/xesmf_env/lib/python3.7/site-packages/xesmf/smm.py:130: UserWarning: Input array is not C_CONTIGUOUS. Will affect performance.\n",
      "  warnings.warn('Input array is not C_CONTIGUOUS. ' 'Will affect performance.')\n"
     ]
    },
    {
     "name": "stdout",
     "output_type": "stream",
     "text": [
      "/Volumes/Thalassa/CORA_SHDR_rg/CORA_SHDR_200009_rg.nc done\n"
     ]
    },
    {
     "name": "stderr",
     "output_type": "stream",
     "text": [
      "/Users/ignasi/miniconda3/envs/xesmf_env/lib/python3.7/site-packages/xesmf/smm.py:130: UserWarning: Input array is not C_CONTIGUOUS. Will affect performance.\n",
      "  warnings.warn('Input array is not C_CONTIGUOUS. ' 'Will affect performance.')\n"
     ]
    },
    {
     "name": "stdout",
     "output_type": "stream",
     "text": [
      "/Volumes/Thalassa/CORA_SHDR_rg/CORA_SHDR_200010_rg.nc done\n"
     ]
    },
    {
     "name": "stderr",
     "output_type": "stream",
     "text": [
      "/Users/ignasi/miniconda3/envs/xesmf_env/lib/python3.7/site-packages/xesmf/smm.py:130: UserWarning: Input array is not C_CONTIGUOUS. Will affect performance.\n",
      "  warnings.warn('Input array is not C_CONTIGUOUS. ' 'Will affect performance.')\n"
     ]
    },
    {
     "name": "stdout",
     "output_type": "stream",
     "text": [
      "/Volumes/Thalassa/CORA_SHDR_rg/CORA_SHDR_200011_rg.nc done\n"
     ]
    },
    {
     "name": "stderr",
     "output_type": "stream",
     "text": [
      "/Users/ignasi/miniconda3/envs/xesmf_env/lib/python3.7/site-packages/xesmf/smm.py:130: UserWarning: Input array is not C_CONTIGUOUS. Will affect performance.\n",
      "  warnings.warn('Input array is not C_CONTIGUOUS. ' 'Will affect performance.')\n"
     ]
    },
    {
     "name": "stdout",
     "output_type": "stream",
     "text": [
      "/Volumes/Thalassa/CORA_SHDR_rg/CORA_SHDR_200012_rg.nc done\n"
     ]
    },
    {
     "name": "stderr",
     "output_type": "stream",
     "text": [
      "/Users/ignasi/miniconda3/envs/xesmf_env/lib/python3.7/site-packages/xesmf/smm.py:130: UserWarning: Input array is not C_CONTIGUOUS. Will affect performance.\n",
      "  warnings.warn('Input array is not C_CONTIGUOUS. ' 'Will affect performance.')\n"
     ]
    },
    {
     "name": "stdout",
     "output_type": "stream",
     "text": [
      "/Volumes/Thalassa/CORA_SHDR_rg/CORA_SHDR_200101_rg.nc done\n"
     ]
    },
    {
     "name": "stderr",
     "output_type": "stream",
     "text": [
      "/Users/ignasi/miniconda3/envs/xesmf_env/lib/python3.7/site-packages/xesmf/smm.py:130: UserWarning: Input array is not C_CONTIGUOUS. Will affect performance.\n",
      "  warnings.warn('Input array is not C_CONTIGUOUS. ' 'Will affect performance.')\n"
     ]
    },
    {
     "name": "stdout",
     "output_type": "stream",
     "text": [
      "/Volumes/Thalassa/CORA_SHDR_rg/CORA_SHDR_200102_rg.nc done\n"
     ]
    },
    {
     "name": "stderr",
     "output_type": "stream",
     "text": [
      "/Users/ignasi/miniconda3/envs/xesmf_env/lib/python3.7/site-packages/xesmf/smm.py:130: UserWarning: Input array is not C_CONTIGUOUS. Will affect performance.\n",
      "  warnings.warn('Input array is not C_CONTIGUOUS. ' 'Will affect performance.')\n"
     ]
    },
    {
     "name": "stdout",
     "output_type": "stream",
     "text": [
      "/Volumes/Thalassa/CORA_SHDR_rg/CORA_SHDR_200103_rg.nc done\n"
     ]
    },
    {
     "name": "stderr",
     "output_type": "stream",
     "text": [
      "/Users/ignasi/miniconda3/envs/xesmf_env/lib/python3.7/site-packages/xesmf/smm.py:130: UserWarning: Input array is not C_CONTIGUOUS. Will affect performance.\n",
      "  warnings.warn('Input array is not C_CONTIGUOUS. ' 'Will affect performance.')\n"
     ]
    },
    {
     "name": "stdout",
     "output_type": "stream",
     "text": [
      "/Volumes/Thalassa/CORA_SHDR_rg/CORA_SHDR_200104_rg.nc done\n"
     ]
    },
    {
     "name": "stderr",
     "output_type": "stream",
     "text": [
      "/Users/ignasi/miniconda3/envs/xesmf_env/lib/python3.7/site-packages/xesmf/smm.py:130: UserWarning: Input array is not C_CONTIGUOUS. Will affect performance.\n",
      "  warnings.warn('Input array is not C_CONTIGUOUS. ' 'Will affect performance.')\n"
     ]
    },
    {
     "name": "stdout",
     "output_type": "stream",
     "text": [
      "/Volumes/Thalassa/CORA_SHDR_rg/CORA_SHDR_200105_rg.nc done\n"
     ]
    },
    {
     "name": "stderr",
     "output_type": "stream",
     "text": [
      "/Users/ignasi/miniconda3/envs/xesmf_env/lib/python3.7/site-packages/xesmf/smm.py:130: UserWarning: Input array is not C_CONTIGUOUS. Will affect performance.\n",
      "  warnings.warn('Input array is not C_CONTIGUOUS. ' 'Will affect performance.')\n"
     ]
    },
    {
     "name": "stdout",
     "output_type": "stream",
     "text": [
      "/Volumes/Thalassa/CORA_SHDR_rg/CORA_SHDR_200106_rg.nc done\n"
     ]
    },
    {
     "name": "stderr",
     "output_type": "stream",
     "text": [
      "/Users/ignasi/miniconda3/envs/xesmf_env/lib/python3.7/site-packages/xesmf/smm.py:130: UserWarning: Input array is not C_CONTIGUOUS. Will affect performance.\n",
      "  warnings.warn('Input array is not C_CONTIGUOUS. ' 'Will affect performance.')\n"
     ]
    },
    {
     "name": "stdout",
     "output_type": "stream",
     "text": [
      "/Volumes/Thalassa/CORA_SHDR_rg/CORA_SHDR_200107_rg.nc done\n"
     ]
    },
    {
     "name": "stderr",
     "output_type": "stream",
     "text": [
      "/Users/ignasi/miniconda3/envs/xesmf_env/lib/python3.7/site-packages/xesmf/smm.py:130: UserWarning: Input array is not C_CONTIGUOUS. Will affect performance.\n",
      "  warnings.warn('Input array is not C_CONTIGUOUS. ' 'Will affect performance.')\n"
     ]
    },
    {
     "name": "stdout",
     "output_type": "stream",
     "text": [
      "/Volumes/Thalassa/CORA_SHDR_rg/CORA_SHDR_200108_rg.nc done\n"
     ]
    },
    {
     "name": "stderr",
     "output_type": "stream",
     "text": [
      "/Users/ignasi/miniconda3/envs/xesmf_env/lib/python3.7/site-packages/xesmf/smm.py:130: UserWarning: Input array is not C_CONTIGUOUS. Will affect performance.\n",
      "  warnings.warn('Input array is not C_CONTIGUOUS. ' 'Will affect performance.')\n"
     ]
    },
    {
     "name": "stdout",
     "output_type": "stream",
     "text": [
      "/Volumes/Thalassa/CORA_SHDR_rg/CORA_SHDR_200109_rg.nc done\n"
     ]
    },
    {
     "name": "stderr",
     "output_type": "stream",
     "text": [
      "/Users/ignasi/miniconda3/envs/xesmf_env/lib/python3.7/site-packages/xesmf/smm.py:130: UserWarning: Input array is not C_CONTIGUOUS. Will affect performance.\n",
      "  warnings.warn('Input array is not C_CONTIGUOUS. ' 'Will affect performance.')\n"
     ]
    },
    {
     "name": "stdout",
     "output_type": "stream",
     "text": [
      "/Volumes/Thalassa/CORA_SHDR_rg/CORA_SHDR_200110_rg.nc done\n"
     ]
    },
    {
     "name": "stderr",
     "output_type": "stream",
     "text": [
      "/Users/ignasi/miniconda3/envs/xesmf_env/lib/python3.7/site-packages/xesmf/smm.py:130: UserWarning: Input array is not C_CONTIGUOUS. Will affect performance.\n",
      "  warnings.warn('Input array is not C_CONTIGUOUS. ' 'Will affect performance.')\n"
     ]
    },
    {
     "name": "stdout",
     "output_type": "stream",
     "text": [
      "/Volumes/Thalassa/CORA_SHDR_rg/CORA_SHDR_200111_rg.nc done\n"
     ]
    },
    {
     "name": "stderr",
     "output_type": "stream",
     "text": [
      "/Users/ignasi/miniconda3/envs/xesmf_env/lib/python3.7/site-packages/xesmf/smm.py:130: UserWarning: Input array is not C_CONTIGUOUS. Will affect performance.\n",
      "  warnings.warn('Input array is not C_CONTIGUOUS. ' 'Will affect performance.')\n"
     ]
    },
    {
     "name": "stdout",
     "output_type": "stream",
     "text": [
      "/Volumes/Thalassa/CORA_SHDR_rg/CORA_SHDR_200112_rg.nc done\n"
     ]
    },
    {
     "name": "stderr",
     "output_type": "stream",
     "text": [
      "/Users/ignasi/miniconda3/envs/xesmf_env/lib/python3.7/site-packages/xesmf/smm.py:130: UserWarning: Input array is not C_CONTIGUOUS. Will affect performance.\n",
      "  warnings.warn('Input array is not C_CONTIGUOUS. ' 'Will affect performance.')\n"
     ]
    },
    {
     "name": "stdout",
     "output_type": "stream",
     "text": [
      "/Volumes/Thalassa/CORA_SHDR_rg/CORA_SHDR_200201_rg.nc done\n"
     ]
    },
    {
     "name": "stderr",
     "output_type": "stream",
     "text": [
      "/Users/ignasi/miniconda3/envs/xesmf_env/lib/python3.7/site-packages/xesmf/smm.py:130: UserWarning: Input array is not C_CONTIGUOUS. Will affect performance.\n",
      "  warnings.warn('Input array is not C_CONTIGUOUS. ' 'Will affect performance.')\n"
     ]
    },
    {
     "name": "stdout",
     "output_type": "stream",
     "text": [
      "/Volumes/Thalassa/CORA_SHDR_rg/CORA_SHDR_200202_rg.nc done\n"
     ]
    },
    {
     "name": "stderr",
     "output_type": "stream",
     "text": [
      "/Users/ignasi/miniconda3/envs/xesmf_env/lib/python3.7/site-packages/xesmf/smm.py:130: UserWarning: Input array is not C_CONTIGUOUS. Will affect performance.\n",
      "  warnings.warn('Input array is not C_CONTIGUOUS. ' 'Will affect performance.')\n"
     ]
    },
    {
     "name": "stdout",
     "output_type": "stream",
     "text": [
      "/Volumes/Thalassa/CORA_SHDR_rg/CORA_SHDR_200203_rg.nc done\n"
     ]
    },
    {
     "name": "stderr",
     "output_type": "stream",
     "text": [
      "/Users/ignasi/miniconda3/envs/xesmf_env/lib/python3.7/site-packages/xesmf/smm.py:130: UserWarning: Input array is not C_CONTIGUOUS. Will affect performance.\n",
      "  warnings.warn('Input array is not C_CONTIGUOUS. ' 'Will affect performance.')\n"
     ]
    },
    {
     "name": "stdout",
     "output_type": "stream",
     "text": [
      "/Volumes/Thalassa/CORA_SHDR_rg/CORA_SHDR_200204_rg.nc done\n"
     ]
    },
    {
     "name": "stderr",
     "output_type": "stream",
     "text": [
      "/Users/ignasi/miniconda3/envs/xesmf_env/lib/python3.7/site-packages/xesmf/smm.py:130: UserWarning: Input array is not C_CONTIGUOUS. Will affect performance.\n",
      "  warnings.warn('Input array is not C_CONTIGUOUS. ' 'Will affect performance.')\n"
     ]
    },
    {
     "name": "stdout",
     "output_type": "stream",
     "text": [
      "/Volumes/Thalassa/CORA_SHDR_rg/CORA_SHDR_200205_rg.nc done\n"
     ]
    },
    {
     "name": "stderr",
     "output_type": "stream",
     "text": [
      "/Users/ignasi/miniconda3/envs/xesmf_env/lib/python3.7/site-packages/xesmf/smm.py:130: UserWarning: Input array is not C_CONTIGUOUS. Will affect performance.\n",
      "  warnings.warn('Input array is not C_CONTIGUOUS. ' 'Will affect performance.')\n"
     ]
    },
    {
     "name": "stdout",
     "output_type": "stream",
     "text": [
      "/Volumes/Thalassa/CORA_SHDR_rg/CORA_SHDR_200206_rg.nc done\n"
     ]
    },
    {
     "name": "stderr",
     "output_type": "stream",
     "text": [
      "/Users/ignasi/miniconda3/envs/xesmf_env/lib/python3.7/site-packages/xesmf/smm.py:130: UserWarning: Input array is not C_CONTIGUOUS. Will affect performance.\n",
      "  warnings.warn('Input array is not C_CONTIGUOUS. ' 'Will affect performance.')\n"
     ]
    },
    {
     "name": "stdout",
     "output_type": "stream",
     "text": [
      "/Volumes/Thalassa/CORA_SHDR_rg/CORA_SHDR_200207_rg.nc done\n"
     ]
    },
    {
     "name": "stderr",
     "output_type": "stream",
     "text": [
      "/Users/ignasi/miniconda3/envs/xesmf_env/lib/python3.7/site-packages/xesmf/smm.py:130: UserWarning: Input array is not C_CONTIGUOUS. Will affect performance.\n",
      "  warnings.warn('Input array is not C_CONTIGUOUS. ' 'Will affect performance.')\n"
     ]
    },
    {
     "name": "stdout",
     "output_type": "stream",
     "text": [
      "/Volumes/Thalassa/CORA_SHDR_rg/CORA_SHDR_200208_rg.nc done\n"
     ]
    },
    {
     "name": "stderr",
     "output_type": "stream",
     "text": [
      "/Users/ignasi/miniconda3/envs/xesmf_env/lib/python3.7/site-packages/xesmf/smm.py:130: UserWarning: Input array is not C_CONTIGUOUS. Will affect performance.\n",
      "  warnings.warn('Input array is not C_CONTIGUOUS. ' 'Will affect performance.')\n"
     ]
    },
    {
     "name": "stdout",
     "output_type": "stream",
     "text": [
      "/Volumes/Thalassa/CORA_SHDR_rg/CORA_SHDR_200209_rg.nc done\n"
     ]
    },
    {
     "name": "stderr",
     "output_type": "stream",
     "text": [
      "/Users/ignasi/miniconda3/envs/xesmf_env/lib/python3.7/site-packages/xesmf/smm.py:130: UserWarning: Input array is not C_CONTIGUOUS. Will affect performance.\n",
      "  warnings.warn('Input array is not C_CONTIGUOUS. ' 'Will affect performance.')\n"
     ]
    },
    {
     "name": "stdout",
     "output_type": "stream",
     "text": [
      "/Volumes/Thalassa/CORA_SHDR_rg/CORA_SHDR_200210_rg.nc done\n"
     ]
    },
    {
     "name": "stderr",
     "output_type": "stream",
     "text": [
      "/Users/ignasi/miniconda3/envs/xesmf_env/lib/python3.7/site-packages/xesmf/smm.py:130: UserWarning: Input array is not C_CONTIGUOUS. Will affect performance.\n",
      "  warnings.warn('Input array is not C_CONTIGUOUS. ' 'Will affect performance.')\n"
     ]
    },
    {
     "name": "stdout",
     "output_type": "stream",
     "text": [
      "/Volumes/Thalassa/CORA_SHDR_rg/CORA_SHDR_200211_rg.nc done\n"
     ]
    },
    {
     "name": "stderr",
     "output_type": "stream",
     "text": [
      "/Users/ignasi/miniconda3/envs/xesmf_env/lib/python3.7/site-packages/xesmf/smm.py:130: UserWarning: Input array is not C_CONTIGUOUS. Will affect performance.\n",
      "  warnings.warn('Input array is not C_CONTIGUOUS. ' 'Will affect performance.')\n"
     ]
    },
    {
     "name": "stdout",
     "output_type": "stream",
     "text": [
      "/Volumes/Thalassa/CORA_SHDR_rg/CORA_SHDR_200212_rg.nc done\n"
     ]
    },
    {
     "name": "stderr",
     "output_type": "stream",
     "text": [
      "/Users/ignasi/miniconda3/envs/xesmf_env/lib/python3.7/site-packages/xesmf/smm.py:130: UserWarning: Input array is not C_CONTIGUOUS. Will affect performance.\n",
      "  warnings.warn('Input array is not C_CONTIGUOUS. ' 'Will affect performance.')\n"
     ]
    },
    {
     "name": "stdout",
     "output_type": "stream",
     "text": [
      "/Volumes/Thalassa/CORA_SHDR_rg/CORA_SHDR_200301_rg.nc done\n"
     ]
    },
    {
     "name": "stderr",
     "output_type": "stream",
     "text": [
      "/Users/ignasi/miniconda3/envs/xesmf_env/lib/python3.7/site-packages/xesmf/smm.py:130: UserWarning: Input array is not C_CONTIGUOUS. Will affect performance.\n",
      "  warnings.warn('Input array is not C_CONTIGUOUS. ' 'Will affect performance.')\n"
     ]
    },
    {
     "name": "stdout",
     "output_type": "stream",
     "text": [
      "/Volumes/Thalassa/CORA_SHDR_rg/CORA_SHDR_200302_rg.nc done\n"
     ]
    },
    {
     "name": "stderr",
     "output_type": "stream",
     "text": [
      "/Users/ignasi/miniconda3/envs/xesmf_env/lib/python3.7/site-packages/xesmf/smm.py:130: UserWarning: Input array is not C_CONTIGUOUS. Will affect performance.\n",
      "  warnings.warn('Input array is not C_CONTIGUOUS. ' 'Will affect performance.')\n"
     ]
    },
    {
     "name": "stdout",
     "output_type": "stream",
     "text": [
      "/Volumes/Thalassa/CORA_SHDR_rg/CORA_SHDR_200303_rg.nc done\n"
     ]
    },
    {
     "name": "stderr",
     "output_type": "stream",
     "text": [
      "/Users/ignasi/miniconda3/envs/xesmf_env/lib/python3.7/site-packages/xesmf/smm.py:130: UserWarning: Input array is not C_CONTIGUOUS. Will affect performance.\n",
      "  warnings.warn('Input array is not C_CONTIGUOUS. ' 'Will affect performance.')\n"
     ]
    },
    {
     "name": "stdout",
     "output_type": "stream",
     "text": [
      "/Volumes/Thalassa/CORA_SHDR_rg/CORA_SHDR_200304_rg.nc done\n"
     ]
    },
    {
     "name": "stderr",
     "output_type": "stream",
     "text": [
      "/Users/ignasi/miniconda3/envs/xesmf_env/lib/python3.7/site-packages/xesmf/smm.py:130: UserWarning: Input array is not C_CONTIGUOUS. Will affect performance.\n",
      "  warnings.warn('Input array is not C_CONTIGUOUS. ' 'Will affect performance.')\n"
     ]
    },
    {
     "name": "stdout",
     "output_type": "stream",
     "text": [
      "/Volumes/Thalassa/CORA_SHDR_rg/CORA_SHDR_200305_rg.nc done\n"
     ]
    },
    {
     "name": "stderr",
     "output_type": "stream",
     "text": [
      "/Users/ignasi/miniconda3/envs/xesmf_env/lib/python3.7/site-packages/xesmf/smm.py:130: UserWarning: Input array is not C_CONTIGUOUS. Will affect performance.\n",
      "  warnings.warn('Input array is not C_CONTIGUOUS. ' 'Will affect performance.')\n"
     ]
    },
    {
     "name": "stdout",
     "output_type": "stream",
     "text": [
      "/Volumes/Thalassa/CORA_SHDR_rg/CORA_SHDR_200306_rg.nc done\n"
     ]
    },
    {
     "name": "stderr",
     "output_type": "stream",
     "text": [
      "/Users/ignasi/miniconda3/envs/xesmf_env/lib/python3.7/site-packages/xesmf/smm.py:130: UserWarning: Input array is not C_CONTIGUOUS. Will affect performance.\n",
      "  warnings.warn('Input array is not C_CONTIGUOUS. ' 'Will affect performance.')\n"
     ]
    },
    {
     "name": "stdout",
     "output_type": "stream",
     "text": [
      "/Volumes/Thalassa/CORA_SHDR_rg/CORA_SHDR_200307_rg.nc done\n"
     ]
    },
    {
     "name": "stderr",
     "output_type": "stream",
     "text": [
      "/Users/ignasi/miniconda3/envs/xesmf_env/lib/python3.7/site-packages/xesmf/smm.py:130: UserWarning: Input array is not C_CONTIGUOUS. Will affect performance.\n",
      "  warnings.warn('Input array is not C_CONTIGUOUS. ' 'Will affect performance.')\n"
     ]
    },
    {
     "name": "stdout",
     "output_type": "stream",
     "text": [
      "/Volumes/Thalassa/CORA_SHDR_rg/CORA_SHDR_200308_rg.nc done\n"
     ]
    },
    {
     "name": "stderr",
     "output_type": "stream",
     "text": [
      "/Users/ignasi/miniconda3/envs/xesmf_env/lib/python3.7/site-packages/xesmf/smm.py:130: UserWarning: Input array is not C_CONTIGUOUS. Will affect performance.\n",
      "  warnings.warn('Input array is not C_CONTIGUOUS. ' 'Will affect performance.')\n"
     ]
    },
    {
     "name": "stdout",
     "output_type": "stream",
     "text": [
      "/Volumes/Thalassa/CORA_SHDR_rg/CORA_SHDR_200309_rg.nc done\n"
     ]
    },
    {
     "name": "stderr",
     "output_type": "stream",
     "text": [
      "/Users/ignasi/miniconda3/envs/xesmf_env/lib/python3.7/site-packages/xesmf/smm.py:130: UserWarning: Input array is not C_CONTIGUOUS. Will affect performance.\n",
      "  warnings.warn('Input array is not C_CONTIGUOUS. ' 'Will affect performance.')\n"
     ]
    },
    {
     "name": "stdout",
     "output_type": "stream",
     "text": [
      "/Volumes/Thalassa/CORA_SHDR_rg/CORA_SHDR_200310_rg.nc done\n"
     ]
    },
    {
     "name": "stderr",
     "output_type": "stream",
     "text": [
      "/Users/ignasi/miniconda3/envs/xesmf_env/lib/python3.7/site-packages/xesmf/smm.py:130: UserWarning: Input array is not C_CONTIGUOUS. Will affect performance.\n",
      "  warnings.warn('Input array is not C_CONTIGUOUS. ' 'Will affect performance.')\n"
     ]
    },
    {
     "name": "stdout",
     "output_type": "stream",
     "text": [
      "/Volumes/Thalassa/CORA_SHDR_rg/CORA_SHDR_200311_rg.nc done\n"
     ]
    },
    {
     "name": "stderr",
     "output_type": "stream",
     "text": [
      "/Users/ignasi/miniconda3/envs/xesmf_env/lib/python3.7/site-packages/xesmf/smm.py:130: UserWarning: Input array is not C_CONTIGUOUS. Will affect performance.\n",
      "  warnings.warn('Input array is not C_CONTIGUOUS. ' 'Will affect performance.')\n"
     ]
    },
    {
     "name": "stdout",
     "output_type": "stream",
     "text": [
      "/Volumes/Thalassa/CORA_SHDR_rg/CORA_SHDR_200312_rg.nc done\n"
     ]
    },
    {
     "name": "stderr",
     "output_type": "stream",
     "text": [
      "/Users/ignasi/miniconda3/envs/xesmf_env/lib/python3.7/site-packages/xesmf/smm.py:130: UserWarning: Input array is not C_CONTIGUOUS. Will affect performance.\n",
      "  warnings.warn('Input array is not C_CONTIGUOUS. ' 'Will affect performance.')\n"
     ]
    },
    {
     "name": "stdout",
     "output_type": "stream",
     "text": [
      "/Volumes/Thalassa/CORA_SHDR_rg/CORA_SHDR_200401_rg.nc done\n"
     ]
    },
    {
     "name": "stderr",
     "output_type": "stream",
     "text": [
      "/Users/ignasi/miniconda3/envs/xesmf_env/lib/python3.7/site-packages/xesmf/smm.py:130: UserWarning: Input array is not C_CONTIGUOUS. Will affect performance.\n",
      "  warnings.warn('Input array is not C_CONTIGUOUS. ' 'Will affect performance.')\n"
     ]
    },
    {
     "name": "stdout",
     "output_type": "stream",
     "text": [
      "/Volumes/Thalassa/CORA_SHDR_rg/CORA_SHDR_200402_rg.nc done\n"
     ]
    },
    {
     "name": "stderr",
     "output_type": "stream",
     "text": [
      "/Users/ignasi/miniconda3/envs/xesmf_env/lib/python3.7/site-packages/xesmf/smm.py:130: UserWarning: Input array is not C_CONTIGUOUS. Will affect performance.\n",
      "  warnings.warn('Input array is not C_CONTIGUOUS. ' 'Will affect performance.')\n"
     ]
    },
    {
     "name": "stdout",
     "output_type": "stream",
     "text": [
      "/Volumes/Thalassa/CORA_SHDR_rg/CORA_SHDR_200403_rg.nc done\n"
     ]
    },
    {
     "name": "stderr",
     "output_type": "stream",
     "text": [
      "/Users/ignasi/miniconda3/envs/xesmf_env/lib/python3.7/site-packages/xesmf/smm.py:130: UserWarning: Input array is not C_CONTIGUOUS. Will affect performance.\n",
      "  warnings.warn('Input array is not C_CONTIGUOUS. ' 'Will affect performance.')\n"
     ]
    },
    {
     "name": "stdout",
     "output_type": "stream",
     "text": [
      "/Volumes/Thalassa/CORA_SHDR_rg/CORA_SHDR_200404_rg.nc done\n"
     ]
    },
    {
     "name": "stderr",
     "output_type": "stream",
     "text": [
      "/Users/ignasi/miniconda3/envs/xesmf_env/lib/python3.7/site-packages/xesmf/smm.py:130: UserWarning: Input array is not C_CONTIGUOUS. Will affect performance.\n",
      "  warnings.warn('Input array is not C_CONTIGUOUS. ' 'Will affect performance.')\n"
     ]
    },
    {
     "name": "stdout",
     "output_type": "stream",
     "text": [
      "/Volumes/Thalassa/CORA_SHDR_rg/CORA_SHDR_200405_rg.nc done\n"
     ]
    },
    {
     "name": "stderr",
     "output_type": "stream",
     "text": [
      "/Users/ignasi/miniconda3/envs/xesmf_env/lib/python3.7/site-packages/xesmf/smm.py:130: UserWarning: Input array is not C_CONTIGUOUS. Will affect performance.\n",
      "  warnings.warn('Input array is not C_CONTIGUOUS. ' 'Will affect performance.')\n"
     ]
    },
    {
     "name": "stdout",
     "output_type": "stream",
     "text": [
      "/Volumes/Thalassa/CORA_SHDR_rg/CORA_SHDR_200406_rg.nc done\n"
     ]
    },
    {
     "name": "stderr",
     "output_type": "stream",
     "text": [
      "/Users/ignasi/miniconda3/envs/xesmf_env/lib/python3.7/site-packages/xesmf/smm.py:130: UserWarning: Input array is not C_CONTIGUOUS. Will affect performance.\n",
      "  warnings.warn('Input array is not C_CONTIGUOUS. ' 'Will affect performance.')\n"
     ]
    },
    {
     "name": "stdout",
     "output_type": "stream",
     "text": [
      "/Volumes/Thalassa/CORA_SHDR_rg/CORA_SHDR_200407_rg.nc done\n"
     ]
    },
    {
     "name": "stderr",
     "output_type": "stream",
     "text": [
      "/Users/ignasi/miniconda3/envs/xesmf_env/lib/python3.7/site-packages/xesmf/smm.py:130: UserWarning: Input array is not C_CONTIGUOUS. Will affect performance.\n",
      "  warnings.warn('Input array is not C_CONTIGUOUS. ' 'Will affect performance.')\n"
     ]
    },
    {
     "name": "stdout",
     "output_type": "stream",
     "text": [
      "/Volumes/Thalassa/CORA_SHDR_rg/CORA_SHDR_200408_rg.nc done\n"
     ]
    },
    {
     "name": "stderr",
     "output_type": "stream",
     "text": [
      "/Users/ignasi/miniconda3/envs/xesmf_env/lib/python3.7/site-packages/xesmf/smm.py:130: UserWarning: Input array is not C_CONTIGUOUS. Will affect performance.\n",
      "  warnings.warn('Input array is not C_CONTIGUOUS. ' 'Will affect performance.')\n"
     ]
    },
    {
     "name": "stdout",
     "output_type": "stream",
     "text": [
      "/Volumes/Thalassa/CORA_SHDR_rg/CORA_SHDR_200409_rg.nc done\n"
     ]
    },
    {
     "name": "stderr",
     "output_type": "stream",
     "text": [
      "/Users/ignasi/miniconda3/envs/xesmf_env/lib/python3.7/site-packages/xesmf/smm.py:130: UserWarning: Input array is not C_CONTIGUOUS. Will affect performance.\n",
      "  warnings.warn('Input array is not C_CONTIGUOUS. ' 'Will affect performance.')\n"
     ]
    },
    {
     "name": "stdout",
     "output_type": "stream",
     "text": [
      "/Volumes/Thalassa/CORA_SHDR_rg/CORA_SHDR_200410_rg.nc done\n"
     ]
    },
    {
     "name": "stderr",
     "output_type": "stream",
     "text": [
      "/Users/ignasi/miniconda3/envs/xesmf_env/lib/python3.7/site-packages/xesmf/smm.py:130: UserWarning: Input array is not C_CONTIGUOUS. Will affect performance.\n",
      "  warnings.warn('Input array is not C_CONTIGUOUS. ' 'Will affect performance.')\n"
     ]
    },
    {
     "name": "stdout",
     "output_type": "stream",
     "text": [
      "/Volumes/Thalassa/CORA_SHDR_rg/CORA_SHDR_200411_rg.nc done\n"
     ]
    },
    {
     "name": "stderr",
     "output_type": "stream",
     "text": [
      "/Users/ignasi/miniconda3/envs/xesmf_env/lib/python3.7/site-packages/xesmf/smm.py:130: UserWarning: Input array is not C_CONTIGUOUS. Will affect performance.\n",
      "  warnings.warn('Input array is not C_CONTIGUOUS. ' 'Will affect performance.')\n"
     ]
    },
    {
     "name": "stdout",
     "output_type": "stream",
     "text": [
      "/Volumes/Thalassa/CORA_SHDR_rg/CORA_SHDR_200412_rg.nc done\n"
     ]
    },
    {
     "name": "stderr",
     "output_type": "stream",
     "text": [
      "/Users/ignasi/miniconda3/envs/xesmf_env/lib/python3.7/site-packages/xesmf/smm.py:130: UserWarning: Input array is not C_CONTIGUOUS. Will affect performance.\n",
      "  warnings.warn('Input array is not C_CONTIGUOUS. ' 'Will affect performance.')\n"
     ]
    },
    {
     "name": "stdout",
     "output_type": "stream",
     "text": [
      "/Volumes/Thalassa/CORA_SHDR_rg/CORA_SHDR_200501_rg.nc done\n"
     ]
    },
    {
     "name": "stderr",
     "output_type": "stream",
     "text": [
      "/Users/ignasi/miniconda3/envs/xesmf_env/lib/python3.7/site-packages/xesmf/smm.py:130: UserWarning: Input array is not C_CONTIGUOUS. Will affect performance.\n",
      "  warnings.warn('Input array is not C_CONTIGUOUS. ' 'Will affect performance.')\n"
     ]
    },
    {
     "name": "stdout",
     "output_type": "stream",
     "text": [
      "/Volumes/Thalassa/CORA_SHDR_rg/CORA_SHDR_200502_rg.nc done\n"
     ]
    },
    {
     "name": "stderr",
     "output_type": "stream",
     "text": [
      "/Users/ignasi/miniconda3/envs/xesmf_env/lib/python3.7/site-packages/xesmf/smm.py:130: UserWarning: Input array is not C_CONTIGUOUS. Will affect performance.\n",
      "  warnings.warn('Input array is not C_CONTIGUOUS. ' 'Will affect performance.')\n"
     ]
    },
    {
     "name": "stdout",
     "output_type": "stream",
     "text": [
      "/Volumes/Thalassa/CORA_SHDR_rg/CORA_SHDR_200503_rg.nc done\n"
     ]
    },
    {
     "name": "stderr",
     "output_type": "stream",
     "text": [
      "/Users/ignasi/miniconda3/envs/xesmf_env/lib/python3.7/site-packages/xesmf/smm.py:130: UserWarning: Input array is not C_CONTIGUOUS. Will affect performance.\n",
      "  warnings.warn('Input array is not C_CONTIGUOUS. ' 'Will affect performance.')\n"
     ]
    },
    {
     "name": "stdout",
     "output_type": "stream",
     "text": [
      "/Volumes/Thalassa/CORA_SHDR_rg/CORA_SHDR_200504_rg.nc done\n"
     ]
    },
    {
     "name": "stderr",
     "output_type": "stream",
     "text": [
      "/Users/ignasi/miniconda3/envs/xesmf_env/lib/python3.7/site-packages/xesmf/smm.py:130: UserWarning: Input array is not C_CONTIGUOUS. Will affect performance.\n",
      "  warnings.warn('Input array is not C_CONTIGUOUS. ' 'Will affect performance.')\n"
     ]
    },
    {
     "name": "stdout",
     "output_type": "stream",
     "text": [
      "/Volumes/Thalassa/CORA_SHDR_rg/CORA_SHDR_200505_rg.nc done\n"
     ]
    },
    {
     "name": "stderr",
     "output_type": "stream",
     "text": [
      "/Users/ignasi/miniconda3/envs/xesmf_env/lib/python3.7/site-packages/xesmf/smm.py:130: UserWarning: Input array is not C_CONTIGUOUS. Will affect performance.\n",
      "  warnings.warn('Input array is not C_CONTIGUOUS. ' 'Will affect performance.')\n"
     ]
    },
    {
     "name": "stdout",
     "output_type": "stream",
     "text": [
      "/Volumes/Thalassa/CORA_SHDR_rg/CORA_SHDR_200506_rg.nc done\n"
     ]
    },
    {
     "name": "stderr",
     "output_type": "stream",
     "text": [
      "/Users/ignasi/miniconda3/envs/xesmf_env/lib/python3.7/site-packages/xesmf/smm.py:130: UserWarning: Input array is not C_CONTIGUOUS. Will affect performance.\n",
      "  warnings.warn('Input array is not C_CONTIGUOUS. ' 'Will affect performance.')\n"
     ]
    },
    {
     "name": "stdout",
     "output_type": "stream",
     "text": [
      "/Volumes/Thalassa/CORA_SHDR_rg/CORA_SHDR_200507_rg.nc done\n"
     ]
    },
    {
     "name": "stderr",
     "output_type": "stream",
     "text": [
      "/Users/ignasi/miniconda3/envs/xesmf_env/lib/python3.7/site-packages/xesmf/smm.py:130: UserWarning: Input array is not C_CONTIGUOUS. Will affect performance.\n",
      "  warnings.warn('Input array is not C_CONTIGUOUS. ' 'Will affect performance.')\n"
     ]
    },
    {
     "name": "stdout",
     "output_type": "stream",
     "text": [
      "/Volumes/Thalassa/CORA_SHDR_rg/CORA_SHDR_200508_rg.nc done\n"
     ]
    },
    {
     "name": "stderr",
     "output_type": "stream",
     "text": [
      "/Users/ignasi/miniconda3/envs/xesmf_env/lib/python3.7/site-packages/xesmf/smm.py:130: UserWarning: Input array is not C_CONTIGUOUS. Will affect performance.\n",
      "  warnings.warn('Input array is not C_CONTIGUOUS. ' 'Will affect performance.')\n"
     ]
    },
    {
     "name": "stdout",
     "output_type": "stream",
     "text": [
      "/Volumes/Thalassa/CORA_SHDR_rg/CORA_SHDR_200509_rg.nc done\n"
     ]
    },
    {
     "name": "stderr",
     "output_type": "stream",
     "text": [
      "/Users/ignasi/miniconda3/envs/xesmf_env/lib/python3.7/site-packages/xesmf/smm.py:130: UserWarning: Input array is not C_CONTIGUOUS. Will affect performance.\n",
      "  warnings.warn('Input array is not C_CONTIGUOUS. ' 'Will affect performance.')\n"
     ]
    },
    {
     "name": "stdout",
     "output_type": "stream",
     "text": [
      "/Volumes/Thalassa/CORA_SHDR_rg/CORA_SHDR_200510_rg.nc done\n"
     ]
    },
    {
     "name": "stderr",
     "output_type": "stream",
     "text": [
      "/Users/ignasi/miniconda3/envs/xesmf_env/lib/python3.7/site-packages/xesmf/smm.py:130: UserWarning: Input array is not C_CONTIGUOUS. Will affect performance.\n",
      "  warnings.warn('Input array is not C_CONTIGUOUS. ' 'Will affect performance.')\n"
     ]
    },
    {
     "name": "stdout",
     "output_type": "stream",
     "text": [
      "/Volumes/Thalassa/CORA_SHDR_rg/CORA_SHDR_200511_rg.nc done\n"
     ]
    },
    {
     "name": "stderr",
     "output_type": "stream",
     "text": [
      "/Users/ignasi/miniconda3/envs/xesmf_env/lib/python3.7/site-packages/xesmf/smm.py:130: UserWarning: Input array is not C_CONTIGUOUS. Will affect performance.\n",
      "  warnings.warn('Input array is not C_CONTIGUOUS. ' 'Will affect performance.')\n"
     ]
    },
    {
     "name": "stdout",
     "output_type": "stream",
     "text": [
      "/Volumes/Thalassa/CORA_SHDR_rg/CORA_SHDR_200512_rg.nc done\n"
     ]
    },
    {
     "name": "stderr",
     "output_type": "stream",
     "text": [
      "/Users/ignasi/miniconda3/envs/xesmf_env/lib/python3.7/site-packages/xesmf/smm.py:130: UserWarning: Input array is not C_CONTIGUOUS. Will affect performance.\n",
      "  warnings.warn('Input array is not C_CONTIGUOUS. ' 'Will affect performance.')\n"
     ]
    },
    {
     "name": "stdout",
     "output_type": "stream",
     "text": [
      "/Volumes/Thalassa/CORA_SHDR_rg/CORA_SHDR_200601_rg.nc done\n"
     ]
    },
    {
     "name": "stderr",
     "output_type": "stream",
     "text": [
      "/Users/ignasi/miniconda3/envs/xesmf_env/lib/python3.7/site-packages/xesmf/smm.py:130: UserWarning: Input array is not C_CONTIGUOUS. Will affect performance.\n",
      "  warnings.warn('Input array is not C_CONTIGUOUS. ' 'Will affect performance.')\n"
     ]
    },
    {
     "name": "stdout",
     "output_type": "stream",
     "text": [
      "/Volumes/Thalassa/CORA_SHDR_rg/CORA_SHDR_200602_rg.nc done\n"
     ]
    },
    {
     "name": "stderr",
     "output_type": "stream",
     "text": [
      "/Users/ignasi/miniconda3/envs/xesmf_env/lib/python3.7/site-packages/xesmf/smm.py:130: UserWarning: Input array is not C_CONTIGUOUS. Will affect performance.\n",
      "  warnings.warn('Input array is not C_CONTIGUOUS. ' 'Will affect performance.')\n"
     ]
    },
    {
     "name": "stdout",
     "output_type": "stream",
     "text": [
      "/Volumes/Thalassa/CORA_SHDR_rg/CORA_SHDR_200603_rg.nc done\n"
     ]
    },
    {
     "name": "stderr",
     "output_type": "stream",
     "text": [
      "/Users/ignasi/miniconda3/envs/xesmf_env/lib/python3.7/site-packages/xesmf/smm.py:130: UserWarning: Input array is not C_CONTIGUOUS. Will affect performance.\n",
      "  warnings.warn('Input array is not C_CONTIGUOUS. ' 'Will affect performance.')\n"
     ]
    },
    {
     "name": "stdout",
     "output_type": "stream",
     "text": [
      "/Volumes/Thalassa/CORA_SHDR_rg/CORA_SHDR_200604_rg.nc done\n"
     ]
    },
    {
     "name": "stderr",
     "output_type": "stream",
     "text": [
      "/Users/ignasi/miniconda3/envs/xesmf_env/lib/python3.7/site-packages/xesmf/smm.py:130: UserWarning: Input array is not C_CONTIGUOUS. Will affect performance.\n",
      "  warnings.warn('Input array is not C_CONTIGUOUS. ' 'Will affect performance.')\n"
     ]
    },
    {
     "name": "stdout",
     "output_type": "stream",
     "text": [
      "/Volumes/Thalassa/CORA_SHDR_rg/CORA_SHDR_200605_rg.nc done\n"
     ]
    },
    {
     "name": "stderr",
     "output_type": "stream",
     "text": [
      "/Users/ignasi/miniconda3/envs/xesmf_env/lib/python3.7/site-packages/xesmf/smm.py:130: UserWarning: Input array is not C_CONTIGUOUS. Will affect performance.\n",
      "  warnings.warn('Input array is not C_CONTIGUOUS. ' 'Will affect performance.')\n"
     ]
    },
    {
     "name": "stdout",
     "output_type": "stream",
     "text": [
      "/Volumes/Thalassa/CORA_SHDR_rg/CORA_SHDR_200606_rg.nc done\n"
     ]
    },
    {
     "name": "stderr",
     "output_type": "stream",
     "text": [
      "/Users/ignasi/miniconda3/envs/xesmf_env/lib/python3.7/site-packages/xesmf/smm.py:130: UserWarning: Input array is not C_CONTIGUOUS. Will affect performance.\n",
      "  warnings.warn('Input array is not C_CONTIGUOUS. ' 'Will affect performance.')\n"
     ]
    },
    {
     "name": "stdout",
     "output_type": "stream",
     "text": [
      "/Volumes/Thalassa/CORA_SHDR_rg/CORA_SHDR_200607_rg.nc done\n"
     ]
    },
    {
     "name": "stderr",
     "output_type": "stream",
     "text": [
      "/Users/ignasi/miniconda3/envs/xesmf_env/lib/python3.7/site-packages/xesmf/smm.py:130: UserWarning: Input array is not C_CONTIGUOUS. Will affect performance.\n",
      "  warnings.warn('Input array is not C_CONTIGUOUS. ' 'Will affect performance.')\n"
     ]
    },
    {
     "name": "stdout",
     "output_type": "stream",
     "text": [
      "/Volumes/Thalassa/CORA_SHDR_rg/CORA_SHDR_200608_rg.nc done\n"
     ]
    },
    {
     "name": "stderr",
     "output_type": "stream",
     "text": [
      "/Users/ignasi/miniconda3/envs/xesmf_env/lib/python3.7/site-packages/xesmf/smm.py:130: UserWarning: Input array is not C_CONTIGUOUS. Will affect performance.\n",
      "  warnings.warn('Input array is not C_CONTIGUOUS. ' 'Will affect performance.')\n"
     ]
    },
    {
     "name": "stdout",
     "output_type": "stream",
     "text": [
      "/Volumes/Thalassa/CORA_SHDR_rg/CORA_SHDR_200609_rg.nc done\n"
     ]
    },
    {
     "name": "stderr",
     "output_type": "stream",
     "text": [
      "/Users/ignasi/miniconda3/envs/xesmf_env/lib/python3.7/site-packages/xesmf/smm.py:130: UserWarning: Input array is not C_CONTIGUOUS. Will affect performance.\n",
      "  warnings.warn('Input array is not C_CONTIGUOUS. ' 'Will affect performance.')\n"
     ]
    },
    {
     "name": "stdout",
     "output_type": "stream",
     "text": [
      "/Volumes/Thalassa/CORA_SHDR_rg/CORA_SHDR_200610_rg.nc done\n"
     ]
    },
    {
     "name": "stderr",
     "output_type": "stream",
     "text": [
      "/Users/ignasi/miniconda3/envs/xesmf_env/lib/python3.7/site-packages/xesmf/smm.py:130: UserWarning: Input array is not C_CONTIGUOUS. Will affect performance.\n",
      "  warnings.warn('Input array is not C_CONTIGUOUS. ' 'Will affect performance.')\n"
     ]
    },
    {
     "name": "stdout",
     "output_type": "stream",
     "text": [
      "/Volumes/Thalassa/CORA_SHDR_rg/CORA_SHDR_200611_rg.nc done\n"
     ]
    },
    {
     "name": "stderr",
     "output_type": "stream",
     "text": [
      "/Users/ignasi/miniconda3/envs/xesmf_env/lib/python3.7/site-packages/xesmf/smm.py:130: UserWarning: Input array is not C_CONTIGUOUS. Will affect performance.\n",
      "  warnings.warn('Input array is not C_CONTIGUOUS. ' 'Will affect performance.')\n"
     ]
    },
    {
     "name": "stdout",
     "output_type": "stream",
     "text": [
      "/Volumes/Thalassa/CORA_SHDR_rg/CORA_SHDR_200612_rg.nc done\n"
     ]
    },
    {
     "name": "stderr",
     "output_type": "stream",
     "text": [
      "/Users/ignasi/miniconda3/envs/xesmf_env/lib/python3.7/site-packages/xesmf/smm.py:130: UserWarning: Input array is not C_CONTIGUOUS. Will affect performance.\n",
      "  warnings.warn('Input array is not C_CONTIGUOUS. ' 'Will affect performance.')\n"
     ]
    },
    {
     "name": "stdout",
     "output_type": "stream",
     "text": [
      "/Volumes/Thalassa/CORA_SHDR_rg/CORA_SHDR_200701_rg.nc done\n"
     ]
    },
    {
     "name": "stderr",
     "output_type": "stream",
     "text": [
      "/Users/ignasi/miniconda3/envs/xesmf_env/lib/python3.7/site-packages/xesmf/smm.py:130: UserWarning: Input array is not C_CONTIGUOUS. Will affect performance.\n",
      "  warnings.warn('Input array is not C_CONTIGUOUS. ' 'Will affect performance.')\n"
     ]
    },
    {
     "name": "stdout",
     "output_type": "stream",
     "text": [
      "/Volumes/Thalassa/CORA_SHDR_rg/CORA_SHDR_200702_rg.nc done\n"
     ]
    },
    {
     "name": "stderr",
     "output_type": "stream",
     "text": [
      "/Users/ignasi/miniconda3/envs/xesmf_env/lib/python3.7/site-packages/xesmf/smm.py:130: UserWarning: Input array is not C_CONTIGUOUS. Will affect performance.\n",
      "  warnings.warn('Input array is not C_CONTIGUOUS. ' 'Will affect performance.')\n"
     ]
    },
    {
     "name": "stdout",
     "output_type": "stream",
     "text": [
      "/Volumes/Thalassa/CORA_SHDR_rg/CORA_SHDR_200703_rg.nc done\n"
     ]
    },
    {
     "name": "stderr",
     "output_type": "stream",
     "text": [
      "/Users/ignasi/miniconda3/envs/xesmf_env/lib/python3.7/site-packages/xesmf/smm.py:130: UserWarning: Input array is not C_CONTIGUOUS. Will affect performance.\n",
      "  warnings.warn('Input array is not C_CONTIGUOUS. ' 'Will affect performance.')\n"
     ]
    },
    {
     "name": "stdout",
     "output_type": "stream",
     "text": [
      "/Volumes/Thalassa/CORA_SHDR_rg/CORA_SHDR_200704_rg.nc done\n"
     ]
    },
    {
     "name": "stderr",
     "output_type": "stream",
     "text": [
      "/Users/ignasi/miniconda3/envs/xesmf_env/lib/python3.7/site-packages/xesmf/smm.py:130: UserWarning: Input array is not C_CONTIGUOUS. Will affect performance.\n",
      "  warnings.warn('Input array is not C_CONTIGUOUS. ' 'Will affect performance.')\n"
     ]
    },
    {
     "name": "stdout",
     "output_type": "stream",
     "text": [
      "/Volumes/Thalassa/CORA_SHDR_rg/CORA_SHDR_200705_rg.nc done\n"
     ]
    },
    {
     "name": "stderr",
     "output_type": "stream",
     "text": [
      "/Users/ignasi/miniconda3/envs/xesmf_env/lib/python3.7/site-packages/xesmf/smm.py:130: UserWarning: Input array is not C_CONTIGUOUS. Will affect performance.\n",
      "  warnings.warn('Input array is not C_CONTIGUOUS. ' 'Will affect performance.')\n"
     ]
    },
    {
     "name": "stdout",
     "output_type": "stream",
     "text": [
      "/Volumes/Thalassa/CORA_SHDR_rg/CORA_SHDR_200706_rg.nc done\n"
     ]
    },
    {
     "name": "stderr",
     "output_type": "stream",
     "text": [
      "/Users/ignasi/miniconda3/envs/xesmf_env/lib/python3.7/site-packages/xesmf/smm.py:130: UserWarning: Input array is not C_CONTIGUOUS. Will affect performance.\n",
      "  warnings.warn('Input array is not C_CONTIGUOUS. ' 'Will affect performance.')\n"
     ]
    },
    {
     "name": "stdout",
     "output_type": "stream",
     "text": [
      "/Volumes/Thalassa/CORA_SHDR_rg/CORA_SHDR_200707_rg.nc done\n"
     ]
    },
    {
     "name": "stderr",
     "output_type": "stream",
     "text": [
      "/Users/ignasi/miniconda3/envs/xesmf_env/lib/python3.7/site-packages/xesmf/smm.py:130: UserWarning: Input array is not C_CONTIGUOUS. Will affect performance.\n",
      "  warnings.warn('Input array is not C_CONTIGUOUS. ' 'Will affect performance.')\n"
     ]
    },
    {
     "name": "stdout",
     "output_type": "stream",
     "text": [
      "/Volumes/Thalassa/CORA_SHDR_rg/CORA_SHDR_200708_rg.nc done\n"
     ]
    },
    {
     "name": "stderr",
     "output_type": "stream",
     "text": [
      "/Users/ignasi/miniconda3/envs/xesmf_env/lib/python3.7/site-packages/xesmf/smm.py:130: UserWarning: Input array is not C_CONTIGUOUS. Will affect performance.\n",
      "  warnings.warn('Input array is not C_CONTIGUOUS. ' 'Will affect performance.')\n"
     ]
    },
    {
     "name": "stdout",
     "output_type": "stream",
     "text": [
      "/Volumes/Thalassa/CORA_SHDR_rg/CORA_SHDR_200709_rg.nc done\n"
     ]
    },
    {
     "name": "stderr",
     "output_type": "stream",
     "text": [
      "/Users/ignasi/miniconda3/envs/xesmf_env/lib/python3.7/site-packages/xesmf/smm.py:130: UserWarning: Input array is not C_CONTIGUOUS. Will affect performance.\n",
      "  warnings.warn('Input array is not C_CONTIGUOUS. ' 'Will affect performance.')\n"
     ]
    },
    {
     "name": "stdout",
     "output_type": "stream",
     "text": [
      "/Volumes/Thalassa/CORA_SHDR_rg/CORA_SHDR_200710_rg.nc done\n"
     ]
    },
    {
     "name": "stderr",
     "output_type": "stream",
     "text": [
      "/Users/ignasi/miniconda3/envs/xesmf_env/lib/python3.7/site-packages/xesmf/smm.py:130: UserWarning: Input array is not C_CONTIGUOUS. Will affect performance.\n",
      "  warnings.warn('Input array is not C_CONTIGUOUS. ' 'Will affect performance.')\n"
     ]
    },
    {
     "name": "stdout",
     "output_type": "stream",
     "text": [
      "/Volumes/Thalassa/CORA_SHDR_rg/CORA_SHDR_200711_rg.nc done\n"
     ]
    },
    {
     "name": "stderr",
     "output_type": "stream",
     "text": [
      "/Users/ignasi/miniconda3/envs/xesmf_env/lib/python3.7/site-packages/xesmf/smm.py:130: UserWarning: Input array is not C_CONTIGUOUS. Will affect performance.\n",
      "  warnings.warn('Input array is not C_CONTIGUOUS. ' 'Will affect performance.')\n"
     ]
    },
    {
     "name": "stdout",
     "output_type": "stream",
     "text": [
      "/Volumes/Thalassa/CORA_SHDR_rg/CORA_SHDR_200712_rg.nc done\n"
     ]
    },
    {
     "name": "stderr",
     "output_type": "stream",
     "text": [
      "/Users/ignasi/miniconda3/envs/xesmf_env/lib/python3.7/site-packages/xesmf/smm.py:130: UserWarning: Input array is not C_CONTIGUOUS. Will affect performance.\n",
      "  warnings.warn('Input array is not C_CONTIGUOUS. ' 'Will affect performance.')\n"
     ]
    },
    {
     "name": "stdout",
     "output_type": "stream",
     "text": [
      "/Volumes/Thalassa/CORA_SHDR_rg/CORA_SHDR_200801_rg.nc done\n"
     ]
    },
    {
     "name": "stderr",
     "output_type": "stream",
     "text": [
      "/Users/ignasi/miniconda3/envs/xesmf_env/lib/python3.7/site-packages/xesmf/smm.py:130: UserWarning: Input array is not C_CONTIGUOUS. Will affect performance.\n",
      "  warnings.warn('Input array is not C_CONTIGUOUS. ' 'Will affect performance.')\n"
     ]
    },
    {
     "name": "stdout",
     "output_type": "stream",
     "text": [
      "/Volumes/Thalassa/CORA_SHDR_rg/CORA_SHDR_200802_rg.nc done\n"
     ]
    },
    {
     "name": "stderr",
     "output_type": "stream",
     "text": [
      "/Users/ignasi/miniconda3/envs/xesmf_env/lib/python3.7/site-packages/xesmf/smm.py:130: UserWarning: Input array is not C_CONTIGUOUS. Will affect performance.\n",
      "  warnings.warn('Input array is not C_CONTIGUOUS. ' 'Will affect performance.')\n"
     ]
    },
    {
     "name": "stdout",
     "output_type": "stream",
     "text": [
      "/Volumes/Thalassa/CORA_SHDR_rg/CORA_SHDR_200803_rg.nc done\n"
     ]
    },
    {
     "name": "stderr",
     "output_type": "stream",
     "text": [
      "/Users/ignasi/miniconda3/envs/xesmf_env/lib/python3.7/site-packages/xesmf/smm.py:130: UserWarning: Input array is not C_CONTIGUOUS. Will affect performance.\n",
      "  warnings.warn('Input array is not C_CONTIGUOUS. ' 'Will affect performance.')\n"
     ]
    },
    {
     "name": "stdout",
     "output_type": "stream",
     "text": [
      "/Volumes/Thalassa/CORA_SHDR_rg/CORA_SHDR_200804_rg.nc done\n"
     ]
    },
    {
     "name": "stderr",
     "output_type": "stream",
     "text": [
      "/Users/ignasi/miniconda3/envs/xesmf_env/lib/python3.7/site-packages/xesmf/smm.py:130: UserWarning: Input array is not C_CONTIGUOUS. Will affect performance.\n",
      "  warnings.warn('Input array is not C_CONTIGUOUS. ' 'Will affect performance.')\n"
     ]
    },
    {
     "name": "stdout",
     "output_type": "stream",
     "text": [
      "/Volumes/Thalassa/CORA_SHDR_rg/CORA_SHDR_200805_rg.nc done\n"
     ]
    },
    {
     "name": "stderr",
     "output_type": "stream",
     "text": [
      "/Users/ignasi/miniconda3/envs/xesmf_env/lib/python3.7/site-packages/xesmf/smm.py:130: UserWarning: Input array is not C_CONTIGUOUS. Will affect performance.\n",
      "  warnings.warn('Input array is not C_CONTIGUOUS. ' 'Will affect performance.')\n"
     ]
    },
    {
     "name": "stdout",
     "output_type": "stream",
     "text": [
      "/Volumes/Thalassa/CORA_SHDR_rg/CORA_SHDR_200806_rg.nc done\n"
     ]
    },
    {
     "name": "stderr",
     "output_type": "stream",
     "text": [
      "/Users/ignasi/miniconda3/envs/xesmf_env/lib/python3.7/site-packages/xesmf/smm.py:130: UserWarning: Input array is not C_CONTIGUOUS. Will affect performance.\n",
      "  warnings.warn('Input array is not C_CONTIGUOUS. ' 'Will affect performance.')\n"
     ]
    },
    {
     "name": "stdout",
     "output_type": "stream",
     "text": [
      "/Volumes/Thalassa/CORA_SHDR_rg/CORA_SHDR_200807_rg.nc done\n"
     ]
    },
    {
     "name": "stderr",
     "output_type": "stream",
     "text": [
      "/Users/ignasi/miniconda3/envs/xesmf_env/lib/python3.7/site-packages/xesmf/smm.py:130: UserWarning: Input array is not C_CONTIGUOUS. Will affect performance.\n",
      "  warnings.warn('Input array is not C_CONTIGUOUS. ' 'Will affect performance.')\n"
     ]
    },
    {
     "name": "stdout",
     "output_type": "stream",
     "text": [
      "/Volumes/Thalassa/CORA_SHDR_rg/CORA_SHDR_200808_rg.nc done\n"
     ]
    },
    {
     "name": "stderr",
     "output_type": "stream",
     "text": [
      "/Users/ignasi/miniconda3/envs/xesmf_env/lib/python3.7/site-packages/xesmf/smm.py:130: UserWarning: Input array is not C_CONTIGUOUS. Will affect performance.\n",
      "  warnings.warn('Input array is not C_CONTIGUOUS. ' 'Will affect performance.')\n"
     ]
    },
    {
     "name": "stdout",
     "output_type": "stream",
     "text": [
      "/Volumes/Thalassa/CORA_SHDR_rg/CORA_SHDR_200809_rg.nc done\n"
     ]
    },
    {
     "name": "stderr",
     "output_type": "stream",
     "text": [
      "/Users/ignasi/miniconda3/envs/xesmf_env/lib/python3.7/site-packages/xesmf/smm.py:130: UserWarning: Input array is not C_CONTIGUOUS. Will affect performance.\n",
      "  warnings.warn('Input array is not C_CONTIGUOUS. ' 'Will affect performance.')\n"
     ]
    },
    {
     "name": "stdout",
     "output_type": "stream",
     "text": [
      "/Volumes/Thalassa/CORA_SHDR_rg/CORA_SHDR_200810_rg.nc done\n"
     ]
    },
    {
     "name": "stderr",
     "output_type": "stream",
     "text": [
      "/Users/ignasi/miniconda3/envs/xesmf_env/lib/python3.7/site-packages/xesmf/smm.py:130: UserWarning: Input array is not C_CONTIGUOUS. Will affect performance.\n",
      "  warnings.warn('Input array is not C_CONTIGUOUS. ' 'Will affect performance.')\n"
     ]
    },
    {
     "name": "stdout",
     "output_type": "stream",
     "text": [
      "/Volumes/Thalassa/CORA_SHDR_rg/CORA_SHDR_200811_rg.nc done\n"
     ]
    },
    {
     "name": "stderr",
     "output_type": "stream",
     "text": [
      "/Users/ignasi/miniconda3/envs/xesmf_env/lib/python3.7/site-packages/xesmf/smm.py:130: UserWarning: Input array is not C_CONTIGUOUS. Will affect performance.\n",
      "  warnings.warn('Input array is not C_CONTIGUOUS. ' 'Will affect performance.')\n"
     ]
    },
    {
     "name": "stdout",
     "output_type": "stream",
     "text": [
      "/Volumes/Thalassa/CORA_SHDR_rg/CORA_SHDR_200812_rg.nc done\n"
     ]
    },
    {
     "name": "stderr",
     "output_type": "stream",
     "text": [
      "/Users/ignasi/miniconda3/envs/xesmf_env/lib/python3.7/site-packages/xesmf/smm.py:130: UserWarning: Input array is not C_CONTIGUOUS. Will affect performance.\n",
      "  warnings.warn('Input array is not C_CONTIGUOUS. ' 'Will affect performance.')\n"
     ]
    },
    {
     "name": "stdout",
     "output_type": "stream",
     "text": [
      "/Volumes/Thalassa/CORA_SHDR_rg/CORA_SHDR_200901_rg.nc done\n"
     ]
    },
    {
     "name": "stderr",
     "output_type": "stream",
     "text": [
      "/Users/ignasi/miniconda3/envs/xesmf_env/lib/python3.7/site-packages/xesmf/smm.py:130: UserWarning: Input array is not C_CONTIGUOUS. Will affect performance.\n",
      "  warnings.warn('Input array is not C_CONTIGUOUS. ' 'Will affect performance.')\n"
     ]
    },
    {
     "name": "stdout",
     "output_type": "stream",
     "text": [
      "/Volumes/Thalassa/CORA_SHDR_rg/CORA_SHDR_200902_rg.nc done\n"
     ]
    },
    {
     "name": "stderr",
     "output_type": "stream",
     "text": [
      "/Users/ignasi/miniconda3/envs/xesmf_env/lib/python3.7/site-packages/xesmf/smm.py:130: UserWarning: Input array is not C_CONTIGUOUS. Will affect performance.\n",
      "  warnings.warn('Input array is not C_CONTIGUOUS. ' 'Will affect performance.')\n"
     ]
    },
    {
     "name": "stdout",
     "output_type": "stream",
     "text": [
      "/Volumes/Thalassa/CORA_SHDR_rg/CORA_SHDR_200903_rg.nc done\n"
     ]
    },
    {
     "name": "stderr",
     "output_type": "stream",
     "text": [
      "/Users/ignasi/miniconda3/envs/xesmf_env/lib/python3.7/site-packages/xesmf/smm.py:130: UserWarning: Input array is not C_CONTIGUOUS. Will affect performance.\n",
      "  warnings.warn('Input array is not C_CONTIGUOUS. ' 'Will affect performance.')\n"
     ]
    },
    {
     "name": "stdout",
     "output_type": "stream",
     "text": [
      "/Volumes/Thalassa/CORA_SHDR_rg/CORA_SHDR_200904_rg.nc done\n"
     ]
    },
    {
     "name": "stderr",
     "output_type": "stream",
     "text": [
      "/Users/ignasi/miniconda3/envs/xesmf_env/lib/python3.7/site-packages/xesmf/smm.py:130: UserWarning: Input array is not C_CONTIGUOUS. Will affect performance.\n",
      "  warnings.warn('Input array is not C_CONTIGUOUS. ' 'Will affect performance.')\n"
     ]
    },
    {
     "name": "stdout",
     "output_type": "stream",
     "text": [
      "/Volumes/Thalassa/CORA_SHDR_rg/CORA_SHDR_200905_rg.nc done\n"
     ]
    },
    {
     "name": "stderr",
     "output_type": "stream",
     "text": [
      "/Users/ignasi/miniconda3/envs/xesmf_env/lib/python3.7/site-packages/xesmf/smm.py:130: UserWarning: Input array is not C_CONTIGUOUS. Will affect performance.\n",
      "  warnings.warn('Input array is not C_CONTIGUOUS. ' 'Will affect performance.')\n"
     ]
    },
    {
     "name": "stdout",
     "output_type": "stream",
     "text": [
      "/Volumes/Thalassa/CORA_SHDR_rg/CORA_SHDR_200906_rg.nc done\n"
     ]
    },
    {
     "name": "stderr",
     "output_type": "stream",
     "text": [
      "/Users/ignasi/miniconda3/envs/xesmf_env/lib/python3.7/site-packages/xesmf/smm.py:130: UserWarning: Input array is not C_CONTIGUOUS. Will affect performance.\n",
      "  warnings.warn('Input array is not C_CONTIGUOUS. ' 'Will affect performance.')\n"
     ]
    },
    {
     "name": "stdout",
     "output_type": "stream",
     "text": [
      "/Volumes/Thalassa/CORA_SHDR_rg/CORA_SHDR_200907_rg.nc done\n"
     ]
    },
    {
     "name": "stderr",
     "output_type": "stream",
     "text": [
      "/Users/ignasi/miniconda3/envs/xesmf_env/lib/python3.7/site-packages/xesmf/smm.py:130: UserWarning: Input array is not C_CONTIGUOUS. Will affect performance.\n",
      "  warnings.warn('Input array is not C_CONTIGUOUS. ' 'Will affect performance.')\n"
     ]
    },
    {
     "name": "stdout",
     "output_type": "stream",
     "text": [
      "/Volumes/Thalassa/CORA_SHDR_rg/CORA_SHDR_200908_rg.nc done\n"
     ]
    },
    {
     "name": "stderr",
     "output_type": "stream",
     "text": [
      "/Users/ignasi/miniconda3/envs/xesmf_env/lib/python3.7/site-packages/xesmf/smm.py:130: UserWarning: Input array is not C_CONTIGUOUS. Will affect performance.\n",
      "  warnings.warn('Input array is not C_CONTIGUOUS. ' 'Will affect performance.')\n"
     ]
    },
    {
     "name": "stdout",
     "output_type": "stream",
     "text": [
      "/Volumes/Thalassa/CORA_SHDR_rg/CORA_SHDR_200909_rg.nc done\n"
     ]
    },
    {
     "name": "stderr",
     "output_type": "stream",
     "text": [
      "/Users/ignasi/miniconda3/envs/xesmf_env/lib/python3.7/site-packages/xesmf/smm.py:130: UserWarning: Input array is not C_CONTIGUOUS. Will affect performance.\n",
      "  warnings.warn('Input array is not C_CONTIGUOUS. ' 'Will affect performance.')\n"
     ]
    },
    {
     "name": "stdout",
     "output_type": "stream",
     "text": [
      "/Volumes/Thalassa/CORA_SHDR_rg/CORA_SHDR_200910_rg.nc done\n"
     ]
    },
    {
     "name": "stderr",
     "output_type": "stream",
     "text": [
      "/Users/ignasi/miniconda3/envs/xesmf_env/lib/python3.7/site-packages/xesmf/smm.py:130: UserWarning: Input array is not C_CONTIGUOUS. Will affect performance.\n",
      "  warnings.warn('Input array is not C_CONTIGUOUS. ' 'Will affect performance.')\n"
     ]
    },
    {
     "name": "stdout",
     "output_type": "stream",
     "text": [
      "/Volumes/Thalassa/CORA_SHDR_rg/CORA_SHDR_200911_rg.nc done\n"
     ]
    },
    {
     "name": "stderr",
     "output_type": "stream",
     "text": [
      "/Users/ignasi/miniconda3/envs/xesmf_env/lib/python3.7/site-packages/xesmf/smm.py:130: UserWarning: Input array is not C_CONTIGUOUS. Will affect performance.\n",
      "  warnings.warn('Input array is not C_CONTIGUOUS. ' 'Will affect performance.')\n"
     ]
    },
    {
     "name": "stdout",
     "output_type": "stream",
     "text": [
      "/Volumes/Thalassa/CORA_SHDR_rg/CORA_SHDR_200912_rg.nc done\n"
     ]
    },
    {
     "name": "stderr",
     "output_type": "stream",
     "text": [
      "/Users/ignasi/miniconda3/envs/xesmf_env/lib/python3.7/site-packages/xesmf/smm.py:130: UserWarning: Input array is not C_CONTIGUOUS. Will affect performance.\n",
      "  warnings.warn('Input array is not C_CONTIGUOUS. ' 'Will affect performance.')\n"
     ]
    },
    {
     "name": "stdout",
     "output_type": "stream",
     "text": [
      "/Volumes/Thalassa/CORA_SHDR_rg/CORA_SHDR_201001_rg.nc done\n"
     ]
    },
    {
     "name": "stderr",
     "output_type": "stream",
     "text": [
      "/Users/ignasi/miniconda3/envs/xesmf_env/lib/python3.7/site-packages/xesmf/smm.py:130: UserWarning: Input array is not C_CONTIGUOUS. Will affect performance.\n",
      "  warnings.warn('Input array is not C_CONTIGUOUS. ' 'Will affect performance.')\n"
     ]
    },
    {
     "name": "stdout",
     "output_type": "stream",
     "text": [
      "/Volumes/Thalassa/CORA_SHDR_rg/CORA_SHDR_201002_rg.nc done\n"
     ]
    },
    {
     "name": "stderr",
     "output_type": "stream",
     "text": [
      "/Users/ignasi/miniconda3/envs/xesmf_env/lib/python3.7/site-packages/xesmf/smm.py:130: UserWarning: Input array is not C_CONTIGUOUS. Will affect performance.\n",
      "  warnings.warn('Input array is not C_CONTIGUOUS. ' 'Will affect performance.')\n"
     ]
    },
    {
     "name": "stdout",
     "output_type": "stream",
     "text": [
      "/Volumes/Thalassa/CORA_SHDR_rg/CORA_SHDR_201003_rg.nc done\n"
     ]
    },
    {
     "name": "stderr",
     "output_type": "stream",
     "text": [
      "/Users/ignasi/miniconda3/envs/xesmf_env/lib/python3.7/site-packages/xesmf/smm.py:130: UserWarning: Input array is not C_CONTIGUOUS. Will affect performance.\n",
      "  warnings.warn('Input array is not C_CONTIGUOUS. ' 'Will affect performance.')\n"
     ]
    },
    {
     "name": "stdout",
     "output_type": "stream",
     "text": [
      "/Volumes/Thalassa/CORA_SHDR_rg/CORA_SHDR_201004_rg.nc done\n"
     ]
    },
    {
     "name": "stderr",
     "output_type": "stream",
     "text": [
      "/Users/ignasi/miniconda3/envs/xesmf_env/lib/python3.7/site-packages/xesmf/smm.py:130: UserWarning: Input array is not C_CONTIGUOUS. Will affect performance.\n",
      "  warnings.warn('Input array is not C_CONTIGUOUS. ' 'Will affect performance.')\n"
     ]
    },
    {
     "name": "stdout",
     "output_type": "stream",
     "text": [
      "/Volumes/Thalassa/CORA_SHDR_rg/CORA_SHDR_201005_rg.nc done\n"
     ]
    },
    {
     "name": "stderr",
     "output_type": "stream",
     "text": [
      "/Users/ignasi/miniconda3/envs/xesmf_env/lib/python3.7/site-packages/xesmf/smm.py:130: UserWarning: Input array is not C_CONTIGUOUS. Will affect performance.\n",
      "  warnings.warn('Input array is not C_CONTIGUOUS. ' 'Will affect performance.')\n"
     ]
    },
    {
     "name": "stdout",
     "output_type": "stream",
     "text": [
      "/Volumes/Thalassa/CORA_SHDR_rg/CORA_SHDR_201006_rg.nc done\n"
     ]
    },
    {
     "name": "stderr",
     "output_type": "stream",
     "text": [
      "/Users/ignasi/miniconda3/envs/xesmf_env/lib/python3.7/site-packages/xesmf/smm.py:130: UserWarning: Input array is not C_CONTIGUOUS. Will affect performance.\n",
      "  warnings.warn('Input array is not C_CONTIGUOUS. ' 'Will affect performance.')\n"
     ]
    },
    {
     "name": "stdout",
     "output_type": "stream",
     "text": [
      "/Volumes/Thalassa/CORA_SHDR_rg/CORA_SHDR_201007_rg.nc done\n"
     ]
    },
    {
     "name": "stderr",
     "output_type": "stream",
     "text": [
      "/Users/ignasi/miniconda3/envs/xesmf_env/lib/python3.7/site-packages/xesmf/smm.py:130: UserWarning: Input array is not C_CONTIGUOUS. Will affect performance.\n",
      "  warnings.warn('Input array is not C_CONTIGUOUS. ' 'Will affect performance.')\n"
     ]
    },
    {
     "name": "stdout",
     "output_type": "stream",
     "text": [
      "/Volumes/Thalassa/CORA_SHDR_rg/CORA_SHDR_201008_rg.nc done\n"
     ]
    },
    {
     "name": "stderr",
     "output_type": "stream",
     "text": [
      "/Users/ignasi/miniconda3/envs/xesmf_env/lib/python3.7/site-packages/xesmf/smm.py:130: UserWarning: Input array is not C_CONTIGUOUS. Will affect performance.\n",
      "  warnings.warn('Input array is not C_CONTIGUOUS. ' 'Will affect performance.')\n"
     ]
    },
    {
     "name": "stdout",
     "output_type": "stream",
     "text": [
      "/Volumes/Thalassa/CORA_SHDR_rg/CORA_SHDR_201009_rg.nc done\n"
     ]
    },
    {
     "name": "stderr",
     "output_type": "stream",
     "text": [
      "/Users/ignasi/miniconda3/envs/xesmf_env/lib/python3.7/site-packages/xesmf/smm.py:130: UserWarning: Input array is not C_CONTIGUOUS. Will affect performance.\n",
      "  warnings.warn('Input array is not C_CONTIGUOUS. ' 'Will affect performance.')\n"
     ]
    },
    {
     "name": "stdout",
     "output_type": "stream",
     "text": [
      "/Volumes/Thalassa/CORA_SHDR_rg/CORA_SHDR_201010_rg.nc done\n"
     ]
    },
    {
     "name": "stderr",
     "output_type": "stream",
     "text": [
      "/Users/ignasi/miniconda3/envs/xesmf_env/lib/python3.7/site-packages/xesmf/smm.py:130: UserWarning: Input array is not C_CONTIGUOUS. Will affect performance.\n",
      "  warnings.warn('Input array is not C_CONTIGUOUS. ' 'Will affect performance.')\n"
     ]
    },
    {
     "name": "stdout",
     "output_type": "stream",
     "text": [
      "/Volumes/Thalassa/CORA_SHDR_rg/CORA_SHDR_201011_rg.nc done\n"
     ]
    },
    {
     "name": "stderr",
     "output_type": "stream",
     "text": [
      "/Users/ignasi/miniconda3/envs/xesmf_env/lib/python3.7/site-packages/xesmf/smm.py:130: UserWarning: Input array is not C_CONTIGUOUS. Will affect performance.\n",
      "  warnings.warn('Input array is not C_CONTIGUOUS. ' 'Will affect performance.')\n"
     ]
    },
    {
     "name": "stdout",
     "output_type": "stream",
     "text": [
      "/Volumes/Thalassa/CORA_SHDR_rg/CORA_SHDR_201012_rg.nc done\n"
     ]
    },
    {
     "name": "stderr",
     "output_type": "stream",
     "text": [
      "/Users/ignasi/miniconda3/envs/xesmf_env/lib/python3.7/site-packages/xesmf/smm.py:130: UserWarning: Input array is not C_CONTIGUOUS. Will affect performance.\n",
      "  warnings.warn('Input array is not C_CONTIGUOUS. ' 'Will affect performance.')\n"
     ]
    },
    {
     "name": "stdout",
     "output_type": "stream",
     "text": [
      "/Volumes/Thalassa/CORA_SHDR_rg/CORA_SHDR_201101_rg.nc done\n"
     ]
    },
    {
     "name": "stderr",
     "output_type": "stream",
     "text": [
      "/Users/ignasi/miniconda3/envs/xesmf_env/lib/python3.7/site-packages/xesmf/smm.py:130: UserWarning: Input array is not C_CONTIGUOUS. Will affect performance.\n",
      "  warnings.warn('Input array is not C_CONTIGUOUS. ' 'Will affect performance.')\n"
     ]
    },
    {
     "name": "stdout",
     "output_type": "stream",
     "text": [
      "/Volumes/Thalassa/CORA_SHDR_rg/CORA_SHDR_201102_rg.nc done\n"
     ]
    },
    {
     "name": "stderr",
     "output_type": "stream",
     "text": [
      "/Users/ignasi/miniconda3/envs/xesmf_env/lib/python3.7/site-packages/xesmf/smm.py:130: UserWarning: Input array is not C_CONTIGUOUS. Will affect performance.\n",
      "  warnings.warn('Input array is not C_CONTIGUOUS. ' 'Will affect performance.')\n"
     ]
    },
    {
     "name": "stdout",
     "output_type": "stream",
     "text": [
      "/Volumes/Thalassa/CORA_SHDR_rg/CORA_SHDR_201103_rg.nc done\n"
     ]
    },
    {
     "name": "stderr",
     "output_type": "stream",
     "text": [
      "/Users/ignasi/miniconda3/envs/xesmf_env/lib/python3.7/site-packages/xesmf/smm.py:130: UserWarning: Input array is not C_CONTIGUOUS. Will affect performance.\n",
      "  warnings.warn('Input array is not C_CONTIGUOUS. ' 'Will affect performance.')\n"
     ]
    },
    {
     "name": "stdout",
     "output_type": "stream",
     "text": [
      "/Volumes/Thalassa/CORA_SHDR_rg/CORA_SHDR_201104_rg.nc done\n"
     ]
    },
    {
     "name": "stderr",
     "output_type": "stream",
     "text": [
      "/Users/ignasi/miniconda3/envs/xesmf_env/lib/python3.7/site-packages/xesmf/smm.py:130: UserWarning: Input array is not C_CONTIGUOUS. Will affect performance.\n",
      "  warnings.warn('Input array is not C_CONTIGUOUS. ' 'Will affect performance.')\n"
     ]
    },
    {
     "name": "stdout",
     "output_type": "stream",
     "text": [
      "/Volumes/Thalassa/CORA_SHDR_rg/CORA_SHDR_201105_rg.nc done\n"
     ]
    },
    {
     "name": "stderr",
     "output_type": "stream",
     "text": [
      "/Users/ignasi/miniconda3/envs/xesmf_env/lib/python3.7/site-packages/xesmf/smm.py:130: UserWarning: Input array is not C_CONTIGUOUS. Will affect performance.\n",
      "  warnings.warn('Input array is not C_CONTIGUOUS. ' 'Will affect performance.')\n"
     ]
    },
    {
     "name": "stdout",
     "output_type": "stream",
     "text": [
      "/Volumes/Thalassa/CORA_SHDR_rg/CORA_SHDR_201106_rg.nc done\n"
     ]
    },
    {
     "name": "stderr",
     "output_type": "stream",
     "text": [
      "/Users/ignasi/miniconda3/envs/xesmf_env/lib/python3.7/site-packages/xesmf/smm.py:130: UserWarning: Input array is not C_CONTIGUOUS. Will affect performance.\n",
      "  warnings.warn('Input array is not C_CONTIGUOUS. ' 'Will affect performance.')\n"
     ]
    },
    {
     "name": "stdout",
     "output_type": "stream",
     "text": [
      "/Volumes/Thalassa/CORA_SHDR_rg/CORA_SHDR_201107_rg.nc done\n"
     ]
    },
    {
     "name": "stderr",
     "output_type": "stream",
     "text": [
      "/Users/ignasi/miniconda3/envs/xesmf_env/lib/python3.7/site-packages/xesmf/smm.py:130: UserWarning: Input array is not C_CONTIGUOUS. Will affect performance.\n",
      "  warnings.warn('Input array is not C_CONTIGUOUS. ' 'Will affect performance.')\n"
     ]
    },
    {
     "name": "stdout",
     "output_type": "stream",
     "text": [
      "/Volumes/Thalassa/CORA_SHDR_rg/CORA_SHDR_201108_rg.nc done\n"
     ]
    },
    {
     "name": "stderr",
     "output_type": "stream",
     "text": [
      "/Users/ignasi/miniconda3/envs/xesmf_env/lib/python3.7/site-packages/xesmf/smm.py:130: UserWarning: Input array is not C_CONTIGUOUS. Will affect performance.\n",
      "  warnings.warn('Input array is not C_CONTIGUOUS. ' 'Will affect performance.')\n"
     ]
    },
    {
     "name": "stdout",
     "output_type": "stream",
     "text": [
      "/Volumes/Thalassa/CORA_SHDR_rg/CORA_SHDR_201109_rg.nc done\n"
     ]
    },
    {
     "name": "stderr",
     "output_type": "stream",
     "text": [
      "/Users/ignasi/miniconda3/envs/xesmf_env/lib/python3.7/site-packages/xesmf/smm.py:130: UserWarning: Input array is not C_CONTIGUOUS. Will affect performance.\n",
      "  warnings.warn('Input array is not C_CONTIGUOUS. ' 'Will affect performance.')\n"
     ]
    },
    {
     "name": "stdout",
     "output_type": "stream",
     "text": [
      "/Volumes/Thalassa/CORA_SHDR_rg/CORA_SHDR_201110_rg.nc done\n"
     ]
    },
    {
     "name": "stderr",
     "output_type": "stream",
     "text": [
      "/Users/ignasi/miniconda3/envs/xesmf_env/lib/python3.7/site-packages/xesmf/smm.py:130: UserWarning: Input array is not C_CONTIGUOUS. Will affect performance.\n",
      "  warnings.warn('Input array is not C_CONTIGUOUS. ' 'Will affect performance.')\n"
     ]
    },
    {
     "name": "stdout",
     "output_type": "stream",
     "text": [
      "/Volumes/Thalassa/CORA_SHDR_rg/CORA_SHDR_201111_rg.nc done\n"
     ]
    },
    {
     "name": "stderr",
     "output_type": "stream",
     "text": [
      "/Users/ignasi/miniconda3/envs/xesmf_env/lib/python3.7/site-packages/xesmf/smm.py:130: UserWarning: Input array is not C_CONTIGUOUS. Will affect performance.\n",
      "  warnings.warn('Input array is not C_CONTIGUOUS. ' 'Will affect performance.')\n"
     ]
    },
    {
     "name": "stdout",
     "output_type": "stream",
     "text": [
      "/Volumes/Thalassa/CORA_SHDR_rg/CORA_SHDR_201112_rg.nc done\n"
     ]
    },
    {
     "name": "stderr",
     "output_type": "stream",
     "text": [
      "/Users/ignasi/miniconda3/envs/xesmf_env/lib/python3.7/site-packages/xesmf/smm.py:130: UserWarning: Input array is not C_CONTIGUOUS. Will affect performance.\n",
      "  warnings.warn('Input array is not C_CONTIGUOUS. ' 'Will affect performance.')\n"
     ]
    },
    {
     "name": "stdout",
     "output_type": "stream",
     "text": [
      "/Volumes/Thalassa/CORA_SHDR_rg/CORA_SHDR_201201_rg.nc done\n"
     ]
    },
    {
     "name": "stderr",
     "output_type": "stream",
     "text": [
      "/Users/ignasi/miniconda3/envs/xesmf_env/lib/python3.7/site-packages/xesmf/smm.py:130: UserWarning: Input array is not C_CONTIGUOUS. Will affect performance.\n",
      "  warnings.warn('Input array is not C_CONTIGUOUS. ' 'Will affect performance.')\n"
     ]
    },
    {
     "name": "stdout",
     "output_type": "stream",
     "text": [
      "/Volumes/Thalassa/CORA_SHDR_rg/CORA_SHDR_201202_rg.nc done\n"
     ]
    },
    {
     "name": "stderr",
     "output_type": "stream",
     "text": [
      "/Users/ignasi/miniconda3/envs/xesmf_env/lib/python3.7/site-packages/xesmf/smm.py:130: UserWarning: Input array is not C_CONTIGUOUS. Will affect performance.\n",
      "  warnings.warn('Input array is not C_CONTIGUOUS. ' 'Will affect performance.')\n"
     ]
    },
    {
     "name": "stdout",
     "output_type": "stream",
     "text": [
      "/Volumes/Thalassa/CORA_SHDR_rg/CORA_SHDR_201203_rg.nc done\n"
     ]
    },
    {
     "name": "stderr",
     "output_type": "stream",
     "text": [
      "/Users/ignasi/miniconda3/envs/xesmf_env/lib/python3.7/site-packages/xesmf/smm.py:130: UserWarning: Input array is not C_CONTIGUOUS. Will affect performance.\n",
      "  warnings.warn('Input array is not C_CONTIGUOUS. ' 'Will affect performance.')\n"
     ]
    },
    {
     "name": "stdout",
     "output_type": "stream",
     "text": [
      "/Volumes/Thalassa/CORA_SHDR_rg/CORA_SHDR_201204_rg.nc done\n"
     ]
    },
    {
     "name": "stderr",
     "output_type": "stream",
     "text": [
      "/Users/ignasi/miniconda3/envs/xesmf_env/lib/python3.7/site-packages/xesmf/smm.py:130: UserWarning: Input array is not C_CONTIGUOUS. Will affect performance.\n",
      "  warnings.warn('Input array is not C_CONTIGUOUS. ' 'Will affect performance.')\n"
     ]
    },
    {
     "name": "stdout",
     "output_type": "stream",
     "text": [
      "/Volumes/Thalassa/CORA_SHDR_rg/CORA_SHDR_201205_rg.nc done\n"
     ]
    },
    {
     "name": "stderr",
     "output_type": "stream",
     "text": [
      "/Users/ignasi/miniconda3/envs/xesmf_env/lib/python3.7/site-packages/xesmf/smm.py:130: UserWarning: Input array is not C_CONTIGUOUS. Will affect performance.\n",
      "  warnings.warn('Input array is not C_CONTIGUOUS. ' 'Will affect performance.')\n"
     ]
    },
    {
     "name": "stdout",
     "output_type": "stream",
     "text": [
      "/Volumes/Thalassa/CORA_SHDR_rg/CORA_SHDR_201206_rg.nc done\n"
     ]
    },
    {
     "name": "stderr",
     "output_type": "stream",
     "text": [
      "/Users/ignasi/miniconda3/envs/xesmf_env/lib/python3.7/site-packages/xesmf/smm.py:130: UserWarning: Input array is not C_CONTIGUOUS. Will affect performance.\n",
      "  warnings.warn('Input array is not C_CONTIGUOUS. ' 'Will affect performance.')\n"
     ]
    },
    {
     "name": "stdout",
     "output_type": "stream",
     "text": [
      "/Volumes/Thalassa/CORA_SHDR_rg/CORA_SHDR_201207_rg.nc done\n"
     ]
    },
    {
     "name": "stderr",
     "output_type": "stream",
     "text": [
      "/Users/ignasi/miniconda3/envs/xesmf_env/lib/python3.7/site-packages/xesmf/smm.py:130: UserWarning: Input array is not C_CONTIGUOUS. Will affect performance.\n",
      "  warnings.warn('Input array is not C_CONTIGUOUS. ' 'Will affect performance.')\n"
     ]
    },
    {
     "name": "stdout",
     "output_type": "stream",
     "text": [
      "/Volumes/Thalassa/CORA_SHDR_rg/CORA_SHDR_201208_rg.nc done\n"
     ]
    },
    {
     "name": "stderr",
     "output_type": "stream",
     "text": [
      "/Users/ignasi/miniconda3/envs/xesmf_env/lib/python3.7/site-packages/xesmf/smm.py:130: UserWarning: Input array is not C_CONTIGUOUS. Will affect performance.\n",
      "  warnings.warn('Input array is not C_CONTIGUOUS. ' 'Will affect performance.')\n"
     ]
    },
    {
     "name": "stdout",
     "output_type": "stream",
     "text": [
      "/Volumes/Thalassa/CORA_SHDR_rg/CORA_SHDR_201209_rg.nc done\n"
     ]
    },
    {
     "name": "stderr",
     "output_type": "stream",
     "text": [
      "/Users/ignasi/miniconda3/envs/xesmf_env/lib/python3.7/site-packages/xesmf/smm.py:130: UserWarning: Input array is not C_CONTIGUOUS. Will affect performance.\n",
      "  warnings.warn('Input array is not C_CONTIGUOUS. ' 'Will affect performance.')\n"
     ]
    },
    {
     "name": "stdout",
     "output_type": "stream",
     "text": [
      "/Volumes/Thalassa/CORA_SHDR_rg/CORA_SHDR_201210_rg.nc done\n"
     ]
    },
    {
     "name": "stderr",
     "output_type": "stream",
     "text": [
      "/Users/ignasi/miniconda3/envs/xesmf_env/lib/python3.7/site-packages/xesmf/smm.py:130: UserWarning: Input array is not C_CONTIGUOUS. Will affect performance.\n",
      "  warnings.warn('Input array is not C_CONTIGUOUS. ' 'Will affect performance.')\n"
     ]
    },
    {
     "name": "stdout",
     "output_type": "stream",
     "text": [
      "/Volumes/Thalassa/CORA_SHDR_rg/CORA_SHDR_201211_rg.nc done\n"
     ]
    },
    {
     "name": "stderr",
     "output_type": "stream",
     "text": [
      "/Users/ignasi/miniconda3/envs/xesmf_env/lib/python3.7/site-packages/xesmf/smm.py:130: UserWarning: Input array is not C_CONTIGUOUS. Will affect performance.\n",
      "  warnings.warn('Input array is not C_CONTIGUOUS. ' 'Will affect performance.')\n"
     ]
    },
    {
     "name": "stdout",
     "output_type": "stream",
     "text": [
      "/Volumes/Thalassa/CORA_SHDR_rg/CORA_SHDR_201212_rg.nc done\n"
     ]
    },
    {
     "name": "stderr",
     "output_type": "stream",
     "text": [
      "/Users/ignasi/miniconda3/envs/xesmf_env/lib/python3.7/site-packages/xesmf/smm.py:130: UserWarning: Input array is not C_CONTIGUOUS. Will affect performance.\n",
      "  warnings.warn('Input array is not C_CONTIGUOUS. ' 'Will affect performance.')\n"
     ]
    },
    {
     "name": "stdout",
     "output_type": "stream",
     "text": [
      "/Volumes/Thalassa/CORA_SHDR_rg/CORA_SHDR_201301_rg.nc done\n"
     ]
    },
    {
     "name": "stderr",
     "output_type": "stream",
     "text": [
      "/Users/ignasi/miniconda3/envs/xesmf_env/lib/python3.7/site-packages/xesmf/smm.py:130: UserWarning: Input array is not C_CONTIGUOUS. Will affect performance.\n",
      "  warnings.warn('Input array is not C_CONTIGUOUS. ' 'Will affect performance.')\n"
     ]
    },
    {
     "name": "stdout",
     "output_type": "stream",
     "text": [
      "/Volumes/Thalassa/CORA_SHDR_rg/CORA_SHDR_201302_rg.nc done\n"
     ]
    },
    {
     "name": "stderr",
     "output_type": "stream",
     "text": [
      "/Users/ignasi/miniconda3/envs/xesmf_env/lib/python3.7/site-packages/xesmf/smm.py:130: UserWarning: Input array is not C_CONTIGUOUS. Will affect performance.\n",
      "  warnings.warn('Input array is not C_CONTIGUOUS. ' 'Will affect performance.')\n"
     ]
    },
    {
     "name": "stdout",
     "output_type": "stream",
     "text": [
      "/Volumes/Thalassa/CORA_SHDR_rg/CORA_SHDR_201303_rg.nc done\n"
     ]
    },
    {
     "name": "stderr",
     "output_type": "stream",
     "text": [
      "/Users/ignasi/miniconda3/envs/xesmf_env/lib/python3.7/site-packages/xesmf/smm.py:130: UserWarning: Input array is not C_CONTIGUOUS. Will affect performance.\n",
      "  warnings.warn('Input array is not C_CONTIGUOUS. ' 'Will affect performance.')\n"
     ]
    },
    {
     "name": "stdout",
     "output_type": "stream",
     "text": [
      "/Volumes/Thalassa/CORA_SHDR_rg/CORA_SHDR_201304_rg.nc done\n"
     ]
    },
    {
     "name": "stderr",
     "output_type": "stream",
     "text": [
      "/Users/ignasi/miniconda3/envs/xesmf_env/lib/python3.7/site-packages/xesmf/smm.py:130: UserWarning: Input array is not C_CONTIGUOUS. Will affect performance.\n",
      "  warnings.warn('Input array is not C_CONTIGUOUS. ' 'Will affect performance.')\n"
     ]
    },
    {
     "name": "stdout",
     "output_type": "stream",
     "text": [
      "/Volumes/Thalassa/CORA_SHDR_rg/CORA_SHDR_201305_rg.nc done\n"
     ]
    },
    {
     "name": "stderr",
     "output_type": "stream",
     "text": [
      "/Users/ignasi/miniconda3/envs/xesmf_env/lib/python3.7/site-packages/xesmf/smm.py:130: UserWarning: Input array is not C_CONTIGUOUS. Will affect performance.\n",
      "  warnings.warn('Input array is not C_CONTIGUOUS. ' 'Will affect performance.')\n"
     ]
    },
    {
     "name": "stdout",
     "output_type": "stream",
     "text": [
      "/Volumes/Thalassa/CORA_SHDR_rg/CORA_SHDR_201306_rg.nc done\n"
     ]
    },
    {
     "name": "stderr",
     "output_type": "stream",
     "text": [
      "/Users/ignasi/miniconda3/envs/xesmf_env/lib/python3.7/site-packages/xesmf/smm.py:130: UserWarning: Input array is not C_CONTIGUOUS. Will affect performance.\n",
      "  warnings.warn('Input array is not C_CONTIGUOUS. ' 'Will affect performance.')\n"
     ]
    },
    {
     "name": "stdout",
     "output_type": "stream",
     "text": [
      "/Volumes/Thalassa/CORA_SHDR_rg/CORA_SHDR_201307_rg.nc done\n"
     ]
    },
    {
     "name": "stderr",
     "output_type": "stream",
     "text": [
      "/Users/ignasi/miniconda3/envs/xesmf_env/lib/python3.7/site-packages/xesmf/smm.py:130: UserWarning: Input array is not C_CONTIGUOUS. Will affect performance.\n",
      "  warnings.warn('Input array is not C_CONTIGUOUS. ' 'Will affect performance.')\n"
     ]
    },
    {
     "name": "stdout",
     "output_type": "stream",
     "text": [
      "/Volumes/Thalassa/CORA_SHDR_rg/CORA_SHDR_201308_rg.nc done\n"
     ]
    },
    {
     "name": "stderr",
     "output_type": "stream",
     "text": [
      "/Users/ignasi/miniconda3/envs/xesmf_env/lib/python3.7/site-packages/xesmf/smm.py:130: UserWarning: Input array is not C_CONTIGUOUS. Will affect performance.\n",
      "  warnings.warn('Input array is not C_CONTIGUOUS. ' 'Will affect performance.')\n"
     ]
    },
    {
     "name": "stdout",
     "output_type": "stream",
     "text": [
      "/Volumes/Thalassa/CORA_SHDR_rg/CORA_SHDR_201309_rg.nc done\n"
     ]
    },
    {
     "name": "stderr",
     "output_type": "stream",
     "text": [
      "/Users/ignasi/miniconda3/envs/xesmf_env/lib/python3.7/site-packages/xesmf/smm.py:130: UserWarning: Input array is not C_CONTIGUOUS. Will affect performance.\n",
      "  warnings.warn('Input array is not C_CONTIGUOUS. ' 'Will affect performance.')\n"
     ]
    },
    {
     "name": "stdout",
     "output_type": "stream",
     "text": [
      "/Volumes/Thalassa/CORA_SHDR_rg/CORA_SHDR_201310_rg.nc done\n"
     ]
    },
    {
     "name": "stderr",
     "output_type": "stream",
     "text": [
      "/Users/ignasi/miniconda3/envs/xesmf_env/lib/python3.7/site-packages/xesmf/smm.py:130: UserWarning: Input array is not C_CONTIGUOUS. Will affect performance.\n",
      "  warnings.warn('Input array is not C_CONTIGUOUS. ' 'Will affect performance.')\n"
     ]
    },
    {
     "name": "stdout",
     "output_type": "stream",
     "text": [
      "/Volumes/Thalassa/CORA_SHDR_rg/CORA_SHDR_201311_rg.nc done\n"
     ]
    },
    {
     "name": "stderr",
     "output_type": "stream",
     "text": [
      "/Users/ignasi/miniconda3/envs/xesmf_env/lib/python3.7/site-packages/xesmf/smm.py:130: UserWarning: Input array is not C_CONTIGUOUS. Will affect performance.\n",
      "  warnings.warn('Input array is not C_CONTIGUOUS. ' 'Will affect performance.')\n"
     ]
    },
    {
     "name": "stdout",
     "output_type": "stream",
     "text": [
      "/Volumes/Thalassa/CORA_SHDR_rg/CORA_SHDR_201312_rg.nc done\n"
     ]
    },
    {
     "name": "stderr",
     "output_type": "stream",
     "text": [
      "/Users/ignasi/miniconda3/envs/xesmf_env/lib/python3.7/site-packages/xesmf/smm.py:130: UserWarning: Input array is not C_CONTIGUOUS. Will affect performance.\n",
      "  warnings.warn('Input array is not C_CONTIGUOUS. ' 'Will affect performance.')\n"
     ]
    },
    {
     "name": "stdout",
     "output_type": "stream",
     "text": [
      "/Volumes/Thalassa/CORA_SHDR_rg/CORA_SHDR_201401_rg.nc done\n"
     ]
    },
    {
     "name": "stderr",
     "output_type": "stream",
     "text": [
      "/Users/ignasi/miniconda3/envs/xesmf_env/lib/python3.7/site-packages/xesmf/smm.py:130: UserWarning: Input array is not C_CONTIGUOUS. Will affect performance.\n",
      "  warnings.warn('Input array is not C_CONTIGUOUS. ' 'Will affect performance.')\n"
     ]
    },
    {
     "name": "stdout",
     "output_type": "stream",
     "text": [
      "/Volumes/Thalassa/CORA_SHDR_rg/CORA_SHDR_201402_rg.nc done\n"
     ]
    },
    {
     "name": "stderr",
     "output_type": "stream",
     "text": [
      "/Users/ignasi/miniconda3/envs/xesmf_env/lib/python3.7/site-packages/xesmf/smm.py:130: UserWarning: Input array is not C_CONTIGUOUS. Will affect performance.\n",
      "  warnings.warn('Input array is not C_CONTIGUOUS. ' 'Will affect performance.')\n"
     ]
    },
    {
     "name": "stdout",
     "output_type": "stream",
     "text": [
      "/Volumes/Thalassa/CORA_SHDR_rg/CORA_SHDR_201403_rg.nc done\n"
     ]
    },
    {
     "name": "stderr",
     "output_type": "stream",
     "text": [
      "/Users/ignasi/miniconda3/envs/xesmf_env/lib/python3.7/site-packages/xesmf/smm.py:130: UserWarning: Input array is not C_CONTIGUOUS. Will affect performance.\n",
      "  warnings.warn('Input array is not C_CONTIGUOUS. ' 'Will affect performance.')\n"
     ]
    },
    {
     "name": "stdout",
     "output_type": "stream",
     "text": [
      "/Volumes/Thalassa/CORA_SHDR_rg/CORA_SHDR_201404_rg.nc done\n"
     ]
    },
    {
     "name": "stderr",
     "output_type": "stream",
     "text": [
      "/Users/ignasi/miniconda3/envs/xesmf_env/lib/python3.7/site-packages/xesmf/smm.py:130: UserWarning: Input array is not C_CONTIGUOUS. Will affect performance.\n",
      "  warnings.warn('Input array is not C_CONTIGUOUS. ' 'Will affect performance.')\n"
     ]
    },
    {
     "name": "stdout",
     "output_type": "stream",
     "text": [
      "/Volumes/Thalassa/CORA_SHDR_rg/CORA_SHDR_201405_rg.nc done\n"
     ]
    },
    {
     "name": "stderr",
     "output_type": "stream",
     "text": [
      "/Users/ignasi/miniconda3/envs/xesmf_env/lib/python3.7/site-packages/xesmf/smm.py:130: UserWarning: Input array is not C_CONTIGUOUS. Will affect performance.\n",
      "  warnings.warn('Input array is not C_CONTIGUOUS. ' 'Will affect performance.')\n"
     ]
    },
    {
     "name": "stdout",
     "output_type": "stream",
     "text": [
      "/Volumes/Thalassa/CORA_SHDR_rg/CORA_SHDR_201406_rg.nc done\n"
     ]
    },
    {
     "name": "stderr",
     "output_type": "stream",
     "text": [
      "/Users/ignasi/miniconda3/envs/xesmf_env/lib/python3.7/site-packages/xesmf/smm.py:130: UserWarning: Input array is not C_CONTIGUOUS. Will affect performance.\n",
      "  warnings.warn('Input array is not C_CONTIGUOUS. ' 'Will affect performance.')\n"
     ]
    },
    {
     "name": "stdout",
     "output_type": "stream",
     "text": [
      "/Volumes/Thalassa/CORA_SHDR_rg/CORA_SHDR_201407_rg.nc done\n"
     ]
    },
    {
     "name": "stderr",
     "output_type": "stream",
     "text": [
      "/Users/ignasi/miniconda3/envs/xesmf_env/lib/python3.7/site-packages/xesmf/smm.py:130: UserWarning: Input array is not C_CONTIGUOUS. Will affect performance.\n",
      "  warnings.warn('Input array is not C_CONTIGUOUS. ' 'Will affect performance.')\n"
     ]
    },
    {
     "name": "stdout",
     "output_type": "stream",
     "text": [
      "/Volumes/Thalassa/CORA_SHDR_rg/CORA_SHDR_201408_rg.nc done\n"
     ]
    },
    {
     "name": "stderr",
     "output_type": "stream",
     "text": [
      "/Users/ignasi/miniconda3/envs/xesmf_env/lib/python3.7/site-packages/xesmf/smm.py:130: UserWarning: Input array is not C_CONTIGUOUS. Will affect performance.\n",
      "  warnings.warn('Input array is not C_CONTIGUOUS. ' 'Will affect performance.')\n"
     ]
    },
    {
     "name": "stdout",
     "output_type": "stream",
     "text": [
      "/Volumes/Thalassa/CORA_SHDR_rg/CORA_SHDR_201409_rg.nc done\n"
     ]
    },
    {
     "name": "stderr",
     "output_type": "stream",
     "text": [
      "/Users/ignasi/miniconda3/envs/xesmf_env/lib/python3.7/site-packages/xesmf/smm.py:130: UserWarning: Input array is not C_CONTIGUOUS. Will affect performance.\n",
      "  warnings.warn('Input array is not C_CONTIGUOUS. ' 'Will affect performance.')\n"
     ]
    },
    {
     "name": "stdout",
     "output_type": "stream",
     "text": [
      "/Volumes/Thalassa/CORA_SHDR_rg/CORA_SHDR_201410_rg.nc done\n"
     ]
    },
    {
     "name": "stderr",
     "output_type": "stream",
     "text": [
      "/Users/ignasi/miniconda3/envs/xesmf_env/lib/python3.7/site-packages/xesmf/smm.py:130: UserWarning: Input array is not C_CONTIGUOUS. Will affect performance.\n",
      "  warnings.warn('Input array is not C_CONTIGUOUS. ' 'Will affect performance.')\n"
     ]
    },
    {
     "name": "stdout",
     "output_type": "stream",
     "text": [
      "/Volumes/Thalassa/CORA_SHDR_rg/CORA_SHDR_201411_rg.nc done\n"
     ]
    },
    {
     "name": "stderr",
     "output_type": "stream",
     "text": [
      "/Users/ignasi/miniconda3/envs/xesmf_env/lib/python3.7/site-packages/xesmf/smm.py:130: UserWarning: Input array is not C_CONTIGUOUS. Will affect performance.\n",
      "  warnings.warn('Input array is not C_CONTIGUOUS. ' 'Will affect performance.')\n"
     ]
    },
    {
     "name": "stdout",
     "output_type": "stream",
     "text": [
      "/Volumes/Thalassa/CORA_SHDR_rg/CORA_SHDR_201412_rg.nc done\n"
     ]
    },
    {
     "name": "stderr",
     "output_type": "stream",
     "text": [
      "/Users/ignasi/miniconda3/envs/xesmf_env/lib/python3.7/site-packages/xesmf/smm.py:130: UserWarning: Input array is not C_CONTIGUOUS. Will affect performance.\n",
      "  warnings.warn('Input array is not C_CONTIGUOUS. ' 'Will affect performance.')\n"
     ]
    },
    {
     "name": "stdout",
     "output_type": "stream",
     "text": [
      "/Volumes/Thalassa/CORA_SHDR_rg/CORA_SHDR_201501_rg.nc done\n"
     ]
    },
    {
     "name": "stderr",
     "output_type": "stream",
     "text": [
      "/Users/ignasi/miniconda3/envs/xesmf_env/lib/python3.7/site-packages/xesmf/smm.py:130: UserWarning: Input array is not C_CONTIGUOUS. Will affect performance.\n",
      "  warnings.warn('Input array is not C_CONTIGUOUS. ' 'Will affect performance.')\n"
     ]
    },
    {
     "name": "stdout",
     "output_type": "stream",
     "text": [
      "/Volumes/Thalassa/CORA_SHDR_rg/CORA_SHDR_201502_rg.nc done\n"
     ]
    },
    {
     "name": "stderr",
     "output_type": "stream",
     "text": [
      "/Users/ignasi/miniconda3/envs/xesmf_env/lib/python3.7/site-packages/xesmf/smm.py:130: UserWarning: Input array is not C_CONTIGUOUS. Will affect performance.\n",
      "  warnings.warn('Input array is not C_CONTIGUOUS. ' 'Will affect performance.')\n"
     ]
    },
    {
     "name": "stdout",
     "output_type": "stream",
     "text": [
      "/Volumes/Thalassa/CORA_SHDR_rg/CORA_SHDR_201503_rg.nc done\n"
     ]
    },
    {
     "name": "stderr",
     "output_type": "stream",
     "text": [
      "/Users/ignasi/miniconda3/envs/xesmf_env/lib/python3.7/site-packages/xesmf/smm.py:130: UserWarning: Input array is not C_CONTIGUOUS. Will affect performance.\n",
      "  warnings.warn('Input array is not C_CONTIGUOUS. ' 'Will affect performance.')\n"
     ]
    },
    {
     "name": "stdout",
     "output_type": "stream",
     "text": [
      "/Volumes/Thalassa/CORA_SHDR_rg/CORA_SHDR_201504_rg.nc done\n"
     ]
    },
    {
     "name": "stderr",
     "output_type": "stream",
     "text": [
      "/Users/ignasi/miniconda3/envs/xesmf_env/lib/python3.7/site-packages/xesmf/smm.py:130: UserWarning: Input array is not C_CONTIGUOUS. Will affect performance.\n",
      "  warnings.warn('Input array is not C_CONTIGUOUS. ' 'Will affect performance.')\n"
     ]
    },
    {
     "name": "stdout",
     "output_type": "stream",
     "text": [
      "/Volumes/Thalassa/CORA_SHDR_rg/CORA_SHDR_201505_rg.nc done\n"
     ]
    },
    {
     "name": "stderr",
     "output_type": "stream",
     "text": [
      "/Users/ignasi/miniconda3/envs/xesmf_env/lib/python3.7/site-packages/xesmf/smm.py:130: UserWarning: Input array is not C_CONTIGUOUS. Will affect performance.\n",
      "  warnings.warn('Input array is not C_CONTIGUOUS. ' 'Will affect performance.')\n"
     ]
    },
    {
     "name": "stdout",
     "output_type": "stream",
     "text": [
      "/Volumes/Thalassa/CORA_SHDR_rg/CORA_SHDR_201506_rg.nc done\n"
     ]
    },
    {
     "name": "stderr",
     "output_type": "stream",
     "text": [
      "/Users/ignasi/miniconda3/envs/xesmf_env/lib/python3.7/site-packages/xesmf/smm.py:130: UserWarning: Input array is not C_CONTIGUOUS. Will affect performance.\n",
      "  warnings.warn('Input array is not C_CONTIGUOUS. ' 'Will affect performance.')\n"
     ]
    },
    {
     "name": "stdout",
     "output_type": "stream",
     "text": [
      "/Volumes/Thalassa/CORA_SHDR_rg/CORA_SHDR_201507_rg.nc done\n"
     ]
    },
    {
     "name": "stderr",
     "output_type": "stream",
     "text": [
      "/Users/ignasi/miniconda3/envs/xesmf_env/lib/python3.7/site-packages/xesmf/smm.py:130: UserWarning: Input array is not C_CONTIGUOUS. Will affect performance.\n",
      "  warnings.warn('Input array is not C_CONTIGUOUS. ' 'Will affect performance.')\n"
     ]
    },
    {
     "name": "stdout",
     "output_type": "stream",
     "text": [
      "/Volumes/Thalassa/CORA_SHDR_rg/CORA_SHDR_201508_rg.nc done\n"
     ]
    },
    {
     "name": "stderr",
     "output_type": "stream",
     "text": [
      "/Users/ignasi/miniconda3/envs/xesmf_env/lib/python3.7/site-packages/xesmf/smm.py:130: UserWarning: Input array is not C_CONTIGUOUS. Will affect performance.\n",
      "  warnings.warn('Input array is not C_CONTIGUOUS. ' 'Will affect performance.')\n"
     ]
    },
    {
     "name": "stdout",
     "output_type": "stream",
     "text": [
      "/Volumes/Thalassa/CORA_SHDR_rg/CORA_SHDR_201509_rg.nc done\n"
     ]
    },
    {
     "name": "stderr",
     "output_type": "stream",
     "text": [
      "/Users/ignasi/miniconda3/envs/xesmf_env/lib/python3.7/site-packages/xesmf/smm.py:130: UserWarning: Input array is not C_CONTIGUOUS. Will affect performance.\n",
      "  warnings.warn('Input array is not C_CONTIGUOUS. ' 'Will affect performance.')\n"
     ]
    },
    {
     "name": "stdout",
     "output_type": "stream",
     "text": [
      "/Volumes/Thalassa/CORA_SHDR_rg/CORA_SHDR_201510_rg.nc done\n"
     ]
    },
    {
     "name": "stderr",
     "output_type": "stream",
     "text": [
      "/Users/ignasi/miniconda3/envs/xesmf_env/lib/python3.7/site-packages/xesmf/smm.py:130: UserWarning: Input array is not C_CONTIGUOUS. Will affect performance.\n",
      "  warnings.warn('Input array is not C_CONTIGUOUS. ' 'Will affect performance.')\n"
     ]
    },
    {
     "name": "stdout",
     "output_type": "stream",
     "text": [
      "/Volumes/Thalassa/CORA_SHDR_rg/CORA_SHDR_201511_rg.nc done\n"
     ]
    },
    {
     "name": "stderr",
     "output_type": "stream",
     "text": [
      "/Users/ignasi/miniconda3/envs/xesmf_env/lib/python3.7/site-packages/xesmf/smm.py:130: UserWarning: Input array is not C_CONTIGUOUS. Will affect performance.\n",
      "  warnings.warn('Input array is not C_CONTIGUOUS. ' 'Will affect performance.')\n"
     ]
    },
    {
     "name": "stdout",
     "output_type": "stream",
     "text": [
      "/Volumes/Thalassa/CORA_SHDR_rg/CORA_SHDR_201512_rg.nc done\n"
     ]
    },
    {
     "name": "stderr",
     "output_type": "stream",
     "text": [
      "/Users/ignasi/miniconda3/envs/xesmf_env/lib/python3.7/site-packages/xesmf/smm.py:130: UserWarning: Input array is not C_CONTIGUOUS. Will affect performance.\n",
      "  warnings.warn('Input array is not C_CONTIGUOUS. ' 'Will affect performance.')\n"
     ]
    },
    {
     "name": "stdout",
     "output_type": "stream",
     "text": [
      "/Volumes/Thalassa/CORA_SHDR_rg/CORA_SHDR_201601_rg.nc done\n"
     ]
    },
    {
     "name": "stderr",
     "output_type": "stream",
     "text": [
      "/Users/ignasi/miniconda3/envs/xesmf_env/lib/python3.7/site-packages/xesmf/smm.py:130: UserWarning: Input array is not C_CONTIGUOUS. Will affect performance.\n",
      "  warnings.warn('Input array is not C_CONTIGUOUS. ' 'Will affect performance.')\n"
     ]
    },
    {
     "name": "stdout",
     "output_type": "stream",
     "text": [
      "/Volumes/Thalassa/CORA_SHDR_rg/CORA_SHDR_201602_rg.nc done\n"
     ]
    },
    {
     "name": "stderr",
     "output_type": "stream",
     "text": [
      "/Users/ignasi/miniconda3/envs/xesmf_env/lib/python3.7/site-packages/xesmf/smm.py:130: UserWarning: Input array is not C_CONTIGUOUS. Will affect performance.\n",
      "  warnings.warn('Input array is not C_CONTIGUOUS. ' 'Will affect performance.')\n"
     ]
    },
    {
     "name": "stdout",
     "output_type": "stream",
     "text": [
      "/Volumes/Thalassa/CORA_SHDR_rg/CORA_SHDR_201603_rg.nc done\n"
     ]
    },
    {
     "name": "stderr",
     "output_type": "stream",
     "text": [
      "/Users/ignasi/miniconda3/envs/xesmf_env/lib/python3.7/site-packages/xesmf/smm.py:130: UserWarning: Input array is not C_CONTIGUOUS. Will affect performance.\n",
      "  warnings.warn('Input array is not C_CONTIGUOUS. ' 'Will affect performance.')\n"
     ]
    },
    {
     "name": "stdout",
     "output_type": "stream",
     "text": [
      "/Volumes/Thalassa/CORA_SHDR_rg/CORA_SHDR_201604_rg.nc done\n"
     ]
    },
    {
     "name": "stderr",
     "output_type": "stream",
     "text": [
      "/Users/ignasi/miniconda3/envs/xesmf_env/lib/python3.7/site-packages/xesmf/smm.py:130: UserWarning: Input array is not C_CONTIGUOUS. Will affect performance.\n",
      "  warnings.warn('Input array is not C_CONTIGUOUS. ' 'Will affect performance.')\n"
     ]
    },
    {
     "name": "stdout",
     "output_type": "stream",
     "text": [
      "/Volumes/Thalassa/CORA_SHDR_rg/CORA_SHDR_201605_rg.nc done\n"
     ]
    },
    {
     "name": "stderr",
     "output_type": "stream",
     "text": [
      "/Users/ignasi/miniconda3/envs/xesmf_env/lib/python3.7/site-packages/xesmf/smm.py:130: UserWarning: Input array is not C_CONTIGUOUS. Will affect performance.\n",
      "  warnings.warn('Input array is not C_CONTIGUOUS. ' 'Will affect performance.')\n"
     ]
    },
    {
     "name": "stdout",
     "output_type": "stream",
     "text": [
      "/Volumes/Thalassa/CORA_SHDR_rg/CORA_SHDR_201606_rg.nc done\n"
     ]
    },
    {
     "name": "stderr",
     "output_type": "stream",
     "text": [
      "/Users/ignasi/miniconda3/envs/xesmf_env/lib/python3.7/site-packages/xesmf/smm.py:130: UserWarning: Input array is not C_CONTIGUOUS. Will affect performance.\n",
      "  warnings.warn('Input array is not C_CONTIGUOUS. ' 'Will affect performance.')\n"
     ]
    },
    {
     "name": "stdout",
     "output_type": "stream",
     "text": [
      "/Volumes/Thalassa/CORA_SHDR_rg/CORA_SHDR_201607_rg.nc done\n"
     ]
    },
    {
     "name": "stderr",
     "output_type": "stream",
     "text": [
      "/Users/ignasi/miniconda3/envs/xesmf_env/lib/python3.7/site-packages/xesmf/smm.py:130: UserWarning: Input array is not C_CONTIGUOUS. Will affect performance.\n",
      "  warnings.warn('Input array is not C_CONTIGUOUS. ' 'Will affect performance.')\n"
     ]
    },
    {
     "name": "stdout",
     "output_type": "stream",
     "text": [
      "/Volumes/Thalassa/CORA_SHDR_rg/CORA_SHDR_201608_rg.nc done\n"
     ]
    },
    {
     "name": "stderr",
     "output_type": "stream",
     "text": [
      "/Users/ignasi/miniconda3/envs/xesmf_env/lib/python3.7/site-packages/xesmf/smm.py:130: UserWarning: Input array is not C_CONTIGUOUS. Will affect performance.\n",
      "  warnings.warn('Input array is not C_CONTIGUOUS. ' 'Will affect performance.')\n"
     ]
    },
    {
     "name": "stdout",
     "output_type": "stream",
     "text": [
      "/Volumes/Thalassa/CORA_SHDR_rg/CORA_SHDR_201609_rg.nc done\n"
     ]
    },
    {
     "name": "stderr",
     "output_type": "stream",
     "text": [
      "/Users/ignasi/miniconda3/envs/xesmf_env/lib/python3.7/site-packages/xesmf/smm.py:130: UserWarning: Input array is not C_CONTIGUOUS. Will affect performance.\n",
      "  warnings.warn('Input array is not C_CONTIGUOUS. ' 'Will affect performance.')\n"
     ]
    },
    {
     "name": "stdout",
     "output_type": "stream",
     "text": [
      "/Volumes/Thalassa/CORA_SHDR_rg/CORA_SHDR_201610_rg.nc done\n"
     ]
    },
    {
     "name": "stderr",
     "output_type": "stream",
     "text": [
      "/Users/ignasi/miniconda3/envs/xesmf_env/lib/python3.7/site-packages/xesmf/smm.py:130: UserWarning: Input array is not C_CONTIGUOUS. Will affect performance.\n",
      "  warnings.warn('Input array is not C_CONTIGUOUS. ' 'Will affect performance.')\n"
     ]
    },
    {
     "name": "stdout",
     "output_type": "stream",
     "text": [
      "/Volumes/Thalassa/CORA_SHDR_rg/CORA_SHDR_201611_rg.nc done\n"
     ]
    },
    {
     "name": "stderr",
     "output_type": "stream",
     "text": [
      "/Users/ignasi/miniconda3/envs/xesmf_env/lib/python3.7/site-packages/xesmf/smm.py:130: UserWarning: Input array is not C_CONTIGUOUS. Will affect performance.\n",
      "  warnings.warn('Input array is not C_CONTIGUOUS. ' 'Will affect performance.')\n"
     ]
    },
    {
     "name": "stdout",
     "output_type": "stream",
     "text": [
      "/Volumes/Thalassa/CORA_SHDR_rg/CORA_SHDR_201612_rg.nc done\n"
     ]
    },
    {
     "name": "stderr",
     "output_type": "stream",
     "text": [
      "/Users/ignasi/miniconda3/envs/xesmf_env/lib/python3.7/site-packages/xesmf/smm.py:130: UserWarning: Input array is not C_CONTIGUOUS. Will affect performance.\n",
      "  warnings.warn('Input array is not C_CONTIGUOUS. ' 'Will affect performance.')\n"
     ]
    },
    {
     "name": "stdout",
     "output_type": "stream",
     "text": [
      "/Volumes/Thalassa/CORA_SHDR_rg/CORA_SHDR_201701_rg.nc done\n"
     ]
    },
    {
     "name": "stderr",
     "output_type": "stream",
     "text": [
      "/Users/ignasi/miniconda3/envs/xesmf_env/lib/python3.7/site-packages/xesmf/smm.py:130: UserWarning: Input array is not C_CONTIGUOUS. Will affect performance.\n",
      "  warnings.warn('Input array is not C_CONTIGUOUS. ' 'Will affect performance.')\n"
     ]
    },
    {
     "name": "stdout",
     "output_type": "stream",
     "text": [
      "/Volumes/Thalassa/CORA_SHDR_rg/CORA_SHDR_201702_rg.nc done\n"
     ]
    },
    {
     "name": "stderr",
     "output_type": "stream",
     "text": [
      "/Users/ignasi/miniconda3/envs/xesmf_env/lib/python3.7/site-packages/xesmf/smm.py:130: UserWarning: Input array is not C_CONTIGUOUS. Will affect performance.\n",
      "  warnings.warn('Input array is not C_CONTIGUOUS. ' 'Will affect performance.')\n"
     ]
    },
    {
     "name": "stdout",
     "output_type": "stream",
     "text": [
      "/Volumes/Thalassa/CORA_SHDR_rg/CORA_SHDR_201703_rg.nc done\n"
     ]
    },
    {
     "name": "stderr",
     "output_type": "stream",
     "text": [
      "/Users/ignasi/miniconda3/envs/xesmf_env/lib/python3.7/site-packages/xesmf/smm.py:130: UserWarning: Input array is not C_CONTIGUOUS. Will affect performance.\n",
      "  warnings.warn('Input array is not C_CONTIGUOUS. ' 'Will affect performance.')\n"
     ]
    },
    {
     "name": "stdout",
     "output_type": "stream",
     "text": [
      "/Volumes/Thalassa/CORA_SHDR_rg/CORA_SHDR_201704_rg.nc done\n"
     ]
    },
    {
     "name": "stderr",
     "output_type": "stream",
     "text": [
      "/Users/ignasi/miniconda3/envs/xesmf_env/lib/python3.7/site-packages/xesmf/smm.py:130: UserWarning: Input array is not C_CONTIGUOUS. Will affect performance.\n",
      "  warnings.warn('Input array is not C_CONTIGUOUS. ' 'Will affect performance.')\n"
     ]
    },
    {
     "name": "stdout",
     "output_type": "stream",
     "text": [
      "/Volumes/Thalassa/CORA_SHDR_rg/CORA_SHDR_201705_rg.nc done\n"
     ]
    },
    {
     "name": "stderr",
     "output_type": "stream",
     "text": [
      "/Users/ignasi/miniconda3/envs/xesmf_env/lib/python3.7/site-packages/xesmf/smm.py:130: UserWarning: Input array is not C_CONTIGUOUS. Will affect performance.\n",
      "  warnings.warn('Input array is not C_CONTIGUOUS. ' 'Will affect performance.')\n"
     ]
    },
    {
     "name": "stdout",
     "output_type": "stream",
     "text": [
      "/Volumes/Thalassa/CORA_SHDR_rg/CORA_SHDR_201706_rg.nc done\n"
     ]
    },
    {
     "name": "stderr",
     "output_type": "stream",
     "text": [
      "/Users/ignasi/miniconda3/envs/xesmf_env/lib/python3.7/site-packages/xesmf/smm.py:130: UserWarning: Input array is not C_CONTIGUOUS. Will affect performance.\n",
      "  warnings.warn('Input array is not C_CONTIGUOUS. ' 'Will affect performance.')\n"
     ]
    },
    {
     "name": "stdout",
     "output_type": "stream",
     "text": [
      "/Volumes/Thalassa/CORA_SHDR_rg/CORA_SHDR_201707_rg.nc done\n"
     ]
    },
    {
     "name": "stderr",
     "output_type": "stream",
     "text": [
      "/Users/ignasi/miniconda3/envs/xesmf_env/lib/python3.7/site-packages/xesmf/smm.py:130: UserWarning: Input array is not C_CONTIGUOUS. Will affect performance.\n",
      "  warnings.warn('Input array is not C_CONTIGUOUS. ' 'Will affect performance.')\n"
     ]
    },
    {
     "name": "stdout",
     "output_type": "stream",
     "text": [
      "/Volumes/Thalassa/CORA_SHDR_rg/CORA_SHDR_201708_rg.nc done\n"
     ]
    },
    {
     "name": "stderr",
     "output_type": "stream",
     "text": [
      "/Users/ignasi/miniconda3/envs/xesmf_env/lib/python3.7/site-packages/xesmf/smm.py:130: UserWarning: Input array is not C_CONTIGUOUS. Will affect performance.\n",
      "  warnings.warn('Input array is not C_CONTIGUOUS. ' 'Will affect performance.')\n"
     ]
    },
    {
     "name": "stdout",
     "output_type": "stream",
     "text": [
      "/Volumes/Thalassa/CORA_SHDR_rg/CORA_SHDR_201709_rg.nc done\n"
     ]
    },
    {
     "name": "stderr",
     "output_type": "stream",
     "text": [
      "/Users/ignasi/miniconda3/envs/xesmf_env/lib/python3.7/site-packages/xesmf/smm.py:130: UserWarning: Input array is not C_CONTIGUOUS. Will affect performance.\n",
      "  warnings.warn('Input array is not C_CONTIGUOUS. ' 'Will affect performance.')\n"
     ]
    },
    {
     "name": "stdout",
     "output_type": "stream",
     "text": [
      "/Volumes/Thalassa/CORA_SHDR_rg/CORA_SHDR_201710_rg.nc done\n"
     ]
    },
    {
     "name": "stderr",
     "output_type": "stream",
     "text": [
      "/Users/ignasi/miniconda3/envs/xesmf_env/lib/python3.7/site-packages/xesmf/smm.py:130: UserWarning: Input array is not C_CONTIGUOUS. Will affect performance.\n",
      "  warnings.warn('Input array is not C_CONTIGUOUS. ' 'Will affect performance.')\n"
     ]
    },
    {
     "name": "stdout",
     "output_type": "stream",
     "text": [
      "/Volumes/Thalassa/CORA_SHDR_rg/CORA_SHDR_201711_rg.nc done\n"
     ]
    },
    {
     "name": "stderr",
     "output_type": "stream",
     "text": [
      "/Users/ignasi/miniconda3/envs/xesmf_env/lib/python3.7/site-packages/xesmf/smm.py:130: UserWarning: Input array is not C_CONTIGUOUS. Will affect performance.\n",
      "  warnings.warn('Input array is not C_CONTIGUOUS. ' 'Will affect performance.')\n"
     ]
    },
    {
     "name": "stdout",
     "output_type": "stream",
     "text": [
      "/Volumes/Thalassa/CORA_SHDR_rg/CORA_SHDR_201712_rg.nc done\n"
     ]
    },
    {
     "name": "stderr",
     "output_type": "stream",
     "text": [
      "/Users/ignasi/miniconda3/envs/xesmf_env/lib/python3.7/site-packages/xesmf/smm.py:130: UserWarning: Input array is not C_CONTIGUOUS. Will affect performance.\n",
      "  warnings.warn('Input array is not C_CONTIGUOUS. ' 'Will affect performance.')\n"
     ]
    },
    {
     "name": "stdout",
     "output_type": "stream",
     "text": [
      "/Volumes/Thalassa/CORA_SHDR_rg/CORA_SHDR_201801_rg.nc done\n"
     ]
    },
    {
     "name": "stderr",
     "output_type": "stream",
     "text": [
      "/Users/ignasi/miniconda3/envs/xesmf_env/lib/python3.7/site-packages/xesmf/smm.py:130: UserWarning: Input array is not C_CONTIGUOUS. Will affect performance.\n",
      "  warnings.warn('Input array is not C_CONTIGUOUS. ' 'Will affect performance.')\n"
     ]
    },
    {
     "name": "stdout",
     "output_type": "stream",
     "text": [
      "/Volumes/Thalassa/CORA_SHDR_rg/CORA_SHDR_201802_rg.nc done\n"
     ]
    },
    {
     "name": "stderr",
     "output_type": "stream",
     "text": [
      "/Users/ignasi/miniconda3/envs/xesmf_env/lib/python3.7/site-packages/xesmf/smm.py:130: UserWarning: Input array is not C_CONTIGUOUS. Will affect performance.\n",
      "  warnings.warn('Input array is not C_CONTIGUOUS. ' 'Will affect performance.')\n"
     ]
    },
    {
     "name": "stdout",
     "output_type": "stream",
     "text": [
      "/Volumes/Thalassa/CORA_SHDR_rg/CORA_SHDR_201803_rg.nc done\n"
     ]
    },
    {
     "name": "stderr",
     "output_type": "stream",
     "text": [
      "/Users/ignasi/miniconda3/envs/xesmf_env/lib/python3.7/site-packages/xesmf/smm.py:130: UserWarning: Input array is not C_CONTIGUOUS. Will affect performance.\n",
      "  warnings.warn('Input array is not C_CONTIGUOUS. ' 'Will affect performance.')\n"
     ]
    },
    {
     "name": "stdout",
     "output_type": "stream",
     "text": [
      "/Volumes/Thalassa/CORA_SHDR_rg/CORA_SHDR_201804_rg.nc done\n"
     ]
    },
    {
     "name": "stderr",
     "output_type": "stream",
     "text": [
      "/Users/ignasi/miniconda3/envs/xesmf_env/lib/python3.7/site-packages/xesmf/smm.py:130: UserWarning: Input array is not C_CONTIGUOUS. Will affect performance.\n",
      "  warnings.warn('Input array is not C_CONTIGUOUS. ' 'Will affect performance.')\n"
     ]
    },
    {
     "name": "stdout",
     "output_type": "stream",
     "text": [
      "/Volumes/Thalassa/CORA_SHDR_rg/CORA_SHDR_201805_rg.nc done\n"
     ]
    },
    {
     "name": "stderr",
     "output_type": "stream",
     "text": [
      "/Users/ignasi/miniconda3/envs/xesmf_env/lib/python3.7/site-packages/xesmf/smm.py:130: UserWarning: Input array is not C_CONTIGUOUS. Will affect performance.\n",
      "  warnings.warn('Input array is not C_CONTIGUOUS. ' 'Will affect performance.')\n"
     ]
    },
    {
     "name": "stdout",
     "output_type": "stream",
     "text": [
      "/Volumes/Thalassa/CORA_SHDR_rg/CORA_SHDR_201806_rg.nc done\n"
     ]
    },
    {
     "name": "stderr",
     "output_type": "stream",
     "text": [
      "/Users/ignasi/miniconda3/envs/xesmf_env/lib/python3.7/site-packages/xesmf/smm.py:130: UserWarning: Input array is not C_CONTIGUOUS. Will affect performance.\n",
      "  warnings.warn('Input array is not C_CONTIGUOUS. ' 'Will affect performance.')\n"
     ]
    },
    {
     "name": "stdout",
     "output_type": "stream",
     "text": [
      "/Volumes/Thalassa/CORA_SHDR_rg/CORA_SHDR_201807_rg.nc done\n"
     ]
    },
    {
     "name": "stderr",
     "output_type": "stream",
     "text": [
      "/Users/ignasi/miniconda3/envs/xesmf_env/lib/python3.7/site-packages/xesmf/smm.py:130: UserWarning: Input array is not C_CONTIGUOUS. Will affect performance.\n",
      "  warnings.warn('Input array is not C_CONTIGUOUS. ' 'Will affect performance.')\n"
     ]
    },
    {
     "name": "stdout",
     "output_type": "stream",
     "text": [
      "/Volumes/Thalassa/CORA_SHDR_rg/CORA_SHDR_201808_rg.nc done\n"
     ]
    },
    {
     "name": "stderr",
     "output_type": "stream",
     "text": [
      "/Users/ignasi/miniconda3/envs/xesmf_env/lib/python3.7/site-packages/xesmf/smm.py:130: UserWarning: Input array is not C_CONTIGUOUS. Will affect performance.\n",
      "  warnings.warn('Input array is not C_CONTIGUOUS. ' 'Will affect performance.')\n"
     ]
    },
    {
     "name": "stdout",
     "output_type": "stream",
     "text": [
      "/Volumes/Thalassa/CORA_SHDR_rg/CORA_SHDR_201809_rg.nc done\n"
     ]
    },
    {
     "name": "stderr",
     "output_type": "stream",
     "text": [
      "/Users/ignasi/miniconda3/envs/xesmf_env/lib/python3.7/site-packages/xesmf/smm.py:130: UserWarning: Input array is not C_CONTIGUOUS. Will affect performance.\n",
      "  warnings.warn('Input array is not C_CONTIGUOUS. ' 'Will affect performance.')\n"
     ]
    },
    {
     "name": "stdout",
     "output_type": "stream",
     "text": [
      "/Volumes/Thalassa/CORA_SHDR_rg/CORA_SHDR_201810_rg.nc done\n"
     ]
    },
    {
     "name": "stderr",
     "output_type": "stream",
     "text": [
      "/Users/ignasi/miniconda3/envs/xesmf_env/lib/python3.7/site-packages/xesmf/smm.py:130: UserWarning: Input array is not C_CONTIGUOUS. Will affect performance.\n",
      "  warnings.warn('Input array is not C_CONTIGUOUS. ' 'Will affect performance.')\n"
     ]
    },
    {
     "name": "stdout",
     "output_type": "stream",
     "text": [
      "/Volumes/Thalassa/CORA_SHDR_rg/CORA_SHDR_201811_rg.nc done\n"
     ]
    },
    {
     "name": "stderr",
     "output_type": "stream",
     "text": [
      "/Users/ignasi/miniconda3/envs/xesmf_env/lib/python3.7/site-packages/xesmf/smm.py:130: UserWarning: Input array is not C_CONTIGUOUS. Will affect performance.\n",
      "  warnings.warn('Input array is not C_CONTIGUOUS. ' 'Will affect performance.')\n"
     ]
    },
    {
     "name": "stdout",
     "output_type": "stream",
     "text": [
      "/Volumes/Thalassa/CORA_SHDR_rg/CORA_SHDR_201812_rg.nc done\n"
     ]
    },
    {
     "name": "stderr",
     "output_type": "stream",
     "text": [
      "/Users/ignasi/miniconda3/envs/xesmf_env/lib/python3.7/site-packages/xesmf/smm.py:130: UserWarning: Input array is not C_CONTIGUOUS. Will affect performance.\n",
      "  warnings.warn('Input array is not C_CONTIGUOUS. ' 'Will affect performance.')\n"
     ]
    },
    {
     "name": "stdout",
     "output_type": "stream",
     "text": [
      "/Volumes/Thalassa/CORA_SHDR_rg/CORA_SHDR_201901_rg.nc done\n"
     ]
    },
    {
     "name": "stderr",
     "output_type": "stream",
     "text": [
      "/Users/ignasi/miniconda3/envs/xesmf_env/lib/python3.7/site-packages/xesmf/smm.py:130: UserWarning: Input array is not C_CONTIGUOUS. Will affect performance.\n",
      "  warnings.warn('Input array is not C_CONTIGUOUS. ' 'Will affect performance.')\n"
     ]
    },
    {
     "name": "stdout",
     "output_type": "stream",
     "text": [
      "/Volumes/Thalassa/CORA_SHDR_rg/CORA_SHDR_201902_rg.nc done\n"
     ]
    },
    {
     "name": "stderr",
     "output_type": "stream",
     "text": [
      "/Users/ignasi/miniconda3/envs/xesmf_env/lib/python3.7/site-packages/xesmf/smm.py:130: UserWarning: Input array is not C_CONTIGUOUS. Will affect performance.\n",
      "  warnings.warn('Input array is not C_CONTIGUOUS. ' 'Will affect performance.')\n"
     ]
    },
    {
     "name": "stdout",
     "output_type": "stream",
     "text": [
      "/Volumes/Thalassa/CORA_SHDR_rg/CORA_SHDR_201903_rg.nc done\n"
     ]
    },
    {
     "name": "stderr",
     "output_type": "stream",
     "text": [
      "/Users/ignasi/miniconda3/envs/xesmf_env/lib/python3.7/site-packages/xesmf/smm.py:130: UserWarning: Input array is not C_CONTIGUOUS. Will affect performance.\n",
      "  warnings.warn('Input array is not C_CONTIGUOUS. ' 'Will affect performance.')\n"
     ]
    },
    {
     "name": "stdout",
     "output_type": "stream",
     "text": [
      "/Volumes/Thalassa/CORA_SHDR_rg/CORA_SHDR_201904_rg.nc done\n"
     ]
    },
    {
     "name": "stderr",
     "output_type": "stream",
     "text": [
      "/Users/ignasi/miniconda3/envs/xesmf_env/lib/python3.7/site-packages/xesmf/smm.py:130: UserWarning: Input array is not C_CONTIGUOUS. Will affect performance.\n",
      "  warnings.warn('Input array is not C_CONTIGUOUS. ' 'Will affect performance.')\n"
     ]
    },
    {
     "name": "stdout",
     "output_type": "stream",
     "text": [
      "/Volumes/Thalassa/CORA_SHDR_rg/CORA_SHDR_201905_rg.nc done\n"
     ]
    },
    {
     "name": "stderr",
     "output_type": "stream",
     "text": [
      "/Users/ignasi/miniconda3/envs/xesmf_env/lib/python3.7/site-packages/xesmf/smm.py:130: UserWarning: Input array is not C_CONTIGUOUS. Will affect performance.\n",
      "  warnings.warn('Input array is not C_CONTIGUOUS. ' 'Will affect performance.')\n"
     ]
    },
    {
     "name": "stdout",
     "output_type": "stream",
     "text": [
      "/Volumes/Thalassa/CORA_SHDR_rg/CORA_SHDR_201906_rg.nc done\n"
     ]
    },
    {
     "name": "stderr",
     "output_type": "stream",
     "text": [
      "/Users/ignasi/miniconda3/envs/xesmf_env/lib/python3.7/site-packages/xesmf/smm.py:130: UserWarning: Input array is not C_CONTIGUOUS. Will affect performance.\n",
      "  warnings.warn('Input array is not C_CONTIGUOUS. ' 'Will affect performance.')\n"
     ]
    },
    {
     "name": "stdout",
     "output_type": "stream",
     "text": [
      "/Volumes/Thalassa/CORA_SHDR_rg/CORA_SHDR_201907_rg.nc done\n"
     ]
    },
    {
     "name": "stderr",
     "output_type": "stream",
     "text": [
      "/Users/ignasi/miniconda3/envs/xesmf_env/lib/python3.7/site-packages/xesmf/smm.py:130: UserWarning: Input array is not C_CONTIGUOUS. Will affect performance.\n",
      "  warnings.warn('Input array is not C_CONTIGUOUS. ' 'Will affect performance.')\n"
     ]
    },
    {
     "name": "stdout",
     "output_type": "stream",
     "text": [
      "/Volumes/Thalassa/CORA_SHDR_rg/CORA_SHDR_201908_rg.nc done\n"
     ]
    },
    {
     "name": "stderr",
     "output_type": "stream",
     "text": [
      "/Users/ignasi/miniconda3/envs/xesmf_env/lib/python3.7/site-packages/xesmf/smm.py:130: UserWarning: Input array is not C_CONTIGUOUS. Will affect performance.\n",
      "  warnings.warn('Input array is not C_CONTIGUOUS. ' 'Will affect performance.')\n"
     ]
    },
    {
     "name": "stdout",
     "output_type": "stream",
     "text": [
      "/Volumes/Thalassa/CORA_SHDR_rg/CORA_SHDR_201909_rg.nc done\n"
     ]
    },
    {
     "name": "stderr",
     "output_type": "stream",
     "text": [
      "/Users/ignasi/miniconda3/envs/xesmf_env/lib/python3.7/site-packages/xesmf/smm.py:130: UserWarning: Input array is not C_CONTIGUOUS. Will affect performance.\n",
      "  warnings.warn('Input array is not C_CONTIGUOUS. ' 'Will affect performance.')\n"
     ]
    },
    {
     "name": "stdout",
     "output_type": "stream",
     "text": [
      "/Volumes/Thalassa/CORA_SHDR_rg/CORA_SHDR_201910_rg.nc done\n"
     ]
    },
    {
     "name": "stderr",
     "output_type": "stream",
     "text": [
      "/Users/ignasi/miniconda3/envs/xesmf_env/lib/python3.7/site-packages/xesmf/smm.py:130: UserWarning: Input array is not C_CONTIGUOUS. Will affect performance.\n",
      "  warnings.warn('Input array is not C_CONTIGUOUS. ' 'Will affect performance.')\n"
     ]
    },
    {
     "name": "stdout",
     "output_type": "stream",
     "text": [
      "/Volumes/Thalassa/CORA_SHDR_rg/CORA_SHDR_201911_rg.nc done\n"
     ]
    },
    {
     "name": "stderr",
     "output_type": "stream",
     "text": [
      "/Users/ignasi/miniconda3/envs/xesmf_env/lib/python3.7/site-packages/xesmf/smm.py:130: UserWarning: Input array is not C_CONTIGUOUS. Will affect performance.\n",
      "  warnings.warn('Input array is not C_CONTIGUOUS. ' 'Will affect performance.')\n"
     ]
    },
    {
     "name": "stdout",
     "output_type": "stream",
     "text": [
      "/Volumes/Thalassa/CORA_SHDR_rg/CORA_SHDR_201912_rg.nc done\n"
     ]
    },
    {
     "name": "stderr",
     "output_type": "stream",
     "text": [
      "/Users/ignasi/miniconda3/envs/xesmf_env/lib/python3.7/site-packages/xesmf/smm.py:130: UserWarning: Input array is not C_CONTIGUOUS. Will affect performance.\n",
      "  warnings.warn('Input array is not C_CONTIGUOUS. ' 'Will affect performance.')\n"
     ]
    },
    {
     "name": "stdout",
     "output_type": "stream",
     "text": [
      "/Volumes/Thalassa/CORA_SHDR_rg/CORA_SHDR_202001_rg.nc done\n"
     ]
    },
    {
     "name": "stderr",
     "output_type": "stream",
     "text": [
      "/Users/ignasi/miniconda3/envs/xesmf_env/lib/python3.7/site-packages/xesmf/smm.py:130: UserWarning: Input array is not C_CONTIGUOUS. Will affect performance.\n",
      "  warnings.warn('Input array is not C_CONTIGUOUS. ' 'Will affect performance.')\n"
     ]
    },
    {
     "name": "stdout",
     "output_type": "stream",
     "text": [
      "/Volumes/Thalassa/CORA_SHDR_rg/CORA_SHDR_202002_rg.nc done\n"
     ]
    },
    {
     "name": "stderr",
     "output_type": "stream",
     "text": [
      "/Users/ignasi/miniconda3/envs/xesmf_env/lib/python3.7/site-packages/xesmf/smm.py:130: UserWarning: Input array is not C_CONTIGUOUS. Will affect performance.\n",
      "  warnings.warn('Input array is not C_CONTIGUOUS. ' 'Will affect performance.')\n"
     ]
    },
    {
     "name": "stdout",
     "output_type": "stream",
     "text": [
      "/Volumes/Thalassa/CORA_SHDR_rg/CORA_SHDR_202003_rg.nc done\n"
     ]
    },
    {
     "name": "stderr",
     "output_type": "stream",
     "text": [
      "/Users/ignasi/miniconda3/envs/xesmf_env/lib/python3.7/site-packages/xesmf/smm.py:130: UserWarning: Input array is not C_CONTIGUOUS. Will affect performance.\n",
      "  warnings.warn('Input array is not C_CONTIGUOUS. ' 'Will affect performance.')\n"
     ]
    },
    {
     "name": "stdout",
     "output_type": "stream",
     "text": [
      "/Volumes/Thalassa/CORA_SHDR_rg/CORA_SHDR_202004_rg.nc done\n"
     ]
    },
    {
     "name": "stderr",
     "output_type": "stream",
     "text": [
      "/Users/ignasi/miniconda3/envs/xesmf_env/lib/python3.7/site-packages/xesmf/smm.py:130: UserWarning: Input array is not C_CONTIGUOUS. Will affect performance.\n",
      "  warnings.warn('Input array is not C_CONTIGUOUS. ' 'Will affect performance.')\n"
     ]
    },
    {
     "name": "stdout",
     "output_type": "stream",
     "text": [
      "/Volumes/Thalassa/CORA_SHDR_rg/CORA_SHDR_202005_rg.nc done\n"
     ]
    },
    {
     "name": "stderr",
     "output_type": "stream",
     "text": [
      "/Users/ignasi/miniconda3/envs/xesmf_env/lib/python3.7/site-packages/xesmf/smm.py:130: UserWarning: Input array is not C_CONTIGUOUS. Will affect performance.\n",
      "  warnings.warn('Input array is not C_CONTIGUOUS. ' 'Will affect performance.')\n"
     ]
    },
    {
     "name": "stdout",
     "output_type": "stream",
     "text": [
      "/Volumes/Thalassa/CORA_SHDR_rg/CORA_SHDR_202006_rg.nc done\n"
     ]
    },
    {
     "name": "stderr",
     "output_type": "stream",
     "text": [
      "/Users/ignasi/miniconda3/envs/xesmf_env/lib/python3.7/site-packages/xesmf/smm.py:130: UserWarning: Input array is not C_CONTIGUOUS. Will affect performance.\n",
      "  warnings.warn('Input array is not C_CONTIGUOUS. ' 'Will affect performance.')\n"
     ]
    },
    {
     "name": "stdout",
     "output_type": "stream",
     "text": [
      "/Volumes/Thalassa/CORA_SHDR_rg/CORA_SHDR_202007_rg.nc done\n"
     ]
    },
    {
     "name": "stderr",
     "output_type": "stream",
     "text": [
      "/Users/ignasi/miniconda3/envs/xesmf_env/lib/python3.7/site-packages/xesmf/smm.py:130: UserWarning: Input array is not C_CONTIGUOUS. Will affect performance.\n",
      "  warnings.warn('Input array is not C_CONTIGUOUS. ' 'Will affect performance.')\n"
     ]
    },
    {
     "name": "stdout",
     "output_type": "stream",
     "text": [
      "/Volumes/Thalassa/CORA_SHDR_rg/CORA_SHDR_202008_rg.nc done\n"
     ]
    },
    {
     "name": "stderr",
     "output_type": "stream",
     "text": [
      "/Users/ignasi/miniconda3/envs/xesmf_env/lib/python3.7/site-packages/xesmf/smm.py:130: UserWarning: Input array is not C_CONTIGUOUS. Will affect performance.\n",
      "  warnings.warn('Input array is not C_CONTIGUOUS. ' 'Will affect performance.')\n"
     ]
    },
    {
     "name": "stdout",
     "output_type": "stream",
     "text": [
      "/Volumes/Thalassa/CORA_SHDR_rg/CORA_SHDR_202009_rg.nc done\n"
     ]
    },
    {
     "name": "stderr",
     "output_type": "stream",
     "text": [
      "/Users/ignasi/miniconda3/envs/xesmf_env/lib/python3.7/site-packages/xesmf/smm.py:130: UserWarning: Input array is not C_CONTIGUOUS. Will affect performance.\n",
      "  warnings.warn('Input array is not C_CONTIGUOUS. ' 'Will affect performance.')\n"
     ]
    },
    {
     "name": "stdout",
     "output_type": "stream",
     "text": [
      "/Volumes/Thalassa/CORA_SHDR_rg/CORA_SHDR_202010_rg.nc done\n"
     ]
    },
    {
     "name": "stderr",
     "output_type": "stream",
     "text": [
      "/Users/ignasi/miniconda3/envs/xesmf_env/lib/python3.7/site-packages/xesmf/smm.py:130: UserWarning: Input array is not C_CONTIGUOUS. Will affect performance.\n",
      "  warnings.warn('Input array is not C_CONTIGUOUS. ' 'Will affect performance.')\n"
     ]
    },
    {
     "name": "stdout",
     "output_type": "stream",
     "text": [
      "/Volumes/Thalassa/CORA_SHDR_rg/CORA_SHDR_202011_rg.nc done\n"
     ]
    },
    {
     "name": "stderr",
     "output_type": "stream",
     "text": [
      "/Users/ignasi/miniconda3/envs/xesmf_env/lib/python3.7/site-packages/xesmf/smm.py:130: UserWarning: Input array is not C_CONTIGUOUS. Will affect performance.\n",
      "  warnings.warn('Input array is not C_CONTIGUOUS. ' 'Will affect performance.')\n"
     ]
    },
    {
     "name": "stdout",
     "output_type": "stream",
     "text": [
      "/Volumes/Thalassa/CORA_SHDR_rg/CORA_SHDR_202012_rg.nc done\n"
     ]
    },
    {
     "name": "stderr",
     "output_type": "stream",
     "text": [
      "/Users/ignasi/miniconda3/envs/xesmf_env/lib/python3.7/site-packages/xesmf/smm.py:130: UserWarning: Input array is not C_CONTIGUOUS. Will affect performance.\n",
      "  warnings.warn('Input array is not C_CONTIGUOUS. ' 'Will affect performance.')\n"
     ]
    },
    {
     "name": "stdout",
     "output_type": "stream",
     "text": [
      "/Volumes/Thalassa/CORA_SHDR_rg/CORA_SHDR_202101_rg.nc done\n"
     ]
    },
    {
     "name": "stderr",
     "output_type": "stream",
     "text": [
      "/Users/ignasi/miniconda3/envs/xesmf_env/lib/python3.7/site-packages/xesmf/smm.py:130: UserWarning: Input array is not C_CONTIGUOUS. Will affect performance.\n",
      "  warnings.warn('Input array is not C_CONTIGUOUS. ' 'Will affect performance.')\n"
     ]
    },
    {
     "name": "stdout",
     "output_type": "stream",
     "text": [
      "/Volumes/Thalassa/CORA_SHDR_rg/CORA_SHDR_202102_rg.nc done\n"
     ]
    },
    {
     "name": "stderr",
     "output_type": "stream",
     "text": [
      "/Users/ignasi/miniconda3/envs/xesmf_env/lib/python3.7/site-packages/xesmf/smm.py:130: UserWarning: Input array is not C_CONTIGUOUS. Will affect performance.\n",
      "  warnings.warn('Input array is not C_CONTIGUOUS. ' 'Will affect performance.')\n"
     ]
    },
    {
     "name": "stdout",
     "output_type": "stream",
     "text": [
      "/Volumes/Thalassa/CORA_SHDR_rg/CORA_SHDR_202103_rg.nc done\n"
     ]
    },
    {
     "name": "stderr",
     "output_type": "stream",
     "text": [
      "/Users/ignasi/miniconda3/envs/xesmf_env/lib/python3.7/site-packages/xesmf/smm.py:130: UserWarning: Input array is not C_CONTIGUOUS. Will affect performance.\n",
      "  warnings.warn('Input array is not C_CONTIGUOUS. ' 'Will affect performance.')\n"
     ]
    },
    {
     "name": "stdout",
     "output_type": "stream",
     "text": [
      "/Volumes/Thalassa/CORA_SHDR_rg/CORA_SHDR_202104_rg.nc done\n"
     ]
    },
    {
     "name": "stderr",
     "output_type": "stream",
     "text": [
      "/Users/ignasi/miniconda3/envs/xesmf_env/lib/python3.7/site-packages/xesmf/smm.py:130: UserWarning: Input array is not C_CONTIGUOUS. Will affect performance.\n",
      "  warnings.warn('Input array is not C_CONTIGUOUS. ' 'Will affect performance.')\n"
     ]
    },
    {
     "name": "stdout",
     "output_type": "stream",
     "text": [
      "/Volumes/Thalassa/CORA_SHDR_rg/CORA_SHDR_202105_rg.nc done\n"
     ]
    },
    {
     "name": "stderr",
     "output_type": "stream",
     "text": [
      "/Users/ignasi/miniconda3/envs/xesmf_env/lib/python3.7/site-packages/xesmf/smm.py:130: UserWarning: Input array is not C_CONTIGUOUS. Will affect performance.\n",
      "  warnings.warn('Input array is not C_CONTIGUOUS. ' 'Will affect performance.')\n"
     ]
    },
    {
     "name": "stdout",
     "output_type": "stream",
     "text": [
      "/Volumes/Thalassa/CORA_SHDR_rg/CORA_SHDR_202106_rg.nc done\n"
     ]
    },
    {
     "name": "stderr",
     "output_type": "stream",
     "text": [
      "/Users/ignasi/miniconda3/envs/xesmf_env/lib/python3.7/site-packages/xesmf/smm.py:130: UserWarning: Input array is not C_CONTIGUOUS. Will affect performance.\n",
      "  warnings.warn('Input array is not C_CONTIGUOUS. ' 'Will affect performance.')\n"
     ]
    },
    {
     "name": "stdout",
     "output_type": "stream",
     "text": [
      "/Volumes/Thalassa/CORA_SHDR_rg/CORA_SHDR_202107_rg.nc done\n"
     ]
    },
    {
     "name": "stderr",
     "output_type": "stream",
     "text": [
      "/Users/ignasi/miniconda3/envs/xesmf_env/lib/python3.7/site-packages/xesmf/smm.py:130: UserWarning: Input array is not C_CONTIGUOUS. Will affect performance.\n",
      "  warnings.warn('Input array is not C_CONTIGUOUS. ' 'Will affect performance.')\n"
     ]
    },
    {
     "name": "stdout",
     "output_type": "stream",
     "text": [
      "/Volumes/Thalassa/CORA_SHDR_rg/CORA_SHDR_202108_rg.nc done\n"
     ]
    },
    {
     "name": "stderr",
     "output_type": "stream",
     "text": [
      "/Users/ignasi/miniconda3/envs/xesmf_env/lib/python3.7/site-packages/xesmf/smm.py:130: UserWarning: Input array is not C_CONTIGUOUS. Will affect performance.\n",
      "  warnings.warn('Input array is not C_CONTIGUOUS. ' 'Will affect performance.')\n"
     ]
    },
    {
     "name": "stdout",
     "output_type": "stream",
     "text": [
      "/Volumes/Thalassa/CORA_SHDR_rg/CORA_SHDR_202109_rg.nc done\n"
     ]
    },
    {
     "name": "stderr",
     "output_type": "stream",
     "text": [
      "/Users/ignasi/miniconda3/envs/xesmf_env/lib/python3.7/site-packages/xesmf/smm.py:130: UserWarning: Input array is not C_CONTIGUOUS. Will affect performance.\n",
      "  warnings.warn('Input array is not C_CONTIGUOUS. ' 'Will affect performance.')\n"
     ]
    },
    {
     "name": "stdout",
     "output_type": "stream",
     "text": [
      "/Volumes/Thalassa/CORA_SHDR_rg/CORA_SHDR_202110_rg.nc done\n"
     ]
    },
    {
     "name": "stderr",
     "output_type": "stream",
     "text": [
      "/Users/ignasi/miniconda3/envs/xesmf_env/lib/python3.7/site-packages/xesmf/smm.py:130: UserWarning: Input array is not C_CONTIGUOUS. Will affect performance.\n",
      "  warnings.warn('Input array is not C_CONTIGUOUS. ' 'Will affect performance.')\n"
     ]
    },
    {
     "name": "stdout",
     "output_type": "stream",
     "text": [
      "/Volumes/Thalassa/CORA_SHDR_rg/CORA_SHDR_202111_rg.nc done\n"
     ]
    },
    {
     "name": "stderr",
     "output_type": "stream",
     "text": [
      "/Users/ignasi/miniconda3/envs/xesmf_env/lib/python3.7/site-packages/xesmf/smm.py:130: UserWarning: Input array is not C_CONTIGUOUS. Will affect performance.\n",
      "  warnings.warn('Input array is not C_CONTIGUOUS. ' 'Will affect performance.')\n"
     ]
    },
    {
     "name": "stdout",
     "output_type": "stream",
     "text": [
      "/Volumes/Thalassa/CORA_SHDR_rg/CORA_SHDR_202112_rg.nc done\n"
     ]
    },
    {
     "name": "stderr",
     "output_type": "stream",
     "text": [
      "/Users/ignasi/miniconda3/envs/xesmf_env/lib/python3.7/site-packages/xesmf/smm.py:130: UserWarning: Input array is not C_CONTIGUOUS. Will affect performance.\n",
      "  warnings.warn('Input array is not C_CONTIGUOUS. ' 'Will affect performance.')\n"
     ]
    },
    {
     "name": "stdout",
     "output_type": "stream",
     "text": [
      "/Volumes/Thalassa/CORA_SHDR_rg/CORA_SHDR_198001_rg.nc done\n"
     ]
    },
    {
     "name": "stderr",
     "output_type": "stream",
     "text": [
      "/Users/ignasi/miniconda3/envs/xesmf_env/lib/python3.7/site-packages/xesmf/smm.py:130: UserWarning: Input array is not C_CONTIGUOUS. Will affect performance.\n",
      "  warnings.warn('Input array is not C_CONTIGUOUS. ' 'Will affect performance.')\n"
     ]
    },
    {
     "name": "stdout",
     "output_type": "stream",
     "text": [
      "/Volumes/Thalassa/CORA_SHDR_rg/CORA_SHDR_198002_rg.nc done\n"
     ]
    },
    {
     "name": "stderr",
     "output_type": "stream",
     "text": [
      "/Users/ignasi/miniconda3/envs/xesmf_env/lib/python3.7/site-packages/xesmf/smm.py:130: UserWarning: Input array is not C_CONTIGUOUS. Will affect performance.\n",
      "  warnings.warn('Input array is not C_CONTIGUOUS. ' 'Will affect performance.')\n"
     ]
    },
    {
     "name": "stdout",
     "output_type": "stream",
     "text": [
      "/Volumes/Thalassa/CORA_SHDR_rg/CORA_SHDR_198003_rg.nc done\n"
     ]
    },
    {
     "name": "stderr",
     "output_type": "stream",
     "text": [
      "/Users/ignasi/miniconda3/envs/xesmf_env/lib/python3.7/site-packages/xesmf/smm.py:130: UserWarning: Input array is not C_CONTIGUOUS. Will affect performance.\n",
      "  warnings.warn('Input array is not C_CONTIGUOUS. ' 'Will affect performance.')\n"
     ]
    },
    {
     "name": "stdout",
     "output_type": "stream",
     "text": [
      "/Volumes/Thalassa/CORA_SHDR_rg/CORA_SHDR_198004_rg.nc done\n"
     ]
    },
    {
     "name": "stderr",
     "output_type": "stream",
     "text": [
      "/Users/ignasi/miniconda3/envs/xesmf_env/lib/python3.7/site-packages/xesmf/smm.py:130: UserWarning: Input array is not C_CONTIGUOUS. Will affect performance.\n",
      "  warnings.warn('Input array is not C_CONTIGUOUS. ' 'Will affect performance.')\n"
     ]
    },
    {
     "name": "stdout",
     "output_type": "stream",
     "text": [
      "/Volumes/Thalassa/CORA_SHDR_rg/CORA_SHDR_198005_rg.nc done\n"
     ]
    },
    {
     "name": "stderr",
     "output_type": "stream",
     "text": [
      "/Users/ignasi/miniconda3/envs/xesmf_env/lib/python3.7/site-packages/xesmf/smm.py:130: UserWarning: Input array is not C_CONTIGUOUS. Will affect performance.\n",
      "  warnings.warn('Input array is not C_CONTIGUOUS. ' 'Will affect performance.')\n"
     ]
    },
    {
     "name": "stdout",
     "output_type": "stream",
     "text": [
      "/Volumes/Thalassa/CORA_SHDR_rg/CORA_SHDR_198006_rg.nc done\n"
     ]
    },
    {
     "name": "stderr",
     "output_type": "stream",
     "text": [
      "/Users/ignasi/miniconda3/envs/xesmf_env/lib/python3.7/site-packages/xesmf/smm.py:130: UserWarning: Input array is not C_CONTIGUOUS. Will affect performance.\n",
      "  warnings.warn('Input array is not C_CONTIGUOUS. ' 'Will affect performance.')\n"
     ]
    },
    {
     "name": "stdout",
     "output_type": "stream",
     "text": [
      "/Volumes/Thalassa/CORA_SHDR_rg/CORA_SHDR_198007_rg.nc done\n"
     ]
    },
    {
     "name": "stderr",
     "output_type": "stream",
     "text": [
      "/Users/ignasi/miniconda3/envs/xesmf_env/lib/python3.7/site-packages/xesmf/smm.py:130: UserWarning: Input array is not C_CONTIGUOUS. Will affect performance.\n",
      "  warnings.warn('Input array is not C_CONTIGUOUS. ' 'Will affect performance.')\n"
     ]
    },
    {
     "name": "stdout",
     "output_type": "stream",
     "text": [
      "/Volumes/Thalassa/CORA_SHDR_rg/CORA_SHDR_198008_rg.nc done\n"
     ]
    },
    {
     "name": "stderr",
     "output_type": "stream",
     "text": [
      "/Users/ignasi/miniconda3/envs/xesmf_env/lib/python3.7/site-packages/xesmf/smm.py:130: UserWarning: Input array is not C_CONTIGUOUS. Will affect performance.\n",
      "  warnings.warn('Input array is not C_CONTIGUOUS. ' 'Will affect performance.')\n"
     ]
    },
    {
     "name": "stdout",
     "output_type": "stream",
     "text": [
      "/Volumes/Thalassa/CORA_SHDR_rg/CORA_SHDR_198009_rg.nc done\n"
     ]
    },
    {
     "name": "stderr",
     "output_type": "stream",
     "text": [
      "/Users/ignasi/miniconda3/envs/xesmf_env/lib/python3.7/site-packages/xesmf/smm.py:130: UserWarning: Input array is not C_CONTIGUOUS. Will affect performance.\n",
      "  warnings.warn('Input array is not C_CONTIGUOUS. ' 'Will affect performance.')\n"
     ]
    },
    {
     "name": "stdout",
     "output_type": "stream",
     "text": [
      "/Volumes/Thalassa/CORA_SHDR_rg/CORA_SHDR_198010_rg.nc done\n"
     ]
    },
    {
     "name": "stderr",
     "output_type": "stream",
     "text": [
      "/Users/ignasi/miniconda3/envs/xesmf_env/lib/python3.7/site-packages/xesmf/smm.py:130: UserWarning: Input array is not C_CONTIGUOUS. Will affect performance.\n",
      "  warnings.warn('Input array is not C_CONTIGUOUS. ' 'Will affect performance.')\n"
     ]
    },
    {
     "name": "stdout",
     "output_type": "stream",
     "text": [
      "/Volumes/Thalassa/CORA_SHDR_rg/CORA_SHDR_198011_rg.nc done\n"
     ]
    },
    {
     "name": "stderr",
     "output_type": "stream",
     "text": [
      "/Users/ignasi/miniconda3/envs/xesmf_env/lib/python3.7/site-packages/xesmf/smm.py:130: UserWarning: Input array is not C_CONTIGUOUS. Will affect performance.\n",
      "  warnings.warn('Input array is not C_CONTIGUOUS. ' 'Will affect performance.')\n"
     ]
    },
    {
     "name": "stdout",
     "output_type": "stream",
     "text": [
      "/Volumes/Thalassa/CORA_SHDR_rg/CORA_SHDR_198012_rg.nc done\n"
     ]
    },
    {
     "name": "stderr",
     "output_type": "stream",
     "text": [
      "/Users/ignasi/miniconda3/envs/xesmf_env/lib/python3.7/site-packages/xesmf/smm.py:130: UserWarning: Input array is not C_CONTIGUOUS. Will affect performance.\n",
      "  warnings.warn('Input array is not C_CONTIGUOUS. ' 'Will affect performance.')\n"
     ]
    },
    {
     "name": "stdout",
     "output_type": "stream",
     "text": [
      "/Volumes/Thalassa/CORA_SHDR_rg/CORA_SHDR_198101_rg.nc done\n"
     ]
    },
    {
     "name": "stderr",
     "output_type": "stream",
     "text": [
      "/Users/ignasi/miniconda3/envs/xesmf_env/lib/python3.7/site-packages/xesmf/smm.py:130: UserWarning: Input array is not C_CONTIGUOUS. Will affect performance.\n",
      "  warnings.warn('Input array is not C_CONTIGUOUS. ' 'Will affect performance.')\n"
     ]
    },
    {
     "name": "stdout",
     "output_type": "stream",
     "text": [
      "/Volumes/Thalassa/CORA_SHDR_rg/CORA_SHDR_198102_rg.nc done\n"
     ]
    },
    {
     "name": "stderr",
     "output_type": "stream",
     "text": [
      "/Users/ignasi/miniconda3/envs/xesmf_env/lib/python3.7/site-packages/xesmf/smm.py:130: UserWarning: Input array is not C_CONTIGUOUS. Will affect performance.\n",
      "  warnings.warn('Input array is not C_CONTIGUOUS. ' 'Will affect performance.')\n"
     ]
    },
    {
     "name": "stdout",
     "output_type": "stream",
     "text": [
      "/Volumes/Thalassa/CORA_SHDR_rg/CORA_SHDR_198103_rg.nc done\n"
     ]
    },
    {
     "name": "stderr",
     "output_type": "stream",
     "text": [
      "/Users/ignasi/miniconda3/envs/xesmf_env/lib/python3.7/site-packages/xesmf/smm.py:130: UserWarning: Input array is not C_CONTIGUOUS. Will affect performance.\n",
      "  warnings.warn('Input array is not C_CONTIGUOUS. ' 'Will affect performance.')\n"
     ]
    },
    {
     "name": "stdout",
     "output_type": "stream",
     "text": [
      "/Volumes/Thalassa/CORA_SHDR_rg/CORA_SHDR_198104_rg.nc done\n"
     ]
    },
    {
     "name": "stderr",
     "output_type": "stream",
     "text": [
      "/Users/ignasi/miniconda3/envs/xesmf_env/lib/python3.7/site-packages/xesmf/smm.py:130: UserWarning: Input array is not C_CONTIGUOUS. Will affect performance.\n",
      "  warnings.warn('Input array is not C_CONTIGUOUS. ' 'Will affect performance.')\n"
     ]
    },
    {
     "name": "stdout",
     "output_type": "stream",
     "text": [
      "/Volumes/Thalassa/CORA_SHDR_rg/CORA_SHDR_198105_rg.nc done\n"
     ]
    },
    {
     "name": "stderr",
     "output_type": "stream",
     "text": [
      "/Users/ignasi/miniconda3/envs/xesmf_env/lib/python3.7/site-packages/xesmf/smm.py:130: UserWarning: Input array is not C_CONTIGUOUS. Will affect performance.\n",
      "  warnings.warn('Input array is not C_CONTIGUOUS. ' 'Will affect performance.')\n"
     ]
    },
    {
     "name": "stdout",
     "output_type": "stream",
     "text": [
      "/Volumes/Thalassa/CORA_SHDR_rg/CORA_SHDR_198106_rg.nc done\n"
     ]
    },
    {
     "name": "stderr",
     "output_type": "stream",
     "text": [
      "/Users/ignasi/miniconda3/envs/xesmf_env/lib/python3.7/site-packages/xesmf/smm.py:130: UserWarning: Input array is not C_CONTIGUOUS. Will affect performance.\n",
      "  warnings.warn('Input array is not C_CONTIGUOUS. ' 'Will affect performance.')\n"
     ]
    },
    {
     "name": "stdout",
     "output_type": "stream",
     "text": [
      "/Volumes/Thalassa/CORA_SHDR_rg/CORA_SHDR_198107_rg.nc done\n"
     ]
    },
    {
     "name": "stderr",
     "output_type": "stream",
     "text": [
      "/Users/ignasi/miniconda3/envs/xesmf_env/lib/python3.7/site-packages/xesmf/smm.py:130: UserWarning: Input array is not C_CONTIGUOUS. Will affect performance.\n",
      "  warnings.warn('Input array is not C_CONTIGUOUS. ' 'Will affect performance.')\n"
     ]
    },
    {
     "name": "stdout",
     "output_type": "stream",
     "text": [
      "/Volumes/Thalassa/CORA_SHDR_rg/CORA_SHDR_198108_rg.nc done\n"
     ]
    },
    {
     "name": "stderr",
     "output_type": "stream",
     "text": [
      "/Users/ignasi/miniconda3/envs/xesmf_env/lib/python3.7/site-packages/xesmf/smm.py:130: UserWarning: Input array is not C_CONTIGUOUS. Will affect performance.\n",
      "  warnings.warn('Input array is not C_CONTIGUOUS. ' 'Will affect performance.')\n"
     ]
    },
    {
     "name": "stdout",
     "output_type": "stream",
     "text": [
      "/Volumes/Thalassa/CORA_SHDR_rg/CORA_SHDR_198109_rg.nc done\n"
     ]
    },
    {
     "name": "stderr",
     "output_type": "stream",
     "text": [
      "/Users/ignasi/miniconda3/envs/xesmf_env/lib/python3.7/site-packages/xesmf/smm.py:130: UserWarning: Input array is not C_CONTIGUOUS. Will affect performance.\n",
      "  warnings.warn('Input array is not C_CONTIGUOUS. ' 'Will affect performance.')\n"
     ]
    },
    {
     "name": "stdout",
     "output_type": "stream",
     "text": [
      "/Volumes/Thalassa/CORA_SHDR_rg/CORA_SHDR_198110_rg.nc done\n"
     ]
    },
    {
     "name": "stderr",
     "output_type": "stream",
     "text": [
      "/Users/ignasi/miniconda3/envs/xesmf_env/lib/python3.7/site-packages/xesmf/smm.py:130: UserWarning: Input array is not C_CONTIGUOUS. Will affect performance.\n",
      "  warnings.warn('Input array is not C_CONTIGUOUS. ' 'Will affect performance.')\n"
     ]
    },
    {
     "name": "stdout",
     "output_type": "stream",
     "text": [
      "/Volumes/Thalassa/CORA_SHDR_rg/CORA_SHDR_198111_rg.nc done\n"
     ]
    },
    {
     "name": "stderr",
     "output_type": "stream",
     "text": [
      "/Users/ignasi/miniconda3/envs/xesmf_env/lib/python3.7/site-packages/xesmf/smm.py:130: UserWarning: Input array is not C_CONTIGUOUS. Will affect performance.\n",
      "  warnings.warn('Input array is not C_CONTIGUOUS. ' 'Will affect performance.')\n"
     ]
    },
    {
     "name": "stdout",
     "output_type": "stream",
     "text": [
      "/Volumes/Thalassa/CORA_SHDR_rg/CORA_SHDR_198112_rg.nc done\n"
     ]
    },
    {
     "name": "stderr",
     "output_type": "stream",
     "text": [
      "/Users/ignasi/miniconda3/envs/xesmf_env/lib/python3.7/site-packages/xesmf/smm.py:130: UserWarning: Input array is not C_CONTIGUOUS. Will affect performance.\n",
      "  warnings.warn('Input array is not C_CONTIGUOUS. ' 'Will affect performance.')\n"
     ]
    },
    {
     "name": "stdout",
     "output_type": "stream",
     "text": [
      "/Volumes/Thalassa/CORA_SHDR_rg/CORA_SHDR_198201_rg.nc done\n"
     ]
    },
    {
     "name": "stderr",
     "output_type": "stream",
     "text": [
      "/Users/ignasi/miniconda3/envs/xesmf_env/lib/python3.7/site-packages/xesmf/smm.py:130: UserWarning: Input array is not C_CONTIGUOUS. Will affect performance.\n",
      "  warnings.warn('Input array is not C_CONTIGUOUS. ' 'Will affect performance.')\n"
     ]
    },
    {
     "name": "stdout",
     "output_type": "stream",
     "text": [
      "/Volumes/Thalassa/CORA_SHDR_rg/CORA_SHDR_198202_rg.nc done\n"
     ]
    },
    {
     "name": "stderr",
     "output_type": "stream",
     "text": [
      "/Users/ignasi/miniconda3/envs/xesmf_env/lib/python3.7/site-packages/xesmf/smm.py:130: UserWarning: Input array is not C_CONTIGUOUS. Will affect performance.\n",
      "  warnings.warn('Input array is not C_CONTIGUOUS. ' 'Will affect performance.')\n"
     ]
    },
    {
     "name": "stdout",
     "output_type": "stream",
     "text": [
      "/Volumes/Thalassa/CORA_SHDR_rg/CORA_SHDR_198203_rg.nc done\n"
     ]
    },
    {
     "name": "stderr",
     "output_type": "stream",
     "text": [
      "/Users/ignasi/miniconda3/envs/xesmf_env/lib/python3.7/site-packages/xesmf/smm.py:130: UserWarning: Input array is not C_CONTIGUOUS. Will affect performance.\n",
      "  warnings.warn('Input array is not C_CONTIGUOUS. ' 'Will affect performance.')\n"
     ]
    },
    {
     "name": "stdout",
     "output_type": "stream",
     "text": [
      "/Volumes/Thalassa/CORA_SHDR_rg/CORA_SHDR_198204_rg.nc done\n"
     ]
    },
    {
     "name": "stderr",
     "output_type": "stream",
     "text": [
      "/Users/ignasi/miniconda3/envs/xesmf_env/lib/python3.7/site-packages/xesmf/smm.py:130: UserWarning: Input array is not C_CONTIGUOUS. Will affect performance.\n",
      "  warnings.warn('Input array is not C_CONTIGUOUS. ' 'Will affect performance.')\n"
     ]
    },
    {
     "name": "stdout",
     "output_type": "stream",
     "text": [
      "/Volumes/Thalassa/CORA_SHDR_rg/CORA_SHDR_198205_rg.nc done\n"
     ]
    },
    {
     "name": "stderr",
     "output_type": "stream",
     "text": [
      "/Users/ignasi/miniconda3/envs/xesmf_env/lib/python3.7/site-packages/xesmf/smm.py:130: UserWarning: Input array is not C_CONTIGUOUS. Will affect performance.\n",
      "  warnings.warn('Input array is not C_CONTIGUOUS. ' 'Will affect performance.')\n"
     ]
    },
    {
     "name": "stdout",
     "output_type": "stream",
     "text": [
      "/Volumes/Thalassa/CORA_SHDR_rg/CORA_SHDR_198206_rg.nc done\n"
     ]
    },
    {
     "name": "stderr",
     "output_type": "stream",
     "text": [
      "/Users/ignasi/miniconda3/envs/xesmf_env/lib/python3.7/site-packages/xesmf/smm.py:130: UserWarning: Input array is not C_CONTIGUOUS. Will affect performance.\n",
      "  warnings.warn('Input array is not C_CONTIGUOUS. ' 'Will affect performance.')\n"
     ]
    },
    {
     "name": "stdout",
     "output_type": "stream",
     "text": [
      "/Volumes/Thalassa/CORA_SHDR_rg/CORA_SHDR_198207_rg.nc done\n"
     ]
    },
    {
     "name": "stderr",
     "output_type": "stream",
     "text": [
      "/Users/ignasi/miniconda3/envs/xesmf_env/lib/python3.7/site-packages/xesmf/smm.py:130: UserWarning: Input array is not C_CONTIGUOUS. Will affect performance.\n",
      "  warnings.warn('Input array is not C_CONTIGUOUS. ' 'Will affect performance.')\n"
     ]
    },
    {
     "name": "stdout",
     "output_type": "stream",
     "text": [
      "/Volumes/Thalassa/CORA_SHDR_rg/CORA_SHDR_198208_rg.nc done\n"
     ]
    },
    {
     "name": "stderr",
     "output_type": "stream",
     "text": [
      "/Users/ignasi/miniconda3/envs/xesmf_env/lib/python3.7/site-packages/xesmf/smm.py:130: UserWarning: Input array is not C_CONTIGUOUS. Will affect performance.\n",
      "  warnings.warn('Input array is not C_CONTIGUOUS. ' 'Will affect performance.')\n"
     ]
    },
    {
     "name": "stdout",
     "output_type": "stream",
     "text": [
      "/Volumes/Thalassa/CORA_SHDR_rg/CORA_SHDR_198209_rg.nc done\n"
     ]
    },
    {
     "name": "stderr",
     "output_type": "stream",
     "text": [
      "/Users/ignasi/miniconda3/envs/xesmf_env/lib/python3.7/site-packages/xesmf/smm.py:130: UserWarning: Input array is not C_CONTIGUOUS. Will affect performance.\n",
      "  warnings.warn('Input array is not C_CONTIGUOUS. ' 'Will affect performance.')\n"
     ]
    },
    {
     "name": "stdout",
     "output_type": "stream",
     "text": [
      "/Volumes/Thalassa/CORA_SHDR_rg/CORA_SHDR_198210_rg.nc done\n"
     ]
    },
    {
     "name": "stderr",
     "output_type": "stream",
     "text": [
      "/Users/ignasi/miniconda3/envs/xesmf_env/lib/python3.7/site-packages/xesmf/smm.py:130: UserWarning: Input array is not C_CONTIGUOUS. Will affect performance.\n",
      "  warnings.warn('Input array is not C_CONTIGUOUS. ' 'Will affect performance.')\n"
     ]
    },
    {
     "name": "stdout",
     "output_type": "stream",
     "text": [
      "/Volumes/Thalassa/CORA_SHDR_rg/CORA_SHDR_198211_rg.nc done\n"
     ]
    },
    {
     "name": "stderr",
     "output_type": "stream",
     "text": [
      "/Users/ignasi/miniconda3/envs/xesmf_env/lib/python3.7/site-packages/xesmf/smm.py:130: UserWarning: Input array is not C_CONTIGUOUS. Will affect performance.\n",
      "  warnings.warn('Input array is not C_CONTIGUOUS. ' 'Will affect performance.')\n"
     ]
    },
    {
     "name": "stdout",
     "output_type": "stream",
     "text": [
      "/Volumes/Thalassa/CORA_SHDR_rg/CORA_SHDR_198212_rg.nc done\n"
     ]
    },
    {
     "name": "stderr",
     "output_type": "stream",
     "text": [
      "/Users/ignasi/miniconda3/envs/xesmf_env/lib/python3.7/site-packages/xesmf/smm.py:130: UserWarning: Input array is not C_CONTIGUOUS. Will affect performance.\n",
      "  warnings.warn('Input array is not C_CONTIGUOUS. ' 'Will affect performance.')\n"
     ]
    },
    {
     "name": "stdout",
     "output_type": "stream",
     "text": [
      "/Volumes/Thalassa/CORA_SHDR_rg/CORA_SHDR_198301_rg.nc done\n"
     ]
    },
    {
     "name": "stderr",
     "output_type": "stream",
     "text": [
      "/Users/ignasi/miniconda3/envs/xesmf_env/lib/python3.7/site-packages/xesmf/smm.py:130: UserWarning: Input array is not C_CONTIGUOUS. Will affect performance.\n",
      "  warnings.warn('Input array is not C_CONTIGUOUS. ' 'Will affect performance.')\n"
     ]
    },
    {
     "name": "stdout",
     "output_type": "stream",
     "text": [
      "/Volumes/Thalassa/CORA_SHDR_rg/CORA_SHDR_198302_rg.nc done\n"
     ]
    },
    {
     "name": "stderr",
     "output_type": "stream",
     "text": [
      "/Users/ignasi/miniconda3/envs/xesmf_env/lib/python3.7/site-packages/xesmf/smm.py:130: UserWarning: Input array is not C_CONTIGUOUS. Will affect performance.\n",
      "  warnings.warn('Input array is not C_CONTIGUOUS. ' 'Will affect performance.')\n"
     ]
    },
    {
     "name": "stdout",
     "output_type": "stream",
     "text": [
      "/Volumes/Thalassa/CORA_SHDR_rg/CORA_SHDR_198303_rg.nc done\n"
     ]
    },
    {
     "name": "stderr",
     "output_type": "stream",
     "text": [
      "/Users/ignasi/miniconda3/envs/xesmf_env/lib/python3.7/site-packages/xesmf/smm.py:130: UserWarning: Input array is not C_CONTIGUOUS. Will affect performance.\n",
      "  warnings.warn('Input array is not C_CONTIGUOUS. ' 'Will affect performance.')\n"
     ]
    },
    {
     "name": "stdout",
     "output_type": "stream",
     "text": [
      "/Volumes/Thalassa/CORA_SHDR_rg/CORA_SHDR_198304_rg.nc done\n"
     ]
    },
    {
     "name": "stderr",
     "output_type": "stream",
     "text": [
      "/Users/ignasi/miniconda3/envs/xesmf_env/lib/python3.7/site-packages/xesmf/smm.py:130: UserWarning: Input array is not C_CONTIGUOUS. Will affect performance.\n",
      "  warnings.warn('Input array is not C_CONTIGUOUS. ' 'Will affect performance.')\n"
     ]
    },
    {
     "name": "stdout",
     "output_type": "stream",
     "text": [
      "/Volumes/Thalassa/CORA_SHDR_rg/CORA_SHDR_198305_rg.nc done\n"
     ]
    },
    {
     "name": "stderr",
     "output_type": "stream",
     "text": [
      "/Users/ignasi/miniconda3/envs/xesmf_env/lib/python3.7/site-packages/xesmf/smm.py:130: UserWarning: Input array is not C_CONTIGUOUS. Will affect performance.\n",
      "  warnings.warn('Input array is not C_CONTIGUOUS. ' 'Will affect performance.')\n"
     ]
    },
    {
     "name": "stdout",
     "output_type": "stream",
     "text": [
      "/Volumes/Thalassa/CORA_SHDR_rg/CORA_SHDR_198306_rg.nc done\n"
     ]
    },
    {
     "name": "stderr",
     "output_type": "stream",
     "text": [
      "/Users/ignasi/miniconda3/envs/xesmf_env/lib/python3.7/site-packages/xesmf/smm.py:130: UserWarning: Input array is not C_CONTIGUOUS. Will affect performance.\n",
      "  warnings.warn('Input array is not C_CONTIGUOUS. ' 'Will affect performance.')\n"
     ]
    },
    {
     "name": "stdout",
     "output_type": "stream",
     "text": [
      "/Volumes/Thalassa/CORA_SHDR_rg/CORA_SHDR_198307_rg.nc done\n"
     ]
    },
    {
     "name": "stderr",
     "output_type": "stream",
     "text": [
      "/Users/ignasi/miniconda3/envs/xesmf_env/lib/python3.7/site-packages/xesmf/smm.py:130: UserWarning: Input array is not C_CONTIGUOUS. Will affect performance.\n",
      "  warnings.warn('Input array is not C_CONTIGUOUS. ' 'Will affect performance.')\n"
     ]
    },
    {
     "name": "stdout",
     "output_type": "stream",
     "text": [
      "/Volumes/Thalassa/CORA_SHDR_rg/CORA_SHDR_198308_rg.nc done\n"
     ]
    },
    {
     "name": "stderr",
     "output_type": "stream",
     "text": [
      "/Users/ignasi/miniconda3/envs/xesmf_env/lib/python3.7/site-packages/xesmf/smm.py:130: UserWarning: Input array is not C_CONTIGUOUS. Will affect performance.\n",
      "  warnings.warn('Input array is not C_CONTIGUOUS. ' 'Will affect performance.')\n"
     ]
    },
    {
     "name": "stdout",
     "output_type": "stream",
     "text": [
      "/Volumes/Thalassa/CORA_SHDR_rg/CORA_SHDR_198309_rg.nc done\n"
     ]
    },
    {
     "name": "stderr",
     "output_type": "stream",
     "text": [
      "/Users/ignasi/miniconda3/envs/xesmf_env/lib/python3.7/site-packages/xesmf/smm.py:130: UserWarning: Input array is not C_CONTIGUOUS. Will affect performance.\n",
      "  warnings.warn('Input array is not C_CONTIGUOUS. ' 'Will affect performance.')\n"
     ]
    },
    {
     "name": "stdout",
     "output_type": "stream",
     "text": [
      "/Volumes/Thalassa/CORA_SHDR_rg/CORA_SHDR_198310_rg.nc done\n"
     ]
    },
    {
     "name": "stderr",
     "output_type": "stream",
     "text": [
      "/Users/ignasi/miniconda3/envs/xesmf_env/lib/python3.7/site-packages/xesmf/smm.py:130: UserWarning: Input array is not C_CONTIGUOUS. Will affect performance.\n",
      "  warnings.warn('Input array is not C_CONTIGUOUS. ' 'Will affect performance.')\n"
     ]
    },
    {
     "name": "stdout",
     "output_type": "stream",
     "text": [
      "/Volumes/Thalassa/CORA_SHDR_rg/CORA_SHDR_198311_rg.nc done\n"
     ]
    },
    {
     "name": "stderr",
     "output_type": "stream",
     "text": [
      "/Users/ignasi/miniconda3/envs/xesmf_env/lib/python3.7/site-packages/xesmf/smm.py:130: UserWarning: Input array is not C_CONTIGUOUS. Will affect performance.\n",
      "  warnings.warn('Input array is not C_CONTIGUOUS. ' 'Will affect performance.')\n"
     ]
    },
    {
     "name": "stdout",
     "output_type": "stream",
     "text": [
      "/Volumes/Thalassa/CORA_SHDR_rg/CORA_SHDR_198312_rg.nc done\n"
     ]
    },
    {
     "name": "stderr",
     "output_type": "stream",
     "text": [
      "/Users/ignasi/miniconda3/envs/xesmf_env/lib/python3.7/site-packages/xesmf/smm.py:130: UserWarning: Input array is not C_CONTIGUOUS. Will affect performance.\n",
      "  warnings.warn('Input array is not C_CONTIGUOUS. ' 'Will affect performance.')\n"
     ]
    },
    {
     "name": "stdout",
     "output_type": "stream",
     "text": [
      "/Volumes/Thalassa/CORA_SHDR_rg/CORA_SHDR_198401_rg.nc done\n"
     ]
    },
    {
     "name": "stderr",
     "output_type": "stream",
     "text": [
      "/Users/ignasi/miniconda3/envs/xesmf_env/lib/python3.7/site-packages/xesmf/smm.py:130: UserWarning: Input array is not C_CONTIGUOUS. Will affect performance.\n",
      "  warnings.warn('Input array is not C_CONTIGUOUS. ' 'Will affect performance.')\n"
     ]
    },
    {
     "name": "stdout",
     "output_type": "stream",
     "text": [
      "/Volumes/Thalassa/CORA_SHDR_rg/CORA_SHDR_198402_rg.nc done\n"
     ]
    },
    {
     "name": "stderr",
     "output_type": "stream",
     "text": [
      "/Users/ignasi/miniconda3/envs/xesmf_env/lib/python3.7/site-packages/xesmf/smm.py:130: UserWarning: Input array is not C_CONTIGUOUS. Will affect performance.\n",
      "  warnings.warn('Input array is not C_CONTIGUOUS. ' 'Will affect performance.')\n"
     ]
    },
    {
     "name": "stdout",
     "output_type": "stream",
     "text": [
      "/Volumes/Thalassa/CORA_SHDR_rg/CORA_SHDR_198403_rg.nc done\n"
     ]
    },
    {
     "name": "stderr",
     "output_type": "stream",
     "text": [
      "/Users/ignasi/miniconda3/envs/xesmf_env/lib/python3.7/site-packages/xesmf/smm.py:130: UserWarning: Input array is not C_CONTIGUOUS. Will affect performance.\n",
      "  warnings.warn('Input array is not C_CONTIGUOUS. ' 'Will affect performance.')\n"
     ]
    },
    {
     "name": "stdout",
     "output_type": "stream",
     "text": [
      "/Volumes/Thalassa/CORA_SHDR_rg/CORA_SHDR_198404_rg.nc done\n"
     ]
    },
    {
     "name": "stderr",
     "output_type": "stream",
     "text": [
      "/Users/ignasi/miniconda3/envs/xesmf_env/lib/python3.7/site-packages/xesmf/smm.py:130: UserWarning: Input array is not C_CONTIGUOUS. Will affect performance.\n",
      "  warnings.warn('Input array is not C_CONTIGUOUS. ' 'Will affect performance.')\n"
     ]
    },
    {
     "name": "stdout",
     "output_type": "stream",
     "text": [
      "/Volumes/Thalassa/CORA_SHDR_rg/CORA_SHDR_198405_rg.nc done\n"
     ]
    },
    {
     "name": "stderr",
     "output_type": "stream",
     "text": [
      "/Users/ignasi/miniconda3/envs/xesmf_env/lib/python3.7/site-packages/xesmf/smm.py:130: UserWarning: Input array is not C_CONTIGUOUS. Will affect performance.\n",
      "  warnings.warn('Input array is not C_CONTIGUOUS. ' 'Will affect performance.')\n"
     ]
    },
    {
     "name": "stdout",
     "output_type": "stream",
     "text": [
      "/Volumes/Thalassa/CORA_SHDR_rg/CORA_SHDR_198406_rg.nc done\n"
     ]
    },
    {
     "name": "stderr",
     "output_type": "stream",
     "text": [
      "/Users/ignasi/miniconda3/envs/xesmf_env/lib/python3.7/site-packages/xesmf/smm.py:130: UserWarning: Input array is not C_CONTIGUOUS. Will affect performance.\n",
      "  warnings.warn('Input array is not C_CONTIGUOUS. ' 'Will affect performance.')\n"
     ]
    },
    {
     "name": "stdout",
     "output_type": "stream",
     "text": [
      "/Volumes/Thalassa/CORA_SHDR_rg/CORA_SHDR_198407_rg.nc done\n"
     ]
    },
    {
     "name": "stderr",
     "output_type": "stream",
     "text": [
      "/Users/ignasi/miniconda3/envs/xesmf_env/lib/python3.7/site-packages/xesmf/smm.py:130: UserWarning: Input array is not C_CONTIGUOUS. Will affect performance.\n",
      "  warnings.warn('Input array is not C_CONTIGUOUS. ' 'Will affect performance.')\n"
     ]
    },
    {
     "name": "stdout",
     "output_type": "stream",
     "text": [
      "/Volumes/Thalassa/CORA_SHDR_rg/CORA_SHDR_198408_rg.nc done\n"
     ]
    },
    {
     "name": "stderr",
     "output_type": "stream",
     "text": [
      "/Users/ignasi/miniconda3/envs/xesmf_env/lib/python3.7/site-packages/xesmf/smm.py:130: UserWarning: Input array is not C_CONTIGUOUS. Will affect performance.\n",
      "  warnings.warn('Input array is not C_CONTIGUOUS. ' 'Will affect performance.')\n"
     ]
    },
    {
     "name": "stdout",
     "output_type": "stream",
     "text": [
      "/Volumes/Thalassa/CORA_SHDR_rg/CORA_SHDR_198409_rg.nc done\n"
     ]
    },
    {
     "name": "stderr",
     "output_type": "stream",
     "text": [
      "/Users/ignasi/miniconda3/envs/xesmf_env/lib/python3.7/site-packages/xesmf/smm.py:130: UserWarning: Input array is not C_CONTIGUOUS. Will affect performance.\n",
      "  warnings.warn('Input array is not C_CONTIGUOUS. ' 'Will affect performance.')\n"
     ]
    },
    {
     "name": "stdout",
     "output_type": "stream",
     "text": [
      "/Volumes/Thalassa/CORA_SHDR_rg/CORA_SHDR_198410_rg.nc done\n"
     ]
    },
    {
     "name": "stderr",
     "output_type": "stream",
     "text": [
      "/Users/ignasi/miniconda3/envs/xesmf_env/lib/python3.7/site-packages/xesmf/smm.py:130: UserWarning: Input array is not C_CONTIGUOUS. Will affect performance.\n",
      "  warnings.warn('Input array is not C_CONTIGUOUS. ' 'Will affect performance.')\n"
     ]
    },
    {
     "name": "stdout",
     "output_type": "stream",
     "text": [
      "/Volumes/Thalassa/CORA_SHDR_rg/CORA_SHDR_198411_rg.nc done\n"
     ]
    },
    {
     "name": "stderr",
     "output_type": "stream",
     "text": [
      "/Users/ignasi/miniconda3/envs/xesmf_env/lib/python3.7/site-packages/xesmf/smm.py:130: UserWarning: Input array is not C_CONTIGUOUS. Will affect performance.\n",
      "  warnings.warn('Input array is not C_CONTIGUOUS. ' 'Will affect performance.')\n"
     ]
    },
    {
     "name": "stdout",
     "output_type": "stream",
     "text": [
      "/Volumes/Thalassa/CORA_SHDR_rg/CORA_SHDR_198412_rg.nc done\n"
     ]
    },
    {
     "name": "stderr",
     "output_type": "stream",
     "text": [
      "/Users/ignasi/miniconda3/envs/xesmf_env/lib/python3.7/site-packages/xesmf/smm.py:130: UserWarning: Input array is not C_CONTIGUOUS. Will affect performance.\n",
      "  warnings.warn('Input array is not C_CONTIGUOUS. ' 'Will affect performance.')\n"
     ]
    },
    {
     "name": "stdout",
     "output_type": "stream",
     "text": [
      "/Volumes/Thalassa/CORA_SHDR_rg/CORA_SHDR_198501_rg.nc done\n"
     ]
    },
    {
     "name": "stderr",
     "output_type": "stream",
     "text": [
      "/Users/ignasi/miniconda3/envs/xesmf_env/lib/python3.7/site-packages/xesmf/smm.py:130: UserWarning: Input array is not C_CONTIGUOUS. Will affect performance.\n",
      "  warnings.warn('Input array is not C_CONTIGUOUS. ' 'Will affect performance.')\n"
     ]
    },
    {
     "name": "stdout",
     "output_type": "stream",
     "text": [
      "/Volumes/Thalassa/CORA_SHDR_rg/CORA_SHDR_198502_rg.nc done\n"
     ]
    },
    {
     "name": "stderr",
     "output_type": "stream",
     "text": [
      "/Users/ignasi/miniconda3/envs/xesmf_env/lib/python3.7/site-packages/xesmf/smm.py:130: UserWarning: Input array is not C_CONTIGUOUS. Will affect performance.\n",
      "  warnings.warn('Input array is not C_CONTIGUOUS. ' 'Will affect performance.')\n"
     ]
    },
    {
     "name": "stdout",
     "output_type": "stream",
     "text": [
      "/Volumes/Thalassa/CORA_SHDR_rg/CORA_SHDR_198503_rg.nc done\n"
     ]
    },
    {
     "name": "stderr",
     "output_type": "stream",
     "text": [
      "/Users/ignasi/miniconda3/envs/xesmf_env/lib/python3.7/site-packages/xesmf/smm.py:130: UserWarning: Input array is not C_CONTIGUOUS. Will affect performance.\n",
      "  warnings.warn('Input array is not C_CONTIGUOUS. ' 'Will affect performance.')\n"
     ]
    },
    {
     "name": "stdout",
     "output_type": "stream",
     "text": [
      "/Volumes/Thalassa/CORA_SHDR_rg/CORA_SHDR_198504_rg.nc done\n"
     ]
    },
    {
     "name": "stderr",
     "output_type": "stream",
     "text": [
      "/Users/ignasi/miniconda3/envs/xesmf_env/lib/python3.7/site-packages/xesmf/smm.py:130: UserWarning: Input array is not C_CONTIGUOUS. Will affect performance.\n",
      "  warnings.warn('Input array is not C_CONTIGUOUS. ' 'Will affect performance.')\n"
     ]
    },
    {
     "name": "stdout",
     "output_type": "stream",
     "text": [
      "/Volumes/Thalassa/CORA_SHDR_rg/CORA_SHDR_198505_rg.nc done\n"
     ]
    },
    {
     "name": "stderr",
     "output_type": "stream",
     "text": [
      "/Users/ignasi/miniconda3/envs/xesmf_env/lib/python3.7/site-packages/xesmf/smm.py:130: UserWarning: Input array is not C_CONTIGUOUS. Will affect performance.\n",
      "  warnings.warn('Input array is not C_CONTIGUOUS. ' 'Will affect performance.')\n"
     ]
    },
    {
     "name": "stdout",
     "output_type": "stream",
     "text": [
      "/Volumes/Thalassa/CORA_SHDR_rg/CORA_SHDR_198506_rg.nc done\n"
     ]
    },
    {
     "name": "stderr",
     "output_type": "stream",
     "text": [
      "/Users/ignasi/miniconda3/envs/xesmf_env/lib/python3.7/site-packages/xesmf/smm.py:130: UserWarning: Input array is not C_CONTIGUOUS. Will affect performance.\n",
      "  warnings.warn('Input array is not C_CONTIGUOUS. ' 'Will affect performance.')\n"
     ]
    },
    {
     "name": "stdout",
     "output_type": "stream",
     "text": [
      "/Volumes/Thalassa/CORA_SHDR_rg/CORA_SHDR_198507_rg.nc done\n"
     ]
    },
    {
     "name": "stderr",
     "output_type": "stream",
     "text": [
      "/Users/ignasi/miniconda3/envs/xesmf_env/lib/python3.7/site-packages/xesmf/smm.py:130: UserWarning: Input array is not C_CONTIGUOUS. Will affect performance.\n",
      "  warnings.warn('Input array is not C_CONTIGUOUS. ' 'Will affect performance.')\n"
     ]
    },
    {
     "name": "stdout",
     "output_type": "stream",
     "text": [
      "/Volumes/Thalassa/CORA_SHDR_rg/CORA_SHDR_198508_rg.nc done\n"
     ]
    },
    {
     "name": "stderr",
     "output_type": "stream",
     "text": [
      "/Users/ignasi/miniconda3/envs/xesmf_env/lib/python3.7/site-packages/xesmf/smm.py:130: UserWarning: Input array is not C_CONTIGUOUS. Will affect performance.\n",
      "  warnings.warn('Input array is not C_CONTIGUOUS. ' 'Will affect performance.')\n"
     ]
    },
    {
     "name": "stdout",
     "output_type": "stream",
     "text": [
      "/Volumes/Thalassa/CORA_SHDR_rg/CORA_SHDR_198509_rg.nc done\n"
     ]
    },
    {
     "name": "stderr",
     "output_type": "stream",
     "text": [
      "/Users/ignasi/miniconda3/envs/xesmf_env/lib/python3.7/site-packages/xesmf/smm.py:130: UserWarning: Input array is not C_CONTIGUOUS. Will affect performance.\n",
      "  warnings.warn('Input array is not C_CONTIGUOUS. ' 'Will affect performance.')\n"
     ]
    },
    {
     "name": "stdout",
     "output_type": "stream",
     "text": [
      "/Volumes/Thalassa/CORA_SHDR_rg/CORA_SHDR_198510_rg.nc done\n"
     ]
    },
    {
     "name": "stderr",
     "output_type": "stream",
     "text": [
      "/Users/ignasi/miniconda3/envs/xesmf_env/lib/python3.7/site-packages/xesmf/smm.py:130: UserWarning: Input array is not C_CONTIGUOUS. Will affect performance.\n",
      "  warnings.warn('Input array is not C_CONTIGUOUS. ' 'Will affect performance.')\n"
     ]
    },
    {
     "name": "stdout",
     "output_type": "stream",
     "text": [
      "/Volumes/Thalassa/CORA_SHDR_rg/CORA_SHDR_198511_rg.nc done\n"
     ]
    },
    {
     "name": "stderr",
     "output_type": "stream",
     "text": [
      "/Users/ignasi/miniconda3/envs/xesmf_env/lib/python3.7/site-packages/xesmf/smm.py:130: UserWarning: Input array is not C_CONTIGUOUS. Will affect performance.\n",
      "  warnings.warn('Input array is not C_CONTIGUOUS. ' 'Will affect performance.')\n"
     ]
    },
    {
     "name": "stdout",
     "output_type": "stream",
     "text": [
      "/Volumes/Thalassa/CORA_SHDR_rg/CORA_SHDR_198512_rg.nc done\n"
     ]
    },
    {
     "name": "stderr",
     "output_type": "stream",
     "text": [
      "/Users/ignasi/miniconda3/envs/xesmf_env/lib/python3.7/site-packages/xesmf/smm.py:130: UserWarning: Input array is not C_CONTIGUOUS. Will affect performance.\n",
      "  warnings.warn('Input array is not C_CONTIGUOUS. ' 'Will affect performance.')\n"
     ]
    },
    {
     "name": "stdout",
     "output_type": "stream",
     "text": [
      "/Volumes/Thalassa/CORA_SHDR_rg/CORA_SHDR_198601_rg.nc done\n"
     ]
    },
    {
     "name": "stderr",
     "output_type": "stream",
     "text": [
      "/Users/ignasi/miniconda3/envs/xesmf_env/lib/python3.7/site-packages/xesmf/smm.py:130: UserWarning: Input array is not C_CONTIGUOUS. Will affect performance.\n",
      "  warnings.warn('Input array is not C_CONTIGUOUS. ' 'Will affect performance.')\n"
     ]
    },
    {
     "name": "stdout",
     "output_type": "stream",
     "text": [
      "/Volumes/Thalassa/CORA_SHDR_rg/CORA_SHDR_198602_rg.nc done\n"
     ]
    },
    {
     "name": "stderr",
     "output_type": "stream",
     "text": [
      "/Users/ignasi/miniconda3/envs/xesmf_env/lib/python3.7/site-packages/xesmf/smm.py:130: UserWarning: Input array is not C_CONTIGUOUS. Will affect performance.\n",
      "  warnings.warn('Input array is not C_CONTIGUOUS. ' 'Will affect performance.')\n"
     ]
    },
    {
     "name": "stdout",
     "output_type": "stream",
     "text": [
      "/Volumes/Thalassa/CORA_SHDR_rg/CORA_SHDR_198603_rg.nc done\n"
     ]
    },
    {
     "name": "stderr",
     "output_type": "stream",
     "text": [
      "/Users/ignasi/miniconda3/envs/xesmf_env/lib/python3.7/site-packages/xesmf/smm.py:130: UserWarning: Input array is not C_CONTIGUOUS. Will affect performance.\n",
      "  warnings.warn('Input array is not C_CONTIGUOUS. ' 'Will affect performance.')\n"
     ]
    },
    {
     "name": "stdout",
     "output_type": "stream",
     "text": [
      "/Volumes/Thalassa/CORA_SHDR_rg/CORA_SHDR_198604_rg.nc done\n"
     ]
    },
    {
     "name": "stderr",
     "output_type": "stream",
     "text": [
      "/Users/ignasi/miniconda3/envs/xesmf_env/lib/python3.7/site-packages/xesmf/smm.py:130: UserWarning: Input array is not C_CONTIGUOUS. Will affect performance.\n",
      "  warnings.warn('Input array is not C_CONTIGUOUS. ' 'Will affect performance.')\n"
     ]
    },
    {
     "name": "stdout",
     "output_type": "stream",
     "text": [
      "/Volumes/Thalassa/CORA_SHDR_rg/CORA_SHDR_198605_rg.nc done\n"
     ]
    },
    {
     "name": "stderr",
     "output_type": "stream",
     "text": [
      "/Users/ignasi/miniconda3/envs/xesmf_env/lib/python3.7/site-packages/xesmf/smm.py:130: UserWarning: Input array is not C_CONTIGUOUS. Will affect performance.\n",
      "  warnings.warn('Input array is not C_CONTIGUOUS. ' 'Will affect performance.')\n"
     ]
    },
    {
     "name": "stdout",
     "output_type": "stream",
     "text": [
      "/Volumes/Thalassa/CORA_SHDR_rg/CORA_SHDR_198606_rg.nc done\n"
     ]
    },
    {
     "name": "stderr",
     "output_type": "stream",
     "text": [
      "/Users/ignasi/miniconda3/envs/xesmf_env/lib/python3.7/site-packages/xesmf/smm.py:130: UserWarning: Input array is not C_CONTIGUOUS. Will affect performance.\n",
      "  warnings.warn('Input array is not C_CONTIGUOUS. ' 'Will affect performance.')\n"
     ]
    },
    {
     "name": "stdout",
     "output_type": "stream",
     "text": [
      "/Volumes/Thalassa/CORA_SHDR_rg/CORA_SHDR_198607_rg.nc done\n"
     ]
    },
    {
     "name": "stderr",
     "output_type": "stream",
     "text": [
      "/Users/ignasi/miniconda3/envs/xesmf_env/lib/python3.7/site-packages/xesmf/smm.py:130: UserWarning: Input array is not C_CONTIGUOUS. Will affect performance.\n",
      "  warnings.warn('Input array is not C_CONTIGUOUS. ' 'Will affect performance.')\n"
     ]
    },
    {
     "name": "stdout",
     "output_type": "stream",
     "text": [
      "/Volumes/Thalassa/CORA_SHDR_rg/CORA_SHDR_198608_rg.nc done\n"
     ]
    },
    {
     "name": "stderr",
     "output_type": "stream",
     "text": [
      "/Users/ignasi/miniconda3/envs/xesmf_env/lib/python3.7/site-packages/xesmf/smm.py:130: UserWarning: Input array is not C_CONTIGUOUS. Will affect performance.\n",
      "  warnings.warn('Input array is not C_CONTIGUOUS. ' 'Will affect performance.')\n"
     ]
    },
    {
     "name": "stdout",
     "output_type": "stream",
     "text": [
      "/Volumes/Thalassa/CORA_SHDR_rg/CORA_SHDR_198609_rg.nc done\n"
     ]
    },
    {
     "name": "stderr",
     "output_type": "stream",
     "text": [
      "/Users/ignasi/miniconda3/envs/xesmf_env/lib/python3.7/site-packages/xesmf/smm.py:130: UserWarning: Input array is not C_CONTIGUOUS. Will affect performance.\n",
      "  warnings.warn('Input array is not C_CONTIGUOUS. ' 'Will affect performance.')\n"
     ]
    },
    {
     "name": "stdout",
     "output_type": "stream",
     "text": [
      "/Volumes/Thalassa/CORA_SHDR_rg/CORA_SHDR_198610_rg.nc done\n"
     ]
    },
    {
     "name": "stderr",
     "output_type": "stream",
     "text": [
      "/Users/ignasi/miniconda3/envs/xesmf_env/lib/python3.7/site-packages/xesmf/smm.py:130: UserWarning: Input array is not C_CONTIGUOUS. Will affect performance.\n",
      "  warnings.warn('Input array is not C_CONTIGUOUS. ' 'Will affect performance.')\n"
     ]
    },
    {
     "name": "stdout",
     "output_type": "stream",
     "text": [
      "/Volumes/Thalassa/CORA_SHDR_rg/CORA_SHDR_198611_rg.nc done\n"
     ]
    },
    {
     "name": "stderr",
     "output_type": "stream",
     "text": [
      "/Users/ignasi/miniconda3/envs/xesmf_env/lib/python3.7/site-packages/xesmf/smm.py:130: UserWarning: Input array is not C_CONTIGUOUS. Will affect performance.\n",
      "  warnings.warn('Input array is not C_CONTIGUOUS. ' 'Will affect performance.')\n"
     ]
    },
    {
     "name": "stdout",
     "output_type": "stream",
     "text": [
      "/Volumes/Thalassa/CORA_SHDR_rg/CORA_SHDR_198612_rg.nc done\n"
     ]
    },
    {
     "name": "stderr",
     "output_type": "stream",
     "text": [
      "/Users/ignasi/miniconda3/envs/xesmf_env/lib/python3.7/site-packages/xesmf/smm.py:130: UserWarning: Input array is not C_CONTIGUOUS. Will affect performance.\n",
      "  warnings.warn('Input array is not C_CONTIGUOUS. ' 'Will affect performance.')\n"
     ]
    },
    {
     "name": "stdout",
     "output_type": "stream",
     "text": [
      "/Volumes/Thalassa/CORA_SHDR_rg/CORA_SHDR_198701_rg.nc done\n"
     ]
    },
    {
     "name": "stderr",
     "output_type": "stream",
     "text": [
      "/Users/ignasi/miniconda3/envs/xesmf_env/lib/python3.7/site-packages/xesmf/smm.py:130: UserWarning: Input array is not C_CONTIGUOUS. Will affect performance.\n",
      "  warnings.warn('Input array is not C_CONTIGUOUS. ' 'Will affect performance.')\n"
     ]
    },
    {
     "name": "stdout",
     "output_type": "stream",
     "text": [
      "/Volumes/Thalassa/CORA_SHDR_rg/CORA_SHDR_198702_rg.nc done\n"
     ]
    },
    {
     "name": "stderr",
     "output_type": "stream",
     "text": [
      "/Users/ignasi/miniconda3/envs/xesmf_env/lib/python3.7/site-packages/xesmf/smm.py:130: UserWarning: Input array is not C_CONTIGUOUS. Will affect performance.\n",
      "  warnings.warn('Input array is not C_CONTIGUOUS. ' 'Will affect performance.')\n"
     ]
    },
    {
     "name": "stdout",
     "output_type": "stream",
     "text": [
      "/Volumes/Thalassa/CORA_SHDR_rg/CORA_SHDR_198703_rg.nc done\n"
     ]
    },
    {
     "name": "stderr",
     "output_type": "stream",
     "text": [
      "/Users/ignasi/miniconda3/envs/xesmf_env/lib/python3.7/site-packages/xesmf/smm.py:130: UserWarning: Input array is not C_CONTIGUOUS. Will affect performance.\n",
      "  warnings.warn('Input array is not C_CONTIGUOUS. ' 'Will affect performance.')\n"
     ]
    },
    {
     "name": "stdout",
     "output_type": "stream",
     "text": [
      "/Volumes/Thalassa/CORA_SHDR_rg/CORA_SHDR_198704_rg.nc done\n"
     ]
    },
    {
     "name": "stderr",
     "output_type": "stream",
     "text": [
      "/Users/ignasi/miniconda3/envs/xesmf_env/lib/python3.7/site-packages/xesmf/smm.py:130: UserWarning: Input array is not C_CONTIGUOUS. Will affect performance.\n",
      "  warnings.warn('Input array is not C_CONTIGUOUS. ' 'Will affect performance.')\n"
     ]
    },
    {
     "name": "stdout",
     "output_type": "stream",
     "text": [
      "/Volumes/Thalassa/CORA_SHDR_rg/CORA_SHDR_198705_rg.nc done\n"
     ]
    },
    {
     "name": "stderr",
     "output_type": "stream",
     "text": [
      "/Users/ignasi/miniconda3/envs/xesmf_env/lib/python3.7/site-packages/xesmf/smm.py:130: UserWarning: Input array is not C_CONTIGUOUS. Will affect performance.\n",
      "  warnings.warn('Input array is not C_CONTIGUOUS. ' 'Will affect performance.')\n"
     ]
    },
    {
     "name": "stdout",
     "output_type": "stream",
     "text": [
      "/Volumes/Thalassa/CORA_SHDR_rg/CORA_SHDR_198706_rg.nc done\n"
     ]
    },
    {
     "name": "stderr",
     "output_type": "stream",
     "text": [
      "/Users/ignasi/miniconda3/envs/xesmf_env/lib/python3.7/site-packages/xesmf/smm.py:130: UserWarning: Input array is not C_CONTIGUOUS. Will affect performance.\n",
      "  warnings.warn('Input array is not C_CONTIGUOUS. ' 'Will affect performance.')\n"
     ]
    },
    {
     "name": "stdout",
     "output_type": "stream",
     "text": [
      "/Volumes/Thalassa/CORA_SHDR_rg/CORA_SHDR_198707_rg.nc done\n"
     ]
    },
    {
     "name": "stderr",
     "output_type": "stream",
     "text": [
      "/Users/ignasi/miniconda3/envs/xesmf_env/lib/python3.7/site-packages/xesmf/smm.py:130: UserWarning: Input array is not C_CONTIGUOUS. Will affect performance.\n",
      "  warnings.warn('Input array is not C_CONTIGUOUS. ' 'Will affect performance.')\n"
     ]
    },
    {
     "name": "stdout",
     "output_type": "stream",
     "text": [
      "/Volumes/Thalassa/CORA_SHDR_rg/CORA_SHDR_198708_rg.nc done\n"
     ]
    },
    {
     "name": "stderr",
     "output_type": "stream",
     "text": [
      "/Users/ignasi/miniconda3/envs/xesmf_env/lib/python3.7/site-packages/xesmf/smm.py:130: UserWarning: Input array is not C_CONTIGUOUS. Will affect performance.\n",
      "  warnings.warn('Input array is not C_CONTIGUOUS. ' 'Will affect performance.')\n"
     ]
    },
    {
     "name": "stdout",
     "output_type": "stream",
     "text": [
      "/Volumes/Thalassa/CORA_SHDR_rg/CORA_SHDR_198709_rg.nc done\n"
     ]
    },
    {
     "name": "stderr",
     "output_type": "stream",
     "text": [
      "/Users/ignasi/miniconda3/envs/xesmf_env/lib/python3.7/site-packages/xesmf/smm.py:130: UserWarning: Input array is not C_CONTIGUOUS. Will affect performance.\n",
      "  warnings.warn('Input array is not C_CONTIGUOUS. ' 'Will affect performance.')\n"
     ]
    },
    {
     "name": "stdout",
     "output_type": "stream",
     "text": [
      "/Volumes/Thalassa/CORA_SHDR_rg/CORA_SHDR_198710_rg.nc done\n"
     ]
    },
    {
     "name": "stderr",
     "output_type": "stream",
     "text": [
      "/Users/ignasi/miniconda3/envs/xesmf_env/lib/python3.7/site-packages/xesmf/smm.py:130: UserWarning: Input array is not C_CONTIGUOUS. Will affect performance.\n",
      "  warnings.warn('Input array is not C_CONTIGUOUS. ' 'Will affect performance.')\n"
     ]
    },
    {
     "name": "stdout",
     "output_type": "stream",
     "text": [
      "/Volumes/Thalassa/CORA_SHDR_rg/CORA_SHDR_198711_rg.nc done\n"
     ]
    },
    {
     "name": "stderr",
     "output_type": "stream",
     "text": [
      "/Users/ignasi/miniconda3/envs/xesmf_env/lib/python3.7/site-packages/xesmf/smm.py:130: UserWarning: Input array is not C_CONTIGUOUS. Will affect performance.\n",
      "  warnings.warn('Input array is not C_CONTIGUOUS. ' 'Will affect performance.')\n"
     ]
    },
    {
     "name": "stdout",
     "output_type": "stream",
     "text": [
      "/Volumes/Thalassa/CORA_SHDR_rg/CORA_SHDR_198712_rg.nc done\n"
     ]
    },
    {
     "name": "stderr",
     "output_type": "stream",
     "text": [
      "/Users/ignasi/miniconda3/envs/xesmf_env/lib/python3.7/site-packages/xesmf/smm.py:130: UserWarning: Input array is not C_CONTIGUOUS. Will affect performance.\n",
      "  warnings.warn('Input array is not C_CONTIGUOUS. ' 'Will affect performance.')\n"
     ]
    },
    {
     "name": "stdout",
     "output_type": "stream",
     "text": [
      "/Volumes/Thalassa/CORA_SHDR_rg/CORA_SHDR_198801_rg.nc done\n"
     ]
    },
    {
     "name": "stderr",
     "output_type": "stream",
     "text": [
      "/Users/ignasi/miniconda3/envs/xesmf_env/lib/python3.7/site-packages/xesmf/smm.py:130: UserWarning: Input array is not C_CONTIGUOUS. Will affect performance.\n",
      "  warnings.warn('Input array is not C_CONTIGUOUS. ' 'Will affect performance.')\n"
     ]
    },
    {
     "name": "stdout",
     "output_type": "stream",
     "text": [
      "/Volumes/Thalassa/CORA_SHDR_rg/CORA_SHDR_198802_rg.nc done\n"
     ]
    },
    {
     "name": "stderr",
     "output_type": "stream",
     "text": [
      "/Users/ignasi/miniconda3/envs/xesmf_env/lib/python3.7/site-packages/xesmf/smm.py:130: UserWarning: Input array is not C_CONTIGUOUS. Will affect performance.\n",
      "  warnings.warn('Input array is not C_CONTIGUOUS. ' 'Will affect performance.')\n"
     ]
    },
    {
     "name": "stdout",
     "output_type": "stream",
     "text": [
      "/Volumes/Thalassa/CORA_SHDR_rg/CORA_SHDR_198803_rg.nc done\n"
     ]
    },
    {
     "name": "stderr",
     "output_type": "stream",
     "text": [
      "/Users/ignasi/miniconda3/envs/xesmf_env/lib/python3.7/site-packages/xesmf/smm.py:130: UserWarning: Input array is not C_CONTIGUOUS. Will affect performance.\n",
      "  warnings.warn('Input array is not C_CONTIGUOUS. ' 'Will affect performance.')\n"
     ]
    },
    {
     "name": "stdout",
     "output_type": "stream",
     "text": [
      "/Volumes/Thalassa/CORA_SHDR_rg/CORA_SHDR_198804_rg.nc done\n"
     ]
    },
    {
     "name": "stderr",
     "output_type": "stream",
     "text": [
      "/Users/ignasi/miniconda3/envs/xesmf_env/lib/python3.7/site-packages/xesmf/smm.py:130: UserWarning: Input array is not C_CONTIGUOUS. Will affect performance.\n",
      "  warnings.warn('Input array is not C_CONTIGUOUS. ' 'Will affect performance.')\n"
     ]
    },
    {
     "name": "stdout",
     "output_type": "stream",
     "text": [
      "/Volumes/Thalassa/CORA_SHDR_rg/CORA_SHDR_198805_rg.nc done\n"
     ]
    },
    {
     "name": "stderr",
     "output_type": "stream",
     "text": [
      "/Users/ignasi/miniconda3/envs/xesmf_env/lib/python3.7/site-packages/xesmf/smm.py:130: UserWarning: Input array is not C_CONTIGUOUS. Will affect performance.\n",
      "  warnings.warn('Input array is not C_CONTIGUOUS. ' 'Will affect performance.')\n"
     ]
    },
    {
     "name": "stdout",
     "output_type": "stream",
     "text": [
      "/Volumes/Thalassa/CORA_SHDR_rg/CORA_SHDR_198806_rg.nc done\n"
     ]
    },
    {
     "name": "stderr",
     "output_type": "stream",
     "text": [
      "/Users/ignasi/miniconda3/envs/xesmf_env/lib/python3.7/site-packages/xesmf/smm.py:130: UserWarning: Input array is not C_CONTIGUOUS. Will affect performance.\n",
      "  warnings.warn('Input array is not C_CONTIGUOUS. ' 'Will affect performance.')\n"
     ]
    },
    {
     "name": "stdout",
     "output_type": "stream",
     "text": [
      "/Volumes/Thalassa/CORA_SHDR_rg/CORA_SHDR_198807_rg.nc done\n"
     ]
    },
    {
     "name": "stderr",
     "output_type": "stream",
     "text": [
      "/Users/ignasi/miniconda3/envs/xesmf_env/lib/python3.7/site-packages/xesmf/smm.py:130: UserWarning: Input array is not C_CONTIGUOUS. Will affect performance.\n",
      "  warnings.warn('Input array is not C_CONTIGUOUS. ' 'Will affect performance.')\n"
     ]
    },
    {
     "name": "stdout",
     "output_type": "stream",
     "text": [
      "/Volumes/Thalassa/CORA_SHDR_rg/CORA_SHDR_198808_rg.nc done\n"
     ]
    },
    {
     "name": "stderr",
     "output_type": "stream",
     "text": [
      "/Users/ignasi/miniconda3/envs/xesmf_env/lib/python3.7/site-packages/xesmf/smm.py:130: UserWarning: Input array is not C_CONTIGUOUS. Will affect performance.\n",
      "  warnings.warn('Input array is not C_CONTIGUOUS. ' 'Will affect performance.')\n"
     ]
    },
    {
     "name": "stdout",
     "output_type": "stream",
     "text": [
      "/Volumes/Thalassa/CORA_SHDR_rg/CORA_SHDR_198809_rg.nc done\n"
     ]
    },
    {
     "name": "stderr",
     "output_type": "stream",
     "text": [
      "/Users/ignasi/miniconda3/envs/xesmf_env/lib/python3.7/site-packages/xesmf/smm.py:130: UserWarning: Input array is not C_CONTIGUOUS. Will affect performance.\n",
      "  warnings.warn('Input array is not C_CONTIGUOUS. ' 'Will affect performance.')\n"
     ]
    },
    {
     "name": "stdout",
     "output_type": "stream",
     "text": [
      "/Volumes/Thalassa/CORA_SHDR_rg/CORA_SHDR_198810_rg.nc done\n"
     ]
    },
    {
     "name": "stderr",
     "output_type": "stream",
     "text": [
      "/Users/ignasi/miniconda3/envs/xesmf_env/lib/python3.7/site-packages/xesmf/smm.py:130: UserWarning: Input array is not C_CONTIGUOUS. Will affect performance.\n",
      "  warnings.warn('Input array is not C_CONTIGUOUS. ' 'Will affect performance.')\n"
     ]
    },
    {
     "name": "stdout",
     "output_type": "stream",
     "text": [
      "/Volumes/Thalassa/CORA_SHDR_rg/CORA_SHDR_198811_rg.nc done\n"
     ]
    },
    {
     "name": "stderr",
     "output_type": "stream",
     "text": [
      "/Users/ignasi/miniconda3/envs/xesmf_env/lib/python3.7/site-packages/xesmf/smm.py:130: UserWarning: Input array is not C_CONTIGUOUS. Will affect performance.\n",
      "  warnings.warn('Input array is not C_CONTIGUOUS. ' 'Will affect performance.')\n"
     ]
    },
    {
     "name": "stdout",
     "output_type": "stream",
     "text": [
      "/Volumes/Thalassa/CORA_SHDR_rg/CORA_SHDR_198812_rg.nc done\n"
     ]
    },
    {
     "name": "stderr",
     "output_type": "stream",
     "text": [
      "/Users/ignasi/miniconda3/envs/xesmf_env/lib/python3.7/site-packages/xesmf/smm.py:130: UserWarning: Input array is not C_CONTIGUOUS. Will affect performance.\n",
      "  warnings.warn('Input array is not C_CONTIGUOUS. ' 'Will affect performance.')\n"
     ]
    },
    {
     "name": "stdout",
     "output_type": "stream",
     "text": [
      "/Volumes/Thalassa/CORA_SHDR_rg/CORA_SHDR_198901_rg.nc done\n"
     ]
    },
    {
     "name": "stderr",
     "output_type": "stream",
     "text": [
      "/Users/ignasi/miniconda3/envs/xesmf_env/lib/python3.7/site-packages/xesmf/smm.py:130: UserWarning: Input array is not C_CONTIGUOUS. Will affect performance.\n",
      "  warnings.warn('Input array is not C_CONTIGUOUS. ' 'Will affect performance.')\n"
     ]
    },
    {
     "name": "stdout",
     "output_type": "stream",
     "text": [
      "/Volumes/Thalassa/CORA_SHDR_rg/CORA_SHDR_198902_rg.nc done\n"
     ]
    },
    {
     "name": "stderr",
     "output_type": "stream",
     "text": [
      "/Users/ignasi/miniconda3/envs/xesmf_env/lib/python3.7/site-packages/xesmf/smm.py:130: UserWarning: Input array is not C_CONTIGUOUS. Will affect performance.\n",
      "  warnings.warn('Input array is not C_CONTIGUOUS. ' 'Will affect performance.')\n"
     ]
    },
    {
     "name": "stdout",
     "output_type": "stream",
     "text": [
      "/Volumes/Thalassa/CORA_SHDR_rg/CORA_SHDR_198903_rg.nc done\n"
     ]
    },
    {
     "name": "stderr",
     "output_type": "stream",
     "text": [
      "/Users/ignasi/miniconda3/envs/xesmf_env/lib/python3.7/site-packages/xesmf/smm.py:130: UserWarning: Input array is not C_CONTIGUOUS. Will affect performance.\n",
      "  warnings.warn('Input array is not C_CONTIGUOUS. ' 'Will affect performance.')\n"
     ]
    },
    {
     "name": "stdout",
     "output_type": "stream",
     "text": [
      "/Volumes/Thalassa/CORA_SHDR_rg/CORA_SHDR_198904_rg.nc done\n"
     ]
    },
    {
     "name": "stderr",
     "output_type": "stream",
     "text": [
      "/Users/ignasi/miniconda3/envs/xesmf_env/lib/python3.7/site-packages/xesmf/smm.py:130: UserWarning: Input array is not C_CONTIGUOUS. Will affect performance.\n",
      "  warnings.warn('Input array is not C_CONTIGUOUS. ' 'Will affect performance.')\n"
     ]
    },
    {
     "name": "stdout",
     "output_type": "stream",
     "text": [
      "/Volumes/Thalassa/CORA_SHDR_rg/CORA_SHDR_198905_rg.nc done\n"
     ]
    },
    {
     "name": "stderr",
     "output_type": "stream",
     "text": [
      "/Users/ignasi/miniconda3/envs/xesmf_env/lib/python3.7/site-packages/xesmf/smm.py:130: UserWarning: Input array is not C_CONTIGUOUS. Will affect performance.\n",
      "  warnings.warn('Input array is not C_CONTIGUOUS. ' 'Will affect performance.')\n"
     ]
    },
    {
     "name": "stdout",
     "output_type": "stream",
     "text": [
      "/Volumes/Thalassa/CORA_SHDR_rg/CORA_SHDR_198906_rg.nc done\n"
     ]
    },
    {
     "name": "stderr",
     "output_type": "stream",
     "text": [
      "/Users/ignasi/miniconda3/envs/xesmf_env/lib/python3.7/site-packages/xesmf/smm.py:130: UserWarning: Input array is not C_CONTIGUOUS. Will affect performance.\n",
      "  warnings.warn('Input array is not C_CONTIGUOUS. ' 'Will affect performance.')\n"
     ]
    },
    {
     "name": "stdout",
     "output_type": "stream",
     "text": [
      "/Volumes/Thalassa/CORA_SHDR_rg/CORA_SHDR_198907_rg.nc done\n"
     ]
    },
    {
     "name": "stderr",
     "output_type": "stream",
     "text": [
      "/Users/ignasi/miniconda3/envs/xesmf_env/lib/python3.7/site-packages/xesmf/smm.py:130: UserWarning: Input array is not C_CONTIGUOUS. Will affect performance.\n",
      "  warnings.warn('Input array is not C_CONTIGUOUS. ' 'Will affect performance.')\n"
     ]
    },
    {
     "name": "stdout",
     "output_type": "stream",
     "text": [
      "/Volumes/Thalassa/CORA_SHDR_rg/CORA_SHDR_198908_rg.nc done\n"
     ]
    },
    {
     "name": "stderr",
     "output_type": "stream",
     "text": [
      "/Users/ignasi/miniconda3/envs/xesmf_env/lib/python3.7/site-packages/xesmf/smm.py:130: UserWarning: Input array is not C_CONTIGUOUS. Will affect performance.\n",
      "  warnings.warn('Input array is not C_CONTIGUOUS. ' 'Will affect performance.')\n"
     ]
    },
    {
     "name": "stdout",
     "output_type": "stream",
     "text": [
      "/Volumes/Thalassa/CORA_SHDR_rg/CORA_SHDR_198909_rg.nc done\n"
     ]
    },
    {
     "name": "stderr",
     "output_type": "stream",
     "text": [
      "/Users/ignasi/miniconda3/envs/xesmf_env/lib/python3.7/site-packages/xesmf/smm.py:130: UserWarning: Input array is not C_CONTIGUOUS. Will affect performance.\n",
      "  warnings.warn('Input array is not C_CONTIGUOUS. ' 'Will affect performance.')\n"
     ]
    },
    {
     "name": "stdout",
     "output_type": "stream",
     "text": [
      "/Volumes/Thalassa/CORA_SHDR_rg/CORA_SHDR_198910_rg.nc done\n"
     ]
    },
    {
     "name": "stderr",
     "output_type": "stream",
     "text": [
      "/Users/ignasi/miniconda3/envs/xesmf_env/lib/python3.7/site-packages/xesmf/smm.py:130: UserWarning: Input array is not C_CONTIGUOUS. Will affect performance.\n",
      "  warnings.warn('Input array is not C_CONTIGUOUS. ' 'Will affect performance.')\n"
     ]
    },
    {
     "name": "stdout",
     "output_type": "stream",
     "text": [
      "/Volumes/Thalassa/CORA_SHDR_rg/CORA_SHDR_198911_rg.nc done\n"
     ]
    },
    {
     "name": "stderr",
     "output_type": "stream",
     "text": [
      "/Users/ignasi/miniconda3/envs/xesmf_env/lib/python3.7/site-packages/xesmf/smm.py:130: UserWarning: Input array is not C_CONTIGUOUS. Will affect performance.\n",
      "  warnings.warn('Input array is not C_CONTIGUOUS. ' 'Will affect performance.')\n"
     ]
    },
    {
     "name": "stdout",
     "output_type": "stream",
     "text": [
      "/Volumes/Thalassa/CORA_SHDR_rg/CORA_SHDR_198912_rg.nc done\n"
     ]
    },
    {
     "name": "stderr",
     "output_type": "stream",
     "text": [
      "/Users/ignasi/miniconda3/envs/xesmf_env/lib/python3.7/site-packages/xesmf/smm.py:130: UserWarning: Input array is not C_CONTIGUOUS. Will affect performance.\n",
      "  warnings.warn('Input array is not C_CONTIGUOUS. ' 'Will affect performance.')\n"
     ]
    },
    {
     "name": "stdout",
     "output_type": "stream",
     "text": [
      "/Volumes/Thalassa/CORA_SHDR_rg/CORA_SHDR_199001_rg.nc done\n"
     ]
    },
    {
     "name": "stderr",
     "output_type": "stream",
     "text": [
      "/Users/ignasi/miniconda3/envs/xesmf_env/lib/python3.7/site-packages/xesmf/smm.py:130: UserWarning: Input array is not C_CONTIGUOUS. Will affect performance.\n",
      "  warnings.warn('Input array is not C_CONTIGUOUS. ' 'Will affect performance.')\n"
     ]
    },
    {
     "name": "stdout",
     "output_type": "stream",
     "text": [
      "/Volumes/Thalassa/CORA_SHDR_rg/CORA_SHDR_199002_rg.nc done\n"
     ]
    },
    {
     "name": "stderr",
     "output_type": "stream",
     "text": [
      "/Users/ignasi/miniconda3/envs/xesmf_env/lib/python3.7/site-packages/xesmf/smm.py:130: UserWarning: Input array is not C_CONTIGUOUS. Will affect performance.\n",
      "  warnings.warn('Input array is not C_CONTIGUOUS. ' 'Will affect performance.')\n"
     ]
    },
    {
     "name": "stdout",
     "output_type": "stream",
     "text": [
      "/Volumes/Thalassa/CORA_SHDR_rg/CORA_SHDR_199003_rg.nc done\n"
     ]
    },
    {
     "name": "stderr",
     "output_type": "stream",
     "text": [
      "/Users/ignasi/miniconda3/envs/xesmf_env/lib/python3.7/site-packages/xesmf/smm.py:130: UserWarning: Input array is not C_CONTIGUOUS. Will affect performance.\n",
      "  warnings.warn('Input array is not C_CONTIGUOUS. ' 'Will affect performance.')\n"
     ]
    },
    {
     "name": "stdout",
     "output_type": "stream",
     "text": [
      "/Volumes/Thalassa/CORA_SHDR_rg/CORA_SHDR_199004_rg.nc done\n"
     ]
    },
    {
     "name": "stderr",
     "output_type": "stream",
     "text": [
      "/Users/ignasi/miniconda3/envs/xesmf_env/lib/python3.7/site-packages/xesmf/smm.py:130: UserWarning: Input array is not C_CONTIGUOUS. Will affect performance.\n",
      "  warnings.warn('Input array is not C_CONTIGUOUS. ' 'Will affect performance.')\n"
     ]
    },
    {
     "name": "stdout",
     "output_type": "stream",
     "text": [
      "/Volumes/Thalassa/CORA_SHDR_rg/CORA_SHDR_199005_rg.nc done\n"
     ]
    },
    {
     "name": "stderr",
     "output_type": "stream",
     "text": [
      "/Users/ignasi/miniconda3/envs/xesmf_env/lib/python3.7/site-packages/xesmf/smm.py:130: UserWarning: Input array is not C_CONTIGUOUS. Will affect performance.\n",
      "  warnings.warn('Input array is not C_CONTIGUOUS. ' 'Will affect performance.')\n"
     ]
    },
    {
     "name": "stdout",
     "output_type": "stream",
     "text": [
      "/Volumes/Thalassa/CORA_SHDR_rg/CORA_SHDR_199006_rg.nc done\n"
     ]
    },
    {
     "name": "stderr",
     "output_type": "stream",
     "text": [
      "/Users/ignasi/miniconda3/envs/xesmf_env/lib/python3.7/site-packages/xesmf/smm.py:130: UserWarning: Input array is not C_CONTIGUOUS. Will affect performance.\n",
      "  warnings.warn('Input array is not C_CONTIGUOUS. ' 'Will affect performance.')\n"
     ]
    },
    {
     "name": "stdout",
     "output_type": "stream",
     "text": [
      "/Volumes/Thalassa/CORA_SHDR_rg/CORA_SHDR_199007_rg.nc done\n"
     ]
    },
    {
     "name": "stderr",
     "output_type": "stream",
     "text": [
      "/Users/ignasi/miniconda3/envs/xesmf_env/lib/python3.7/site-packages/xesmf/smm.py:130: UserWarning: Input array is not C_CONTIGUOUS. Will affect performance.\n",
      "  warnings.warn('Input array is not C_CONTIGUOUS. ' 'Will affect performance.')\n"
     ]
    },
    {
     "name": "stdout",
     "output_type": "stream",
     "text": [
      "/Volumes/Thalassa/CORA_SHDR_rg/CORA_SHDR_199008_rg.nc done\n"
     ]
    },
    {
     "name": "stderr",
     "output_type": "stream",
     "text": [
      "/Users/ignasi/miniconda3/envs/xesmf_env/lib/python3.7/site-packages/xesmf/smm.py:130: UserWarning: Input array is not C_CONTIGUOUS. Will affect performance.\n",
      "  warnings.warn('Input array is not C_CONTIGUOUS. ' 'Will affect performance.')\n"
     ]
    },
    {
     "name": "stdout",
     "output_type": "stream",
     "text": [
      "/Volumes/Thalassa/CORA_SHDR_rg/CORA_SHDR_199009_rg.nc done\n"
     ]
    },
    {
     "name": "stderr",
     "output_type": "stream",
     "text": [
      "/Users/ignasi/miniconda3/envs/xesmf_env/lib/python3.7/site-packages/xesmf/smm.py:130: UserWarning: Input array is not C_CONTIGUOUS. Will affect performance.\n",
      "  warnings.warn('Input array is not C_CONTIGUOUS. ' 'Will affect performance.')\n"
     ]
    },
    {
     "name": "stdout",
     "output_type": "stream",
     "text": [
      "/Volumes/Thalassa/CORA_SHDR_rg/CORA_SHDR_199010_rg.nc done\n"
     ]
    },
    {
     "name": "stderr",
     "output_type": "stream",
     "text": [
      "/Users/ignasi/miniconda3/envs/xesmf_env/lib/python3.7/site-packages/xesmf/smm.py:130: UserWarning: Input array is not C_CONTIGUOUS. Will affect performance.\n",
      "  warnings.warn('Input array is not C_CONTIGUOUS. ' 'Will affect performance.')\n"
     ]
    },
    {
     "name": "stdout",
     "output_type": "stream",
     "text": [
      "/Volumes/Thalassa/CORA_SHDR_rg/CORA_SHDR_199011_rg.nc done\n"
     ]
    },
    {
     "name": "stderr",
     "output_type": "stream",
     "text": [
      "/Users/ignasi/miniconda3/envs/xesmf_env/lib/python3.7/site-packages/xesmf/smm.py:130: UserWarning: Input array is not C_CONTIGUOUS. Will affect performance.\n",
      "  warnings.warn('Input array is not C_CONTIGUOUS. ' 'Will affect performance.')\n"
     ]
    },
    {
     "name": "stdout",
     "output_type": "stream",
     "text": [
      "/Volumes/Thalassa/CORA_SHDR_rg/CORA_SHDR_199012_rg.nc done\n"
     ]
    },
    {
     "name": "stderr",
     "output_type": "stream",
     "text": [
      "/Users/ignasi/miniconda3/envs/xesmf_env/lib/python3.7/site-packages/xesmf/smm.py:130: UserWarning: Input array is not C_CONTIGUOUS. Will affect performance.\n",
      "  warnings.warn('Input array is not C_CONTIGUOUS. ' 'Will affect performance.')\n"
     ]
    },
    {
     "name": "stdout",
     "output_type": "stream",
     "text": [
      "/Volumes/Thalassa/CORA_SHDR_rg/CORA_SHDR_199101_rg.nc done\n"
     ]
    },
    {
     "name": "stderr",
     "output_type": "stream",
     "text": [
      "/Users/ignasi/miniconda3/envs/xesmf_env/lib/python3.7/site-packages/xesmf/smm.py:130: UserWarning: Input array is not C_CONTIGUOUS. Will affect performance.\n",
      "  warnings.warn('Input array is not C_CONTIGUOUS. ' 'Will affect performance.')\n"
     ]
    },
    {
     "name": "stdout",
     "output_type": "stream",
     "text": [
      "/Volumes/Thalassa/CORA_SHDR_rg/CORA_SHDR_199102_rg.nc done\n"
     ]
    },
    {
     "name": "stderr",
     "output_type": "stream",
     "text": [
      "/Users/ignasi/miniconda3/envs/xesmf_env/lib/python3.7/site-packages/xesmf/smm.py:130: UserWarning: Input array is not C_CONTIGUOUS. Will affect performance.\n",
      "  warnings.warn('Input array is not C_CONTIGUOUS. ' 'Will affect performance.')\n"
     ]
    },
    {
     "name": "stdout",
     "output_type": "stream",
     "text": [
      "/Volumes/Thalassa/CORA_SHDR_rg/CORA_SHDR_199103_rg.nc done\n"
     ]
    },
    {
     "name": "stderr",
     "output_type": "stream",
     "text": [
      "/Users/ignasi/miniconda3/envs/xesmf_env/lib/python3.7/site-packages/xesmf/smm.py:130: UserWarning: Input array is not C_CONTIGUOUS. Will affect performance.\n",
      "  warnings.warn('Input array is not C_CONTIGUOUS. ' 'Will affect performance.')\n"
     ]
    },
    {
     "name": "stdout",
     "output_type": "stream",
     "text": [
      "/Volumes/Thalassa/CORA_SHDR_rg/CORA_SHDR_199104_rg.nc done\n"
     ]
    },
    {
     "name": "stderr",
     "output_type": "stream",
     "text": [
      "/Users/ignasi/miniconda3/envs/xesmf_env/lib/python3.7/site-packages/xesmf/smm.py:130: UserWarning: Input array is not C_CONTIGUOUS. Will affect performance.\n",
      "  warnings.warn('Input array is not C_CONTIGUOUS. ' 'Will affect performance.')\n"
     ]
    },
    {
     "name": "stdout",
     "output_type": "stream",
     "text": [
      "/Volumes/Thalassa/CORA_SHDR_rg/CORA_SHDR_199105_rg.nc done\n"
     ]
    },
    {
     "name": "stderr",
     "output_type": "stream",
     "text": [
      "/Users/ignasi/miniconda3/envs/xesmf_env/lib/python3.7/site-packages/xesmf/smm.py:130: UserWarning: Input array is not C_CONTIGUOUS. Will affect performance.\n",
      "  warnings.warn('Input array is not C_CONTIGUOUS. ' 'Will affect performance.')\n"
     ]
    },
    {
     "name": "stdout",
     "output_type": "stream",
     "text": [
      "/Volumes/Thalassa/CORA_SHDR_rg/CORA_SHDR_199106_rg.nc done\n"
     ]
    },
    {
     "name": "stderr",
     "output_type": "stream",
     "text": [
      "/Users/ignasi/miniconda3/envs/xesmf_env/lib/python3.7/site-packages/xesmf/smm.py:130: UserWarning: Input array is not C_CONTIGUOUS. Will affect performance.\n",
      "  warnings.warn('Input array is not C_CONTIGUOUS. ' 'Will affect performance.')\n"
     ]
    },
    {
     "name": "stdout",
     "output_type": "stream",
     "text": [
      "/Volumes/Thalassa/CORA_SHDR_rg/CORA_SHDR_199107_rg.nc done\n"
     ]
    },
    {
     "name": "stderr",
     "output_type": "stream",
     "text": [
      "/Users/ignasi/miniconda3/envs/xesmf_env/lib/python3.7/site-packages/xesmf/smm.py:130: UserWarning: Input array is not C_CONTIGUOUS. Will affect performance.\n",
      "  warnings.warn('Input array is not C_CONTIGUOUS. ' 'Will affect performance.')\n"
     ]
    },
    {
     "name": "stdout",
     "output_type": "stream",
     "text": [
      "/Volumes/Thalassa/CORA_SHDR_rg/CORA_SHDR_199108_rg.nc done\n"
     ]
    },
    {
     "name": "stderr",
     "output_type": "stream",
     "text": [
      "/Users/ignasi/miniconda3/envs/xesmf_env/lib/python3.7/site-packages/xesmf/smm.py:130: UserWarning: Input array is not C_CONTIGUOUS. Will affect performance.\n",
      "  warnings.warn('Input array is not C_CONTIGUOUS. ' 'Will affect performance.')\n"
     ]
    },
    {
     "name": "stdout",
     "output_type": "stream",
     "text": [
      "/Volumes/Thalassa/CORA_SHDR_rg/CORA_SHDR_199109_rg.nc done\n"
     ]
    },
    {
     "name": "stderr",
     "output_type": "stream",
     "text": [
      "/Users/ignasi/miniconda3/envs/xesmf_env/lib/python3.7/site-packages/xesmf/smm.py:130: UserWarning: Input array is not C_CONTIGUOUS. Will affect performance.\n",
      "  warnings.warn('Input array is not C_CONTIGUOUS. ' 'Will affect performance.')\n"
     ]
    },
    {
     "name": "stdout",
     "output_type": "stream",
     "text": [
      "/Volumes/Thalassa/CORA_SHDR_rg/CORA_SHDR_199110_rg.nc done\n"
     ]
    },
    {
     "name": "stderr",
     "output_type": "stream",
     "text": [
      "/Users/ignasi/miniconda3/envs/xesmf_env/lib/python3.7/site-packages/xesmf/smm.py:130: UserWarning: Input array is not C_CONTIGUOUS. Will affect performance.\n",
      "  warnings.warn('Input array is not C_CONTIGUOUS. ' 'Will affect performance.')\n"
     ]
    },
    {
     "name": "stdout",
     "output_type": "stream",
     "text": [
      "/Volumes/Thalassa/CORA_SHDR_rg/CORA_SHDR_199111_rg.nc done\n"
     ]
    },
    {
     "name": "stderr",
     "output_type": "stream",
     "text": [
      "/Users/ignasi/miniconda3/envs/xesmf_env/lib/python3.7/site-packages/xesmf/smm.py:130: UserWarning: Input array is not C_CONTIGUOUS. Will affect performance.\n",
      "  warnings.warn('Input array is not C_CONTIGUOUS. ' 'Will affect performance.')\n"
     ]
    },
    {
     "name": "stdout",
     "output_type": "stream",
     "text": [
      "/Volumes/Thalassa/CORA_SHDR_rg/CORA_SHDR_199112_rg.nc done\n"
     ]
    },
    {
     "name": "stderr",
     "output_type": "stream",
     "text": [
      "/Users/ignasi/miniconda3/envs/xesmf_env/lib/python3.7/site-packages/xesmf/smm.py:130: UserWarning: Input array is not C_CONTIGUOUS. Will affect performance.\n",
      "  warnings.warn('Input array is not C_CONTIGUOUS. ' 'Will affect performance.')\n"
     ]
    },
    {
     "name": "stdout",
     "output_type": "stream",
     "text": [
      "/Volumes/Thalassa/CORA_SHDR_rg/CORA_SHDR_199201_rg.nc done\n"
     ]
    },
    {
     "name": "stderr",
     "output_type": "stream",
     "text": [
      "/Users/ignasi/miniconda3/envs/xesmf_env/lib/python3.7/site-packages/xesmf/smm.py:130: UserWarning: Input array is not C_CONTIGUOUS. Will affect performance.\n",
      "  warnings.warn('Input array is not C_CONTIGUOUS. ' 'Will affect performance.')\n"
     ]
    },
    {
     "name": "stdout",
     "output_type": "stream",
     "text": [
      "/Volumes/Thalassa/CORA_SHDR_rg/CORA_SHDR_199202_rg.nc done\n"
     ]
    },
    {
     "name": "stderr",
     "output_type": "stream",
     "text": [
      "/Users/ignasi/miniconda3/envs/xesmf_env/lib/python3.7/site-packages/xesmf/smm.py:130: UserWarning: Input array is not C_CONTIGUOUS. Will affect performance.\n",
      "  warnings.warn('Input array is not C_CONTIGUOUS. ' 'Will affect performance.')\n"
     ]
    },
    {
     "name": "stdout",
     "output_type": "stream",
     "text": [
      "/Volumes/Thalassa/CORA_SHDR_rg/CORA_SHDR_199203_rg.nc done\n"
     ]
    },
    {
     "name": "stderr",
     "output_type": "stream",
     "text": [
      "/Users/ignasi/miniconda3/envs/xesmf_env/lib/python3.7/site-packages/xesmf/smm.py:130: UserWarning: Input array is not C_CONTIGUOUS. Will affect performance.\n",
      "  warnings.warn('Input array is not C_CONTIGUOUS. ' 'Will affect performance.')\n"
     ]
    },
    {
     "name": "stdout",
     "output_type": "stream",
     "text": [
      "/Volumes/Thalassa/CORA_SHDR_rg/CORA_SHDR_199204_rg.nc done\n"
     ]
    },
    {
     "name": "stderr",
     "output_type": "stream",
     "text": [
      "/Users/ignasi/miniconda3/envs/xesmf_env/lib/python3.7/site-packages/xesmf/smm.py:130: UserWarning: Input array is not C_CONTIGUOUS. Will affect performance.\n",
      "  warnings.warn('Input array is not C_CONTIGUOUS. ' 'Will affect performance.')\n"
     ]
    },
    {
     "name": "stdout",
     "output_type": "stream",
     "text": [
      "/Volumes/Thalassa/CORA_SHDR_rg/CORA_SHDR_199205_rg.nc done\n"
     ]
    },
    {
     "name": "stderr",
     "output_type": "stream",
     "text": [
      "/Users/ignasi/miniconda3/envs/xesmf_env/lib/python3.7/site-packages/xesmf/smm.py:130: UserWarning: Input array is not C_CONTIGUOUS. Will affect performance.\n",
      "  warnings.warn('Input array is not C_CONTIGUOUS. ' 'Will affect performance.')\n"
     ]
    },
    {
     "name": "stdout",
     "output_type": "stream",
     "text": [
      "/Volumes/Thalassa/CORA_SHDR_rg/CORA_SHDR_199206_rg.nc done\n"
     ]
    },
    {
     "name": "stderr",
     "output_type": "stream",
     "text": [
      "/Users/ignasi/miniconda3/envs/xesmf_env/lib/python3.7/site-packages/xesmf/smm.py:130: UserWarning: Input array is not C_CONTIGUOUS. Will affect performance.\n",
      "  warnings.warn('Input array is not C_CONTIGUOUS. ' 'Will affect performance.')\n"
     ]
    },
    {
     "name": "stdout",
     "output_type": "stream",
     "text": [
      "/Volumes/Thalassa/CORA_SHDR_rg/CORA_SHDR_199207_rg.nc done\n"
     ]
    },
    {
     "name": "stderr",
     "output_type": "stream",
     "text": [
      "/Users/ignasi/miniconda3/envs/xesmf_env/lib/python3.7/site-packages/xesmf/smm.py:130: UserWarning: Input array is not C_CONTIGUOUS. Will affect performance.\n",
      "  warnings.warn('Input array is not C_CONTIGUOUS. ' 'Will affect performance.')\n"
     ]
    },
    {
     "name": "stdout",
     "output_type": "stream",
     "text": [
      "/Volumes/Thalassa/CORA_SHDR_rg/CORA_SHDR_199208_rg.nc done\n"
     ]
    },
    {
     "name": "stderr",
     "output_type": "stream",
     "text": [
      "/Users/ignasi/miniconda3/envs/xesmf_env/lib/python3.7/site-packages/xesmf/smm.py:130: UserWarning: Input array is not C_CONTIGUOUS. Will affect performance.\n",
      "  warnings.warn('Input array is not C_CONTIGUOUS. ' 'Will affect performance.')\n"
     ]
    },
    {
     "name": "stdout",
     "output_type": "stream",
     "text": [
      "/Volumes/Thalassa/CORA_SHDR_rg/CORA_SHDR_199209_rg.nc done\n"
     ]
    },
    {
     "name": "stderr",
     "output_type": "stream",
     "text": [
      "/Users/ignasi/miniconda3/envs/xesmf_env/lib/python3.7/site-packages/xesmf/smm.py:130: UserWarning: Input array is not C_CONTIGUOUS. Will affect performance.\n",
      "  warnings.warn('Input array is not C_CONTIGUOUS. ' 'Will affect performance.')\n"
     ]
    },
    {
     "name": "stdout",
     "output_type": "stream",
     "text": [
      "/Volumes/Thalassa/CORA_SHDR_rg/CORA_SHDR_199210_rg.nc done\n"
     ]
    },
    {
     "name": "stderr",
     "output_type": "stream",
     "text": [
      "/Users/ignasi/miniconda3/envs/xesmf_env/lib/python3.7/site-packages/xesmf/smm.py:130: UserWarning: Input array is not C_CONTIGUOUS. Will affect performance.\n",
      "  warnings.warn('Input array is not C_CONTIGUOUS. ' 'Will affect performance.')\n"
     ]
    },
    {
     "name": "stdout",
     "output_type": "stream",
     "text": [
      "/Volumes/Thalassa/CORA_SHDR_rg/CORA_SHDR_199211_rg.nc done\n"
     ]
    },
    {
     "name": "stderr",
     "output_type": "stream",
     "text": [
      "/Users/ignasi/miniconda3/envs/xesmf_env/lib/python3.7/site-packages/xesmf/smm.py:130: UserWarning: Input array is not C_CONTIGUOUS. Will affect performance.\n",
      "  warnings.warn('Input array is not C_CONTIGUOUS. ' 'Will affect performance.')\n"
     ]
    },
    {
     "name": "stdout",
     "output_type": "stream",
     "text": [
      "/Volumes/Thalassa/CORA_SHDR_rg/CORA_SHDR_199212_rg.nc done\n"
     ]
    },
    {
     "name": "stderr",
     "output_type": "stream",
     "text": [
      "/Users/ignasi/miniconda3/envs/xesmf_env/lib/python3.7/site-packages/xesmf/smm.py:130: UserWarning: Input array is not C_CONTIGUOUS. Will affect performance.\n",
      "  warnings.warn('Input array is not C_CONTIGUOUS. ' 'Will affect performance.')\n"
     ]
    },
    {
     "name": "stdout",
     "output_type": "stream",
     "text": [
      "/Volumes/Thalassa/CORA_SHDR_rg/CORA_SHDR_199301_rg.nc done\n"
     ]
    },
    {
     "name": "stderr",
     "output_type": "stream",
     "text": [
      "/Users/ignasi/miniconda3/envs/xesmf_env/lib/python3.7/site-packages/xesmf/smm.py:130: UserWarning: Input array is not C_CONTIGUOUS. Will affect performance.\n",
      "  warnings.warn('Input array is not C_CONTIGUOUS. ' 'Will affect performance.')\n"
     ]
    },
    {
     "name": "stdout",
     "output_type": "stream",
     "text": [
      "/Volumes/Thalassa/CORA_SHDR_rg/CORA_SHDR_199302_rg.nc done\n"
     ]
    },
    {
     "name": "stderr",
     "output_type": "stream",
     "text": [
      "/Users/ignasi/miniconda3/envs/xesmf_env/lib/python3.7/site-packages/xesmf/smm.py:130: UserWarning: Input array is not C_CONTIGUOUS. Will affect performance.\n",
      "  warnings.warn('Input array is not C_CONTIGUOUS. ' 'Will affect performance.')\n"
     ]
    },
    {
     "name": "stdout",
     "output_type": "stream",
     "text": [
      "/Volumes/Thalassa/CORA_SHDR_rg/CORA_SHDR_199303_rg.nc done\n"
     ]
    },
    {
     "name": "stderr",
     "output_type": "stream",
     "text": [
      "/Users/ignasi/miniconda3/envs/xesmf_env/lib/python3.7/site-packages/xesmf/smm.py:130: UserWarning: Input array is not C_CONTIGUOUS. Will affect performance.\n",
      "  warnings.warn('Input array is not C_CONTIGUOUS. ' 'Will affect performance.')\n"
     ]
    },
    {
     "name": "stdout",
     "output_type": "stream",
     "text": [
      "/Volumes/Thalassa/CORA_SHDR_rg/CORA_SHDR_199304_rg.nc done\n"
     ]
    },
    {
     "name": "stderr",
     "output_type": "stream",
     "text": [
      "/Users/ignasi/miniconda3/envs/xesmf_env/lib/python3.7/site-packages/xesmf/smm.py:130: UserWarning: Input array is not C_CONTIGUOUS. Will affect performance.\n",
      "  warnings.warn('Input array is not C_CONTIGUOUS. ' 'Will affect performance.')\n"
     ]
    },
    {
     "name": "stdout",
     "output_type": "stream",
     "text": [
      "/Volumes/Thalassa/CORA_SHDR_rg/CORA_SHDR_199305_rg.nc done\n"
     ]
    },
    {
     "name": "stderr",
     "output_type": "stream",
     "text": [
      "/Users/ignasi/miniconda3/envs/xesmf_env/lib/python3.7/site-packages/xesmf/smm.py:130: UserWarning: Input array is not C_CONTIGUOUS. Will affect performance.\n",
      "  warnings.warn('Input array is not C_CONTIGUOUS. ' 'Will affect performance.')\n"
     ]
    },
    {
     "name": "stdout",
     "output_type": "stream",
     "text": [
      "/Volumes/Thalassa/CORA_SHDR_rg/CORA_SHDR_199306_rg.nc done\n"
     ]
    },
    {
     "name": "stderr",
     "output_type": "stream",
     "text": [
      "/Users/ignasi/miniconda3/envs/xesmf_env/lib/python3.7/site-packages/xesmf/smm.py:130: UserWarning: Input array is not C_CONTIGUOUS. Will affect performance.\n",
      "  warnings.warn('Input array is not C_CONTIGUOUS. ' 'Will affect performance.')\n"
     ]
    },
    {
     "name": "stdout",
     "output_type": "stream",
     "text": [
      "/Volumes/Thalassa/CORA_SHDR_rg/CORA_SHDR_199307_rg.nc done\n"
     ]
    },
    {
     "name": "stderr",
     "output_type": "stream",
     "text": [
      "/Users/ignasi/miniconda3/envs/xesmf_env/lib/python3.7/site-packages/xesmf/smm.py:130: UserWarning: Input array is not C_CONTIGUOUS. Will affect performance.\n",
      "  warnings.warn('Input array is not C_CONTIGUOUS. ' 'Will affect performance.')\n"
     ]
    },
    {
     "name": "stdout",
     "output_type": "stream",
     "text": [
      "/Volumes/Thalassa/CORA_SHDR_rg/CORA_SHDR_199308_rg.nc done\n"
     ]
    },
    {
     "name": "stderr",
     "output_type": "stream",
     "text": [
      "/Users/ignasi/miniconda3/envs/xesmf_env/lib/python3.7/site-packages/xesmf/smm.py:130: UserWarning: Input array is not C_CONTIGUOUS. Will affect performance.\n",
      "  warnings.warn('Input array is not C_CONTIGUOUS. ' 'Will affect performance.')\n"
     ]
    },
    {
     "name": "stdout",
     "output_type": "stream",
     "text": [
      "/Volumes/Thalassa/CORA_SHDR_rg/CORA_SHDR_199309_rg.nc done\n"
     ]
    },
    {
     "name": "stderr",
     "output_type": "stream",
     "text": [
      "/Users/ignasi/miniconda3/envs/xesmf_env/lib/python3.7/site-packages/xesmf/smm.py:130: UserWarning: Input array is not C_CONTIGUOUS. Will affect performance.\n",
      "  warnings.warn('Input array is not C_CONTIGUOUS. ' 'Will affect performance.')\n"
     ]
    },
    {
     "name": "stdout",
     "output_type": "stream",
     "text": [
      "/Volumes/Thalassa/CORA_SHDR_rg/CORA_SHDR_199310_rg.nc done\n"
     ]
    },
    {
     "name": "stderr",
     "output_type": "stream",
     "text": [
      "/Users/ignasi/miniconda3/envs/xesmf_env/lib/python3.7/site-packages/xesmf/smm.py:130: UserWarning: Input array is not C_CONTIGUOUS. Will affect performance.\n",
      "  warnings.warn('Input array is not C_CONTIGUOUS. ' 'Will affect performance.')\n"
     ]
    },
    {
     "name": "stdout",
     "output_type": "stream",
     "text": [
      "/Volumes/Thalassa/CORA_SHDR_rg/CORA_SHDR_199311_rg.nc done\n"
     ]
    },
    {
     "name": "stderr",
     "output_type": "stream",
     "text": [
      "/Users/ignasi/miniconda3/envs/xesmf_env/lib/python3.7/site-packages/xesmf/smm.py:130: UserWarning: Input array is not C_CONTIGUOUS. Will affect performance.\n",
      "  warnings.warn('Input array is not C_CONTIGUOUS. ' 'Will affect performance.')\n"
     ]
    },
    {
     "name": "stdout",
     "output_type": "stream",
     "text": [
      "/Volumes/Thalassa/CORA_SHDR_rg/CORA_SHDR_199312_rg.nc done\n"
     ]
    },
    {
     "name": "stderr",
     "output_type": "stream",
     "text": [
      "/Users/ignasi/miniconda3/envs/xesmf_env/lib/python3.7/site-packages/xesmf/smm.py:130: UserWarning: Input array is not C_CONTIGUOUS. Will affect performance.\n",
      "  warnings.warn('Input array is not C_CONTIGUOUS. ' 'Will affect performance.')\n"
     ]
    },
    {
     "name": "stdout",
     "output_type": "stream",
     "text": [
      "/Volumes/Thalassa/CORA_SHDR_rg/CORA_SHDR_199401_rg.nc done\n"
     ]
    },
    {
     "name": "stderr",
     "output_type": "stream",
     "text": [
      "/Users/ignasi/miniconda3/envs/xesmf_env/lib/python3.7/site-packages/xesmf/smm.py:130: UserWarning: Input array is not C_CONTIGUOUS. Will affect performance.\n",
      "  warnings.warn('Input array is not C_CONTIGUOUS. ' 'Will affect performance.')\n"
     ]
    },
    {
     "name": "stdout",
     "output_type": "stream",
     "text": [
      "/Volumes/Thalassa/CORA_SHDR_rg/CORA_SHDR_199402_rg.nc done\n"
     ]
    },
    {
     "name": "stderr",
     "output_type": "stream",
     "text": [
      "/Users/ignasi/miniconda3/envs/xesmf_env/lib/python3.7/site-packages/xesmf/smm.py:130: UserWarning: Input array is not C_CONTIGUOUS. Will affect performance.\n",
      "  warnings.warn('Input array is not C_CONTIGUOUS. ' 'Will affect performance.')\n"
     ]
    },
    {
     "name": "stdout",
     "output_type": "stream",
     "text": [
      "/Volumes/Thalassa/CORA_SHDR_rg/CORA_SHDR_199403_rg.nc done\n"
     ]
    },
    {
     "name": "stderr",
     "output_type": "stream",
     "text": [
      "/Users/ignasi/miniconda3/envs/xesmf_env/lib/python3.7/site-packages/xesmf/smm.py:130: UserWarning: Input array is not C_CONTIGUOUS. Will affect performance.\n",
      "  warnings.warn('Input array is not C_CONTIGUOUS. ' 'Will affect performance.')\n"
     ]
    },
    {
     "name": "stdout",
     "output_type": "stream",
     "text": [
      "/Volumes/Thalassa/CORA_SHDR_rg/CORA_SHDR_199404_rg.nc done\n"
     ]
    },
    {
     "name": "stderr",
     "output_type": "stream",
     "text": [
      "/Users/ignasi/miniconda3/envs/xesmf_env/lib/python3.7/site-packages/xesmf/smm.py:130: UserWarning: Input array is not C_CONTIGUOUS. Will affect performance.\n",
      "  warnings.warn('Input array is not C_CONTIGUOUS. ' 'Will affect performance.')\n"
     ]
    },
    {
     "name": "stdout",
     "output_type": "stream",
     "text": [
      "/Volumes/Thalassa/CORA_SHDR_rg/CORA_SHDR_199405_rg.nc done\n"
     ]
    },
    {
     "name": "stderr",
     "output_type": "stream",
     "text": [
      "/Users/ignasi/miniconda3/envs/xesmf_env/lib/python3.7/site-packages/xesmf/smm.py:130: UserWarning: Input array is not C_CONTIGUOUS. Will affect performance.\n",
      "  warnings.warn('Input array is not C_CONTIGUOUS. ' 'Will affect performance.')\n"
     ]
    },
    {
     "name": "stdout",
     "output_type": "stream",
     "text": [
      "/Volumes/Thalassa/CORA_SHDR_rg/CORA_SHDR_199406_rg.nc done\n"
     ]
    },
    {
     "name": "stderr",
     "output_type": "stream",
     "text": [
      "/Users/ignasi/miniconda3/envs/xesmf_env/lib/python3.7/site-packages/xesmf/smm.py:130: UserWarning: Input array is not C_CONTIGUOUS. Will affect performance.\n",
      "  warnings.warn('Input array is not C_CONTIGUOUS. ' 'Will affect performance.')\n"
     ]
    },
    {
     "name": "stdout",
     "output_type": "stream",
     "text": [
      "/Volumes/Thalassa/CORA_SHDR_rg/CORA_SHDR_199407_rg.nc done\n"
     ]
    },
    {
     "name": "stderr",
     "output_type": "stream",
     "text": [
      "/Users/ignasi/miniconda3/envs/xesmf_env/lib/python3.7/site-packages/xesmf/smm.py:130: UserWarning: Input array is not C_CONTIGUOUS. Will affect performance.\n",
      "  warnings.warn('Input array is not C_CONTIGUOUS. ' 'Will affect performance.')\n"
     ]
    },
    {
     "name": "stdout",
     "output_type": "stream",
     "text": [
      "/Volumes/Thalassa/CORA_SHDR_rg/CORA_SHDR_199408_rg.nc done\n"
     ]
    },
    {
     "name": "stderr",
     "output_type": "stream",
     "text": [
      "/Users/ignasi/miniconda3/envs/xesmf_env/lib/python3.7/site-packages/xesmf/smm.py:130: UserWarning: Input array is not C_CONTIGUOUS. Will affect performance.\n",
      "  warnings.warn('Input array is not C_CONTIGUOUS. ' 'Will affect performance.')\n"
     ]
    },
    {
     "name": "stdout",
     "output_type": "stream",
     "text": [
      "/Volumes/Thalassa/CORA_SHDR_rg/CORA_SHDR_199409_rg.nc done\n"
     ]
    },
    {
     "name": "stderr",
     "output_type": "stream",
     "text": [
      "/Users/ignasi/miniconda3/envs/xesmf_env/lib/python3.7/site-packages/xesmf/smm.py:130: UserWarning: Input array is not C_CONTIGUOUS. Will affect performance.\n",
      "  warnings.warn('Input array is not C_CONTIGUOUS. ' 'Will affect performance.')\n"
     ]
    },
    {
     "name": "stdout",
     "output_type": "stream",
     "text": [
      "/Volumes/Thalassa/CORA_SHDR_rg/CORA_SHDR_199410_rg.nc done\n"
     ]
    },
    {
     "name": "stderr",
     "output_type": "stream",
     "text": [
      "/Users/ignasi/miniconda3/envs/xesmf_env/lib/python3.7/site-packages/xesmf/smm.py:130: UserWarning: Input array is not C_CONTIGUOUS. Will affect performance.\n",
      "  warnings.warn('Input array is not C_CONTIGUOUS. ' 'Will affect performance.')\n"
     ]
    },
    {
     "name": "stdout",
     "output_type": "stream",
     "text": [
      "/Volumes/Thalassa/CORA_SHDR_rg/CORA_SHDR_199411_rg.nc done\n"
     ]
    },
    {
     "name": "stderr",
     "output_type": "stream",
     "text": [
      "/Users/ignasi/miniconda3/envs/xesmf_env/lib/python3.7/site-packages/xesmf/smm.py:130: UserWarning: Input array is not C_CONTIGUOUS. Will affect performance.\n",
      "  warnings.warn('Input array is not C_CONTIGUOUS. ' 'Will affect performance.')\n"
     ]
    },
    {
     "name": "stdout",
     "output_type": "stream",
     "text": [
      "/Volumes/Thalassa/CORA_SHDR_rg/CORA_SHDR_199412_rg.nc done\n"
     ]
    },
    {
     "name": "stderr",
     "output_type": "stream",
     "text": [
      "/Users/ignasi/miniconda3/envs/xesmf_env/lib/python3.7/site-packages/xesmf/smm.py:130: UserWarning: Input array is not C_CONTIGUOUS. Will affect performance.\n",
      "  warnings.warn('Input array is not C_CONTIGUOUS. ' 'Will affect performance.')\n"
     ]
    },
    {
     "name": "stdout",
     "output_type": "stream",
     "text": [
      "/Volumes/Thalassa/CORA_SHDR_rg/CORA_SHDR_199501_rg.nc done\n"
     ]
    },
    {
     "name": "stderr",
     "output_type": "stream",
     "text": [
      "/Users/ignasi/miniconda3/envs/xesmf_env/lib/python3.7/site-packages/xesmf/smm.py:130: UserWarning: Input array is not C_CONTIGUOUS. Will affect performance.\n",
      "  warnings.warn('Input array is not C_CONTIGUOUS. ' 'Will affect performance.')\n"
     ]
    },
    {
     "name": "stdout",
     "output_type": "stream",
     "text": [
      "/Volumes/Thalassa/CORA_SHDR_rg/CORA_SHDR_199502_rg.nc done\n"
     ]
    },
    {
     "name": "stderr",
     "output_type": "stream",
     "text": [
      "/Users/ignasi/miniconda3/envs/xesmf_env/lib/python3.7/site-packages/xesmf/smm.py:130: UserWarning: Input array is not C_CONTIGUOUS. Will affect performance.\n",
      "  warnings.warn('Input array is not C_CONTIGUOUS. ' 'Will affect performance.')\n"
     ]
    },
    {
     "name": "stdout",
     "output_type": "stream",
     "text": [
      "/Volumes/Thalassa/CORA_SHDR_rg/CORA_SHDR_199503_rg.nc done\n"
     ]
    },
    {
     "name": "stderr",
     "output_type": "stream",
     "text": [
      "/Users/ignasi/miniconda3/envs/xesmf_env/lib/python3.7/site-packages/xesmf/smm.py:130: UserWarning: Input array is not C_CONTIGUOUS. Will affect performance.\n",
      "  warnings.warn('Input array is not C_CONTIGUOUS. ' 'Will affect performance.')\n"
     ]
    },
    {
     "name": "stdout",
     "output_type": "stream",
     "text": [
      "/Volumes/Thalassa/CORA_SHDR_rg/CORA_SHDR_199504_rg.nc done\n"
     ]
    },
    {
     "name": "stderr",
     "output_type": "stream",
     "text": [
      "/Users/ignasi/miniconda3/envs/xesmf_env/lib/python3.7/site-packages/xesmf/smm.py:130: UserWarning: Input array is not C_CONTIGUOUS. Will affect performance.\n",
      "  warnings.warn('Input array is not C_CONTIGUOUS. ' 'Will affect performance.')\n"
     ]
    },
    {
     "name": "stdout",
     "output_type": "stream",
     "text": [
      "/Volumes/Thalassa/CORA_SHDR_rg/CORA_SHDR_199505_rg.nc done\n"
     ]
    },
    {
     "name": "stderr",
     "output_type": "stream",
     "text": [
      "/Users/ignasi/miniconda3/envs/xesmf_env/lib/python3.7/site-packages/xesmf/smm.py:130: UserWarning: Input array is not C_CONTIGUOUS. Will affect performance.\n",
      "  warnings.warn('Input array is not C_CONTIGUOUS. ' 'Will affect performance.')\n"
     ]
    },
    {
     "name": "stdout",
     "output_type": "stream",
     "text": [
      "/Volumes/Thalassa/CORA_SHDR_rg/CORA_SHDR_199506_rg.nc done\n"
     ]
    },
    {
     "name": "stderr",
     "output_type": "stream",
     "text": [
      "/Users/ignasi/miniconda3/envs/xesmf_env/lib/python3.7/site-packages/xesmf/smm.py:130: UserWarning: Input array is not C_CONTIGUOUS. Will affect performance.\n",
      "  warnings.warn('Input array is not C_CONTIGUOUS. ' 'Will affect performance.')\n"
     ]
    },
    {
     "name": "stdout",
     "output_type": "stream",
     "text": [
      "/Volumes/Thalassa/CORA_SHDR_rg/CORA_SHDR_199507_rg.nc done\n"
     ]
    },
    {
     "name": "stderr",
     "output_type": "stream",
     "text": [
      "/Users/ignasi/miniconda3/envs/xesmf_env/lib/python3.7/site-packages/xesmf/smm.py:130: UserWarning: Input array is not C_CONTIGUOUS. Will affect performance.\n",
      "  warnings.warn('Input array is not C_CONTIGUOUS. ' 'Will affect performance.')\n"
     ]
    },
    {
     "name": "stdout",
     "output_type": "stream",
     "text": [
      "/Volumes/Thalassa/CORA_SHDR_rg/CORA_SHDR_199508_rg.nc done\n"
     ]
    },
    {
     "name": "stderr",
     "output_type": "stream",
     "text": [
      "/Users/ignasi/miniconda3/envs/xesmf_env/lib/python3.7/site-packages/xesmf/smm.py:130: UserWarning: Input array is not C_CONTIGUOUS. Will affect performance.\n",
      "  warnings.warn('Input array is not C_CONTIGUOUS. ' 'Will affect performance.')\n"
     ]
    },
    {
     "name": "stdout",
     "output_type": "stream",
     "text": [
      "/Volumes/Thalassa/CORA_SHDR_rg/CORA_SHDR_199509_rg.nc done\n"
     ]
    },
    {
     "name": "stderr",
     "output_type": "stream",
     "text": [
      "/Users/ignasi/miniconda3/envs/xesmf_env/lib/python3.7/site-packages/xesmf/smm.py:130: UserWarning: Input array is not C_CONTIGUOUS. Will affect performance.\n",
      "  warnings.warn('Input array is not C_CONTIGUOUS. ' 'Will affect performance.')\n"
     ]
    },
    {
     "name": "stdout",
     "output_type": "stream",
     "text": [
      "/Volumes/Thalassa/CORA_SHDR_rg/CORA_SHDR_199510_rg.nc done\n"
     ]
    },
    {
     "name": "stderr",
     "output_type": "stream",
     "text": [
      "/Users/ignasi/miniconda3/envs/xesmf_env/lib/python3.7/site-packages/xesmf/smm.py:130: UserWarning: Input array is not C_CONTIGUOUS. Will affect performance.\n",
      "  warnings.warn('Input array is not C_CONTIGUOUS. ' 'Will affect performance.')\n"
     ]
    },
    {
     "name": "stdout",
     "output_type": "stream",
     "text": [
      "/Volumes/Thalassa/CORA_SHDR_rg/CORA_SHDR_199511_rg.nc done\n"
     ]
    },
    {
     "name": "stderr",
     "output_type": "stream",
     "text": [
      "/Users/ignasi/miniconda3/envs/xesmf_env/lib/python3.7/site-packages/xesmf/smm.py:130: UserWarning: Input array is not C_CONTIGUOUS. Will affect performance.\n",
      "  warnings.warn('Input array is not C_CONTIGUOUS. ' 'Will affect performance.')\n"
     ]
    },
    {
     "name": "stdout",
     "output_type": "stream",
     "text": [
      "/Volumes/Thalassa/CORA_SHDR_rg/CORA_SHDR_199512_rg.nc done\n"
     ]
    },
    {
     "name": "stderr",
     "output_type": "stream",
     "text": [
      "/Users/ignasi/miniconda3/envs/xesmf_env/lib/python3.7/site-packages/xesmf/smm.py:130: UserWarning: Input array is not C_CONTIGUOUS. Will affect performance.\n",
      "  warnings.warn('Input array is not C_CONTIGUOUS. ' 'Will affect performance.')\n"
     ]
    },
    {
     "name": "stdout",
     "output_type": "stream",
     "text": [
      "/Volumes/Thalassa/CORA_SHDR_rg/CORA_SHDR_199601_rg.nc done\n"
     ]
    },
    {
     "name": "stderr",
     "output_type": "stream",
     "text": [
      "/Users/ignasi/miniconda3/envs/xesmf_env/lib/python3.7/site-packages/xesmf/smm.py:130: UserWarning: Input array is not C_CONTIGUOUS. Will affect performance.\n",
      "  warnings.warn('Input array is not C_CONTIGUOUS. ' 'Will affect performance.')\n"
     ]
    },
    {
     "name": "stdout",
     "output_type": "stream",
     "text": [
      "/Volumes/Thalassa/CORA_SHDR_rg/CORA_SHDR_199602_rg.nc done\n"
     ]
    },
    {
     "name": "stderr",
     "output_type": "stream",
     "text": [
      "/Users/ignasi/miniconda3/envs/xesmf_env/lib/python3.7/site-packages/xesmf/smm.py:130: UserWarning: Input array is not C_CONTIGUOUS. Will affect performance.\n",
      "  warnings.warn('Input array is not C_CONTIGUOUS. ' 'Will affect performance.')\n"
     ]
    },
    {
     "name": "stdout",
     "output_type": "stream",
     "text": [
      "/Volumes/Thalassa/CORA_SHDR_rg/CORA_SHDR_199603_rg.nc done\n"
     ]
    },
    {
     "name": "stderr",
     "output_type": "stream",
     "text": [
      "/Users/ignasi/miniconda3/envs/xesmf_env/lib/python3.7/site-packages/xesmf/smm.py:130: UserWarning: Input array is not C_CONTIGUOUS. Will affect performance.\n",
      "  warnings.warn('Input array is not C_CONTIGUOUS. ' 'Will affect performance.')\n"
     ]
    },
    {
     "name": "stdout",
     "output_type": "stream",
     "text": [
      "/Volumes/Thalassa/CORA_SHDR_rg/CORA_SHDR_199604_rg.nc done\n"
     ]
    },
    {
     "name": "stderr",
     "output_type": "stream",
     "text": [
      "/Users/ignasi/miniconda3/envs/xesmf_env/lib/python3.7/site-packages/xesmf/smm.py:130: UserWarning: Input array is not C_CONTIGUOUS. Will affect performance.\n",
      "  warnings.warn('Input array is not C_CONTIGUOUS. ' 'Will affect performance.')\n"
     ]
    },
    {
     "name": "stdout",
     "output_type": "stream",
     "text": [
      "/Volumes/Thalassa/CORA_SHDR_rg/CORA_SHDR_199605_rg.nc done\n"
     ]
    },
    {
     "name": "stderr",
     "output_type": "stream",
     "text": [
      "/Users/ignasi/miniconda3/envs/xesmf_env/lib/python3.7/site-packages/xesmf/smm.py:130: UserWarning: Input array is not C_CONTIGUOUS. Will affect performance.\n",
      "  warnings.warn('Input array is not C_CONTIGUOUS. ' 'Will affect performance.')\n"
     ]
    },
    {
     "name": "stdout",
     "output_type": "stream",
     "text": [
      "/Volumes/Thalassa/CORA_SHDR_rg/CORA_SHDR_199606_rg.nc done\n"
     ]
    },
    {
     "name": "stderr",
     "output_type": "stream",
     "text": [
      "/Users/ignasi/miniconda3/envs/xesmf_env/lib/python3.7/site-packages/xesmf/smm.py:130: UserWarning: Input array is not C_CONTIGUOUS. Will affect performance.\n",
      "  warnings.warn('Input array is not C_CONTIGUOUS. ' 'Will affect performance.')\n"
     ]
    },
    {
     "name": "stdout",
     "output_type": "stream",
     "text": [
      "/Volumes/Thalassa/CORA_SHDR_rg/CORA_SHDR_199607_rg.nc done\n"
     ]
    },
    {
     "name": "stderr",
     "output_type": "stream",
     "text": [
      "/Users/ignasi/miniconda3/envs/xesmf_env/lib/python3.7/site-packages/xesmf/smm.py:130: UserWarning: Input array is not C_CONTIGUOUS. Will affect performance.\n",
      "  warnings.warn('Input array is not C_CONTIGUOUS. ' 'Will affect performance.')\n"
     ]
    },
    {
     "name": "stdout",
     "output_type": "stream",
     "text": [
      "/Volumes/Thalassa/CORA_SHDR_rg/CORA_SHDR_199608_rg.nc done\n"
     ]
    },
    {
     "name": "stderr",
     "output_type": "stream",
     "text": [
      "/Users/ignasi/miniconda3/envs/xesmf_env/lib/python3.7/site-packages/xesmf/smm.py:130: UserWarning: Input array is not C_CONTIGUOUS. Will affect performance.\n",
      "  warnings.warn('Input array is not C_CONTIGUOUS. ' 'Will affect performance.')\n"
     ]
    },
    {
     "name": "stdout",
     "output_type": "stream",
     "text": [
      "/Volumes/Thalassa/CORA_SHDR_rg/CORA_SHDR_199609_rg.nc done\n"
     ]
    },
    {
     "name": "stderr",
     "output_type": "stream",
     "text": [
      "/Users/ignasi/miniconda3/envs/xesmf_env/lib/python3.7/site-packages/xesmf/smm.py:130: UserWarning: Input array is not C_CONTIGUOUS. Will affect performance.\n",
      "  warnings.warn('Input array is not C_CONTIGUOUS. ' 'Will affect performance.')\n"
     ]
    },
    {
     "name": "stdout",
     "output_type": "stream",
     "text": [
      "/Volumes/Thalassa/CORA_SHDR_rg/CORA_SHDR_199610_rg.nc done\n"
     ]
    },
    {
     "name": "stderr",
     "output_type": "stream",
     "text": [
      "/Users/ignasi/miniconda3/envs/xesmf_env/lib/python3.7/site-packages/xesmf/smm.py:130: UserWarning: Input array is not C_CONTIGUOUS. Will affect performance.\n",
      "  warnings.warn('Input array is not C_CONTIGUOUS. ' 'Will affect performance.')\n"
     ]
    },
    {
     "name": "stdout",
     "output_type": "stream",
     "text": [
      "/Volumes/Thalassa/CORA_SHDR_rg/CORA_SHDR_199611_rg.nc done\n"
     ]
    },
    {
     "name": "stderr",
     "output_type": "stream",
     "text": [
      "/Users/ignasi/miniconda3/envs/xesmf_env/lib/python3.7/site-packages/xesmf/smm.py:130: UserWarning: Input array is not C_CONTIGUOUS. Will affect performance.\n",
      "  warnings.warn('Input array is not C_CONTIGUOUS. ' 'Will affect performance.')\n"
     ]
    },
    {
     "name": "stdout",
     "output_type": "stream",
     "text": [
      "/Volumes/Thalassa/CORA_SHDR_rg/CORA_SHDR_199612_rg.nc done\n"
     ]
    },
    {
     "name": "stderr",
     "output_type": "stream",
     "text": [
      "/Users/ignasi/miniconda3/envs/xesmf_env/lib/python3.7/site-packages/xesmf/smm.py:130: UserWarning: Input array is not C_CONTIGUOUS. Will affect performance.\n",
      "  warnings.warn('Input array is not C_CONTIGUOUS. ' 'Will affect performance.')\n"
     ]
    },
    {
     "name": "stdout",
     "output_type": "stream",
     "text": [
      "/Volumes/Thalassa/CORA_SHDR_rg/CORA_SHDR_199701_rg.nc done\n"
     ]
    },
    {
     "name": "stderr",
     "output_type": "stream",
     "text": [
      "/Users/ignasi/miniconda3/envs/xesmf_env/lib/python3.7/site-packages/xesmf/smm.py:130: UserWarning: Input array is not C_CONTIGUOUS. Will affect performance.\n",
      "  warnings.warn('Input array is not C_CONTIGUOUS. ' 'Will affect performance.')\n"
     ]
    },
    {
     "name": "stdout",
     "output_type": "stream",
     "text": [
      "/Volumes/Thalassa/CORA_SHDR_rg/CORA_SHDR_199702_rg.nc done\n"
     ]
    },
    {
     "name": "stderr",
     "output_type": "stream",
     "text": [
      "/Users/ignasi/miniconda3/envs/xesmf_env/lib/python3.7/site-packages/xesmf/smm.py:130: UserWarning: Input array is not C_CONTIGUOUS. Will affect performance.\n",
      "  warnings.warn('Input array is not C_CONTIGUOUS. ' 'Will affect performance.')\n"
     ]
    },
    {
     "name": "stdout",
     "output_type": "stream",
     "text": [
      "/Volumes/Thalassa/CORA_SHDR_rg/CORA_SHDR_199703_rg.nc done\n"
     ]
    },
    {
     "name": "stderr",
     "output_type": "stream",
     "text": [
      "/Users/ignasi/miniconda3/envs/xesmf_env/lib/python3.7/site-packages/xesmf/smm.py:130: UserWarning: Input array is not C_CONTIGUOUS. Will affect performance.\n",
      "  warnings.warn('Input array is not C_CONTIGUOUS. ' 'Will affect performance.')\n"
     ]
    },
    {
     "name": "stdout",
     "output_type": "stream",
     "text": [
      "/Volumes/Thalassa/CORA_SHDR_rg/CORA_SHDR_199704_rg.nc done\n"
     ]
    },
    {
     "name": "stderr",
     "output_type": "stream",
     "text": [
      "/Users/ignasi/miniconda3/envs/xesmf_env/lib/python3.7/site-packages/xesmf/smm.py:130: UserWarning: Input array is not C_CONTIGUOUS. Will affect performance.\n",
      "  warnings.warn('Input array is not C_CONTIGUOUS. ' 'Will affect performance.')\n"
     ]
    },
    {
     "name": "stdout",
     "output_type": "stream",
     "text": [
      "/Volumes/Thalassa/CORA_SHDR_rg/CORA_SHDR_199705_rg.nc done\n"
     ]
    },
    {
     "name": "stderr",
     "output_type": "stream",
     "text": [
      "/Users/ignasi/miniconda3/envs/xesmf_env/lib/python3.7/site-packages/xesmf/smm.py:130: UserWarning: Input array is not C_CONTIGUOUS. Will affect performance.\n",
      "  warnings.warn('Input array is not C_CONTIGUOUS. ' 'Will affect performance.')\n"
     ]
    },
    {
     "name": "stdout",
     "output_type": "stream",
     "text": [
      "/Volumes/Thalassa/CORA_SHDR_rg/CORA_SHDR_199706_rg.nc done\n"
     ]
    },
    {
     "name": "stderr",
     "output_type": "stream",
     "text": [
      "/Users/ignasi/miniconda3/envs/xesmf_env/lib/python3.7/site-packages/xesmf/smm.py:130: UserWarning: Input array is not C_CONTIGUOUS. Will affect performance.\n",
      "  warnings.warn('Input array is not C_CONTIGUOUS. ' 'Will affect performance.')\n"
     ]
    },
    {
     "name": "stdout",
     "output_type": "stream",
     "text": [
      "/Volumes/Thalassa/CORA_SHDR_rg/CORA_SHDR_199707_rg.nc done\n"
     ]
    },
    {
     "name": "stderr",
     "output_type": "stream",
     "text": [
      "/Users/ignasi/miniconda3/envs/xesmf_env/lib/python3.7/site-packages/xesmf/smm.py:130: UserWarning: Input array is not C_CONTIGUOUS. Will affect performance.\n",
      "  warnings.warn('Input array is not C_CONTIGUOUS. ' 'Will affect performance.')\n"
     ]
    },
    {
     "name": "stdout",
     "output_type": "stream",
     "text": [
      "/Volumes/Thalassa/CORA_SHDR_rg/CORA_SHDR_199708_rg.nc done\n"
     ]
    },
    {
     "name": "stderr",
     "output_type": "stream",
     "text": [
      "/Users/ignasi/miniconda3/envs/xesmf_env/lib/python3.7/site-packages/xesmf/smm.py:130: UserWarning: Input array is not C_CONTIGUOUS. Will affect performance.\n",
      "  warnings.warn('Input array is not C_CONTIGUOUS. ' 'Will affect performance.')\n"
     ]
    },
    {
     "name": "stdout",
     "output_type": "stream",
     "text": [
      "/Volumes/Thalassa/CORA_SHDR_rg/CORA_SHDR_199709_rg.nc done\n"
     ]
    },
    {
     "name": "stderr",
     "output_type": "stream",
     "text": [
      "/Users/ignasi/miniconda3/envs/xesmf_env/lib/python3.7/site-packages/xesmf/smm.py:130: UserWarning: Input array is not C_CONTIGUOUS. Will affect performance.\n",
      "  warnings.warn('Input array is not C_CONTIGUOUS. ' 'Will affect performance.')\n"
     ]
    },
    {
     "name": "stdout",
     "output_type": "stream",
     "text": [
      "/Volumes/Thalassa/CORA_SHDR_rg/CORA_SHDR_199710_rg.nc done\n"
     ]
    },
    {
     "name": "stderr",
     "output_type": "stream",
     "text": [
      "/Users/ignasi/miniconda3/envs/xesmf_env/lib/python3.7/site-packages/xesmf/smm.py:130: UserWarning: Input array is not C_CONTIGUOUS. Will affect performance.\n",
      "  warnings.warn('Input array is not C_CONTIGUOUS. ' 'Will affect performance.')\n"
     ]
    },
    {
     "name": "stdout",
     "output_type": "stream",
     "text": [
      "/Volumes/Thalassa/CORA_SHDR_rg/CORA_SHDR_199711_rg.nc done\n"
     ]
    },
    {
     "name": "stderr",
     "output_type": "stream",
     "text": [
      "/Users/ignasi/miniconda3/envs/xesmf_env/lib/python3.7/site-packages/xesmf/smm.py:130: UserWarning: Input array is not C_CONTIGUOUS. Will affect performance.\n",
      "  warnings.warn('Input array is not C_CONTIGUOUS. ' 'Will affect performance.')\n"
     ]
    },
    {
     "name": "stdout",
     "output_type": "stream",
     "text": [
      "/Volumes/Thalassa/CORA_SHDR_rg/CORA_SHDR_199712_rg.nc done\n"
     ]
    },
    {
     "name": "stderr",
     "output_type": "stream",
     "text": [
      "/Users/ignasi/miniconda3/envs/xesmf_env/lib/python3.7/site-packages/xesmf/smm.py:130: UserWarning: Input array is not C_CONTIGUOUS. Will affect performance.\n",
      "  warnings.warn('Input array is not C_CONTIGUOUS. ' 'Will affect performance.')\n"
     ]
    },
    {
     "name": "stdout",
     "output_type": "stream",
     "text": [
      "/Volumes/Thalassa/CORA_SHDR_rg/CORA_SHDR_199801_rg.nc done\n"
     ]
    },
    {
     "name": "stderr",
     "output_type": "stream",
     "text": [
      "/Users/ignasi/miniconda3/envs/xesmf_env/lib/python3.7/site-packages/xesmf/smm.py:130: UserWarning: Input array is not C_CONTIGUOUS. Will affect performance.\n",
      "  warnings.warn('Input array is not C_CONTIGUOUS. ' 'Will affect performance.')\n"
     ]
    },
    {
     "name": "stdout",
     "output_type": "stream",
     "text": [
      "/Volumes/Thalassa/CORA_SHDR_rg/CORA_SHDR_199802_rg.nc done\n"
     ]
    },
    {
     "name": "stderr",
     "output_type": "stream",
     "text": [
      "/Users/ignasi/miniconda3/envs/xesmf_env/lib/python3.7/site-packages/xesmf/smm.py:130: UserWarning: Input array is not C_CONTIGUOUS. Will affect performance.\n",
      "  warnings.warn('Input array is not C_CONTIGUOUS. ' 'Will affect performance.')\n"
     ]
    },
    {
     "name": "stdout",
     "output_type": "stream",
     "text": [
      "/Volumes/Thalassa/CORA_SHDR_rg/CORA_SHDR_199803_rg.nc done\n"
     ]
    },
    {
     "name": "stderr",
     "output_type": "stream",
     "text": [
      "/Users/ignasi/miniconda3/envs/xesmf_env/lib/python3.7/site-packages/xesmf/smm.py:130: UserWarning: Input array is not C_CONTIGUOUS. Will affect performance.\n",
      "  warnings.warn('Input array is not C_CONTIGUOUS. ' 'Will affect performance.')\n"
     ]
    },
    {
     "name": "stdout",
     "output_type": "stream",
     "text": [
      "/Volumes/Thalassa/CORA_SHDR_rg/CORA_SHDR_199804_rg.nc done\n"
     ]
    },
    {
     "name": "stderr",
     "output_type": "stream",
     "text": [
      "/Users/ignasi/miniconda3/envs/xesmf_env/lib/python3.7/site-packages/xesmf/smm.py:130: UserWarning: Input array is not C_CONTIGUOUS. Will affect performance.\n",
      "  warnings.warn('Input array is not C_CONTIGUOUS. ' 'Will affect performance.')\n"
     ]
    },
    {
     "name": "stdout",
     "output_type": "stream",
     "text": [
      "/Volumes/Thalassa/CORA_SHDR_rg/CORA_SHDR_199805_rg.nc done\n"
     ]
    },
    {
     "name": "stderr",
     "output_type": "stream",
     "text": [
      "/Users/ignasi/miniconda3/envs/xesmf_env/lib/python3.7/site-packages/xesmf/smm.py:130: UserWarning: Input array is not C_CONTIGUOUS. Will affect performance.\n",
      "  warnings.warn('Input array is not C_CONTIGUOUS. ' 'Will affect performance.')\n"
     ]
    },
    {
     "name": "stdout",
     "output_type": "stream",
     "text": [
      "/Volumes/Thalassa/CORA_SHDR_rg/CORA_SHDR_199806_rg.nc done\n"
     ]
    },
    {
     "name": "stderr",
     "output_type": "stream",
     "text": [
      "/Users/ignasi/miniconda3/envs/xesmf_env/lib/python3.7/site-packages/xesmf/smm.py:130: UserWarning: Input array is not C_CONTIGUOUS. Will affect performance.\n",
      "  warnings.warn('Input array is not C_CONTIGUOUS. ' 'Will affect performance.')\n"
     ]
    },
    {
     "name": "stdout",
     "output_type": "stream",
     "text": [
      "/Volumes/Thalassa/CORA_SHDR_rg/CORA_SHDR_199807_rg.nc done\n"
     ]
    },
    {
     "name": "stderr",
     "output_type": "stream",
     "text": [
      "/Users/ignasi/miniconda3/envs/xesmf_env/lib/python3.7/site-packages/xesmf/smm.py:130: UserWarning: Input array is not C_CONTIGUOUS. Will affect performance.\n",
      "  warnings.warn('Input array is not C_CONTIGUOUS. ' 'Will affect performance.')\n"
     ]
    },
    {
     "name": "stdout",
     "output_type": "stream",
     "text": [
      "/Volumes/Thalassa/CORA_SHDR_rg/CORA_SHDR_199808_rg.nc done\n"
     ]
    },
    {
     "name": "stderr",
     "output_type": "stream",
     "text": [
      "/Users/ignasi/miniconda3/envs/xesmf_env/lib/python3.7/site-packages/xesmf/smm.py:130: UserWarning: Input array is not C_CONTIGUOUS. Will affect performance.\n",
      "  warnings.warn('Input array is not C_CONTIGUOUS. ' 'Will affect performance.')\n"
     ]
    },
    {
     "name": "stdout",
     "output_type": "stream",
     "text": [
      "/Volumes/Thalassa/CORA_SHDR_rg/CORA_SHDR_199809_rg.nc done\n"
     ]
    },
    {
     "name": "stderr",
     "output_type": "stream",
     "text": [
      "/Users/ignasi/miniconda3/envs/xesmf_env/lib/python3.7/site-packages/xesmf/smm.py:130: UserWarning: Input array is not C_CONTIGUOUS. Will affect performance.\n",
      "  warnings.warn('Input array is not C_CONTIGUOUS. ' 'Will affect performance.')\n"
     ]
    },
    {
     "name": "stdout",
     "output_type": "stream",
     "text": [
      "/Volumes/Thalassa/CORA_SHDR_rg/CORA_SHDR_199810_rg.nc done\n"
     ]
    },
    {
     "name": "stderr",
     "output_type": "stream",
     "text": [
      "/Users/ignasi/miniconda3/envs/xesmf_env/lib/python3.7/site-packages/xesmf/smm.py:130: UserWarning: Input array is not C_CONTIGUOUS. Will affect performance.\n",
      "  warnings.warn('Input array is not C_CONTIGUOUS. ' 'Will affect performance.')\n"
     ]
    },
    {
     "name": "stdout",
     "output_type": "stream",
     "text": [
      "/Volumes/Thalassa/CORA_SHDR_rg/CORA_SHDR_199811_rg.nc done\n"
     ]
    },
    {
     "name": "stderr",
     "output_type": "stream",
     "text": [
      "/Users/ignasi/miniconda3/envs/xesmf_env/lib/python3.7/site-packages/xesmf/smm.py:130: UserWarning: Input array is not C_CONTIGUOUS. Will affect performance.\n",
      "  warnings.warn('Input array is not C_CONTIGUOUS. ' 'Will affect performance.')\n"
     ]
    },
    {
     "name": "stdout",
     "output_type": "stream",
     "text": [
      "/Volumes/Thalassa/CORA_SHDR_rg/CORA_SHDR_199812_rg.nc done\n"
     ]
    },
    {
     "name": "stderr",
     "output_type": "stream",
     "text": [
      "/Users/ignasi/miniconda3/envs/xesmf_env/lib/python3.7/site-packages/xesmf/smm.py:130: UserWarning: Input array is not C_CONTIGUOUS. Will affect performance.\n",
      "  warnings.warn('Input array is not C_CONTIGUOUS. ' 'Will affect performance.')\n"
     ]
    },
    {
     "name": "stdout",
     "output_type": "stream",
     "text": [
      "/Volumes/Thalassa/CORA_SHDR_rg/CORA_SHDR_199901_rg.nc done\n"
     ]
    },
    {
     "name": "stderr",
     "output_type": "stream",
     "text": [
      "/Users/ignasi/miniconda3/envs/xesmf_env/lib/python3.7/site-packages/xesmf/smm.py:130: UserWarning: Input array is not C_CONTIGUOUS. Will affect performance.\n",
      "  warnings.warn('Input array is not C_CONTIGUOUS. ' 'Will affect performance.')\n"
     ]
    },
    {
     "name": "stdout",
     "output_type": "stream",
     "text": [
      "/Volumes/Thalassa/CORA_SHDR_rg/CORA_SHDR_199902_rg.nc done\n"
     ]
    },
    {
     "name": "stderr",
     "output_type": "stream",
     "text": [
      "/Users/ignasi/miniconda3/envs/xesmf_env/lib/python3.7/site-packages/xesmf/smm.py:130: UserWarning: Input array is not C_CONTIGUOUS. Will affect performance.\n",
      "  warnings.warn('Input array is not C_CONTIGUOUS. ' 'Will affect performance.')\n"
     ]
    },
    {
     "name": "stdout",
     "output_type": "stream",
     "text": [
      "/Volumes/Thalassa/CORA_SHDR_rg/CORA_SHDR_199903_rg.nc done\n"
     ]
    },
    {
     "name": "stderr",
     "output_type": "stream",
     "text": [
      "/Users/ignasi/miniconda3/envs/xesmf_env/lib/python3.7/site-packages/xesmf/smm.py:130: UserWarning: Input array is not C_CONTIGUOUS. Will affect performance.\n",
      "  warnings.warn('Input array is not C_CONTIGUOUS. ' 'Will affect performance.')\n"
     ]
    },
    {
     "name": "stdout",
     "output_type": "stream",
     "text": [
      "/Volumes/Thalassa/CORA_SHDR_rg/CORA_SHDR_199904_rg.nc done\n"
     ]
    },
    {
     "name": "stderr",
     "output_type": "stream",
     "text": [
      "/Users/ignasi/miniconda3/envs/xesmf_env/lib/python3.7/site-packages/xesmf/smm.py:130: UserWarning: Input array is not C_CONTIGUOUS. Will affect performance.\n",
      "  warnings.warn('Input array is not C_CONTIGUOUS. ' 'Will affect performance.')\n"
     ]
    },
    {
     "name": "stdout",
     "output_type": "stream",
     "text": [
      "/Volumes/Thalassa/CORA_SHDR_rg/CORA_SHDR_199905_rg.nc done\n"
     ]
    },
    {
     "name": "stderr",
     "output_type": "stream",
     "text": [
      "/Users/ignasi/miniconda3/envs/xesmf_env/lib/python3.7/site-packages/xesmf/smm.py:130: UserWarning: Input array is not C_CONTIGUOUS. Will affect performance.\n",
      "  warnings.warn('Input array is not C_CONTIGUOUS. ' 'Will affect performance.')\n"
     ]
    },
    {
     "name": "stdout",
     "output_type": "stream",
     "text": [
      "/Volumes/Thalassa/CORA_SHDR_rg/CORA_SHDR_199906_rg.nc done\n"
     ]
    },
    {
     "name": "stderr",
     "output_type": "stream",
     "text": [
      "/Users/ignasi/miniconda3/envs/xesmf_env/lib/python3.7/site-packages/xesmf/smm.py:130: UserWarning: Input array is not C_CONTIGUOUS. Will affect performance.\n",
      "  warnings.warn('Input array is not C_CONTIGUOUS. ' 'Will affect performance.')\n"
     ]
    },
    {
     "name": "stdout",
     "output_type": "stream",
     "text": [
      "/Volumes/Thalassa/CORA_SHDR_rg/CORA_SHDR_199907_rg.nc done\n"
     ]
    },
    {
     "name": "stderr",
     "output_type": "stream",
     "text": [
      "/Users/ignasi/miniconda3/envs/xesmf_env/lib/python3.7/site-packages/xesmf/smm.py:130: UserWarning: Input array is not C_CONTIGUOUS. Will affect performance.\n",
      "  warnings.warn('Input array is not C_CONTIGUOUS. ' 'Will affect performance.')\n"
     ]
    },
    {
     "name": "stdout",
     "output_type": "stream",
     "text": [
      "/Volumes/Thalassa/CORA_SHDR_rg/CORA_SHDR_199908_rg.nc done\n"
     ]
    },
    {
     "name": "stderr",
     "output_type": "stream",
     "text": [
      "/Users/ignasi/miniconda3/envs/xesmf_env/lib/python3.7/site-packages/xesmf/smm.py:130: UserWarning: Input array is not C_CONTIGUOUS. Will affect performance.\n",
      "  warnings.warn('Input array is not C_CONTIGUOUS. ' 'Will affect performance.')\n"
     ]
    },
    {
     "name": "stdout",
     "output_type": "stream",
     "text": [
      "/Volumes/Thalassa/CORA_SHDR_rg/CORA_SHDR_199909_rg.nc done\n"
     ]
    },
    {
     "name": "stderr",
     "output_type": "stream",
     "text": [
      "/Users/ignasi/miniconda3/envs/xesmf_env/lib/python3.7/site-packages/xesmf/smm.py:130: UserWarning: Input array is not C_CONTIGUOUS. Will affect performance.\n",
      "  warnings.warn('Input array is not C_CONTIGUOUS. ' 'Will affect performance.')\n"
     ]
    },
    {
     "name": "stdout",
     "output_type": "stream",
     "text": [
      "/Volumes/Thalassa/CORA_SHDR_rg/CORA_SHDR_199910_rg.nc done\n"
     ]
    },
    {
     "name": "stderr",
     "output_type": "stream",
     "text": [
      "/Users/ignasi/miniconda3/envs/xesmf_env/lib/python3.7/site-packages/xesmf/smm.py:130: UserWarning: Input array is not C_CONTIGUOUS. Will affect performance.\n",
      "  warnings.warn('Input array is not C_CONTIGUOUS. ' 'Will affect performance.')\n"
     ]
    },
    {
     "name": "stdout",
     "output_type": "stream",
     "text": [
      "/Volumes/Thalassa/CORA_SHDR_rg/CORA_SHDR_199911_rg.nc done\n"
     ]
    },
    {
     "name": "stderr",
     "output_type": "stream",
     "text": [
      "/Users/ignasi/miniconda3/envs/xesmf_env/lib/python3.7/site-packages/xesmf/smm.py:130: UserWarning: Input array is not C_CONTIGUOUS. Will affect performance.\n",
      "  warnings.warn('Input array is not C_CONTIGUOUS. ' 'Will affect performance.')\n"
     ]
    },
    {
     "name": "stdout",
     "output_type": "stream",
     "text": [
      "/Volumes/Thalassa/CORA_SHDR_rg/CORA_SHDR_199912_rg.nc done\n"
     ]
    },
    {
     "name": "stderr",
     "output_type": "stream",
     "text": [
      "/Users/ignasi/miniconda3/envs/xesmf_env/lib/python3.7/site-packages/xesmf/smm.py:130: UserWarning: Input array is not C_CONTIGUOUS. Will affect performance.\n",
      "  warnings.warn('Input array is not C_CONTIGUOUS. ' 'Will affect performance.')\n"
     ]
    },
    {
     "name": "stdout",
     "output_type": "stream",
     "text": [
      "/Volumes/Thalassa/CORA_SHDR_rg/CORA_SHDR_202201_rg.nc done\n"
     ]
    },
    {
     "name": "stderr",
     "output_type": "stream",
     "text": [
      "/Users/ignasi/miniconda3/envs/xesmf_env/lib/python3.7/site-packages/xesmf/smm.py:130: UserWarning: Input array is not C_CONTIGUOUS. Will affect performance.\n",
      "  warnings.warn('Input array is not C_CONTIGUOUS. ' 'Will affect performance.')\n"
     ]
    },
    {
     "name": "stdout",
     "output_type": "stream",
     "text": [
      "/Volumes/Thalassa/CORA_SHDR_rg/CORA_SHDR_202202_rg.nc done\n"
     ]
    },
    {
     "name": "stderr",
     "output_type": "stream",
     "text": [
      "/Users/ignasi/miniconda3/envs/xesmf_env/lib/python3.7/site-packages/xesmf/smm.py:130: UserWarning: Input array is not C_CONTIGUOUS. Will affect performance.\n",
      "  warnings.warn('Input array is not C_CONTIGUOUS. ' 'Will affect performance.')\n"
     ]
    },
    {
     "name": "stdout",
     "output_type": "stream",
     "text": [
      "/Volumes/Thalassa/CORA_SHDR_rg/CORA_SHDR_202203_rg.nc done\n"
     ]
    },
    {
     "name": "stderr",
     "output_type": "stream",
     "text": [
      "/Users/ignasi/miniconda3/envs/xesmf_env/lib/python3.7/site-packages/xesmf/smm.py:130: UserWarning: Input array is not C_CONTIGUOUS. Will affect performance.\n",
      "  warnings.warn('Input array is not C_CONTIGUOUS. ' 'Will affect performance.')\n"
     ]
    },
    {
     "name": "stdout",
     "output_type": "stream",
     "text": [
      "/Volumes/Thalassa/CORA_SHDR_rg/CORA_SHDR_202204_rg.nc done\n"
     ]
    },
    {
     "name": "stderr",
     "output_type": "stream",
     "text": [
      "/Users/ignasi/miniconda3/envs/xesmf_env/lib/python3.7/site-packages/xesmf/smm.py:130: UserWarning: Input array is not C_CONTIGUOUS. Will affect performance.\n",
      "  warnings.warn('Input array is not C_CONTIGUOUS. ' 'Will affect performance.')\n"
     ]
    },
    {
     "name": "stdout",
     "output_type": "stream",
     "text": [
      "/Volumes/Thalassa/CORA_SHDR_rg/CORA_SHDR_202205_rg.nc done\n"
     ]
    },
    {
     "name": "stderr",
     "output_type": "stream",
     "text": [
      "/Users/ignasi/miniconda3/envs/xesmf_env/lib/python3.7/site-packages/xesmf/smm.py:130: UserWarning: Input array is not C_CONTIGUOUS. Will affect performance.\n",
      "  warnings.warn('Input array is not C_CONTIGUOUS. ' 'Will affect performance.')\n"
     ]
    },
    {
     "name": "stdout",
     "output_type": "stream",
     "text": [
      "/Volumes/Thalassa/CORA_SHDR_rg/CORA_SHDR_202206_rg.nc done\n"
     ]
    },
    {
     "name": "stderr",
     "output_type": "stream",
     "text": [
      "/Users/ignasi/miniconda3/envs/xesmf_env/lib/python3.7/site-packages/xesmf/smm.py:130: UserWarning: Input array is not C_CONTIGUOUS. Will affect performance.\n",
      "  warnings.warn('Input array is not C_CONTIGUOUS. ' 'Will affect performance.')\n"
     ]
    },
    {
     "name": "stdout",
     "output_type": "stream",
     "text": [
      "/Volumes/Thalassa/CORA_SHDR_rg/CORA_SHDR_202207_rg.nc done\n"
     ]
    },
    {
     "name": "stderr",
     "output_type": "stream",
     "text": [
      "/Users/ignasi/miniconda3/envs/xesmf_env/lib/python3.7/site-packages/xesmf/smm.py:130: UserWarning: Input array is not C_CONTIGUOUS. Will affect performance.\n",
      "  warnings.warn('Input array is not C_CONTIGUOUS. ' 'Will affect performance.')\n"
     ]
    },
    {
     "name": "stdout",
     "output_type": "stream",
     "text": [
      "/Volumes/Thalassa/CORA_SHDR_rg/CORA_SHDR_202208_rg.nc done\n"
     ]
    },
    {
     "name": "stderr",
     "output_type": "stream",
     "text": [
      "/Users/ignasi/miniconda3/envs/xesmf_env/lib/python3.7/site-packages/xesmf/smm.py:130: UserWarning: Input array is not C_CONTIGUOUS. Will affect performance.\n",
      "  warnings.warn('Input array is not C_CONTIGUOUS. ' 'Will affect performance.')\n"
     ]
    },
    {
     "name": "stdout",
     "output_type": "stream",
     "text": [
      "/Volumes/Thalassa/CORA_SHDR_rg/CORA_SHDR_202209_rg.nc done\n"
     ]
    },
    {
     "name": "stderr",
     "output_type": "stream",
     "text": [
      "/Users/ignasi/miniconda3/envs/xesmf_env/lib/python3.7/site-packages/xesmf/smm.py:130: UserWarning: Input array is not C_CONTIGUOUS. Will affect performance.\n",
      "  warnings.warn('Input array is not C_CONTIGUOUS. ' 'Will affect performance.')\n"
     ]
    },
    {
     "name": "stdout",
     "output_type": "stream",
     "text": [
      "/Volumes/Thalassa/CORA_SHDR_rg/CORA_SHDR_202210_rg.nc done\n"
     ]
    },
    {
     "name": "stderr",
     "output_type": "stream",
     "text": [
      "/Users/ignasi/miniconda3/envs/xesmf_env/lib/python3.7/site-packages/xesmf/smm.py:130: UserWarning: Input array is not C_CONTIGUOUS. Will affect performance.\n",
      "  warnings.warn('Input array is not C_CONTIGUOUS. ' 'Will affect performance.')\n"
     ]
    },
    {
     "name": "stdout",
     "output_type": "stream",
     "text": [
      "/Volumes/Thalassa/CORA_SHDR_rg/CORA_SHDR_202211_rg.nc done\n"
     ]
    },
    {
     "name": "stderr",
     "output_type": "stream",
     "text": [
      "/Users/ignasi/miniconda3/envs/xesmf_env/lib/python3.7/site-packages/xesmf/smm.py:130: UserWarning: Input array is not C_CONTIGUOUS. Will affect performance.\n",
      "  warnings.warn('Input array is not C_CONTIGUOUS. ' 'Will affect performance.')\n"
     ]
    },
    {
     "name": "stdout",
     "output_type": "stream",
     "text": [
      "/Volumes/Thalassa/CORA_SHDR_rg/CORA_SHDR_202212_rg.nc done\n"
     ]
    },
    {
     "name": "stderr",
     "output_type": "stream",
     "text": [
      "/Users/ignasi/miniconda3/envs/xesmf_env/lib/python3.7/site-packages/xesmf/smm.py:130: UserWarning: Input array is not C_CONTIGUOUS. Will affect performance.\n",
      "  warnings.warn('Input array is not C_CONTIGUOUS. ' 'Will affect performance.')\n"
     ]
    },
    {
     "name": "stdout",
     "output_type": "stream",
     "text": [
      "/Volumes/Thalassa/CORA_SHDR_rg/CORA_SHDR_197001_rg.nc done\n"
     ]
    },
    {
     "name": "stderr",
     "output_type": "stream",
     "text": [
      "/Users/ignasi/miniconda3/envs/xesmf_env/lib/python3.7/site-packages/xesmf/smm.py:130: UserWarning: Input array is not C_CONTIGUOUS. Will affect performance.\n",
      "  warnings.warn('Input array is not C_CONTIGUOUS. ' 'Will affect performance.')\n"
     ]
    },
    {
     "name": "stdout",
     "output_type": "stream",
     "text": [
      "/Volumes/Thalassa/CORA_SHDR_rg/CORA_SHDR_197002_rg.nc done\n"
     ]
    },
    {
     "name": "stderr",
     "output_type": "stream",
     "text": [
      "/Users/ignasi/miniconda3/envs/xesmf_env/lib/python3.7/site-packages/xesmf/smm.py:130: UserWarning: Input array is not C_CONTIGUOUS. Will affect performance.\n",
      "  warnings.warn('Input array is not C_CONTIGUOUS. ' 'Will affect performance.')\n"
     ]
    },
    {
     "name": "stdout",
     "output_type": "stream",
     "text": [
      "/Volumes/Thalassa/CORA_SHDR_rg/CORA_SHDR_197003_rg.nc done\n"
     ]
    },
    {
     "name": "stderr",
     "output_type": "stream",
     "text": [
      "/Users/ignasi/miniconda3/envs/xesmf_env/lib/python3.7/site-packages/xesmf/smm.py:130: UserWarning: Input array is not C_CONTIGUOUS. Will affect performance.\n",
      "  warnings.warn('Input array is not C_CONTIGUOUS. ' 'Will affect performance.')\n"
     ]
    },
    {
     "name": "stdout",
     "output_type": "stream",
     "text": [
      "/Volumes/Thalassa/CORA_SHDR_rg/CORA_SHDR_197004_rg.nc done\n"
     ]
    },
    {
     "name": "stderr",
     "output_type": "stream",
     "text": [
      "/Users/ignasi/miniconda3/envs/xesmf_env/lib/python3.7/site-packages/xesmf/smm.py:130: UserWarning: Input array is not C_CONTIGUOUS. Will affect performance.\n",
      "  warnings.warn('Input array is not C_CONTIGUOUS. ' 'Will affect performance.')\n"
     ]
    },
    {
     "name": "stdout",
     "output_type": "stream",
     "text": [
      "/Volumes/Thalassa/CORA_SHDR_rg/CORA_SHDR_197005_rg.nc done\n"
     ]
    },
    {
     "name": "stderr",
     "output_type": "stream",
     "text": [
      "/Users/ignasi/miniconda3/envs/xesmf_env/lib/python3.7/site-packages/xesmf/smm.py:130: UserWarning: Input array is not C_CONTIGUOUS. Will affect performance.\n",
      "  warnings.warn('Input array is not C_CONTIGUOUS. ' 'Will affect performance.')\n"
     ]
    },
    {
     "name": "stdout",
     "output_type": "stream",
     "text": [
      "/Volumes/Thalassa/CORA_SHDR_rg/CORA_SHDR_197006_rg.nc done\n"
     ]
    },
    {
     "name": "stderr",
     "output_type": "stream",
     "text": [
      "/Users/ignasi/miniconda3/envs/xesmf_env/lib/python3.7/site-packages/xesmf/smm.py:130: UserWarning: Input array is not C_CONTIGUOUS. Will affect performance.\n",
      "  warnings.warn('Input array is not C_CONTIGUOUS. ' 'Will affect performance.')\n"
     ]
    },
    {
     "name": "stdout",
     "output_type": "stream",
     "text": [
      "/Volumes/Thalassa/CORA_SHDR_rg/CORA_SHDR_197007_rg.nc done\n"
     ]
    },
    {
     "name": "stderr",
     "output_type": "stream",
     "text": [
      "/Users/ignasi/miniconda3/envs/xesmf_env/lib/python3.7/site-packages/xesmf/smm.py:130: UserWarning: Input array is not C_CONTIGUOUS. Will affect performance.\n",
      "  warnings.warn('Input array is not C_CONTIGUOUS. ' 'Will affect performance.')\n"
     ]
    },
    {
     "name": "stdout",
     "output_type": "stream",
     "text": [
      "/Volumes/Thalassa/CORA_SHDR_rg/CORA_SHDR_197008_rg.nc done\n"
     ]
    },
    {
     "name": "stderr",
     "output_type": "stream",
     "text": [
      "/Users/ignasi/miniconda3/envs/xesmf_env/lib/python3.7/site-packages/xesmf/smm.py:130: UserWarning: Input array is not C_CONTIGUOUS. Will affect performance.\n",
      "  warnings.warn('Input array is not C_CONTIGUOUS. ' 'Will affect performance.')\n"
     ]
    },
    {
     "name": "stdout",
     "output_type": "stream",
     "text": [
      "/Volumes/Thalassa/CORA_SHDR_rg/CORA_SHDR_197009_rg.nc done\n"
     ]
    },
    {
     "name": "stderr",
     "output_type": "stream",
     "text": [
      "/Users/ignasi/miniconda3/envs/xesmf_env/lib/python3.7/site-packages/xesmf/smm.py:130: UserWarning: Input array is not C_CONTIGUOUS. Will affect performance.\n",
      "  warnings.warn('Input array is not C_CONTIGUOUS. ' 'Will affect performance.')\n"
     ]
    },
    {
     "name": "stdout",
     "output_type": "stream",
     "text": [
      "/Volumes/Thalassa/CORA_SHDR_rg/CORA_SHDR_197010_rg.nc done\n"
     ]
    },
    {
     "name": "stderr",
     "output_type": "stream",
     "text": [
      "/Users/ignasi/miniconda3/envs/xesmf_env/lib/python3.7/site-packages/xesmf/smm.py:130: UserWarning: Input array is not C_CONTIGUOUS. Will affect performance.\n",
      "  warnings.warn('Input array is not C_CONTIGUOUS. ' 'Will affect performance.')\n"
     ]
    },
    {
     "name": "stdout",
     "output_type": "stream",
     "text": [
      "/Volumes/Thalassa/CORA_SHDR_rg/CORA_SHDR_197011_rg.nc done\n"
     ]
    },
    {
     "name": "stderr",
     "output_type": "stream",
     "text": [
      "/Users/ignasi/miniconda3/envs/xesmf_env/lib/python3.7/site-packages/xesmf/smm.py:130: UserWarning: Input array is not C_CONTIGUOUS. Will affect performance.\n",
      "  warnings.warn('Input array is not C_CONTIGUOUS. ' 'Will affect performance.')\n"
     ]
    },
    {
     "name": "stdout",
     "output_type": "stream",
     "text": [
      "/Volumes/Thalassa/CORA_SHDR_rg/CORA_SHDR_197012_rg.nc done\n"
     ]
    },
    {
     "name": "stderr",
     "output_type": "stream",
     "text": [
      "/Users/ignasi/miniconda3/envs/xesmf_env/lib/python3.7/site-packages/xesmf/smm.py:130: UserWarning: Input array is not C_CONTIGUOUS. Will affect performance.\n",
      "  warnings.warn('Input array is not C_CONTIGUOUS. ' 'Will affect performance.')\n"
     ]
    },
    {
     "name": "stdout",
     "output_type": "stream",
     "text": [
      "/Volumes/Thalassa/CORA_SHDR_rg/CORA_SHDR_197101_rg.nc done\n"
     ]
    },
    {
     "name": "stderr",
     "output_type": "stream",
     "text": [
      "/Users/ignasi/miniconda3/envs/xesmf_env/lib/python3.7/site-packages/xesmf/smm.py:130: UserWarning: Input array is not C_CONTIGUOUS. Will affect performance.\n",
      "  warnings.warn('Input array is not C_CONTIGUOUS. ' 'Will affect performance.')\n"
     ]
    },
    {
     "name": "stdout",
     "output_type": "stream",
     "text": [
      "/Volumes/Thalassa/CORA_SHDR_rg/CORA_SHDR_197102_rg.nc done\n"
     ]
    },
    {
     "name": "stderr",
     "output_type": "stream",
     "text": [
      "/Users/ignasi/miniconda3/envs/xesmf_env/lib/python3.7/site-packages/xesmf/smm.py:130: UserWarning: Input array is not C_CONTIGUOUS. Will affect performance.\n",
      "  warnings.warn('Input array is not C_CONTIGUOUS. ' 'Will affect performance.')\n"
     ]
    },
    {
     "name": "stdout",
     "output_type": "stream",
     "text": [
      "/Volumes/Thalassa/CORA_SHDR_rg/CORA_SHDR_197103_rg.nc done\n"
     ]
    },
    {
     "name": "stderr",
     "output_type": "stream",
     "text": [
      "/Users/ignasi/miniconda3/envs/xesmf_env/lib/python3.7/site-packages/xesmf/smm.py:130: UserWarning: Input array is not C_CONTIGUOUS. Will affect performance.\n",
      "  warnings.warn('Input array is not C_CONTIGUOUS. ' 'Will affect performance.')\n"
     ]
    },
    {
     "name": "stdout",
     "output_type": "stream",
     "text": [
      "/Volumes/Thalassa/CORA_SHDR_rg/CORA_SHDR_197104_rg.nc done\n"
     ]
    },
    {
     "name": "stderr",
     "output_type": "stream",
     "text": [
      "/Users/ignasi/miniconda3/envs/xesmf_env/lib/python3.7/site-packages/xesmf/smm.py:130: UserWarning: Input array is not C_CONTIGUOUS. Will affect performance.\n",
      "  warnings.warn('Input array is not C_CONTIGUOUS. ' 'Will affect performance.')\n"
     ]
    },
    {
     "name": "stdout",
     "output_type": "stream",
     "text": [
      "/Volumes/Thalassa/CORA_SHDR_rg/CORA_SHDR_197105_rg.nc done\n"
     ]
    },
    {
     "name": "stderr",
     "output_type": "stream",
     "text": [
      "/Users/ignasi/miniconda3/envs/xesmf_env/lib/python3.7/site-packages/xesmf/smm.py:130: UserWarning: Input array is not C_CONTIGUOUS. Will affect performance.\n",
      "  warnings.warn('Input array is not C_CONTIGUOUS. ' 'Will affect performance.')\n"
     ]
    },
    {
     "name": "stdout",
     "output_type": "stream",
     "text": [
      "/Volumes/Thalassa/CORA_SHDR_rg/CORA_SHDR_197106_rg.nc done\n"
     ]
    },
    {
     "name": "stderr",
     "output_type": "stream",
     "text": [
      "/Users/ignasi/miniconda3/envs/xesmf_env/lib/python3.7/site-packages/xesmf/smm.py:130: UserWarning: Input array is not C_CONTIGUOUS. Will affect performance.\n",
      "  warnings.warn('Input array is not C_CONTIGUOUS. ' 'Will affect performance.')\n"
     ]
    },
    {
     "name": "stdout",
     "output_type": "stream",
     "text": [
      "/Volumes/Thalassa/CORA_SHDR_rg/CORA_SHDR_197107_rg.nc done\n"
     ]
    },
    {
     "name": "stderr",
     "output_type": "stream",
     "text": [
      "/Users/ignasi/miniconda3/envs/xesmf_env/lib/python3.7/site-packages/xesmf/smm.py:130: UserWarning: Input array is not C_CONTIGUOUS. Will affect performance.\n",
      "  warnings.warn('Input array is not C_CONTIGUOUS. ' 'Will affect performance.')\n"
     ]
    },
    {
     "name": "stdout",
     "output_type": "stream",
     "text": [
      "/Volumes/Thalassa/CORA_SHDR_rg/CORA_SHDR_197108_rg.nc done\n"
     ]
    },
    {
     "name": "stderr",
     "output_type": "stream",
     "text": [
      "/Users/ignasi/miniconda3/envs/xesmf_env/lib/python3.7/site-packages/xesmf/smm.py:130: UserWarning: Input array is not C_CONTIGUOUS. Will affect performance.\n",
      "  warnings.warn('Input array is not C_CONTIGUOUS. ' 'Will affect performance.')\n"
     ]
    },
    {
     "name": "stdout",
     "output_type": "stream",
     "text": [
      "/Volumes/Thalassa/CORA_SHDR_rg/CORA_SHDR_197109_rg.nc done\n"
     ]
    },
    {
     "name": "stderr",
     "output_type": "stream",
     "text": [
      "/Users/ignasi/miniconda3/envs/xesmf_env/lib/python3.7/site-packages/xesmf/smm.py:130: UserWarning: Input array is not C_CONTIGUOUS. Will affect performance.\n",
      "  warnings.warn('Input array is not C_CONTIGUOUS. ' 'Will affect performance.')\n"
     ]
    },
    {
     "name": "stdout",
     "output_type": "stream",
     "text": [
      "/Volumes/Thalassa/CORA_SHDR_rg/CORA_SHDR_197110_rg.nc done\n"
     ]
    },
    {
     "name": "stderr",
     "output_type": "stream",
     "text": [
      "/Users/ignasi/miniconda3/envs/xesmf_env/lib/python3.7/site-packages/xesmf/smm.py:130: UserWarning: Input array is not C_CONTIGUOUS. Will affect performance.\n",
      "  warnings.warn('Input array is not C_CONTIGUOUS. ' 'Will affect performance.')\n"
     ]
    },
    {
     "name": "stdout",
     "output_type": "stream",
     "text": [
      "/Volumes/Thalassa/CORA_SHDR_rg/CORA_SHDR_197111_rg.nc done\n"
     ]
    },
    {
     "name": "stderr",
     "output_type": "stream",
     "text": [
      "/Users/ignasi/miniconda3/envs/xesmf_env/lib/python3.7/site-packages/xesmf/smm.py:130: UserWarning: Input array is not C_CONTIGUOUS. Will affect performance.\n",
      "  warnings.warn('Input array is not C_CONTIGUOUS. ' 'Will affect performance.')\n"
     ]
    },
    {
     "name": "stdout",
     "output_type": "stream",
     "text": [
      "/Volumes/Thalassa/CORA_SHDR_rg/CORA_SHDR_197112_rg.nc done\n"
     ]
    },
    {
     "name": "stderr",
     "output_type": "stream",
     "text": [
      "/Users/ignasi/miniconda3/envs/xesmf_env/lib/python3.7/site-packages/xesmf/smm.py:130: UserWarning: Input array is not C_CONTIGUOUS. Will affect performance.\n",
      "  warnings.warn('Input array is not C_CONTIGUOUS. ' 'Will affect performance.')\n"
     ]
    },
    {
     "name": "stdout",
     "output_type": "stream",
     "text": [
      "/Volumes/Thalassa/CORA_SHDR_rg/CORA_SHDR_197201_rg.nc done\n"
     ]
    },
    {
     "name": "stderr",
     "output_type": "stream",
     "text": [
      "/Users/ignasi/miniconda3/envs/xesmf_env/lib/python3.7/site-packages/xesmf/smm.py:130: UserWarning: Input array is not C_CONTIGUOUS. Will affect performance.\n",
      "  warnings.warn('Input array is not C_CONTIGUOUS. ' 'Will affect performance.')\n"
     ]
    },
    {
     "name": "stdout",
     "output_type": "stream",
     "text": [
      "/Volumes/Thalassa/CORA_SHDR_rg/CORA_SHDR_197202_rg.nc done\n"
     ]
    },
    {
     "name": "stderr",
     "output_type": "stream",
     "text": [
      "/Users/ignasi/miniconda3/envs/xesmf_env/lib/python3.7/site-packages/xesmf/smm.py:130: UserWarning: Input array is not C_CONTIGUOUS. Will affect performance.\n",
      "  warnings.warn('Input array is not C_CONTIGUOUS. ' 'Will affect performance.')\n"
     ]
    },
    {
     "name": "stdout",
     "output_type": "stream",
     "text": [
      "/Volumes/Thalassa/CORA_SHDR_rg/CORA_SHDR_197203_rg.nc done\n"
     ]
    },
    {
     "name": "stderr",
     "output_type": "stream",
     "text": [
      "/Users/ignasi/miniconda3/envs/xesmf_env/lib/python3.7/site-packages/xesmf/smm.py:130: UserWarning: Input array is not C_CONTIGUOUS. Will affect performance.\n",
      "  warnings.warn('Input array is not C_CONTIGUOUS. ' 'Will affect performance.')\n"
     ]
    },
    {
     "name": "stdout",
     "output_type": "stream",
     "text": [
      "/Volumes/Thalassa/CORA_SHDR_rg/CORA_SHDR_197204_rg.nc done\n"
     ]
    },
    {
     "name": "stderr",
     "output_type": "stream",
     "text": [
      "/Users/ignasi/miniconda3/envs/xesmf_env/lib/python3.7/site-packages/xesmf/smm.py:130: UserWarning: Input array is not C_CONTIGUOUS. Will affect performance.\n",
      "  warnings.warn('Input array is not C_CONTIGUOUS. ' 'Will affect performance.')\n"
     ]
    },
    {
     "name": "stdout",
     "output_type": "stream",
     "text": [
      "/Volumes/Thalassa/CORA_SHDR_rg/CORA_SHDR_197205_rg.nc done\n"
     ]
    },
    {
     "name": "stderr",
     "output_type": "stream",
     "text": [
      "/Users/ignasi/miniconda3/envs/xesmf_env/lib/python3.7/site-packages/xesmf/smm.py:130: UserWarning: Input array is not C_CONTIGUOUS. Will affect performance.\n",
      "  warnings.warn('Input array is not C_CONTIGUOUS. ' 'Will affect performance.')\n"
     ]
    },
    {
     "name": "stdout",
     "output_type": "stream",
     "text": [
      "/Volumes/Thalassa/CORA_SHDR_rg/CORA_SHDR_197206_rg.nc done\n"
     ]
    },
    {
     "name": "stderr",
     "output_type": "stream",
     "text": [
      "/Users/ignasi/miniconda3/envs/xesmf_env/lib/python3.7/site-packages/xesmf/smm.py:130: UserWarning: Input array is not C_CONTIGUOUS. Will affect performance.\n",
      "  warnings.warn('Input array is not C_CONTIGUOUS. ' 'Will affect performance.')\n"
     ]
    },
    {
     "name": "stdout",
     "output_type": "stream",
     "text": [
      "/Volumes/Thalassa/CORA_SHDR_rg/CORA_SHDR_197207_rg.nc done\n"
     ]
    },
    {
     "name": "stderr",
     "output_type": "stream",
     "text": [
      "/Users/ignasi/miniconda3/envs/xesmf_env/lib/python3.7/site-packages/xesmf/smm.py:130: UserWarning: Input array is not C_CONTIGUOUS. Will affect performance.\n",
      "  warnings.warn('Input array is not C_CONTIGUOUS. ' 'Will affect performance.')\n"
     ]
    },
    {
     "name": "stdout",
     "output_type": "stream",
     "text": [
      "/Volumes/Thalassa/CORA_SHDR_rg/CORA_SHDR_197208_rg.nc done\n"
     ]
    },
    {
     "name": "stderr",
     "output_type": "stream",
     "text": [
      "/Users/ignasi/miniconda3/envs/xesmf_env/lib/python3.7/site-packages/xesmf/smm.py:130: UserWarning: Input array is not C_CONTIGUOUS. Will affect performance.\n",
      "  warnings.warn('Input array is not C_CONTIGUOUS. ' 'Will affect performance.')\n"
     ]
    },
    {
     "name": "stdout",
     "output_type": "stream",
     "text": [
      "/Volumes/Thalassa/CORA_SHDR_rg/CORA_SHDR_197209_rg.nc done\n"
     ]
    },
    {
     "name": "stderr",
     "output_type": "stream",
     "text": [
      "/Users/ignasi/miniconda3/envs/xesmf_env/lib/python3.7/site-packages/xesmf/smm.py:130: UserWarning: Input array is not C_CONTIGUOUS. Will affect performance.\n",
      "  warnings.warn('Input array is not C_CONTIGUOUS. ' 'Will affect performance.')\n"
     ]
    },
    {
     "name": "stdout",
     "output_type": "stream",
     "text": [
      "/Volumes/Thalassa/CORA_SHDR_rg/CORA_SHDR_197210_rg.nc done\n"
     ]
    },
    {
     "name": "stderr",
     "output_type": "stream",
     "text": [
      "/Users/ignasi/miniconda3/envs/xesmf_env/lib/python3.7/site-packages/xesmf/smm.py:130: UserWarning: Input array is not C_CONTIGUOUS. Will affect performance.\n",
      "  warnings.warn('Input array is not C_CONTIGUOUS. ' 'Will affect performance.')\n"
     ]
    },
    {
     "name": "stdout",
     "output_type": "stream",
     "text": [
      "/Volumes/Thalassa/CORA_SHDR_rg/CORA_SHDR_197211_rg.nc done\n"
     ]
    },
    {
     "name": "stderr",
     "output_type": "stream",
     "text": [
      "/Users/ignasi/miniconda3/envs/xesmf_env/lib/python3.7/site-packages/xesmf/smm.py:130: UserWarning: Input array is not C_CONTIGUOUS. Will affect performance.\n",
      "  warnings.warn('Input array is not C_CONTIGUOUS. ' 'Will affect performance.')\n"
     ]
    },
    {
     "name": "stdout",
     "output_type": "stream",
     "text": [
      "/Volumes/Thalassa/CORA_SHDR_rg/CORA_SHDR_197212_rg.nc done\n"
     ]
    },
    {
     "name": "stderr",
     "output_type": "stream",
     "text": [
      "/Users/ignasi/miniconda3/envs/xesmf_env/lib/python3.7/site-packages/xesmf/smm.py:130: UserWarning: Input array is not C_CONTIGUOUS. Will affect performance.\n",
      "  warnings.warn('Input array is not C_CONTIGUOUS. ' 'Will affect performance.')\n"
     ]
    },
    {
     "name": "stdout",
     "output_type": "stream",
     "text": [
      "/Volumes/Thalassa/CORA_SHDR_rg/CORA_SHDR_197301_rg.nc done\n"
     ]
    },
    {
     "name": "stderr",
     "output_type": "stream",
     "text": [
      "/Users/ignasi/miniconda3/envs/xesmf_env/lib/python3.7/site-packages/xesmf/smm.py:130: UserWarning: Input array is not C_CONTIGUOUS. Will affect performance.\n",
      "  warnings.warn('Input array is not C_CONTIGUOUS. ' 'Will affect performance.')\n"
     ]
    },
    {
     "name": "stdout",
     "output_type": "stream",
     "text": [
      "/Volumes/Thalassa/CORA_SHDR_rg/CORA_SHDR_197302_rg.nc done\n"
     ]
    },
    {
     "name": "stderr",
     "output_type": "stream",
     "text": [
      "/Users/ignasi/miniconda3/envs/xesmf_env/lib/python3.7/site-packages/xesmf/smm.py:130: UserWarning: Input array is not C_CONTIGUOUS. Will affect performance.\n",
      "  warnings.warn('Input array is not C_CONTIGUOUS. ' 'Will affect performance.')\n"
     ]
    },
    {
     "name": "stdout",
     "output_type": "stream",
     "text": [
      "/Volumes/Thalassa/CORA_SHDR_rg/CORA_SHDR_197303_rg.nc done\n"
     ]
    },
    {
     "name": "stderr",
     "output_type": "stream",
     "text": [
      "/Users/ignasi/miniconda3/envs/xesmf_env/lib/python3.7/site-packages/xesmf/smm.py:130: UserWarning: Input array is not C_CONTIGUOUS. Will affect performance.\n",
      "  warnings.warn('Input array is not C_CONTIGUOUS. ' 'Will affect performance.')\n"
     ]
    },
    {
     "name": "stdout",
     "output_type": "stream",
     "text": [
      "/Volumes/Thalassa/CORA_SHDR_rg/CORA_SHDR_197304_rg.nc done\n"
     ]
    },
    {
     "name": "stderr",
     "output_type": "stream",
     "text": [
      "/Users/ignasi/miniconda3/envs/xesmf_env/lib/python3.7/site-packages/xesmf/smm.py:130: UserWarning: Input array is not C_CONTIGUOUS. Will affect performance.\n",
      "  warnings.warn('Input array is not C_CONTIGUOUS. ' 'Will affect performance.')\n"
     ]
    },
    {
     "name": "stdout",
     "output_type": "stream",
     "text": [
      "/Volumes/Thalassa/CORA_SHDR_rg/CORA_SHDR_197305_rg.nc done\n"
     ]
    },
    {
     "name": "stderr",
     "output_type": "stream",
     "text": [
      "/Users/ignasi/miniconda3/envs/xesmf_env/lib/python3.7/site-packages/xesmf/smm.py:130: UserWarning: Input array is not C_CONTIGUOUS. Will affect performance.\n",
      "  warnings.warn('Input array is not C_CONTIGUOUS. ' 'Will affect performance.')\n"
     ]
    },
    {
     "name": "stdout",
     "output_type": "stream",
     "text": [
      "/Volumes/Thalassa/CORA_SHDR_rg/CORA_SHDR_197306_rg.nc done\n"
     ]
    },
    {
     "name": "stderr",
     "output_type": "stream",
     "text": [
      "/Users/ignasi/miniconda3/envs/xesmf_env/lib/python3.7/site-packages/xesmf/smm.py:130: UserWarning: Input array is not C_CONTIGUOUS. Will affect performance.\n",
      "  warnings.warn('Input array is not C_CONTIGUOUS. ' 'Will affect performance.')\n"
     ]
    },
    {
     "name": "stdout",
     "output_type": "stream",
     "text": [
      "/Volumes/Thalassa/CORA_SHDR_rg/CORA_SHDR_197307_rg.nc done\n"
     ]
    },
    {
     "name": "stderr",
     "output_type": "stream",
     "text": [
      "/Users/ignasi/miniconda3/envs/xesmf_env/lib/python3.7/site-packages/xesmf/smm.py:130: UserWarning: Input array is not C_CONTIGUOUS. Will affect performance.\n",
      "  warnings.warn('Input array is not C_CONTIGUOUS. ' 'Will affect performance.')\n"
     ]
    },
    {
     "name": "stdout",
     "output_type": "stream",
     "text": [
      "/Volumes/Thalassa/CORA_SHDR_rg/CORA_SHDR_197308_rg.nc done\n"
     ]
    },
    {
     "name": "stderr",
     "output_type": "stream",
     "text": [
      "/Users/ignasi/miniconda3/envs/xesmf_env/lib/python3.7/site-packages/xesmf/smm.py:130: UserWarning: Input array is not C_CONTIGUOUS. Will affect performance.\n",
      "  warnings.warn('Input array is not C_CONTIGUOUS. ' 'Will affect performance.')\n"
     ]
    },
    {
     "name": "stdout",
     "output_type": "stream",
     "text": [
      "/Volumes/Thalassa/CORA_SHDR_rg/CORA_SHDR_197309_rg.nc done\n"
     ]
    },
    {
     "name": "stderr",
     "output_type": "stream",
     "text": [
      "/Users/ignasi/miniconda3/envs/xesmf_env/lib/python3.7/site-packages/xesmf/smm.py:130: UserWarning: Input array is not C_CONTIGUOUS. Will affect performance.\n",
      "  warnings.warn('Input array is not C_CONTIGUOUS. ' 'Will affect performance.')\n"
     ]
    },
    {
     "name": "stdout",
     "output_type": "stream",
     "text": [
      "/Volumes/Thalassa/CORA_SHDR_rg/CORA_SHDR_197310_rg.nc done\n"
     ]
    },
    {
     "name": "stderr",
     "output_type": "stream",
     "text": [
      "/Users/ignasi/miniconda3/envs/xesmf_env/lib/python3.7/site-packages/xesmf/smm.py:130: UserWarning: Input array is not C_CONTIGUOUS. Will affect performance.\n",
      "  warnings.warn('Input array is not C_CONTIGUOUS. ' 'Will affect performance.')\n"
     ]
    },
    {
     "name": "stdout",
     "output_type": "stream",
     "text": [
      "/Volumes/Thalassa/CORA_SHDR_rg/CORA_SHDR_197311_rg.nc done\n"
     ]
    },
    {
     "name": "stderr",
     "output_type": "stream",
     "text": [
      "/Users/ignasi/miniconda3/envs/xesmf_env/lib/python3.7/site-packages/xesmf/smm.py:130: UserWarning: Input array is not C_CONTIGUOUS. Will affect performance.\n",
      "  warnings.warn('Input array is not C_CONTIGUOUS. ' 'Will affect performance.')\n"
     ]
    },
    {
     "name": "stdout",
     "output_type": "stream",
     "text": [
      "/Volumes/Thalassa/CORA_SHDR_rg/CORA_SHDR_197312_rg.nc done\n"
     ]
    },
    {
     "name": "stderr",
     "output_type": "stream",
     "text": [
      "/Users/ignasi/miniconda3/envs/xesmf_env/lib/python3.7/site-packages/xesmf/smm.py:130: UserWarning: Input array is not C_CONTIGUOUS. Will affect performance.\n",
      "  warnings.warn('Input array is not C_CONTIGUOUS. ' 'Will affect performance.')\n"
     ]
    },
    {
     "name": "stdout",
     "output_type": "stream",
     "text": [
      "/Volumes/Thalassa/CORA_SHDR_rg/CORA_SHDR_197401_rg.nc done\n"
     ]
    },
    {
     "name": "stderr",
     "output_type": "stream",
     "text": [
      "/Users/ignasi/miniconda3/envs/xesmf_env/lib/python3.7/site-packages/xesmf/smm.py:130: UserWarning: Input array is not C_CONTIGUOUS. Will affect performance.\n",
      "  warnings.warn('Input array is not C_CONTIGUOUS. ' 'Will affect performance.')\n"
     ]
    },
    {
     "name": "stdout",
     "output_type": "stream",
     "text": [
      "/Volumes/Thalassa/CORA_SHDR_rg/CORA_SHDR_197402_rg.nc done\n"
     ]
    },
    {
     "name": "stderr",
     "output_type": "stream",
     "text": [
      "/Users/ignasi/miniconda3/envs/xesmf_env/lib/python3.7/site-packages/xesmf/smm.py:130: UserWarning: Input array is not C_CONTIGUOUS. Will affect performance.\n",
      "  warnings.warn('Input array is not C_CONTIGUOUS. ' 'Will affect performance.')\n"
     ]
    },
    {
     "name": "stdout",
     "output_type": "stream",
     "text": [
      "/Volumes/Thalassa/CORA_SHDR_rg/CORA_SHDR_197403_rg.nc done\n"
     ]
    },
    {
     "name": "stderr",
     "output_type": "stream",
     "text": [
      "/Users/ignasi/miniconda3/envs/xesmf_env/lib/python3.7/site-packages/xesmf/smm.py:130: UserWarning: Input array is not C_CONTIGUOUS. Will affect performance.\n",
      "  warnings.warn('Input array is not C_CONTIGUOUS. ' 'Will affect performance.')\n"
     ]
    },
    {
     "name": "stdout",
     "output_type": "stream",
     "text": [
      "/Volumes/Thalassa/CORA_SHDR_rg/CORA_SHDR_197404_rg.nc done\n"
     ]
    },
    {
     "name": "stderr",
     "output_type": "stream",
     "text": [
      "/Users/ignasi/miniconda3/envs/xesmf_env/lib/python3.7/site-packages/xesmf/smm.py:130: UserWarning: Input array is not C_CONTIGUOUS. Will affect performance.\n",
      "  warnings.warn('Input array is not C_CONTIGUOUS. ' 'Will affect performance.')\n"
     ]
    },
    {
     "name": "stdout",
     "output_type": "stream",
     "text": [
      "/Volumes/Thalassa/CORA_SHDR_rg/CORA_SHDR_197405_rg.nc done\n"
     ]
    },
    {
     "name": "stderr",
     "output_type": "stream",
     "text": [
      "/Users/ignasi/miniconda3/envs/xesmf_env/lib/python3.7/site-packages/xesmf/smm.py:130: UserWarning: Input array is not C_CONTIGUOUS. Will affect performance.\n",
      "  warnings.warn('Input array is not C_CONTIGUOUS. ' 'Will affect performance.')\n"
     ]
    },
    {
     "name": "stdout",
     "output_type": "stream",
     "text": [
      "/Volumes/Thalassa/CORA_SHDR_rg/CORA_SHDR_197406_rg.nc done\n"
     ]
    },
    {
     "name": "stderr",
     "output_type": "stream",
     "text": [
      "/Users/ignasi/miniconda3/envs/xesmf_env/lib/python3.7/site-packages/xesmf/smm.py:130: UserWarning: Input array is not C_CONTIGUOUS. Will affect performance.\n",
      "  warnings.warn('Input array is not C_CONTIGUOUS. ' 'Will affect performance.')\n"
     ]
    },
    {
     "name": "stdout",
     "output_type": "stream",
     "text": [
      "/Volumes/Thalassa/CORA_SHDR_rg/CORA_SHDR_197407_rg.nc done\n"
     ]
    },
    {
     "name": "stderr",
     "output_type": "stream",
     "text": [
      "/Users/ignasi/miniconda3/envs/xesmf_env/lib/python3.7/site-packages/xesmf/smm.py:130: UserWarning: Input array is not C_CONTIGUOUS. Will affect performance.\n",
      "  warnings.warn('Input array is not C_CONTIGUOUS. ' 'Will affect performance.')\n"
     ]
    },
    {
     "name": "stdout",
     "output_type": "stream",
     "text": [
      "/Volumes/Thalassa/CORA_SHDR_rg/CORA_SHDR_197408_rg.nc done\n"
     ]
    },
    {
     "name": "stderr",
     "output_type": "stream",
     "text": [
      "/Users/ignasi/miniconda3/envs/xesmf_env/lib/python3.7/site-packages/xesmf/smm.py:130: UserWarning: Input array is not C_CONTIGUOUS. Will affect performance.\n",
      "  warnings.warn('Input array is not C_CONTIGUOUS. ' 'Will affect performance.')\n"
     ]
    },
    {
     "name": "stdout",
     "output_type": "stream",
     "text": [
      "/Volumes/Thalassa/CORA_SHDR_rg/CORA_SHDR_197409_rg.nc done\n"
     ]
    },
    {
     "name": "stderr",
     "output_type": "stream",
     "text": [
      "/Users/ignasi/miniconda3/envs/xesmf_env/lib/python3.7/site-packages/xesmf/smm.py:130: UserWarning: Input array is not C_CONTIGUOUS. Will affect performance.\n",
      "  warnings.warn('Input array is not C_CONTIGUOUS. ' 'Will affect performance.')\n"
     ]
    },
    {
     "name": "stdout",
     "output_type": "stream",
     "text": [
      "/Volumes/Thalassa/CORA_SHDR_rg/CORA_SHDR_197410_rg.nc done\n"
     ]
    },
    {
     "name": "stderr",
     "output_type": "stream",
     "text": [
      "/Users/ignasi/miniconda3/envs/xesmf_env/lib/python3.7/site-packages/xesmf/smm.py:130: UserWarning: Input array is not C_CONTIGUOUS. Will affect performance.\n",
      "  warnings.warn('Input array is not C_CONTIGUOUS. ' 'Will affect performance.')\n"
     ]
    },
    {
     "name": "stdout",
     "output_type": "stream",
     "text": [
      "/Volumes/Thalassa/CORA_SHDR_rg/CORA_SHDR_197411_rg.nc done\n"
     ]
    },
    {
     "name": "stderr",
     "output_type": "stream",
     "text": [
      "/Users/ignasi/miniconda3/envs/xesmf_env/lib/python3.7/site-packages/xesmf/smm.py:130: UserWarning: Input array is not C_CONTIGUOUS. Will affect performance.\n",
      "  warnings.warn('Input array is not C_CONTIGUOUS. ' 'Will affect performance.')\n"
     ]
    },
    {
     "name": "stdout",
     "output_type": "stream",
     "text": [
      "/Volumes/Thalassa/CORA_SHDR_rg/CORA_SHDR_197412_rg.nc done\n"
     ]
    },
    {
     "name": "stderr",
     "output_type": "stream",
     "text": [
      "/Users/ignasi/miniconda3/envs/xesmf_env/lib/python3.7/site-packages/xesmf/smm.py:130: UserWarning: Input array is not C_CONTIGUOUS. Will affect performance.\n",
      "  warnings.warn('Input array is not C_CONTIGUOUS. ' 'Will affect performance.')\n"
     ]
    },
    {
     "name": "stdout",
     "output_type": "stream",
     "text": [
      "/Volumes/Thalassa/CORA_SHDR_rg/CORA_SHDR_197501_rg.nc done\n"
     ]
    },
    {
     "name": "stderr",
     "output_type": "stream",
     "text": [
      "/Users/ignasi/miniconda3/envs/xesmf_env/lib/python3.7/site-packages/xesmf/smm.py:130: UserWarning: Input array is not C_CONTIGUOUS. Will affect performance.\n",
      "  warnings.warn('Input array is not C_CONTIGUOUS. ' 'Will affect performance.')\n"
     ]
    },
    {
     "name": "stdout",
     "output_type": "stream",
     "text": [
      "/Volumes/Thalassa/CORA_SHDR_rg/CORA_SHDR_197502_rg.nc done\n"
     ]
    },
    {
     "name": "stderr",
     "output_type": "stream",
     "text": [
      "/Users/ignasi/miniconda3/envs/xesmf_env/lib/python3.7/site-packages/xesmf/smm.py:130: UserWarning: Input array is not C_CONTIGUOUS. Will affect performance.\n",
      "  warnings.warn('Input array is not C_CONTIGUOUS. ' 'Will affect performance.')\n"
     ]
    },
    {
     "name": "stdout",
     "output_type": "stream",
     "text": [
      "/Volumes/Thalassa/CORA_SHDR_rg/CORA_SHDR_197503_rg.nc done\n"
     ]
    },
    {
     "name": "stderr",
     "output_type": "stream",
     "text": [
      "/Users/ignasi/miniconda3/envs/xesmf_env/lib/python3.7/site-packages/xesmf/smm.py:130: UserWarning: Input array is not C_CONTIGUOUS. Will affect performance.\n",
      "  warnings.warn('Input array is not C_CONTIGUOUS. ' 'Will affect performance.')\n"
     ]
    },
    {
     "name": "stdout",
     "output_type": "stream",
     "text": [
      "/Volumes/Thalassa/CORA_SHDR_rg/CORA_SHDR_197504_rg.nc done\n"
     ]
    },
    {
     "name": "stderr",
     "output_type": "stream",
     "text": [
      "/Users/ignasi/miniconda3/envs/xesmf_env/lib/python3.7/site-packages/xesmf/smm.py:130: UserWarning: Input array is not C_CONTIGUOUS. Will affect performance.\n",
      "  warnings.warn('Input array is not C_CONTIGUOUS. ' 'Will affect performance.')\n"
     ]
    },
    {
     "name": "stdout",
     "output_type": "stream",
     "text": [
      "/Volumes/Thalassa/CORA_SHDR_rg/CORA_SHDR_197505_rg.nc done\n"
     ]
    },
    {
     "name": "stderr",
     "output_type": "stream",
     "text": [
      "/Users/ignasi/miniconda3/envs/xesmf_env/lib/python3.7/site-packages/xesmf/smm.py:130: UserWarning: Input array is not C_CONTIGUOUS. Will affect performance.\n",
      "  warnings.warn('Input array is not C_CONTIGUOUS. ' 'Will affect performance.')\n"
     ]
    },
    {
     "name": "stdout",
     "output_type": "stream",
     "text": [
      "/Volumes/Thalassa/CORA_SHDR_rg/CORA_SHDR_197506_rg.nc done\n"
     ]
    },
    {
     "name": "stderr",
     "output_type": "stream",
     "text": [
      "/Users/ignasi/miniconda3/envs/xesmf_env/lib/python3.7/site-packages/xesmf/smm.py:130: UserWarning: Input array is not C_CONTIGUOUS. Will affect performance.\n",
      "  warnings.warn('Input array is not C_CONTIGUOUS. ' 'Will affect performance.')\n"
     ]
    },
    {
     "name": "stdout",
     "output_type": "stream",
     "text": [
      "/Volumes/Thalassa/CORA_SHDR_rg/CORA_SHDR_197507_rg.nc done\n"
     ]
    },
    {
     "name": "stderr",
     "output_type": "stream",
     "text": [
      "/Users/ignasi/miniconda3/envs/xesmf_env/lib/python3.7/site-packages/xesmf/smm.py:130: UserWarning: Input array is not C_CONTIGUOUS. Will affect performance.\n",
      "  warnings.warn('Input array is not C_CONTIGUOUS. ' 'Will affect performance.')\n"
     ]
    },
    {
     "name": "stdout",
     "output_type": "stream",
     "text": [
      "/Volumes/Thalassa/CORA_SHDR_rg/CORA_SHDR_197508_rg.nc done\n"
     ]
    },
    {
     "name": "stderr",
     "output_type": "stream",
     "text": [
      "/Users/ignasi/miniconda3/envs/xesmf_env/lib/python3.7/site-packages/xesmf/smm.py:130: UserWarning: Input array is not C_CONTIGUOUS. Will affect performance.\n",
      "  warnings.warn('Input array is not C_CONTIGUOUS. ' 'Will affect performance.')\n"
     ]
    },
    {
     "name": "stdout",
     "output_type": "stream",
     "text": [
      "/Volumes/Thalassa/CORA_SHDR_rg/CORA_SHDR_197509_rg.nc done\n"
     ]
    },
    {
     "name": "stderr",
     "output_type": "stream",
     "text": [
      "/Users/ignasi/miniconda3/envs/xesmf_env/lib/python3.7/site-packages/xesmf/smm.py:130: UserWarning: Input array is not C_CONTIGUOUS. Will affect performance.\n",
      "  warnings.warn('Input array is not C_CONTIGUOUS. ' 'Will affect performance.')\n"
     ]
    },
    {
     "name": "stdout",
     "output_type": "stream",
     "text": [
      "/Volumes/Thalassa/CORA_SHDR_rg/CORA_SHDR_197510_rg.nc done\n"
     ]
    },
    {
     "name": "stderr",
     "output_type": "stream",
     "text": [
      "/Users/ignasi/miniconda3/envs/xesmf_env/lib/python3.7/site-packages/xesmf/smm.py:130: UserWarning: Input array is not C_CONTIGUOUS. Will affect performance.\n",
      "  warnings.warn('Input array is not C_CONTIGUOUS. ' 'Will affect performance.')\n"
     ]
    },
    {
     "name": "stdout",
     "output_type": "stream",
     "text": [
      "/Volumes/Thalassa/CORA_SHDR_rg/CORA_SHDR_197511_rg.nc done\n"
     ]
    },
    {
     "name": "stderr",
     "output_type": "stream",
     "text": [
      "/Users/ignasi/miniconda3/envs/xesmf_env/lib/python3.7/site-packages/xesmf/smm.py:130: UserWarning: Input array is not C_CONTIGUOUS. Will affect performance.\n",
      "  warnings.warn('Input array is not C_CONTIGUOUS. ' 'Will affect performance.')\n"
     ]
    },
    {
     "name": "stdout",
     "output_type": "stream",
     "text": [
      "/Volumes/Thalassa/CORA_SHDR_rg/CORA_SHDR_197512_rg.nc done\n"
     ]
    },
    {
     "name": "stderr",
     "output_type": "stream",
     "text": [
      "/Users/ignasi/miniconda3/envs/xesmf_env/lib/python3.7/site-packages/xesmf/smm.py:130: UserWarning: Input array is not C_CONTIGUOUS. Will affect performance.\n",
      "  warnings.warn('Input array is not C_CONTIGUOUS. ' 'Will affect performance.')\n"
     ]
    },
    {
     "name": "stdout",
     "output_type": "stream",
     "text": [
      "/Volumes/Thalassa/CORA_SHDR_rg/CORA_SHDR_197601_rg.nc done\n"
     ]
    },
    {
     "name": "stderr",
     "output_type": "stream",
     "text": [
      "/Users/ignasi/miniconda3/envs/xesmf_env/lib/python3.7/site-packages/xesmf/smm.py:130: UserWarning: Input array is not C_CONTIGUOUS. Will affect performance.\n",
      "  warnings.warn('Input array is not C_CONTIGUOUS. ' 'Will affect performance.')\n"
     ]
    },
    {
     "name": "stdout",
     "output_type": "stream",
     "text": [
      "/Volumes/Thalassa/CORA_SHDR_rg/CORA_SHDR_197602_rg.nc done\n"
     ]
    },
    {
     "name": "stderr",
     "output_type": "stream",
     "text": [
      "/Users/ignasi/miniconda3/envs/xesmf_env/lib/python3.7/site-packages/xesmf/smm.py:130: UserWarning: Input array is not C_CONTIGUOUS. Will affect performance.\n",
      "  warnings.warn('Input array is not C_CONTIGUOUS. ' 'Will affect performance.')\n"
     ]
    },
    {
     "name": "stdout",
     "output_type": "stream",
     "text": [
      "/Volumes/Thalassa/CORA_SHDR_rg/CORA_SHDR_197603_rg.nc done\n"
     ]
    },
    {
     "name": "stderr",
     "output_type": "stream",
     "text": [
      "/Users/ignasi/miniconda3/envs/xesmf_env/lib/python3.7/site-packages/xesmf/smm.py:130: UserWarning: Input array is not C_CONTIGUOUS. Will affect performance.\n",
      "  warnings.warn('Input array is not C_CONTIGUOUS. ' 'Will affect performance.')\n"
     ]
    },
    {
     "name": "stdout",
     "output_type": "stream",
     "text": [
      "/Volumes/Thalassa/CORA_SHDR_rg/CORA_SHDR_197604_rg.nc done\n"
     ]
    },
    {
     "name": "stderr",
     "output_type": "stream",
     "text": [
      "/Users/ignasi/miniconda3/envs/xesmf_env/lib/python3.7/site-packages/xesmf/smm.py:130: UserWarning: Input array is not C_CONTIGUOUS. Will affect performance.\n",
      "  warnings.warn('Input array is not C_CONTIGUOUS. ' 'Will affect performance.')\n"
     ]
    },
    {
     "name": "stdout",
     "output_type": "stream",
     "text": [
      "/Volumes/Thalassa/CORA_SHDR_rg/CORA_SHDR_197605_rg.nc done\n"
     ]
    },
    {
     "name": "stderr",
     "output_type": "stream",
     "text": [
      "/Users/ignasi/miniconda3/envs/xesmf_env/lib/python3.7/site-packages/xesmf/smm.py:130: UserWarning: Input array is not C_CONTIGUOUS. Will affect performance.\n",
      "  warnings.warn('Input array is not C_CONTIGUOUS. ' 'Will affect performance.')\n"
     ]
    },
    {
     "name": "stdout",
     "output_type": "stream",
     "text": [
      "/Volumes/Thalassa/CORA_SHDR_rg/CORA_SHDR_197606_rg.nc done\n"
     ]
    },
    {
     "name": "stderr",
     "output_type": "stream",
     "text": [
      "/Users/ignasi/miniconda3/envs/xesmf_env/lib/python3.7/site-packages/xesmf/smm.py:130: UserWarning: Input array is not C_CONTIGUOUS. Will affect performance.\n",
      "  warnings.warn('Input array is not C_CONTIGUOUS. ' 'Will affect performance.')\n"
     ]
    },
    {
     "name": "stdout",
     "output_type": "stream",
     "text": [
      "/Volumes/Thalassa/CORA_SHDR_rg/CORA_SHDR_197607_rg.nc done\n"
     ]
    },
    {
     "name": "stderr",
     "output_type": "stream",
     "text": [
      "/Users/ignasi/miniconda3/envs/xesmf_env/lib/python3.7/site-packages/xesmf/smm.py:130: UserWarning: Input array is not C_CONTIGUOUS. Will affect performance.\n",
      "  warnings.warn('Input array is not C_CONTIGUOUS. ' 'Will affect performance.')\n"
     ]
    },
    {
     "name": "stdout",
     "output_type": "stream",
     "text": [
      "/Volumes/Thalassa/CORA_SHDR_rg/CORA_SHDR_197608_rg.nc done\n"
     ]
    },
    {
     "name": "stderr",
     "output_type": "stream",
     "text": [
      "/Users/ignasi/miniconda3/envs/xesmf_env/lib/python3.7/site-packages/xesmf/smm.py:130: UserWarning: Input array is not C_CONTIGUOUS. Will affect performance.\n",
      "  warnings.warn('Input array is not C_CONTIGUOUS. ' 'Will affect performance.')\n"
     ]
    },
    {
     "name": "stdout",
     "output_type": "stream",
     "text": [
      "/Volumes/Thalassa/CORA_SHDR_rg/CORA_SHDR_197609_rg.nc done\n"
     ]
    },
    {
     "name": "stderr",
     "output_type": "stream",
     "text": [
      "/Users/ignasi/miniconda3/envs/xesmf_env/lib/python3.7/site-packages/xesmf/smm.py:130: UserWarning: Input array is not C_CONTIGUOUS. Will affect performance.\n",
      "  warnings.warn('Input array is not C_CONTIGUOUS. ' 'Will affect performance.')\n"
     ]
    },
    {
     "name": "stdout",
     "output_type": "stream",
     "text": [
      "/Volumes/Thalassa/CORA_SHDR_rg/CORA_SHDR_197610_rg.nc done\n"
     ]
    },
    {
     "name": "stderr",
     "output_type": "stream",
     "text": [
      "/Users/ignasi/miniconda3/envs/xesmf_env/lib/python3.7/site-packages/xesmf/smm.py:130: UserWarning: Input array is not C_CONTIGUOUS. Will affect performance.\n",
      "  warnings.warn('Input array is not C_CONTIGUOUS. ' 'Will affect performance.')\n"
     ]
    },
    {
     "name": "stdout",
     "output_type": "stream",
     "text": [
      "/Volumes/Thalassa/CORA_SHDR_rg/CORA_SHDR_197611_rg.nc done\n"
     ]
    },
    {
     "name": "stderr",
     "output_type": "stream",
     "text": [
      "/Users/ignasi/miniconda3/envs/xesmf_env/lib/python3.7/site-packages/xesmf/smm.py:130: UserWarning: Input array is not C_CONTIGUOUS. Will affect performance.\n",
      "  warnings.warn('Input array is not C_CONTIGUOUS. ' 'Will affect performance.')\n"
     ]
    },
    {
     "name": "stdout",
     "output_type": "stream",
     "text": [
      "/Volumes/Thalassa/CORA_SHDR_rg/CORA_SHDR_197612_rg.nc done\n"
     ]
    },
    {
     "name": "stderr",
     "output_type": "stream",
     "text": [
      "/Users/ignasi/miniconda3/envs/xesmf_env/lib/python3.7/site-packages/xesmf/smm.py:130: UserWarning: Input array is not C_CONTIGUOUS. Will affect performance.\n",
      "  warnings.warn('Input array is not C_CONTIGUOUS. ' 'Will affect performance.')\n"
     ]
    },
    {
     "name": "stdout",
     "output_type": "stream",
     "text": [
      "/Volumes/Thalassa/CORA_SHDR_rg/CORA_SHDR_197701_rg.nc done\n"
     ]
    },
    {
     "name": "stderr",
     "output_type": "stream",
     "text": [
      "/Users/ignasi/miniconda3/envs/xesmf_env/lib/python3.7/site-packages/xesmf/smm.py:130: UserWarning: Input array is not C_CONTIGUOUS. Will affect performance.\n",
      "  warnings.warn('Input array is not C_CONTIGUOUS. ' 'Will affect performance.')\n"
     ]
    },
    {
     "name": "stdout",
     "output_type": "stream",
     "text": [
      "/Volumes/Thalassa/CORA_SHDR_rg/CORA_SHDR_197702_rg.nc done\n"
     ]
    },
    {
     "name": "stderr",
     "output_type": "stream",
     "text": [
      "/Users/ignasi/miniconda3/envs/xesmf_env/lib/python3.7/site-packages/xesmf/smm.py:130: UserWarning: Input array is not C_CONTIGUOUS. Will affect performance.\n",
      "  warnings.warn('Input array is not C_CONTIGUOUS. ' 'Will affect performance.')\n"
     ]
    },
    {
     "name": "stdout",
     "output_type": "stream",
     "text": [
      "/Volumes/Thalassa/CORA_SHDR_rg/CORA_SHDR_197703_rg.nc done\n"
     ]
    },
    {
     "name": "stderr",
     "output_type": "stream",
     "text": [
      "/Users/ignasi/miniconda3/envs/xesmf_env/lib/python3.7/site-packages/xesmf/smm.py:130: UserWarning: Input array is not C_CONTIGUOUS. Will affect performance.\n",
      "  warnings.warn('Input array is not C_CONTIGUOUS. ' 'Will affect performance.')\n"
     ]
    },
    {
     "name": "stdout",
     "output_type": "stream",
     "text": [
      "/Volumes/Thalassa/CORA_SHDR_rg/CORA_SHDR_197704_rg.nc done\n"
     ]
    },
    {
     "name": "stderr",
     "output_type": "stream",
     "text": [
      "/Users/ignasi/miniconda3/envs/xesmf_env/lib/python3.7/site-packages/xesmf/smm.py:130: UserWarning: Input array is not C_CONTIGUOUS. Will affect performance.\n",
      "  warnings.warn('Input array is not C_CONTIGUOUS. ' 'Will affect performance.')\n"
     ]
    },
    {
     "name": "stdout",
     "output_type": "stream",
     "text": [
      "/Volumes/Thalassa/CORA_SHDR_rg/CORA_SHDR_197705_rg.nc done\n"
     ]
    },
    {
     "name": "stderr",
     "output_type": "stream",
     "text": [
      "/Users/ignasi/miniconda3/envs/xesmf_env/lib/python3.7/site-packages/xesmf/smm.py:130: UserWarning: Input array is not C_CONTIGUOUS. Will affect performance.\n",
      "  warnings.warn('Input array is not C_CONTIGUOUS. ' 'Will affect performance.')\n"
     ]
    },
    {
     "name": "stdout",
     "output_type": "stream",
     "text": [
      "/Volumes/Thalassa/CORA_SHDR_rg/CORA_SHDR_197706_rg.nc done\n"
     ]
    },
    {
     "name": "stderr",
     "output_type": "stream",
     "text": [
      "/Users/ignasi/miniconda3/envs/xesmf_env/lib/python3.7/site-packages/xesmf/smm.py:130: UserWarning: Input array is not C_CONTIGUOUS. Will affect performance.\n",
      "  warnings.warn('Input array is not C_CONTIGUOUS. ' 'Will affect performance.')\n"
     ]
    },
    {
     "name": "stdout",
     "output_type": "stream",
     "text": [
      "/Volumes/Thalassa/CORA_SHDR_rg/CORA_SHDR_197707_rg.nc done\n"
     ]
    },
    {
     "name": "stderr",
     "output_type": "stream",
     "text": [
      "/Users/ignasi/miniconda3/envs/xesmf_env/lib/python3.7/site-packages/xesmf/smm.py:130: UserWarning: Input array is not C_CONTIGUOUS. Will affect performance.\n",
      "  warnings.warn('Input array is not C_CONTIGUOUS. ' 'Will affect performance.')\n"
     ]
    },
    {
     "name": "stdout",
     "output_type": "stream",
     "text": [
      "/Volumes/Thalassa/CORA_SHDR_rg/CORA_SHDR_197708_rg.nc done\n"
     ]
    },
    {
     "name": "stderr",
     "output_type": "stream",
     "text": [
      "/Users/ignasi/miniconda3/envs/xesmf_env/lib/python3.7/site-packages/xesmf/smm.py:130: UserWarning: Input array is not C_CONTIGUOUS. Will affect performance.\n",
      "  warnings.warn('Input array is not C_CONTIGUOUS. ' 'Will affect performance.')\n"
     ]
    },
    {
     "name": "stdout",
     "output_type": "stream",
     "text": [
      "/Volumes/Thalassa/CORA_SHDR_rg/CORA_SHDR_197709_rg.nc done\n"
     ]
    },
    {
     "name": "stderr",
     "output_type": "stream",
     "text": [
      "/Users/ignasi/miniconda3/envs/xesmf_env/lib/python3.7/site-packages/xesmf/smm.py:130: UserWarning: Input array is not C_CONTIGUOUS. Will affect performance.\n",
      "  warnings.warn('Input array is not C_CONTIGUOUS. ' 'Will affect performance.')\n"
     ]
    },
    {
     "name": "stdout",
     "output_type": "stream",
     "text": [
      "/Volumes/Thalassa/CORA_SHDR_rg/CORA_SHDR_197710_rg.nc done\n"
     ]
    },
    {
     "name": "stderr",
     "output_type": "stream",
     "text": [
      "/Users/ignasi/miniconda3/envs/xesmf_env/lib/python3.7/site-packages/xesmf/smm.py:130: UserWarning: Input array is not C_CONTIGUOUS. Will affect performance.\n",
      "  warnings.warn('Input array is not C_CONTIGUOUS. ' 'Will affect performance.')\n"
     ]
    },
    {
     "name": "stdout",
     "output_type": "stream",
     "text": [
      "/Volumes/Thalassa/CORA_SHDR_rg/CORA_SHDR_197711_rg.nc done\n"
     ]
    },
    {
     "name": "stderr",
     "output_type": "stream",
     "text": [
      "/Users/ignasi/miniconda3/envs/xesmf_env/lib/python3.7/site-packages/xesmf/smm.py:130: UserWarning: Input array is not C_CONTIGUOUS. Will affect performance.\n",
      "  warnings.warn('Input array is not C_CONTIGUOUS. ' 'Will affect performance.')\n"
     ]
    },
    {
     "name": "stdout",
     "output_type": "stream",
     "text": [
      "/Volumes/Thalassa/CORA_SHDR_rg/CORA_SHDR_197712_rg.nc done\n"
     ]
    },
    {
     "name": "stderr",
     "output_type": "stream",
     "text": [
      "/Users/ignasi/miniconda3/envs/xesmf_env/lib/python3.7/site-packages/xesmf/smm.py:130: UserWarning: Input array is not C_CONTIGUOUS. Will affect performance.\n",
      "  warnings.warn('Input array is not C_CONTIGUOUS. ' 'Will affect performance.')\n"
     ]
    },
    {
     "name": "stdout",
     "output_type": "stream",
     "text": [
      "/Volumes/Thalassa/CORA_SHDR_rg/CORA_SHDR_197801_rg.nc done\n"
     ]
    },
    {
     "name": "stderr",
     "output_type": "stream",
     "text": [
      "/Users/ignasi/miniconda3/envs/xesmf_env/lib/python3.7/site-packages/xesmf/smm.py:130: UserWarning: Input array is not C_CONTIGUOUS. Will affect performance.\n",
      "  warnings.warn('Input array is not C_CONTIGUOUS. ' 'Will affect performance.')\n"
     ]
    },
    {
     "name": "stdout",
     "output_type": "stream",
     "text": [
      "/Volumes/Thalassa/CORA_SHDR_rg/CORA_SHDR_197802_rg.nc done\n"
     ]
    },
    {
     "name": "stderr",
     "output_type": "stream",
     "text": [
      "/Users/ignasi/miniconda3/envs/xesmf_env/lib/python3.7/site-packages/xesmf/smm.py:130: UserWarning: Input array is not C_CONTIGUOUS. Will affect performance.\n",
      "  warnings.warn('Input array is not C_CONTIGUOUS. ' 'Will affect performance.')\n"
     ]
    },
    {
     "name": "stdout",
     "output_type": "stream",
     "text": [
      "/Volumes/Thalassa/CORA_SHDR_rg/CORA_SHDR_197803_rg.nc done\n"
     ]
    },
    {
     "name": "stderr",
     "output_type": "stream",
     "text": [
      "/Users/ignasi/miniconda3/envs/xesmf_env/lib/python3.7/site-packages/xesmf/smm.py:130: UserWarning: Input array is not C_CONTIGUOUS. Will affect performance.\n",
      "  warnings.warn('Input array is not C_CONTIGUOUS. ' 'Will affect performance.')\n"
     ]
    },
    {
     "name": "stdout",
     "output_type": "stream",
     "text": [
      "/Volumes/Thalassa/CORA_SHDR_rg/CORA_SHDR_197804_rg.nc done\n"
     ]
    },
    {
     "name": "stderr",
     "output_type": "stream",
     "text": [
      "/Users/ignasi/miniconda3/envs/xesmf_env/lib/python3.7/site-packages/xesmf/smm.py:130: UserWarning: Input array is not C_CONTIGUOUS. Will affect performance.\n",
      "  warnings.warn('Input array is not C_CONTIGUOUS. ' 'Will affect performance.')\n"
     ]
    },
    {
     "name": "stdout",
     "output_type": "stream",
     "text": [
      "/Volumes/Thalassa/CORA_SHDR_rg/CORA_SHDR_197805_rg.nc done\n"
     ]
    },
    {
     "name": "stderr",
     "output_type": "stream",
     "text": [
      "/Users/ignasi/miniconda3/envs/xesmf_env/lib/python3.7/site-packages/xesmf/smm.py:130: UserWarning: Input array is not C_CONTIGUOUS. Will affect performance.\n",
      "  warnings.warn('Input array is not C_CONTIGUOUS. ' 'Will affect performance.')\n"
     ]
    },
    {
     "name": "stdout",
     "output_type": "stream",
     "text": [
      "/Volumes/Thalassa/CORA_SHDR_rg/CORA_SHDR_197806_rg.nc done\n"
     ]
    },
    {
     "name": "stderr",
     "output_type": "stream",
     "text": [
      "/Users/ignasi/miniconda3/envs/xesmf_env/lib/python3.7/site-packages/xesmf/smm.py:130: UserWarning: Input array is not C_CONTIGUOUS. Will affect performance.\n",
      "  warnings.warn('Input array is not C_CONTIGUOUS. ' 'Will affect performance.')\n"
     ]
    },
    {
     "name": "stdout",
     "output_type": "stream",
     "text": [
      "/Volumes/Thalassa/CORA_SHDR_rg/CORA_SHDR_197807_rg.nc done\n"
     ]
    },
    {
     "name": "stderr",
     "output_type": "stream",
     "text": [
      "/Users/ignasi/miniconda3/envs/xesmf_env/lib/python3.7/site-packages/xesmf/smm.py:130: UserWarning: Input array is not C_CONTIGUOUS. Will affect performance.\n",
      "  warnings.warn('Input array is not C_CONTIGUOUS. ' 'Will affect performance.')\n"
     ]
    },
    {
     "name": "stdout",
     "output_type": "stream",
     "text": [
      "/Volumes/Thalassa/CORA_SHDR_rg/CORA_SHDR_197808_rg.nc done\n"
     ]
    },
    {
     "name": "stderr",
     "output_type": "stream",
     "text": [
      "/Users/ignasi/miniconda3/envs/xesmf_env/lib/python3.7/site-packages/xesmf/smm.py:130: UserWarning: Input array is not C_CONTIGUOUS. Will affect performance.\n",
      "  warnings.warn('Input array is not C_CONTIGUOUS. ' 'Will affect performance.')\n"
     ]
    },
    {
     "name": "stdout",
     "output_type": "stream",
     "text": [
      "/Volumes/Thalassa/CORA_SHDR_rg/CORA_SHDR_197809_rg.nc done\n"
     ]
    },
    {
     "name": "stderr",
     "output_type": "stream",
     "text": [
      "/Users/ignasi/miniconda3/envs/xesmf_env/lib/python3.7/site-packages/xesmf/smm.py:130: UserWarning: Input array is not C_CONTIGUOUS. Will affect performance.\n",
      "  warnings.warn('Input array is not C_CONTIGUOUS. ' 'Will affect performance.')\n"
     ]
    },
    {
     "name": "stdout",
     "output_type": "stream",
     "text": [
      "/Volumes/Thalassa/CORA_SHDR_rg/CORA_SHDR_197810_rg.nc done\n"
     ]
    },
    {
     "name": "stderr",
     "output_type": "stream",
     "text": [
      "/Users/ignasi/miniconda3/envs/xesmf_env/lib/python3.7/site-packages/xesmf/smm.py:130: UserWarning: Input array is not C_CONTIGUOUS. Will affect performance.\n",
      "  warnings.warn('Input array is not C_CONTIGUOUS. ' 'Will affect performance.')\n"
     ]
    },
    {
     "name": "stdout",
     "output_type": "stream",
     "text": [
      "/Volumes/Thalassa/CORA_SHDR_rg/CORA_SHDR_197811_rg.nc done\n"
     ]
    },
    {
     "name": "stderr",
     "output_type": "stream",
     "text": [
      "/Users/ignasi/miniconda3/envs/xesmf_env/lib/python3.7/site-packages/xesmf/smm.py:130: UserWarning: Input array is not C_CONTIGUOUS. Will affect performance.\n",
      "  warnings.warn('Input array is not C_CONTIGUOUS. ' 'Will affect performance.')\n"
     ]
    },
    {
     "name": "stdout",
     "output_type": "stream",
     "text": [
      "/Volumes/Thalassa/CORA_SHDR_rg/CORA_SHDR_197812_rg.nc done\n"
     ]
    },
    {
     "name": "stderr",
     "output_type": "stream",
     "text": [
      "/Users/ignasi/miniconda3/envs/xesmf_env/lib/python3.7/site-packages/xesmf/smm.py:130: UserWarning: Input array is not C_CONTIGUOUS. Will affect performance.\n",
      "  warnings.warn('Input array is not C_CONTIGUOUS. ' 'Will affect performance.')\n"
     ]
    },
    {
     "name": "stdout",
     "output_type": "stream",
     "text": [
      "/Volumes/Thalassa/CORA_SHDR_rg/CORA_SHDR_197901_rg.nc done\n"
     ]
    },
    {
     "name": "stderr",
     "output_type": "stream",
     "text": [
      "/Users/ignasi/miniconda3/envs/xesmf_env/lib/python3.7/site-packages/xesmf/smm.py:130: UserWarning: Input array is not C_CONTIGUOUS. Will affect performance.\n",
      "  warnings.warn('Input array is not C_CONTIGUOUS. ' 'Will affect performance.')\n"
     ]
    },
    {
     "name": "stdout",
     "output_type": "stream",
     "text": [
      "/Volumes/Thalassa/CORA_SHDR_rg/CORA_SHDR_197902_rg.nc done\n"
     ]
    },
    {
     "name": "stderr",
     "output_type": "stream",
     "text": [
      "/Users/ignasi/miniconda3/envs/xesmf_env/lib/python3.7/site-packages/xesmf/smm.py:130: UserWarning: Input array is not C_CONTIGUOUS. Will affect performance.\n",
      "  warnings.warn('Input array is not C_CONTIGUOUS. ' 'Will affect performance.')\n"
     ]
    },
    {
     "name": "stdout",
     "output_type": "stream",
     "text": [
      "/Volumes/Thalassa/CORA_SHDR_rg/CORA_SHDR_197903_rg.nc done\n"
     ]
    },
    {
     "name": "stderr",
     "output_type": "stream",
     "text": [
      "/Users/ignasi/miniconda3/envs/xesmf_env/lib/python3.7/site-packages/xesmf/smm.py:130: UserWarning: Input array is not C_CONTIGUOUS. Will affect performance.\n",
      "  warnings.warn('Input array is not C_CONTIGUOUS. ' 'Will affect performance.')\n"
     ]
    },
    {
     "name": "stdout",
     "output_type": "stream",
     "text": [
      "/Volumes/Thalassa/CORA_SHDR_rg/CORA_SHDR_197904_rg.nc done\n"
     ]
    },
    {
     "name": "stderr",
     "output_type": "stream",
     "text": [
      "/Users/ignasi/miniconda3/envs/xesmf_env/lib/python3.7/site-packages/xesmf/smm.py:130: UserWarning: Input array is not C_CONTIGUOUS. Will affect performance.\n",
      "  warnings.warn('Input array is not C_CONTIGUOUS. ' 'Will affect performance.')\n"
     ]
    },
    {
     "name": "stdout",
     "output_type": "stream",
     "text": [
      "/Volumes/Thalassa/CORA_SHDR_rg/CORA_SHDR_197905_rg.nc done\n"
     ]
    },
    {
     "name": "stderr",
     "output_type": "stream",
     "text": [
      "/Users/ignasi/miniconda3/envs/xesmf_env/lib/python3.7/site-packages/xesmf/smm.py:130: UserWarning: Input array is not C_CONTIGUOUS. Will affect performance.\n",
      "  warnings.warn('Input array is not C_CONTIGUOUS. ' 'Will affect performance.')\n"
     ]
    },
    {
     "name": "stdout",
     "output_type": "stream",
     "text": [
      "/Volumes/Thalassa/CORA_SHDR_rg/CORA_SHDR_197906_rg.nc done\n"
     ]
    },
    {
     "name": "stderr",
     "output_type": "stream",
     "text": [
      "/Users/ignasi/miniconda3/envs/xesmf_env/lib/python3.7/site-packages/xesmf/smm.py:130: UserWarning: Input array is not C_CONTIGUOUS. Will affect performance.\n",
      "  warnings.warn('Input array is not C_CONTIGUOUS. ' 'Will affect performance.')\n"
     ]
    },
    {
     "name": "stdout",
     "output_type": "stream",
     "text": [
      "/Volumes/Thalassa/CORA_SHDR_rg/CORA_SHDR_197907_rg.nc done\n"
     ]
    },
    {
     "name": "stderr",
     "output_type": "stream",
     "text": [
      "/Users/ignasi/miniconda3/envs/xesmf_env/lib/python3.7/site-packages/xesmf/smm.py:130: UserWarning: Input array is not C_CONTIGUOUS. Will affect performance.\n",
      "  warnings.warn('Input array is not C_CONTIGUOUS. ' 'Will affect performance.')\n"
     ]
    },
    {
     "name": "stdout",
     "output_type": "stream",
     "text": [
      "/Volumes/Thalassa/CORA_SHDR_rg/CORA_SHDR_197908_rg.nc done\n"
     ]
    },
    {
     "name": "stderr",
     "output_type": "stream",
     "text": [
      "/Users/ignasi/miniconda3/envs/xesmf_env/lib/python3.7/site-packages/xesmf/smm.py:130: UserWarning: Input array is not C_CONTIGUOUS. Will affect performance.\n",
      "  warnings.warn('Input array is not C_CONTIGUOUS. ' 'Will affect performance.')\n"
     ]
    },
    {
     "name": "stdout",
     "output_type": "stream",
     "text": [
      "/Volumes/Thalassa/CORA_SHDR_rg/CORA_SHDR_197909_rg.nc done\n"
     ]
    },
    {
     "name": "stderr",
     "output_type": "stream",
     "text": [
      "/Users/ignasi/miniconda3/envs/xesmf_env/lib/python3.7/site-packages/xesmf/smm.py:130: UserWarning: Input array is not C_CONTIGUOUS. Will affect performance.\n",
      "  warnings.warn('Input array is not C_CONTIGUOUS. ' 'Will affect performance.')\n"
     ]
    },
    {
     "name": "stdout",
     "output_type": "stream",
     "text": [
      "/Volumes/Thalassa/CORA_SHDR_rg/CORA_SHDR_197910_rg.nc done\n"
     ]
    },
    {
     "name": "stderr",
     "output_type": "stream",
     "text": [
      "/Users/ignasi/miniconda3/envs/xesmf_env/lib/python3.7/site-packages/xesmf/smm.py:130: UserWarning: Input array is not C_CONTIGUOUS. Will affect performance.\n",
      "  warnings.warn('Input array is not C_CONTIGUOUS. ' 'Will affect performance.')\n"
     ]
    },
    {
     "name": "stdout",
     "output_type": "stream",
     "text": [
      "/Volumes/Thalassa/CORA_SHDR_rg/CORA_SHDR_197911_rg.nc done\n"
     ]
    },
    {
     "name": "stderr",
     "output_type": "stream",
     "text": [
      "/Users/ignasi/miniconda3/envs/xesmf_env/lib/python3.7/site-packages/xesmf/smm.py:130: UserWarning: Input array is not C_CONTIGUOUS. Will affect performance.\n",
      "  warnings.warn('Input array is not C_CONTIGUOUS. ' 'Will affect performance.')\n"
     ]
    },
    {
     "name": "stdout",
     "output_type": "stream",
     "text": [
      "/Volumes/Thalassa/CORA_SHDR_rg/CORA_SHDR_197912_rg.nc done\n"
     ]
    }
   ],
   "source": [
    "### Regrid CORA\n",
    "\n",
    "CORA_path='/Volumes/Thalassa/CORA_SHDR/'\n",
    "CORA_output='/Volumes/Thalassa/CORA_SHDR_rg/'\n",
    "files=glob(CORA_path+'*.nc')\n",
    "\n",
    "for f in files:\n",
    "    # Open the dataset\n",
    "    ds = xr.open_dataset(f)\n",
    "    \n",
    "    # Extract the time information\n",
    "    t = ds.time.values\n",
    "    t = str(np.datetime_as_string(t, unit='M')[0])[0:4] + str(np.datetime_as_string(t, unit='M')[0])[5:7]\n",
    "    \n",
    "    # Construct the output file name\n",
    "    output_file = CORA_output + f'CORA_SHDR_{t}_rg.nc'\n",
    "    \n",
    "    # Check if the file already exists\n",
    "    if not os.path.exists(output_file):\n",
    "        # Perform regridding and save to netCDF if the file does not exist\n",
    "        f_rg = regrid_models_simple(ds)\n",
    "        f_rg.to_netcdf(output_file)\n",
    "        print(f\"{output_file} done\")\n",
    "    else:\n",
    "        print(f\"{output_file} already exists, skipping.\")\n"
   ]
  },
  {
   "cell_type": "code",
   "execution_count": 1,
   "id": "2aa6046d-433c-4326-b5ef-b4f2ab4fdbfc",
   "metadata": {},
   "outputs": [],
   "source": [
    "### CALCULATE stress curl from ORAS ###\n",
    "\n",
    "path_taux='/Volumes/Thalassa/ORAS5/ORAS5_wind_stress/taux_rg/'\n",
    "path_tauy='/Volumes/Thalassa/ORAS5/ORAS5_wind_stress/taux_rg/'\n",
    "  "
   ]
  },
  {
   "cell_type": "code",
   "execution_count": 4,
   "id": "f5baa147-b9e7-4186-ba19-c18510ab38f2",
   "metadata": {},
   "outputs": [
    {
     "name": "stdout",
     "output_type": "stream",
     "text": [
      "wsm generated\n",
      "Saved wsn to /Volumes/Thalassa/ORAS5/ORAS5_wind_stress_magnitude_rg/ORAS5_wsm_197001_rg.nc.\n",
      "wsm generated\n",
      "Saved wsn to /Volumes/Thalassa/ORAS5/ORAS5_wind_stress_magnitude_rg/ORAS5_wsm_197002_rg.nc.\n",
      "wsm generated\n",
      "Saved wsn to /Volumes/Thalassa/ORAS5/ORAS5_wind_stress_magnitude_rg/ORAS5_wsm_197003_rg.nc.\n",
      "wsm generated\n",
      "Saved wsn to /Volumes/Thalassa/ORAS5/ORAS5_wind_stress_magnitude_rg/ORAS5_wsm_197004_rg.nc.\n",
      "wsm generated\n",
      "Saved wsn to /Volumes/Thalassa/ORAS5/ORAS5_wind_stress_magnitude_rg/ORAS5_wsm_197005_rg.nc.\n",
      "wsm generated\n",
      "Saved wsn to /Volumes/Thalassa/ORAS5/ORAS5_wind_stress_magnitude_rg/ORAS5_wsm_197006_rg.nc.\n",
      "wsm generated\n",
      "Saved wsn to /Volumes/Thalassa/ORAS5/ORAS5_wind_stress_magnitude_rg/ORAS5_wsm_197007_rg.nc.\n",
      "wsm generated\n",
      "Saved wsn to /Volumes/Thalassa/ORAS5/ORAS5_wind_stress_magnitude_rg/ORAS5_wsm_197008_rg.nc.\n",
      "wsm generated\n",
      "Saved wsn to /Volumes/Thalassa/ORAS5/ORAS5_wind_stress_magnitude_rg/ORAS5_wsm_197009_rg.nc.\n",
      "wsm generated\n",
      "Saved wsn to /Volumes/Thalassa/ORAS5/ORAS5_wind_stress_magnitude_rg/ORAS5_wsm_197010_rg.nc.\n",
      "wsm generated\n",
      "Saved wsn to /Volumes/Thalassa/ORAS5/ORAS5_wind_stress_magnitude_rg/ORAS5_wsm_197011_rg.nc.\n",
      "wsm generated\n",
      "Saved wsn to /Volumes/Thalassa/ORAS5/ORAS5_wind_stress_magnitude_rg/ORAS5_wsm_197012_rg.nc.\n",
      "wsm generated\n",
      "Saved wsn to /Volumes/Thalassa/ORAS5/ORAS5_wind_stress_magnitude_rg/ORAS5_wsm_197101_rg.nc.\n",
      "wsm generated\n",
      "Saved wsn to /Volumes/Thalassa/ORAS5/ORAS5_wind_stress_magnitude_rg/ORAS5_wsm_197102_rg.nc.\n",
      "wsm generated\n",
      "Saved wsn to /Volumes/Thalassa/ORAS5/ORAS5_wind_stress_magnitude_rg/ORAS5_wsm_197103_rg.nc.\n",
      "wsm generated\n",
      "Saved wsn to /Volumes/Thalassa/ORAS5/ORAS5_wind_stress_magnitude_rg/ORAS5_wsm_197104_rg.nc.\n",
      "wsm generated\n",
      "Saved wsn to /Volumes/Thalassa/ORAS5/ORAS5_wind_stress_magnitude_rg/ORAS5_wsm_197105_rg.nc.\n",
      "wsm generated\n",
      "Saved wsn to /Volumes/Thalassa/ORAS5/ORAS5_wind_stress_magnitude_rg/ORAS5_wsm_197106_rg.nc.\n",
      "wsm generated\n",
      "Saved wsn to /Volumes/Thalassa/ORAS5/ORAS5_wind_stress_magnitude_rg/ORAS5_wsm_197107_rg.nc.\n",
      "wsm generated\n",
      "Saved wsn to /Volumes/Thalassa/ORAS5/ORAS5_wind_stress_magnitude_rg/ORAS5_wsm_197108_rg.nc.\n",
      "wsm generated\n",
      "Saved wsn to /Volumes/Thalassa/ORAS5/ORAS5_wind_stress_magnitude_rg/ORAS5_wsm_197109_rg.nc.\n",
      "wsm generated\n",
      "Saved wsn to /Volumes/Thalassa/ORAS5/ORAS5_wind_stress_magnitude_rg/ORAS5_wsm_197110_rg.nc.\n",
      "wsm generated\n",
      "Saved wsn to /Volumes/Thalassa/ORAS5/ORAS5_wind_stress_magnitude_rg/ORAS5_wsm_197111_rg.nc.\n",
      "wsm generated\n",
      "Saved wsn to /Volumes/Thalassa/ORAS5/ORAS5_wind_stress_magnitude_rg/ORAS5_wsm_197112_rg.nc.\n",
      "wsm generated\n",
      "Saved wsn to /Volumes/Thalassa/ORAS5/ORAS5_wind_stress_magnitude_rg/ORAS5_wsm_197201_rg.nc.\n",
      "wsm generated\n",
      "Saved wsn to /Volumes/Thalassa/ORAS5/ORAS5_wind_stress_magnitude_rg/ORAS5_wsm_197202_rg.nc.\n",
      "wsm generated\n",
      "Saved wsn to /Volumes/Thalassa/ORAS5/ORAS5_wind_stress_magnitude_rg/ORAS5_wsm_197203_rg.nc.\n",
      "wsm generated\n",
      "Saved wsn to /Volumes/Thalassa/ORAS5/ORAS5_wind_stress_magnitude_rg/ORAS5_wsm_197204_rg.nc.\n",
      "wsm generated\n",
      "Saved wsn to /Volumes/Thalassa/ORAS5/ORAS5_wind_stress_magnitude_rg/ORAS5_wsm_197205_rg.nc.\n",
      "wsm generated\n",
      "Saved wsn to /Volumes/Thalassa/ORAS5/ORAS5_wind_stress_magnitude_rg/ORAS5_wsm_197206_rg.nc.\n",
      "wsm generated\n",
      "Saved wsn to /Volumes/Thalassa/ORAS5/ORAS5_wind_stress_magnitude_rg/ORAS5_wsm_197207_rg.nc.\n",
      "wsm generated\n",
      "Saved wsn to /Volumes/Thalassa/ORAS5/ORAS5_wind_stress_magnitude_rg/ORAS5_wsm_197208_rg.nc.\n",
      "wsm generated\n",
      "Saved wsn to /Volumes/Thalassa/ORAS5/ORAS5_wind_stress_magnitude_rg/ORAS5_wsm_197209_rg.nc.\n",
      "wsm generated\n",
      "Saved wsn to /Volumes/Thalassa/ORAS5/ORAS5_wind_stress_magnitude_rg/ORAS5_wsm_197210_rg.nc.\n",
      "wsm generated\n",
      "Saved wsn to /Volumes/Thalassa/ORAS5/ORAS5_wind_stress_magnitude_rg/ORAS5_wsm_197211_rg.nc.\n",
      "wsm generated\n",
      "Saved wsn to /Volumes/Thalassa/ORAS5/ORAS5_wind_stress_magnitude_rg/ORAS5_wsm_197212_rg.nc.\n",
      "wsm generated\n",
      "Saved wsn to /Volumes/Thalassa/ORAS5/ORAS5_wind_stress_magnitude_rg/ORAS5_wsm_197301_rg.nc.\n",
      "wsm generated\n",
      "Saved wsn to /Volumes/Thalassa/ORAS5/ORAS5_wind_stress_magnitude_rg/ORAS5_wsm_197302_rg.nc.\n",
      "wsm generated\n",
      "Saved wsn to /Volumes/Thalassa/ORAS5/ORAS5_wind_stress_magnitude_rg/ORAS5_wsm_197303_rg.nc.\n",
      "wsm generated\n",
      "Saved wsn to /Volumes/Thalassa/ORAS5/ORAS5_wind_stress_magnitude_rg/ORAS5_wsm_197304_rg.nc.\n",
      "wsm generated\n",
      "Saved wsn to /Volumes/Thalassa/ORAS5/ORAS5_wind_stress_magnitude_rg/ORAS5_wsm_197305_rg.nc.\n",
      "wsm generated\n",
      "Saved wsn to /Volumes/Thalassa/ORAS5/ORAS5_wind_stress_magnitude_rg/ORAS5_wsm_197306_rg.nc.\n",
      "wsm generated\n",
      "Saved wsn to /Volumes/Thalassa/ORAS5/ORAS5_wind_stress_magnitude_rg/ORAS5_wsm_197307_rg.nc.\n",
      "wsm generated\n",
      "Saved wsn to /Volumes/Thalassa/ORAS5/ORAS5_wind_stress_magnitude_rg/ORAS5_wsm_197308_rg.nc.\n",
      "wsm generated\n",
      "Saved wsn to /Volumes/Thalassa/ORAS5/ORAS5_wind_stress_magnitude_rg/ORAS5_wsm_197309_rg.nc.\n",
      "wsm generated\n",
      "Saved wsn to /Volumes/Thalassa/ORAS5/ORAS5_wind_stress_magnitude_rg/ORAS5_wsm_197310_rg.nc.\n",
      "wsm generated\n",
      "Saved wsn to /Volumes/Thalassa/ORAS5/ORAS5_wind_stress_magnitude_rg/ORAS5_wsm_197311_rg.nc.\n",
      "wsm generated\n",
      "Saved wsn to /Volumes/Thalassa/ORAS5/ORAS5_wind_stress_magnitude_rg/ORAS5_wsm_197312_rg.nc.\n",
      "wsm generated\n",
      "Saved wsn to /Volumes/Thalassa/ORAS5/ORAS5_wind_stress_magnitude_rg/ORAS5_wsm_197401_rg.nc.\n",
      "wsm generated\n",
      "Saved wsn to /Volumes/Thalassa/ORAS5/ORAS5_wind_stress_magnitude_rg/ORAS5_wsm_197402_rg.nc.\n",
      "wsm generated\n",
      "Saved wsn to /Volumes/Thalassa/ORAS5/ORAS5_wind_stress_magnitude_rg/ORAS5_wsm_197403_rg.nc.\n",
      "wsm generated\n",
      "Saved wsn to /Volumes/Thalassa/ORAS5/ORAS5_wind_stress_magnitude_rg/ORAS5_wsm_197404_rg.nc.\n",
      "wsm generated\n",
      "Saved wsn to /Volumes/Thalassa/ORAS5/ORAS5_wind_stress_magnitude_rg/ORAS5_wsm_197405_rg.nc.\n",
      "wsm generated\n",
      "Saved wsn to /Volumes/Thalassa/ORAS5/ORAS5_wind_stress_magnitude_rg/ORAS5_wsm_197406_rg.nc.\n",
      "wsm generated\n",
      "Saved wsn to /Volumes/Thalassa/ORAS5/ORAS5_wind_stress_magnitude_rg/ORAS5_wsm_197407_rg.nc.\n",
      "wsm generated\n",
      "Saved wsn to /Volumes/Thalassa/ORAS5/ORAS5_wind_stress_magnitude_rg/ORAS5_wsm_197408_rg.nc.\n",
      "wsm generated\n",
      "Saved wsn to /Volumes/Thalassa/ORAS5/ORAS5_wind_stress_magnitude_rg/ORAS5_wsm_197409_rg.nc.\n",
      "wsm generated\n",
      "Saved wsn to /Volumes/Thalassa/ORAS5/ORAS5_wind_stress_magnitude_rg/ORAS5_wsm_197410_rg.nc.\n",
      "wsm generated\n",
      "Saved wsn to /Volumes/Thalassa/ORAS5/ORAS5_wind_stress_magnitude_rg/ORAS5_wsm_197411_rg.nc.\n",
      "wsm generated\n",
      "Saved wsn to /Volumes/Thalassa/ORAS5/ORAS5_wind_stress_magnitude_rg/ORAS5_wsm_197412_rg.nc.\n",
      "wsm generated\n",
      "Saved wsn to /Volumes/Thalassa/ORAS5/ORAS5_wind_stress_magnitude_rg/ORAS5_wsm_197501_rg.nc.\n",
      "wsm generated\n",
      "Saved wsn to /Volumes/Thalassa/ORAS5/ORAS5_wind_stress_magnitude_rg/ORAS5_wsm_197502_rg.nc.\n",
      "wsm generated\n",
      "Saved wsn to /Volumes/Thalassa/ORAS5/ORAS5_wind_stress_magnitude_rg/ORAS5_wsm_197503_rg.nc.\n",
      "wsm generated\n",
      "Saved wsn to /Volumes/Thalassa/ORAS5/ORAS5_wind_stress_magnitude_rg/ORAS5_wsm_197504_rg.nc.\n",
      "wsm generated\n",
      "Saved wsn to /Volumes/Thalassa/ORAS5/ORAS5_wind_stress_magnitude_rg/ORAS5_wsm_197505_rg.nc.\n",
      "wsm generated\n",
      "Saved wsn to /Volumes/Thalassa/ORAS5/ORAS5_wind_stress_magnitude_rg/ORAS5_wsm_197506_rg.nc.\n",
      "wsm generated\n",
      "Saved wsn to /Volumes/Thalassa/ORAS5/ORAS5_wind_stress_magnitude_rg/ORAS5_wsm_197507_rg.nc.\n",
      "wsm generated\n",
      "Saved wsn to /Volumes/Thalassa/ORAS5/ORAS5_wind_stress_magnitude_rg/ORAS5_wsm_197508_rg.nc.\n",
      "wsm generated\n",
      "Saved wsn to /Volumes/Thalassa/ORAS5/ORAS5_wind_stress_magnitude_rg/ORAS5_wsm_197509_rg.nc.\n",
      "wsm generated\n",
      "Saved wsn to /Volumes/Thalassa/ORAS5/ORAS5_wind_stress_magnitude_rg/ORAS5_wsm_197510_rg.nc.\n",
      "wsm generated\n",
      "Saved wsn to /Volumes/Thalassa/ORAS5/ORAS5_wind_stress_magnitude_rg/ORAS5_wsm_197511_rg.nc.\n",
      "wsm generated\n",
      "Saved wsn to /Volumes/Thalassa/ORAS5/ORAS5_wind_stress_magnitude_rg/ORAS5_wsm_197512_rg.nc.\n",
      "wsm generated\n",
      "Saved wsn to /Volumes/Thalassa/ORAS5/ORAS5_wind_stress_magnitude_rg/ORAS5_wsm_197601_rg.nc.\n",
      "wsm generated\n",
      "Saved wsn to /Volumes/Thalassa/ORAS5/ORAS5_wind_stress_magnitude_rg/ORAS5_wsm_197602_rg.nc.\n",
      "wsm generated\n",
      "Saved wsn to /Volumes/Thalassa/ORAS5/ORAS5_wind_stress_magnitude_rg/ORAS5_wsm_197603_rg.nc.\n",
      "wsm generated\n",
      "Saved wsn to /Volumes/Thalassa/ORAS5/ORAS5_wind_stress_magnitude_rg/ORAS5_wsm_197604_rg.nc.\n",
      "wsm generated\n",
      "Saved wsn to /Volumes/Thalassa/ORAS5/ORAS5_wind_stress_magnitude_rg/ORAS5_wsm_197605_rg.nc.\n",
      "wsm generated\n",
      "Saved wsn to /Volumes/Thalassa/ORAS5/ORAS5_wind_stress_magnitude_rg/ORAS5_wsm_197606_rg.nc.\n",
      "wsm generated\n",
      "Saved wsn to /Volumes/Thalassa/ORAS5/ORAS5_wind_stress_magnitude_rg/ORAS5_wsm_197607_rg.nc.\n",
      "wsm generated\n",
      "Saved wsn to /Volumes/Thalassa/ORAS5/ORAS5_wind_stress_magnitude_rg/ORAS5_wsm_197608_rg.nc.\n",
      "wsm generated\n",
      "Saved wsn to /Volumes/Thalassa/ORAS5/ORAS5_wind_stress_magnitude_rg/ORAS5_wsm_197609_rg.nc.\n",
      "wsm generated\n",
      "Saved wsn to /Volumes/Thalassa/ORAS5/ORAS5_wind_stress_magnitude_rg/ORAS5_wsm_197610_rg.nc.\n",
      "wsm generated\n",
      "Saved wsn to /Volumes/Thalassa/ORAS5/ORAS5_wind_stress_magnitude_rg/ORAS5_wsm_197611_rg.nc.\n",
      "wsm generated\n",
      "Saved wsn to /Volumes/Thalassa/ORAS5/ORAS5_wind_stress_magnitude_rg/ORAS5_wsm_197612_rg.nc.\n",
      "wsm generated\n",
      "Saved wsn to /Volumes/Thalassa/ORAS5/ORAS5_wind_stress_magnitude_rg/ORAS5_wsm_197701_rg.nc.\n",
      "wsm generated\n",
      "Saved wsn to /Volumes/Thalassa/ORAS5/ORAS5_wind_stress_magnitude_rg/ORAS5_wsm_197702_rg.nc.\n",
      "wsm generated\n",
      "Saved wsn to /Volumes/Thalassa/ORAS5/ORAS5_wind_stress_magnitude_rg/ORAS5_wsm_197703_rg.nc.\n",
      "wsm generated\n",
      "Saved wsn to /Volumes/Thalassa/ORAS5/ORAS5_wind_stress_magnitude_rg/ORAS5_wsm_197704_rg.nc.\n",
      "wsm generated\n",
      "Saved wsn to /Volumes/Thalassa/ORAS5/ORAS5_wind_stress_magnitude_rg/ORAS5_wsm_197705_rg.nc.\n",
      "wsm generated\n",
      "Saved wsn to /Volumes/Thalassa/ORAS5/ORAS5_wind_stress_magnitude_rg/ORAS5_wsm_197706_rg.nc.\n",
      "wsm generated\n",
      "Saved wsn to /Volumes/Thalassa/ORAS5/ORAS5_wind_stress_magnitude_rg/ORAS5_wsm_197707_rg.nc.\n",
      "wsm generated\n",
      "Saved wsn to /Volumes/Thalassa/ORAS5/ORAS5_wind_stress_magnitude_rg/ORAS5_wsm_197708_rg.nc.\n",
      "wsm generated\n",
      "Saved wsn to /Volumes/Thalassa/ORAS5/ORAS5_wind_stress_magnitude_rg/ORAS5_wsm_197709_rg.nc.\n",
      "wsm generated\n",
      "Saved wsn to /Volumes/Thalassa/ORAS5/ORAS5_wind_stress_magnitude_rg/ORAS5_wsm_197710_rg.nc.\n",
      "wsm generated\n",
      "Saved wsn to /Volumes/Thalassa/ORAS5/ORAS5_wind_stress_magnitude_rg/ORAS5_wsm_197711_rg.nc.\n",
      "wsm generated\n",
      "Saved wsn to /Volumes/Thalassa/ORAS5/ORAS5_wind_stress_magnitude_rg/ORAS5_wsm_197712_rg.nc.\n",
      "wsm generated\n",
      "Saved wsn to /Volumes/Thalassa/ORAS5/ORAS5_wind_stress_magnitude_rg/ORAS5_wsm_197801_rg.nc.\n",
      "wsm generated\n",
      "Saved wsn to /Volumes/Thalassa/ORAS5/ORAS5_wind_stress_magnitude_rg/ORAS5_wsm_197802_rg.nc.\n",
      "wsm generated\n",
      "Saved wsn to /Volumes/Thalassa/ORAS5/ORAS5_wind_stress_magnitude_rg/ORAS5_wsm_197803_rg.nc.\n",
      "wsm generated\n",
      "Saved wsn to /Volumes/Thalassa/ORAS5/ORAS5_wind_stress_magnitude_rg/ORAS5_wsm_197804_rg.nc.\n",
      "wsm generated\n",
      "Saved wsn to /Volumes/Thalassa/ORAS5/ORAS5_wind_stress_magnitude_rg/ORAS5_wsm_197805_rg.nc.\n",
      "wsm generated\n",
      "Saved wsn to /Volumes/Thalassa/ORAS5/ORAS5_wind_stress_magnitude_rg/ORAS5_wsm_197806_rg.nc.\n",
      "wsm generated\n",
      "Saved wsn to /Volumes/Thalassa/ORAS5/ORAS5_wind_stress_magnitude_rg/ORAS5_wsm_197807_rg.nc.\n",
      "wsm generated\n",
      "Saved wsn to /Volumes/Thalassa/ORAS5/ORAS5_wind_stress_magnitude_rg/ORAS5_wsm_197808_rg.nc.\n",
      "wsm generated\n",
      "Saved wsn to /Volumes/Thalassa/ORAS5/ORAS5_wind_stress_magnitude_rg/ORAS5_wsm_197809_rg.nc.\n",
      "wsm generated\n",
      "Saved wsn to /Volumes/Thalassa/ORAS5/ORAS5_wind_stress_magnitude_rg/ORAS5_wsm_197810_rg.nc.\n",
      "wsm generated\n",
      "Saved wsn to /Volumes/Thalassa/ORAS5/ORAS5_wind_stress_magnitude_rg/ORAS5_wsm_197811_rg.nc.\n",
      "wsm generated\n",
      "Saved wsn to /Volumes/Thalassa/ORAS5/ORAS5_wind_stress_magnitude_rg/ORAS5_wsm_197812_rg.nc.\n",
      "wsm generated\n",
      "Saved wsn to /Volumes/Thalassa/ORAS5/ORAS5_wind_stress_magnitude_rg/ORAS5_wsm_197901_rg.nc.\n",
      "wsm generated\n",
      "Saved wsn to /Volumes/Thalassa/ORAS5/ORAS5_wind_stress_magnitude_rg/ORAS5_wsm_197902_rg.nc.\n",
      "wsm generated\n",
      "Saved wsn to /Volumes/Thalassa/ORAS5/ORAS5_wind_stress_magnitude_rg/ORAS5_wsm_197903_rg.nc.\n",
      "wsm generated\n",
      "Saved wsn to /Volumes/Thalassa/ORAS5/ORAS5_wind_stress_magnitude_rg/ORAS5_wsm_197904_rg.nc.\n",
      "wsm generated\n",
      "Saved wsn to /Volumes/Thalassa/ORAS5/ORAS5_wind_stress_magnitude_rg/ORAS5_wsm_197905_rg.nc.\n",
      "wsm generated\n",
      "Saved wsn to /Volumes/Thalassa/ORAS5/ORAS5_wind_stress_magnitude_rg/ORAS5_wsm_197906_rg.nc.\n",
      "wsm generated\n",
      "Saved wsn to /Volumes/Thalassa/ORAS5/ORAS5_wind_stress_magnitude_rg/ORAS5_wsm_197907_rg.nc.\n",
      "wsm generated\n",
      "Saved wsn to /Volumes/Thalassa/ORAS5/ORAS5_wind_stress_magnitude_rg/ORAS5_wsm_197908_rg.nc.\n",
      "wsm generated\n",
      "Saved wsn to /Volumes/Thalassa/ORAS5/ORAS5_wind_stress_magnitude_rg/ORAS5_wsm_197909_rg.nc.\n",
      "wsm generated\n",
      "Saved wsn to /Volumes/Thalassa/ORAS5/ORAS5_wind_stress_magnitude_rg/ORAS5_wsm_197910_rg.nc.\n",
      "wsm generated\n",
      "Saved wsn to /Volumes/Thalassa/ORAS5/ORAS5_wind_stress_magnitude_rg/ORAS5_wsm_197911_rg.nc.\n",
      "wsm generated\n",
      "Saved wsn to /Volumes/Thalassa/ORAS5/ORAS5_wind_stress_magnitude_rg/ORAS5_wsm_197912_rg.nc.\n",
      "wsm generated\n",
      "Saved wsn to /Volumes/Thalassa/ORAS5/ORAS5_wind_stress_magnitude_rg/ORAS5_wsm_198001_rg.nc.\n",
      "wsm generated\n",
      "Saved wsn to /Volumes/Thalassa/ORAS5/ORAS5_wind_stress_magnitude_rg/ORAS5_wsm_198002_rg.nc.\n",
      "wsm generated\n",
      "Saved wsn to /Volumes/Thalassa/ORAS5/ORAS5_wind_stress_magnitude_rg/ORAS5_wsm_198003_rg.nc.\n",
      "wsm generated\n",
      "Saved wsn to /Volumes/Thalassa/ORAS5/ORAS5_wind_stress_magnitude_rg/ORAS5_wsm_198004_rg.nc.\n",
      "wsm generated\n",
      "Saved wsn to /Volumes/Thalassa/ORAS5/ORAS5_wind_stress_magnitude_rg/ORAS5_wsm_198005_rg.nc.\n",
      "wsm generated\n",
      "Saved wsn to /Volumes/Thalassa/ORAS5/ORAS5_wind_stress_magnitude_rg/ORAS5_wsm_198006_rg.nc.\n",
      "wsm generated\n",
      "Saved wsn to /Volumes/Thalassa/ORAS5/ORAS5_wind_stress_magnitude_rg/ORAS5_wsm_198007_rg.nc.\n",
      "wsm generated\n",
      "Saved wsn to /Volumes/Thalassa/ORAS5/ORAS5_wind_stress_magnitude_rg/ORAS5_wsm_198008_rg.nc.\n",
      "wsm generated\n",
      "Saved wsn to /Volumes/Thalassa/ORAS5/ORAS5_wind_stress_magnitude_rg/ORAS5_wsm_198009_rg.nc.\n",
      "wsm generated\n",
      "Saved wsn to /Volumes/Thalassa/ORAS5/ORAS5_wind_stress_magnitude_rg/ORAS5_wsm_198010_rg.nc.\n",
      "wsm generated\n",
      "Saved wsn to /Volumes/Thalassa/ORAS5/ORAS5_wind_stress_magnitude_rg/ORAS5_wsm_198011_rg.nc.\n",
      "wsm generated\n",
      "Saved wsn to /Volumes/Thalassa/ORAS5/ORAS5_wind_stress_magnitude_rg/ORAS5_wsm_198012_rg.nc.\n",
      "wsm generated\n",
      "Saved wsn to /Volumes/Thalassa/ORAS5/ORAS5_wind_stress_magnitude_rg/ORAS5_wsm_198101_rg.nc.\n",
      "wsm generated\n",
      "Saved wsn to /Volumes/Thalassa/ORAS5/ORAS5_wind_stress_magnitude_rg/ORAS5_wsm_198102_rg.nc.\n",
      "wsm generated\n",
      "Saved wsn to /Volumes/Thalassa/ORAS5/ORAS5_wind_stress_magnitude_rg/ORAS5_wsm_198103_rg.nc.\n",
      "wsm generated\n",
      "Saved wsn to /Volumes/Thalassa/ORAS5/ORAS5_wind_stress_magnitude_rg/ORAS5_wsm_198104_rg.nc.\n",
      "wsm generated\n",
      "Saved wsn to /Volumes/Thalassa/ORAS5/ORAS5_wind_stress_magnitude_rg/ORAS5_wsm_198105_rg.nc.\n",
      "wsm generated\n",
      "Saved wsn to /Volumes/Thalassa/ORAS5/ORAS5_wind_stress_magnitude_rg/ORAS5_wsm_198106_rg.nc.\n",
      "wsm generated\n",
      "Saved wsn to /Volumes/Thalassa/ORAS5/ORAS5_wind_stress_magnitude_rg/ORAS5_wsm_198107_rg.nc.\n",
      "wsm generated\n",
      "Saved wsn to /Volumes/Thalassa/ORAS5/ORAS5_wind_stress_magnitude_rg/ORAS5_wsm_198108_rg.nc.\n",
      "wsm generated\n",
      "Saved wsn to /Volumes/Thalassa/ORAS5/ORAS5_wind_stress_magnitude_rg/ORAS5_wsm_198109_rg.nc.\n",
      "wsm generated\n",
      "Saved wsn to /Volumes/Thalassa/ORAS5/ORAS5_wind_stress_magnitude_rg/ORAS5_wsm_198110_rg.nc.\n",
      "wsm generated\n",
      "Saved wsn to /Volumes/Thalassa/ORAS5/ORAS5_wind_stress_magnitude_rg/ORAS5_wsm_198111_rg.nc.\n",
      "wsm generated\n",
      "Saved wsn to /Volumes/Thalassa/ORAS5/ORAS5_wind_stress_magnitude_rg/ORAS5_wsm_198112_rg.nc.\n",
      "wsm generated\n",
      "Saved wsn to /Volumes/Thalassa/ORAS5/ORAS5_wind_stress_magnitude_rg/ORAS5_wsm_198201_rg.nc.\n",
      "wsm generated\n",
      "Saved wsn to /Volumes/Thalassa/ORAS5/ORAS5_wind_stress_magnitude_rg/ORAS5_wsm_198202_rg.nc.\n",
      "wsm generated\n",
      "Saved wsn to /Volumes/Thalassa/ORAS5/ORAS5_wind_stress_magnitude_rg/ORAS5_wsm_198203_rg.nc.\n",
      "wsm generated\n",
      "Saved wsn to /Volumes/Thalassa/ORAS5/ORAS5_wind_stress_magnitude_rg/ORAS5_wsm_198204_rg.nc.\n",
      "wsm generated\n",
      "Saved wsn to /Volumes/Thalassa/ORAS5/ORAS5_wind_stress_magnitude_rg/ORAS5_wsm_198205_rg.nc.\n",
      "wsm generated\n",
      "Saved wsn to /Volumes/Thalassa/ORAS5/ORAS5_wind_stress_magnitude_rg/ORAS5_wsm_198206_rg.nc.\n",
      "wsm generated\n",
      "Saved wsn to /Volumes/Thalassa/ORAS5/ORAS5_wind_stress_magnitude_rg/ORAS5_wsm_198207_rg.nc.\n",
      "wsm generated\n",
      "Saved wsn to /Volumes/Thalassa/ORAS5/ORAS5_wind_stress_magnitude_rg/ORAS5_wsm_198208_rg.nc.\n",
      "wsm generated\n",
      "Saved wsn to /Volumes/Thalassa/ORAS5/ORAS5_wind_stress_magnitude_rg/ORAS5_wsm_198209_rg.nc.\n",
      "wsm generated\n",
      "Saved wsn to /Volumes/Thalassa/ORAS5/ORAS5_wind_stress_magnitude_rg/ORAS5_wsm_198210_rg.nc.\n",
      "wsm generated\n",
      "Saved wsn to /Volumes/Thalassa/ORAS5/ORAS5_wind_stress_magnitude_rg/ORAS5_wsm_198211_rg.nc.\n",
      "wsm generated\n",
      "Saved wsn to /Volumes/Thalassa/ORAS5/ORAS5_wind_stress_magnitude_rg/ORAS5_wsm_198212_rg.nc.\n",
      "wsm generated\n",
      "Saved wsn to /Volumes/Thalassa/ORAS5/ORAS5_wind_stress_magnitude_rg/ORAS5_wsm_198301_rg.nc.\n",
      "wsm generated\n",
      "Saved wsn to /Volumes/Thalassa/ORAS5/ORAS5_wind_stress_magnitude_rg/ORAS5_wsm_198302_rg.nc.\n",
      "wsm generated\n",
      "Saved wsn to /Volumes/Thalassa/ORAS5/ORAS5_wind_stress_magnitude_rg/ORAS5_wsm_198303_rg.nc.\n",
      "wsm generated\n",
      "Saved wsn to /Volumes/Thalassa/ORAS5/ORAS5_wind_stress_magnitude_rg/ORAS5_wsm_198304_rg.nc.\n",
      "wsm generated\n",
      "Saved wsn to /Volumes/Thalassa/ORAS5/ORAS5_wind_stress_magnitude_rg/ORAS5_wsm_198305_rg.nc.\n",
      "wsm generated\n",
      "Saved wsn to /Volumes/Thalassa/ORAS5/ORAS5_wind_stress_magnitude_rg/ORAS5_wsm_198306_rg.nc.\n",
      "wsm generated\n",
      "Saved wsn to /Volumes/Thalassa/ORAS5/ORAS5_wind_stress_magnitude_rg/ORAS5_wsm_198307_rg.nc.\n",
      "wsm generated\n",
      "Saved wsn to /Volumes/Thalassa/ORAS5/ORAS5_wind_stress_magnitude_rg/ORAS5_wsm_198308_rg.nc.\n",
      "wsm generated\n",
      "Saved wsn to /Volumes/Thalassa/ORAS5/ORAS5_wind_stress_magnitude_rg/ORAS5_wsm_198309_rg.nc.\n",
      "wsm generated\n",
      "Saved wsn to /Volumes/Thalassa/ORAS5/ORAS5_wind_stress_magnitude_rg/ORAS5_wsm_198310_rg.nc.\n",
      "wsm generated\n",
      "Saved wsn to /Volumes/Thalassa/ORAS5/ORAS5_wind_stress_magnitude_rg/ORAS5_wsm_198311_rg.nc.\n",
      "wsm generated\n",
      "Saved wsn to /Volumes/Thalassa/ORAS5/ORAS5_wind_stress_magnitude_rg/ORAS5_wsm_198312_rg.nc.\n",
      "wsm generated\n",
      "Saved wsn to /Volumes/Thalassa/ORAS5/ORAS5_wind_stress_magnitude_rg/ORAS5_wsm_198401_rg.nc.\n",
      "wsm generated\n",
      "Saved wsn to /Volumes/Thalassa/ORAS5/ORAS5_wind_stress_magnitude_rg/ORAS5_wsm_198402_rg.nc.\n",
      "wsm generated\n",
      "Saved wsn to /Volumes/Thalassa/ORAS5/ORAS5_wind_stress_magnitude_rg/ORAS5_wsm_198403_rg.nc.\n",
      "wsm generated\n",
      "Saved wsn to /Volumes/Thalassa/ORAS5/ORAS5_wind_stress_magnitude_rg/ORAS5_wsm_198404_rg.nc.\n",
      "wsm generated\n",
      "Saved wsn to /Volumes/Thalassa/ORAS5/ORAS5_wind_stress_magnitude_rg/ORAS5_wsm_198405_rg.nc.\n",
      "wsm generated\n",
      "Saved wsn to /Volumes/Thalassa/ORAS5/ORAS5_wind_stress_magnitude_rg/ORAS5_wsm_198406_rg.nc.\n",
      "wsm generated\n",
      "Saved wsn to /Volumes/Thalassa/ORAS5/ORAS5_wind_stress_magnitude_rg/ORAS5_wsm_198407_rg.nc.\n",
      "wsm generated\n",
      "Saved wsn to /Volumes/Thalassa/ORAS5/ORAS5_wind_stress_magnitude_rg/ORAS5_wsm_198408_rg.nc.\n",
      "wsm generated\n",
      "Saved wsn to /Volumes/Thalassa/ORAS5/ORAS5_wind_stress_magnitude_rg/ORAS5_wsm_198409_rg.nc.\n",
      "wsm generated\n",
      "Saved wsn to /Volumes/Thalassa/ORAS5/ORAS5_wind_stress_magnitude_rg/ORAS5_wsm_198410_rg.nc.\n",
      "wsm generated\n",
      "Saved wsn to /Volumes/Thalassa/ORAS5/ORAS5_wind_stress_magnitude_rg/ORAS5_wsm_198411_rg.nc.\n",
      "wsm generated\n",
      "Saved wsn to /Volumes/Thalassa/ORAS5/ORAS5_wind_stress_magnitude_rg/ORAS5_wsm_198412_rg.nc.\n",
      "wsm generated\n",
      "Saved wsn to /Volumes/Thalassa/ORAS5/ORAS5_wind_stress_magnitude_rg/ORAS5_wsm_198501_rg.nc.\n",
      "wsm generated\n",
      "Saved wsn to /Volumes/Thalassa/ORAS5/ORAS5_wind_stress_magnitude_rg/ORAS5_wsm_198502_rg.nc.\n",
      "wsm generated\n",
      "Saved wsn to /Volumes/Thalassa/ORAS5/ORAS5_wind_stress_magnitude_rg/ORAS5_wsm_198503_rg.nc.\n",
      "wsm generated\n",
      "Saved wsn to /Volumes/Thalassa/ORAS5/ORAS5_wind_stress_magnitude_rg/ORAS5_wsm_198504_rg.nc.\n",
      "wsm generated\n",
      "Saved wsn to /Volumes/Thalassa/ORAS5/ORAS5_wind_stress_magnitude_rg/ORAS5_wsm_198505_rg.nc.\n",
      "wsm generated\n",
      "Saved wsn to /Volumes/Thalassa/ORAS5/ORAS5_wind_stress_magnitude_rg/ORAS5_wsm_198506_rg.nc.\n",
      "wsm generated\n",
      "Saved wsn to /Volumes/Thalassa/ORAS5/ORAS5_wind_stress_magnitude_rg/ORAS5_wsm_198507_rg.nc.\n",
      "wsm generated\n",
      "Saved wsn to /Volumes/Thalassa/ORAS5/ORAS5_wind_stress_magnitude_rg/ORAS5_wsm_198508_rg.nc.\n",
      "wsm generated\n",
      "Saved wsn to /Volumes/Thalassa/ORAS5/ORAS5_wind_stress_magnitude_rg/ORAS5_wsm_198509_rg.nc.\n",
      "wsm generated\n",
      "Saved wsn to /Volumes/Thalassa/ORAS5/ORAS5_wind_stress_magnitude_rg/ORAS5_wsm_198510_rg.nc.\n",
      "wsm generated\n",
      "Saved wsn to /Volumes/Thalassa/ORAS5/ORAS5_wind_stress_magnitude_rg/ORAS5_wsm_198511_rg.nc.\n",
      "wsm generated\n",
      "Saved wsn to /Volumes/Thalassa/ORAS5/ORAS5_wind_stress_magnitude_rg/ORAS5_wsm_198512_rg.nc.\n",
      "wsm generated\n",
      "Saved wsn to /Volumes/Thalassa/ORAS5/ORAS5_wind_stress_magnitude_rg/ORAS5_wsm_198601_rg.nc.\n",
      "wsm generated\n",
      "Saved wsn to /Volumes/Thalassa/ORAS5/ORAS5_wind_stress_magnitude_rg/ORAS5_wsm_198602_rg.nc.\n",
      "wsm generated\n",
      "Saved wsn to /Volumes/Thalassa/ORAS5/ORAS5_wind_stress_magnitude_rg/ORAS5_wsm_198603_rg.nc.\n",
      "wsm generated\n",
      "Saved wsn to /Volumes/Thalassa/ORAS5/ORAS5_wind_stress_magnitude_rg/ORAS5_wsm_198604_rg.nc.\n",
      "wsm generated\n",
      "Saved wsn to /Volumes/Thalassa/ORAS5/ORAS5_wind_stress_magnitude_rg/ORAS5_wsm_198605_rg.nc.\n",
      "wsm generated\n",
      "Saved wsn to /Volumes/Thalassa/ORAS5/ORAS5_wind_stress_magnitude_rg/ORAS5_wsm_198606_rg.nc.\n",
      "wsm generated\n",
      "Saved wsn to /Volumes/Thalassa/ORAS5/ORAS5_wind_stress_magnitude_rg/ORAS5_wsm_198607_rg.nc.\n",
      "wsm generated\n",
      "Saved wsn to /Volumes/Thalassa/ORAS5/ORAS5_wind_stress_magnitude_rg/ORAS5_wsm_198608_rg.nc.\n",
      "wsm generated\n",
      "Saved wsn to /Volumes/Thalassa/ORAS5/ORAS5_wind_stress_magnitude_rg/ORAS5_wsm_198609_rg.nc.\n",
      "wsm generated\n",
      "Saved wsn to /Volumes/Thalassa/ORAS5/ORAS5_wind_stress_magnitude_rg/ORAS5_wsm_198610_rg.nc.\n",
      "wsm generated\n",
      "Saved wsn to /Volumes/Thalassa/ORAS5/ORAS5_wind_stress_magnitude_rg/ORAS5_wsm_198611_rg.nc.\n",
      "wsm generated\n",
      "Saved wsn to /Volumes/Thalassa/ORAS5/ORAS5_wind_stress_magnitude_rg/ORAS5_wsm_198612_rg.nc.\n",
      "wsm generated\n",
      "Saved wsn to /Volumes/Thalassa/ORAS5/ORAS5_wind_stress_magnitude_rg/ORAS5_wsm_198701_rg.nc.\n",
      "wsm generated\n",
      "Saved wsn to /Volumes/Thalassa/ORAS5/ORAS5_wind_stress_magnitude_rg/ORAS5_wsm_198702_rg.nc.\n",
      "wsm generated\n",
      "Saved wsn to /Volumes/Thalassa/ORAS5/ORAS5_wind_stress_magnitude_rg/ORAS5_wsm_198703_rg.nc.\n",
      "wsm generated\n",
      "Saved wsn to /Volumes/Thalassa/ORAS5/ORAS5_wind_stress_magnitude_rg/ORAS5_wsm_198704_rg.nc.\n",
      "wsm generated\n",
      "Saved wsn to /Volumes/Thalassa/ORAS5/ORAS5_wind_stress_magnitude_rg/ORAS5_wsm_198705_rg.nc.\n",
      "wsm generated\n",
      "Saved wsn to /Volumes/Thalassa/ORAS5/ORAS5_wind_stress_magnitude_rg/ORAS5_wsm_198706_rg.nc.\n",
      "wsm generated\n",
      "Saved wsn to /Volumes/Thalassa/ORAS5/ORAS5_wind_stress_magnitude_rg/ORAS5_wsm_198707_rg.nc.\n",
      "wsm generated\n",
      "Saved wsn to /Volumes/Thalassa/ORAS5/ORAS5_wind_stress_magnitude_rg/ORAS5_wsm_198708_rg.nc.\n",
      "wsm generated\n",
      "Saved wsn to /Volumes/Thalassa/ORAS5/ORAS5_wind_stress_magnitude_rg/ORAS5_wsm_198709_rg.nc.\n",
      "wsm generated\n",
      "Saved wsn to /Volumes/Thalassa/ORAS5/ORAS5_wind_stress_magnitude_rg/ORAS5_wsm_198710_rg.nc.\n",
      "wsm generated\n",
      "Saved wsn to /Volumes/Thalassa/ORAS5/ORAS5_wind_stress_magnitude_rg/ORAS5_wsm_198711_rg.nc.\n",
      "wsm generated\n",
      "Saved wsn to /Volumes/Thalassa/ORAS5/ORAS5_wind_stress_magnitude_rg/ORAS5_wsm_198712_rg.nc.\n",
      "wsm generated\n",
      "Saved wsn to /Volumes/Thalassa/ORAS5/ORAS5_wind_stress_magnitude_rg/ORAS5_wsm_198801_rg.nc.\n",
      "wsm generated\n",
      "Saved wsn to /Volumes/Thalassa/ORAS5/ORAS5_wind_stress_magnitude_rg/ORAS5_wsm_198802_rg.nc.\n",
      "wsm generated\n",
      "Saved wsn to /Volumes/Thalassa/ORAS5/ORAS5_wind_stress_magnitude_rg/ORAS5_wsm_198803_rg.nc.\n",
      "wsm generated\n",
      "Saved wsn to /Volumes/Thalassa/ORAS5/ORAS5_wind_stress_magnitude_rg/ORAS5_wsm_198804_rg.nc.\n",
      "wsm generated\n",
      "Saved wsn to /Volumes/Thalassa/ORAS5/ORAS5_wind_stress_magnitude_rg/ORAS5_wsm_198805_rg.nc.\n",
      "wsm generated\n",
      "Saved wsn to /Volumes/Thalassa/ORAS5/ORAS5_wind_stress_magnitude_rg/ORAS5_wsm_198806_rg.nc.\n",
      "wsm generated\n",
      "Saved wsn to /Volumes/Thalassa/ORAS5/ORAS5_wind_stress_magnitude_rg/ORAS5_wsm_198807_rg.nc.\n",
      "wsm generated\n",
      "Saved wsn to /Volumes/Thalassa/ORAS5/ORAS5_wind_stress_magnitude_rg/ORAS5_wsm_198808_rg.nc.\n",
      "wsm generated\n",
      "Saved wsn to /Volumes/Thalassa/ORAS5/ORAS5_wind_stress_magnitude_rg/ORAS5_wsm_198809_rg.nc.\n",
      "wsm generated\n",
      "Saved wsn to /Volumes/Thalassa/ORAS5/ORAS5_wind_stress_magnitude_rg/ORAS5_wsm_198810_rg.nc.\n",
      "wsm generated\n",
      "Saved wsn to /Volumes/Thalassa/ORAS5/ORAS5_wind_stress_magnitude_rg/ORAS5_wsm_198811_rg.nc.\n",
      "wsm generated\n",
      "Saved wsn to /Volumes/Thalassa/ORAS5/ORAS5_wind_stress_magnitude_rg/ORAS5_wsm_198812_rg.nc.\n",
      "wsm generated\n",
      "Saved wsn to /Volumes/Thalassa/ORAS5/ORAS5_wind_stress_magnitude_rg/ORAS5_wsm_198901_rg.nc.\n",
      "wsm generated\n",
      "Saved wsn to /Volumes/Thalassa/ORAS5/ORAS5_wind_stress_magnitude_rg/ORAS5_wsm_198902_rg.nc.\n",
      "wsm generated\n",
      "Saved wsn to /Volumes/Thalassa/ORAS5/ORAS5_wind_stress_magnitude_rg/ORAS5_wsm_198903_rg.nc.\n",
      "wsm generated\n",
      "Saved wsn to /Volumes/Thalassa/ORAS5/ORAS5_wind_stress_magnitude_rg/ORAS5_wsm_198904_rg.nc.\n",
      "wsm generated\n",
      "Saved wsn to /Volumes/Thalassa/ORAS5/ORAS5_wind_stress_magnitude_rg/ORAS5_wsm_198905_rg.nc.\n",
      "wsm generated\n",
      "Saved wsn to /Volumes/Thalassa/ORAS5/ORAS5_wind_stress_magnitude_rg/ORAS5_wsm_198906_rg.nc.\n",
      "wsm generated\n",
      "Saved wsn to /Volumes/Thalassa/ORAS5/ORAS5_wind_stress_magnitude_rg/ORAS5_wsm_198907_rg.nc.\n",
      "wsm generated\n",
      "Saved wsn to /Volumes/Thalassa/ORAS5/ORAS5_wind_stress_magnitude_rg/ORAS5_wsm_198908_rg.nc.\n",
      "wsm generated\n",
      "Saved wsn to /Volumes/Thalassa/ORAS5/ORAS5_wind_stress_magnitude_rg/ORAS5_wsm_198909_rg.nc.\n",
      "wsm generated\n",
      "Saved wsn to /Volumes/Thalassa/ORAS5/ORAS5_wind_stress_magnitude_rg/ORAS5_wsm_198910_rg.nc.\n",
      "wsm generated\n",
      "Saved wsn to /Volumes/Thalassa/ORAS5/ORAS5_wind_stress_magnitude_rg/ORAS5_wsm_198911_rg.nc.\n",
      "wsm generated\n",
      "Saved wsn to /Volumes/Thalassa/ORAS5/ORAS5_wind_stress_magnitude_rg/ORAS5_wsm_198912_rg.nc.\n",
      "wsm generated\n",
      "Saved wsn to /Volumes/Thalassa/ORAS5/ORAS5_wind_stress_magnitude_rg/ORAS5_wsm_199001_rg.nc.\n",
      "wsm generated\n",
      "Saved wsn to /Volumes/Thalassa/ORAS5/ORAS5_wind_stress_magnitude_rg/ORAS5_wsm_199002_rg.nc.\n",
      "wsm generated\n",
      "Saved wsn to /Volumes/Thalassa/ORAS5/ORAS5_wind_stress_magnitude_rg/ORAS5_wsm_199003_rg.nc.\n",
      "wsm generated\n",
      "Saved wsn to /Volumes/Thalassa/ORAS5/ORAS5_wind_stress_magnitude_rg/ORAS5_wsm_199004_rg.nc.\n",
      "wsm generated\n",
      "Saved wsn to /Volumes/Thalassa/ORAS5/ORAS5_wind_stress_magnitude_rg/ORAS5_wsm_199005_rg.nc.\n",
      "wsm generated\n",
      "Saved wsn to /Volumes/Thalassa/ORAS5/ORAS5_wind_stress_magnitude_rg/ORAS5_wsm_199006_rg.nc.\n",
      "wsm generated\n",
      "Saved wsn to /Volumes/Thalassa/ORAS5/ORAS5_wind_stress_magnitude_rg/ORAS5_wsm_199007_rg.nc.\n",
      "wsm generated\n",
      "Saved wsn to /Volumes/Thalassa/ORAS5/ORAS5_wind_stress_magnitude_rg/ORAS5_wsm_199008_rg.nc.\n",
      "wsm generated\n",
      "Saved wsn to /Volumes/Thalassa/ORAS5/ORAS5_wind_stress_magnitude_rg/ORAS5_wsm_199009_rg.nc.\n",
      "wsm generated\n",
      "Saved wsn to /Volumes/Thalassa/ORAS5/ORAS5_wind_stress_magnitude_rg/ORAS5_wsm_199010_rg.nc.\n",
      "wsm generated\n",
      "Saved wsn to /Volumes/Thalassa/ORAS5/ORAS5_wind_stress_magnitude_rg/ORAS5_wsm_199011_rg.nc.\n",
      "wsm generated\n",
      "Saved wsn to /Volumes/Thalassa/ORAS5/ORAS5_wind_stress_magnitude_rg/ORAS5_wsm_199012_rg.nc.\n",
      "wsm generated\n",
      "Saved wsn to /Volumes/Thalassa/ORAS5/ORAS5_wind_stress_magnitude_rg/ORAS5_wsm_199101_rg.nc.\n",
      "wsm generated\n",
      "Saved wsn to /Volumes/Thalassa/ORAS5/ORAS5_wind_stress_magnitude_rg/ORAS5_wsm_199102_rg.nc.\n",
      "wsm generated\n",
      "Saved wsn to /Volumes/Thalassa/ORAS5/ORAS5_wind_stress_magnitude_rg/ORAS5_wsm_199103_rg.nc.\n",
      "wsm generated\n",
      "Saved wsn to /Volumes/Thalassa/ORAS5/ORAS5_wind_stress_magnitude_rg/ORAS5_wsm_199104_rg.nc.\n",
      "wsm generated\n",
      "Saved wsn to /Volumes/Thalassa/ORAS5/ORAS5_wind_stress_magnitude_rg/ORAS5_wsm_199105_rg.nc.\n",
      "wsm generated\n",
      "Saved wsn to /Volumes/Thalassa/ORAS5/ORAS5_wind_stress_magnitude_rg/ORAS5_wsm_199106_rg.nc.\n",
      "wsm generated\n",
      "Saved wsn to /Volumes/Thalassa/ORAS5/ORAS5_wind_stress_magnitude_rg/ORAS5_wsm_199107_rg.nc.\n",
      "wsm generated\n",
      "Saved wsn to /Volumes/Thalassa/ORAS5/ORAS5_wind_stress_magnitude_rg/ORAS5_wsm_199108_rg.nc.\n",
      "wsm generated\n",
      "Saved wsn to /Volumes/Thalassa/ORAS5/ORAS5_wind_stress_magnitude_rg/ORAS5_wsm_199109_rg.nc.\n",
      "wsm generated\n",
      "Saved wsn to /Volumes/Thalassa/ORAS5/ORAS5_wind_stress_magnitude_rg/ORAS5_wsm_199110_rg.nc.\n",
      "wsm generated\n",
      "Saved wsn to /Volumes/Thalassa/ORAS5/ORAS5_wind_stress_magnitude_rg/ORAS5_wsm_199111_rg.nc.\n",
      "wsm generated\n",
      "Saved wsn to /Volumes/Thalassa/ORAS5/ORAS5_wind_stress_magnitude_rg/ORAS5_wsm_199112_rg.nc.\n",
      "wsm generated\n",
      "Saved wsn to /Volumes/Thalassa/ORAS5/ORAS5_wind_stress_magnitude_rg/ORAS5_wsm_199201_rg.nc.\n",
      "wsm generated\n",
      "Saved wsn to /Volumes/Thalassa/ORAS5/ORAS5_wind_stress_magnitude_rg/ORAS5_wsm_199202_rg.nc.\n",
      "wsm generated\n",
      "Saved wsn to /Volumes/Thalassa/ORAS5/ORAS5_wind_stress_magnitude_rg/ORAS5_wsm_199203_rg.nc.\n",
      "wsm generated\n",
      "Saved wsn to /Volumes/Thalassa/ORAS5/ORAS5_wind_stress_magnitude_rg/ORAS5_wsm_199204_rg.nc.\n",
      "wsm generated\n",
      "Saved wsn to /Volumes/Thalassa/ORAS5/ORAS5_wind_stress_magnitude_rg/ORAS5_wsm_199205_rg.nc.\n",
      "wsm generated\n",
      "Saved wsn to /Volumes/Thalassa/ORAS5/ORAS5_wind_stress_magnitude_rg/ORAS5_wsm_199206_rg.nc.\n",
      "wsm generated\n",
      "Saved wsn to /Volumes/Thalassa/ORAS5/ORAS5_wind_stress_magnitude_rg/ORAS5_wsm_199207_rg.nc.\n",
      "wsm generated\n",
      "Saved wsn to /Volumes/Thalassa/ORAS5/ORAS5_wind_stress_magnitude_rg/ORAS5_wsm_199208_rg.nc.\n",
      "wsm generated\n",
      "Saved wsn to /Volumes/Thalassa/ORAS5/ORAS5_wind_stress_magnitude_rg/ORAS5_wsm_199209_rg.nc.\n",
      "wsm generated\n",
      "Saved wsn to /Volumes/Thalassa/ORAS5/ORAS5_wind_stress_magnitude_rg/ORAS5_wsm_199210_rg.nc.\n",
      "wsm generated\n",
      "Saved wsn to /Volumes/Thalassa/ORAS5/ORAS5_wind_stress_magnitude_rg/ORAS5_wsm_199211_rg.nc.\n",
      "wsm generated\n",
      "Saved wsn to /Volumes/Thalassa/ORAS5/ORAS5_wind_stress_magnitude_rg/ORAS5_wsm_199212_rg.nc.\n",
      "wsm generated\n",
      "Saved wsn to /Volumes/Thalassa/ORAS5/ORAS5_wind_stress_magnitude_rg/ORAS5_wsm_199301_rg.nc.\n",
      "wsm generated\n",
      "Saved wsn to /Volumes/Thalassa/ORAS5/ORAS5_wind_stress_magnitude_rg/ORAS5_wsm_199302_rg.nc.\n",
      "wsm generated\n",
      "Saved wsn to /Volumes/Thalassa/ORAS5/ORAS5_wind_stress_magnitude_rg/ORAS5_wsm_199303_rg.nc.\n",
      "wsm generated\n",
      "Saved wsn to /Volumes/Thalassa/ORAS5/ORAS5_wind_stress_magnitude_rg/ORAS5_wsm_199304_rg.nc.\n",
      "wsm generated\n",
      "Saved wsn to /Volumes/Thalassa/ORAS5/ORAS5_wind_stress_magnitude_rg/ORAS5_wsm_199305_rg.nc.\n",
      "wsm generated\n",
      "Saved wsn to /Volumes/Thalassa/ORAS5/ORAS5_wind_stress_magnitude_rg/ORAS5_wsm_199306_rg.nc.\n",
      "wsm generated\n",
      "Saved wsn to /Volumes/Thalassa/ORAS5/ORAS5_wind_stress_magnitude_rg/ORAS5_wsm_199307_rg.nc.\n",
      "wsm generated\n",
      "Saved wsn to /Volumes/Thalassa/ORAS5/ORAS5_wind_stress_magnitude_rg/ORAS5_wsm_199308_rg.nc.\n",
      "wsm generated\n",
      "Saved wsn to /Volumes/Thalassa/ORAS5/ORAS5_wind_stress_magnitude_rg/ORAS5_wsm_199309_rg.nc.\n",
      "wsm generated\n",
      "Saved wsn to /Volumes/Thalassa/ORAS5/ORAS5_wind_stress_magnitude_rg/ORAS5_wsm_199310_rg.nc.\n",
      "wsm generated\n",
      "Saved wsn to /Volumes/Thalassa/ORAS5/ORAS5_wind_stress_magnitude_rg/ORAS5_wsm_199311_rg.nc.\n",
      "wsm generated\n",
      "Saved wsn to /Volumes/Thalassa/ORAS5/ORAS5_wind_stress_magnitude_rg/ORAS5_wsm_199312_rg.nc.\n",
      "wsm generated\n",
      "Saved wsn to /Volumes/Thalassa/ORAS5/ORAS5_wind_stress_magnitude_rg/ORAS5_wsm_199401_rg.nc.\n",
      "wsm generated\n",
      "Saved wsn to /Volumes/Thalassa/ORAS5/ORAS5_wind_stress_magnitude_rg/ORAS5_wsm_199402_rg.nc.\n",
      "wsm generated\n",
      "Saved wsn to /Volumes/Thalassa/ORAS5/ORAS5_wind_stress_magnitude_rg/ORAS5_wsm_199403_rg.nc.\n",
      "wsm generated\n",
      "Saved wsn to /Volumes/Thalassa/ORAS5/ORAS5_wind_stress_magnitude_rg/ORAS5_wsm_199404_rg.nc.\n",
      "wsm generated\n",
      "Saved wsn to /Volumes/Thalassa/ORAS5/ORAS5_wind_stress_magnitude_rg/ORAS5_wsm_199405_rg.nc.\n",
      "wsm generated\n",
      "Saved wsn to /Volumes/Thalassa/ORAS5/ORAS5_wind_stress_magnitude_rg/ORAS5_wsm_199406_rg.nc.\n",
      "wsm generated\n",
      "Saved wsn to /Volumes/Thalassa/ORAS5/ORAS5_wind_stress_magnitude_rg/ORAS5_wsm_199407_rg.nc.\n",
      "wsm generated\n",
      "Saved wsn to /Volumes/Thalassa/ORAS5/ORAS5_wind_stress_magnitude_rg/ORAS5_wsm_199408_rg.nc.\n",
      "wsm generated\n",
      "Saved wsn to /Volumes/Thalassa/ORAS5/ORAS5_wind_stress_magnitude_rg/ORAS5_wsm_199409_rg.nc.\n",
      "wsm generated\n",
      "Saved wsn to /Volumes/Thalassa/ORAS5/ORAS5_wind_stress_magnitude_rg/ORAS5_wsm_199410_rg.nc.\n",
      "wsm generated\n",
      "Saved wsn to /Volumes/Thalassa/ORAS5/ORAS5_wind_stress_magnitude_rg/ORAS5_wsm_199411_rg.nc.\n",
      "wsm generated\n",
      "Saved wsn to /Volumes/Thalassa/ORAS5/ORAS5_wind_stress_magnitude_rg/ORAS5_wsm_199412_rg.nc.\n",
      "wsm generated\n",
      "Saved wsn to /Volumes/Thalassa/ORAS5/ORAS5_wind_stress_magnitude_rg/ORAS5_wsm_199501_rg.nc.\n",
      "wsm generated\n",
      "Saved wsn to /Volumes/Thalassa/ORAS5/ORAS5_wind_stress_magnitude_rg/ORAS5_wsm_199502_rg.nc.\n",
      "wsm generated\n",
      "Saved wsn to /Volumes/Thalassa/ORAS5/ORAS5_wind_stress_magnitude_rg/ORAS5_wsm_199503_rg.nc.\n",
      "wsm generated\n",
      "Saved wsn to /Volumes/Thalassa/ORAS5/ORAS5_wind_stress_magnitude_rg/ORAS5_wsm_199504_rg.nc.\n",
      "wsm generated\n",
      "Saved wsn to /Volumes/Thalassa/ORAS5/ORAS5_wind_stress_magnitude_rg/ORAS5_wsm_199505_rg.nc.\n",
      "wsm generated\n",
      "Saved wsn to /Volumes/Thalassa/ORAS5/ORAS5_wind_stress_magnitude_rg/ORAS5_wsm_199506_rg.nc.\n",
      "wsm generated\n",
      "Saved wsn to /Volumes/Thalassa/ORAS5/ORAS5_wind_stress_magnitude_rg/ORAS5_wsm_199507_rg.nc.\n",
      "wsm generated\n",
      "Saved wsn to /Volumes/Thalassa/ORAS5/ORAS5_wind_stress_magnitude_rg/ORAS5_wsm_199508_rg.nc.\n",
      "wsm generated\n",
      "Saved wsn to /Volumes/Thalassa/ORAS5/ORAS5_wind_stress_magnitude_rg/ORAS5_wsm_199509_rg.nc.\n",
      "wsm generated\n",
      "Saved wsn to /Volumes/Thalassa/ORAS5/ORAS5_wind_stress_magnitude_rg/ORAS5_wsm_199510_rg.nc.\n",
      "wsm generated\n",
      "Saved wsn to /Volumes/Thalassa/ORAS5/ORAS5_wind_stress_magnitude_rg/ORAS5_wsm_199511_rg.nc.\n",
      "wsm generated\n",
      "Saved wsn to /Volumes/Thalassa/ORAS5/ORAS5_wind_stress_magnitude_rg/ORAS5_wsm_199512_rg.nc.\n",
      "wsm generated\n",
      "Saved wsn to /Volumes/Thalassa/ORAS5/ORAS5_wind_stress_magnitude_rg/ORAS5_wsm_199601_rg.nc.\n",
      "wsm generated\n",
      "Saved wsn to /Volumes/Thalassa/ORAS5/ORAS5_wind_stress_magnitude_rg/ORAS5_wsm_199602_rg.nc.\n",
      "wsm generated\n",
      "Saved wsn to /Volumes/Thalassa/ORAS5/ORAS5_wind_stress_magnitude_rg/ORAS5_wsm_199603_rg.nc.\n",
      "wsm generated\n",
      "Saved wsn to /Volumes/Thalassa/ORAS5/ORAS5_wind_stress_magnitude_rg/ORAS5_wsm_199604_rg.nc.\n",
      "wsm generated\n",
      "Saved wsn to /Volumes/Thalassa/ORAS5/ORAS5_wind_stress_magnitude_rg/ORAS5_wsm_199605_rg.nc.\n",
      "wsm generated\n",
      "Saved wsn to /Volumes/Thalassa/ORAS5/ORAS5_wind_stress_magnitude_rg/ORAS5_wsm_199606_rg.nc.\n",
      "wsm generated\n",
      "Saved wsn to /Volumes/Thalassa/ORAS5/ORAS5_wind_stress_magnitude_rg/ORAS5_wsm_199607_rg.nc.\n",
      "wsm generated\n",
      "Saved wsn to /Volumes/Thalassa/ORAS5/ORAS5_wind_stress_magnitude_rg/ORAS5_wsm_199608_rg.nc.\n",
      "wsm generated\n",
      "Saved wsn to /Volumes/Thalassa/ORAS5/ORAS5_wind_stress_magnitude_rg/ORAS5_wsm_199609_rg.nc.\n",
      "wsm generated\n",
      "Saved wsn to /Volumes/Thalassa/ORAS5/ORAS5_wind_stress_magnitude_rg/ORAS5_wsm_199610_rg.nc.\n",
      "wsm generated\n",
      "Saved wsn to /Volumes/Thalassa/ORAS5/ORAS5_wind_stress_magnitude_rg/ORAS5_wsm_199611_rg.nc.\n",
      "wsm generated\n",
      "Saved wsn to /Volumes/Thalassa/ORAS5/ORAS5_wind_stress_magnitude_rg/ORAS5_wsm_199612_rg.nc.\n",
      "wsm generated\n",
      "Saved wsn to /Volumes/Thalassa/ORAS5/ORAS5_wind_stress_magnitude_rg/ORAS5_wsm_199701_rg.nc.\n",
      "wsm generated\n",
      "Saved wsn to /Volumes/Thalassa/ORAS5/ORAS5_wind_stress_magnitude_rg/ORAS5_wsm_199702_rg.nc.\n",
      "wsm generated\n",
      "Saved wsn to /Volumes/Thalassa/ORAS5/ORAS5_wind_stress_magnitude_rg/ORAS5_wsm_199703_rg.nc.\n",
      "wsm generated\n",
      "Saved wsn to /Volumes/Thalassa/ORAS5/ORAS5_wind_stress_magnitude_rg/ORAS5_wsm_199704_rg.nc.\n",
      "wsm generated\n",
      "Saved wsn to /Volumes/Thalassa/ORAS5/ORAS5_wind_stress_magnitude_rg/ORAS5_wsm_199705_rg.nc.\n",
      "wsm generated\n",
      "Saved wsn to /Volumes/Thalassa/ORAS5/ORAS5_wind_stress_magnitude_rg/ORAS5_wsm_199706_rg.nc.\n",
      "wsm generated\n",
      "Saved wsn to /Volumes/Thalassa/ORAS5/ORAS5_wind_stress_magnitude_rg/ORAS5_wsm_199707_rg.nc.\n",
      "wsm generated\n",
      "Saved wsn to /Volumes/Thalassa/ORAS5/ORAS5_wind_stress_magnitude_rg/ORAS5_wsm_199708_rg.nc.\n",
      "wsm generated\n",
      "Saved wsn to /Volumes/Thalassa/ORAS5/ORAS5_wind_stress_magnitude_rg/ORAS5_wsm_199709_rg.nc.\n",
      "wsm generated\n",
      "Saved wsn to /Volumes/Thalassa/ORAS5/ORAS5_wind_stress_magnitude_rg/ORAS5_wsm_199710_rg.nc.\n",
      "wsm generated\n",
      "Saved wsn to /Volumes/Thalassa/ORAS5/ORAS5_wind_stress_magnitude_rg/ORAS5_wsm_199711_rg.nc.\n",
      "wsm generated\n",
      "Saved wsn to /Volumes/Thalassa/ORAS5/ORAS5_wind_stress_magnitude_rg/ORAS5_wsm_199712_rg.nc.\n",
      "wsm generated\n",
      "Saved wsn to /Volumes/Thalassa/ORAS5/ORAS5_wind_stress_magnitude_rg/ORAS5_wsm_199801_rg.nc.\n",
      "wsm generated\n",
      "Saved wsn to /Volumes/Thalassa/ORAS5/ORAS5_wind_stress_magnitude_rg/ORAS5_wsm_199802_rg.nc.\n",
      "wsm generated\n",
      "Saved wsn to /Volumes/Thalassa/ORAS5/ORAS5_wind_stress_magnitude_rg/ORAS5_wsm_199803_rg.nc.\n",
      "wsm generated\n",
      "Saved wsn to /Volumes/Thalassa/ORAS5/ORAS5_wind_stress_magnitude_rg/ORAS5_wsm_199804_rg.nc.\n",
      "wsm generated\n",
      "Saved wsn to /Volumes/Thalassa/ORAS5/ORAS5_wind_stress_magnitude_rg/ORAS5_wsm_199805_rg.nc.\n",
      "wsm generated\n",
      "Saved wsn to /Volumes/Thalassa/ORAS5/ORAS5_wind_stress_magnitude_rg/ORAS5_wsm_199806_rg.nc.\n",
      "wsm generated\n",
      "Saved wsn to /Volumes/Thalassa/ORAS5/ORAS5_wind_stress_magnitude_rg/ORAS5_wsm_199807_rg.nc.\n",
      "wsm generated\n",
      "Saved wsn to /Volumes/Thalassa/ORAS5/ORAS5_wind_stress_magnitude_rg/ORAS5_wsm_199808_rg.nc.\n",
      "wsm generated\n",
      "Saved wsn to /Volumes/Thalassa/ORAS5/ORAS5_wind_stress_magnitude_rg/ORAS5_wsm_199809_rg.nc.\n",
      "wsm generated\n",
      "Saved wsn to /Volumes/Thalassa/ORAS5/ORAS5_wind_stress_magnitude_rg/ORAS5_wsm_199810_rg.nc.\n",
      "wsm generated\n",
      "Saved wsn to /Volumes/Thalassa/ORAS5/ORAS5_wind_stress_magnitude_rg/ORAS5_wsm_199811_rg.nc.\n",
      "wsm generated\n",
      "Saved wsn to /Volumes/Thalassa/ORAS5/ORAS5_wind_stress_magnitude_rg/ORAS5_wsm_199812_rg.nc.\n",
      "wsm generated\n",
      "Saved wsn to /Volumes/Thalassa/ORAS5/ORAS5_wind_stress_magnitude_rg/ORAS5_wsm_199901_rg.nc.\n",
      "wsm generated\n",
      "Saved wsn to /Volumes/Thalassa/ORAS5/ORAS5_wind_stress_magnitude_rg/ORAS5_wsm_199902_rg.nc.\n",
      "wsm generated\n",
      "Saved wsn to /Volumes/Thalassa/ORAS5/ORAS5_wind_stress_magnitude_rg/ORAS5_wsm_199903_rg.nc.\n",
      "wsm generated\n",
      "Saved wsn to /Volumes/Thalassa/ORAS5/ORAS5_wind_stress_magnitude_rg/ORAS5_wsm_199904_rg.nc.\n",
      "wsm generated\n",
      "Saved wsn to /Volumes/Thalassa/ORAS5/ORAS5_wind_stress_magnitude_rg/ORAS5_wsm_199905_rg.nc.\n",
      "wsm generated\n",
      "Saved wsn to /Volumes/Thalassa/ORAS5/ORAS5_wind_stress_magnitude_rg/ORAS5_wsm_199906_rg.nc.\n",
      "wsm generated\n",
      "Saved wsn to /Volumes/Thalassa/ORAS5/ORAS5_wind_stress_magnitude_rg/ORAS5_wsm_199907_rg.nc.\n",
      "wsm generated\n",
      "Saved wsn to /Volumes/Thalassa/ORAS5/ORAS5_wind_stress_magnitude_rg/ORAS5_wsm_199908_rg.nc.\n",
      "wsm generated\n",
      "Saved wsn to /Volumes/Thalassa/ORAS5/ORAS5_wind_stress_magnitude_rg/ORAS5_wsm_199909_rg.nc.\n",
      "wsm generated\n",
      "Saved wsn to /Volumes/Thalassa/ORAS5/ORAS5_wind_stress_magnitude_rg/ORAS5_wsm_199910_rg.nc.\n",
      "wsm generated\n",
      "Saved wsn to /Volumes/Thalassa/ORAS5/ORAS5_wind_stress_magnitude_rg/ORAS5_wsm_199911_rg.nc.\n",
      "wsm generated\n",
      "Saved wsn to /Volumes/Thalassa/ORAS5/ORAS5_wind_stress_magnitude_rg/ORAS5_wsm_199912_rg.nc.\n",
      "wsm generated\n",
      "Saved wsn to /Volumes/Thalassa/ORAS5/ORAS5_wind_stress_magnitude_rg/ORAS5_wsm_200001_rg.nc.\n",
      "wsm generated\n",
      "Saved wsn to /Volumes/Thalassa/ORAS5/ORAS5_wind_stress_magnitude_rg/ORAS5_wsm_200002_rg.nc.\n",
      "wsm generated\n",
      "Saved wsn to /Volumes/Thalassa/ORAS5/ORAS5_wind_stress_magnitude_rg/ORAS5_wsm_200003_rg.nc.\n",
      "wsm generated\n",
      "Saved wsn to /Volumes/Thalassa/ORAS5/ORAS5_wind_stress_magnitude_rg/ORAS5_wsm_200004_rg.nc.\n",
      "wsm generated\n",
      "Saved wsn to /Volumes/Thalassa/ORAS5/ORAS5_wind_stress_magnitude_rg/ORAS5_wsm_200005_rg.nc.\n",
      "wsm generated\n",
      "Saved wsn to /Volumes/Thalassa/ORAS5/ORAS5_wind_stress_magnitude_rg/ORAS5_wsm_200006_rg.nc.\n",
      "wsm generated\n",
      "Saved wsn to /Volumes/Thalassa/ORAS5/ORAS5_wind_stress_magnitude_rg/ORAS5_wsm_200007_rg.nc.\n",
      "wsm generated\n",
      "Saved wsn to /Volumes/Thalassa/ORAS5/ORAS5_wind_stress_magnitude_rg/ORAS5_wsm_200008_rg.nc.\n",
      "wsm generated\n",
      "Saved wsn to /Volumes/Thalassa/ORAS5/ORAS5_wind_stress_magnitude_rg/ORAS5_wsm_200009_rg.nc.\n",
      "wsm generated\n",
      "Saved wsn to /Volumes/Thalassa/ORAS5/ORAS5_wind_stress_magnitude_rg/ORAS5_wsm_200010_rg.nc.\n",
      "wsm generated\n",
      "Saved wsn to /Volumes/Thalassa/ORAS5/ORAS5_wind_stress_magnitude_rg/ORAS5_wsm_200011_rg.nc.\n",
      "wsm generated\n",
      "Saved wsn to /Volumes/Thalassa/ORAS5/ORAS5_wind_stress_magnitude_rg/ORAS5_wsm_200012_rg.nc.\n",
      "wsm generated\n",
      "Saved wsn to /Volumes/Thalassa/ORAS5/ORAS5_wind_stress_magnitude_rg/ORAS5_wsm_200101_rg.nc.\n",
      "wsm generated\n",
      "Saved wsn to /Volumes/Thalassa/ORAS5/ORAS5_wind_stress_magnitude_rg/ORAS5_wsm_200102_rg.nc.\n",
      "wsm generated\n",
      "Saved wsn to /Volumes/Thalassa/ORAS5/ORAS5_wind_stress_magnitude_rg/ORAS5_wsm_200103_rg.nc.\n",
      "wsm generated\n",
      "Saved wsn to /Volumes/Thalassa/ORAS5/ORAS5_wind_stress_magnitude_rg/ORAS5_wsm_200104_rg.nc.\n",
      "wsm generated\n",
      "Saved wsn to /Volumes/Thalassa/ORAS5/ORAS5_wind_stress_magnitude_rg/ORAS5_wsm_200105_rg.nc.\n",
      "wsm generated\n",
      "Saved wsn to /Volumes/Thalassa/ORAS5/ORAS5_wind_stress_magnitude_rg/ORAS5_wsm_200106_rg.nc.\n",
      "wsm generated\n",
      "Saved wsn to /Volumes/Thalassa/ORAS5/ORAS5_wind_stress_magnitude_rg/ORAS5_wsm_200107_rg.nc.\n",
      "wsm generated\n",
      "Saved wsn to /Volumes/Thalassa/ORAS5/ORAS5_wind_stress_magnitude_rg/ORAS5_wsm_200108_rg.nc.\n",
      "wsm generated\n",
      "Saved wsn to /Volumes/Thalassa/ORAS5/ORAS5_wind_stress_magnitude_rg/ORAS5_wsm_200109_rg.nc.\n",
      "wsm generated\n",
      "Saved wsn to /Volumes/Thalassa/ORAS5/ORAS5_wind_stress_magnitude_rg/ORAS5_wsm_200110_rg.nc.\n",
      "wsm generated\n",
      "Saved wsn to /Volumes/Thalassa/ORAS5/ORAS5_wind_stress_magnitude_rg/ORAS5_wsm_200111_rg.nc.\n",
      "wsm generated\n",
      "Saved wsn to /Volumes/Thalassa/ORAS5/ORAS5_wind_stress_magnitude_rg/ORAS5_wsm_200112_rg.nc.\n",
      "wsm generated\n",
      "Saved wsn to /Volumes/Thalassa/ORAS5/ORAS5_wind_stress_magnitude_rg/ORAS5_wsm_200201_rg.nc.\n",
      "wsm generated\n",
      "Saved wsn to /Volumes/Thalassa/ORAS5/ORAS5_wind_stress_magnitude_rg/ORAS5_wsm_200202_rg.nc.\n",
      "wsm generated\n",
      "Saved wsn to /Volumes/Thalassa/ORAS5/ORAS5_wind_stress_magnitude_rg/ORAS5_wsm_200203_rg.nc.\n",
      "wsm generated\n",
      "Saved wsn to /Volumes/Thalassa/ORAS5/ORAS5_wind_stress_magnitude_rg/ORAS5_wsm_200204_rg.nc.\n",
      "wsm generated\n",
      "Saved wsn to /Volumes/Thalassa/ORAS5/ORAS5_wind_stress_magnitude_rg/ORAS5_wsm_200205_rg.nc.\n",
      "wsm generated\n",
      "Saved wsn to /Volumes/Thalassa/ORAS5/ORAS5_wind_stress_magnitude_rg/ORAS5_wsm_200206_rg.nc.\n",
      "wsm generated\n",
      "Saved wsn to /Volumes/Thalassa/ORAS5/ORAS5_wind_stress_magnitude_rg/ORAS5_wsm_200207_rg.nc.\n",
      "wsm generated\n",
      "Saved wsn to /Volumes/Thalassa/ORAS5/ORAS5_wind_stress_magnitude_rg/ORAS5_wsm_200208_rg.nc.\n",
      "wsm generated\n",
      "Saved wsn to /Volumes/Thalassa/ORAS5/ORAS5_wind_stress_magnitude_rg/ORAS5_wsm_200209_rg.nc.\n",
      "wsm generated\n",
      "Saved wsn to /Volumes/Thalassa/ORAS5/ORAS5_wind_stress_magnitude_rg/ORAS5_wsm_200210_rg.nc.\n",
      "wsm generated\n",
      "Saved wsn to /Volumes/Thalassa/ORAS5/ORAS5_wind_stress_magnitude_rg/ORAS5_wsm_200211_rg.nc.\n",
      "wsm generated\n",
      "Saved wsn to /Volumes/Thalassa/ORAS5/ORAS5_wind_stress_magnitude_rg/ORAS5_wsm_200212_rg.nc.\n",
      "wsm generated\n",
      "Saved wsn to /Volumes/Thalassa/ORAS5/ORAS5_wind_stress_magnitude_rg/ORAS5_wsm_200301_rg.nc.\n",
      "wsm generated\n",
      "Saved wsn to /Volumes/Thalassa/ORAS5/ORAS5_wind_stress_magnitude_rg/ORAS5_wsm_200302_rg.nc.\n",
      "wsm generated\n",
      "Saved wsn to /Volumes/Thalassa/ORAS5/ORAS5_wind_stress_magnitude_rg/ORAS5_wsm_200303_rg.nc.\n",
      "wsm generated\n",
      "Saved wsn to /Volumes/Thalassa/ORAS5/ORAS5_wind_stress_magnitude_rg/ORAS5_wsm_200304_rg.nc.\n",
      "wsm generated\n",
      "Saved wsn to /Volumes/Thalassa/ORAS5/ORAS5_wind_stress_magnitude_rg/ORAS5_wsm_200305_rg.nc.\n",
      "wsm generated\n",
      "Saved wsn to /Volumes/Thalassa/ORAS5/ORAS5_wind_stress_magnitude_rg/ORAS5_wsm_200306_rg.nc.\n",
      "wsm generated\n",
      "Saved wsn to /Volumes/Thalassa/ORAS5/ORAS5_wind_stress_magnitude_rg/ORAS5_wsm_200307_rg.nc.\n",
      "wsm generated\n",
      "Saved wsn to /Volumes/Thalassa/ORAS5/ORAS5_wind_stress_magnitude_rg/ORAS5_wsm_200308_rg.nc.\n",
      "wsm generated\n",
      "Saved wsn to /Volumes/Thalassa/ORAS5/ORAS5_wind_stress_magnitude_rg/ORAS5_wsm_200309_rg.nc.\n",
      "wsm generated\n",
      "Saved wsn to /Volumes/Thalassa/ORAS5/ORAS5_wind_stress_magnitude_rg/ORAS5_wsm_200310_rg.nc.\n",
      "wsm generated\n",
      "Saved wsn to /Volumes/Thalassa/ORAS5/ORAS5_wind_stress_magnitude_rg/ORAS5_wsm_200311_rg.nc.\n",
      "wsm generated\n",
      "Saved wsn to /Volumes/Thalassa/ORAS5/ORAS5_wind_stress_magnitude_rg/ORAS5_wsm_200312_rg.nc.\n",
      "wsm generated\n",
      "Saved wsn to /Volumes/Thalassa/ORAS5/ORAS5_wind_stress_magnitude_rg/ORAS5_wsm_200401_rg.nc.\n",
      "wsm generated\n",
      "Saved wsn to /Volumes/Thalassa/ORAS5/ORAS5_wind_stress_magnitude_rg/ORAS5_wsm_200402_rg.nc.\n",
      "wsm generated\n",
      "Saved wsn to /Volumes/Thalassa/ORAS5/ORAS5_wind_stress_magnitude_rg/ORAS5_wsm_200403_rg.nc.\n",
      "wsm generated\n",
      "Saved wsn to /Volumes/Thalassa/ORAS5/ORAS5_wind_stress_magnitude_rg/ORAS5_wsm_200404_rg.nc.\n",
      "wsm generated\n",
      "Saved wsn to /Volumes/Thalassa/ORAS5/ORAS5_wind_stress_magnitude_rg/ORAS5_wsm_200405_rg.nc.\n",
      "wsm generated\n",
      "Saved wsn to /Volumes/Thalassa/ORAS5/ORAS5_wind_stress_magnitude_rg/ORAS5_wsm_200406_rg.nc.\n",
      "wsm generated\n",
      "Saved wsn to /Volumes/Thalassa/ORAS5/ORAS5_wind_stress_magnitude_rg/ORAS5_wsm_200407_rg.nc.\n",
      "wsm generated\n",
      "Saved wsn to /Volumes/Thalassa/ORAS5/ORAS5_wind_stress_magnitude_rg/ORAS5_wsm_200408_rg.nc.\n",
      "wsm generated\n",
      "Saved wsn to /Volumes/Thalassa/ORAS5/ORAS5_wind_stress_magnitude_rg/ORAS5_wsm_200409_rg.nc.\n",
      "wsm generated\n",
      "Saved wsn to /Volumes/Thalassa/ORAS5/ORAS5_wind_stress_magnitude_rg/ORAS5_wsm_200410_rg.nc.\n",
      "wsm generated\n",
      "Saved wsn to /Volumes/Thalassa/ORAS5/ORAS5_wind_stress_magnitude_rg/ORAS5_wsm_200411_rg.nc.\n",
      "wsm generated\n",
      "Saved wsn to /Volumes/Thalassa/ORAS5/ORAS5_wind_stress_magnitude_rg/ORAS5_wsm_200412_rg.nc.\n",
      "wsm generated\n",
      "Saved wsn to /Volumes/Thalassa/ORAS5/ORAS5_wind_stress_magnitude_rg/ORAS5_wsm_200501_rg.nc.\n",
      "wsm generated\n",
      "Saved wsn to /Volumes/Thalassa/ORAS5/ORAS5_wind_stress_magnitude_rg/ORAS5_wsm_200502_rg.nc.\n",
      "wsm generated\n",
      "Saved wsn to /Volumes/Thalassa/ORAS5/ORAS5_wind_stress_magnitude_rg/ORAS5_wsm_200503_rg.nc.\n",
      "wsm generated\n",
      "Saved wsn to /Volumes/Thalassa/ORAS5/ORAS5_wind_stress_magnitude_rg/ORAS5_wsm_200504_rg.nc.\n",
      "wsm generated\n",
      "Saved wsn to /Volumes/Thalassa/ORAS5/ORAS5_wind_stress_magnitude_rg/ORAS5_wsm_200505_rg.nc.\n",
      "wsm generated\n",
      "Saved wsn to /Volumes/Thalassa/ORAS5/ORAS5_wind_stress_magnitude_rg/ORAS5_wsm_200506_rg.nc.\n",
      "wsm generated\n",
      "Saved wsn to /Volumes/Thalassa/ORAS5/ORAS5_wind_stress_magnitude_rg/ORAS5_wsm_200507_rg.nc.\n",
      "wsm generated\n",
      "Saved wsn to /Volumes/Thalassa/ORAS5/ORAS5_wind_stress_magnitude_rg/ORAS5_wsm_200508_rg.nc.\n",
      "wsm generated\n",
      "Saved wsn to /Volumes/Thalassa/ORAS5/ORAS5_wind_stress_magnitude_rg/ORAS5_wsm_200509_rg.nc.\n",
      "wsm generated\n",
      "Saved wsn to /Volumes/Thalassa/ORAS5/ORAS5_wind_stress_magnitude_rg/ORAS5_wsm_200510_rg.nc.\n",
      "wsm generated\n",
      "Saved wsn to /Volumes/Thalassa/ORAS5/ORAS5_wind_stress_magnitude_rg/ORAS5_wsm_200511_rg.nc.\n",
      "wsm generated\n",
      "Saved wsn to /Volumes/Thalassa/ORAS5/ORAS5_wind_stress_magnitude_rg/ORAS5_wsm_200512_rg.nc.\n",
      "wsm generated\n",
      "Saved wsn to /Volumes/Thalassa/ORAS5/ORAS5_wind_stress_magnitude_rg/ORAS5_wsm_200601_rg.nc.\n",
      "wsm generated\n",
      "Saved wsn to /Volumes/Thalassa/ORAS5/ORAS5_wind_stress_magnitude_rg/ORAS5_wsm_200602_rg.nc.\n",
      "wsm generated\n",
      "Saved wsn to /Volumes/Thalassa/ORAS5/ORAS5_wind_stress_magnitude_rg/ORAS5_wsm_200603_rg.nc.\n",
      "wsm generated\n",
      "Saved wsn to /Volumes/Thalassa/ORAS5/ORAS5_wind_stress_magnitude_rg/ORAS5_wsm_200604_rg.nc.\n",
      "wsm generated\n",
      "Saved wsn to /Volumes/Thalassa/ORAS5/ORAS5_wind_stress_magnitude_rg/ORAS5_wsm_200605_rg.nc.\n",
      "wsm generated\n",
      "Saved wsn to /Volumes/Thalassa/ORAS5/ORAS5_wind_stress_magnitude_rg/ORAS5_wsm_200606_rg.nc.\n",
      "wsm generated\n",
      "Saved wsn to /Volumes/Thalassa/ORAS5/ORAS5_wind_stress_magnitude_rg/ORAS5_wsm_200607_rg.nc.\n",
      "wsm generated\n",
      "Saved wsn to /Volumes/Thalassa/ORAS5/ORAS5_wind_stress_magnitude_rg/ORAS5_wsm_200608_rg.nc.\n",
      "wsm generated\n",
      "Saved wsn to /Volumes/Thalassa/ORAS5/ORAS5_wind_stress_magnitude_rg/ORAS5_wsm_200609_rg.nc.\n",
      "wsm generated\n",
      "Saved wsn to /Volumes/Thalassa/ORAS5/ORAS5_wind_stress_magnitude_rg/ORAS5_wsm_200610_rg.nc.\n",
      "wsm generated\n",
      "Saved wsn to /Volumes/Thalassa/ORAS5/ORAS5_wind_stress_magnitude_rg/ORAS5_wsm_200611_rg.nc.\n",
      "wsm generated\n",
      "Saved wsn to /Volumes/Thalassa/ORAS5/ORAS5_wind_stress_magnitude_rg/ORAS5_wsm_200612_rg.nc.\n",
      "wsm generated\n",
      "Saved wsn to /Volumes/Thalassa/ORAS5/ORAS5_wind_stress_magnitude_rg/ORAS5_wsm_200701_rg.nc.\n",
      "wsm generated\n",
      "Saved wsn to /Volumes/Thalassa/ORAS5/ORAS5_wind_stress_magnitude_rg/ORAS5_wsm_200702_rg.nc.\n",
      "wsm generated\n",
      "Saved wsn to /Volumes/Thalassa/ORAS5/ORAS5_wind_stress_magnitude_rg/ORAS5_wsm_200703_rg.nc.\n",
      "wsm generated\n",
      "Saved wsn to /Volumes/Thalassa/ORAS5/ORAS5_wind_stress_magnitude_rg/ORAS5_wsm_200704_rg.nc.\n",
      "wsm generated\n",
      "Saved wsn to /Volumes/Thalassa/ORAS5/ORAS5_wind_stress_magnitude_rg/ORAS5_wsm_200705_rg.nc.\n",
      "wsm generated\n",
      "Saved wsn to /Volumes/Thalassa/ORAS5/ORAS5_wind_stress_magnitude_rg/ORAS5_wsm_200706_rg.nc.\n",
      "wsm generated\n",
      "Saved wsn to /Volumes/Thalassa/ORAS5/ORAS5_wind_stress_magnitude_rg/ORAS5_wsm_200707_rg.nc.\n",
      "wsm generated\n",
      "Saved wsn to /Volumes/Thalassa/ORAS5/ORAS5_wind_stress_magnitude_rg/ORAS5_wsm_200708_rg.nc.\n",
      "wsm generated\n",
      "Saved wsn to /Volumes/Thalassa/ORAS5/ORAS5_wind_stress_magnitude_rg/ORAS5_wsm_200709_rg.nc.\n",
      "wsm generated\n",
      "Saved wsn to /Volumes/Thalassa/ORAS5/ORAS5_wind_stress_magnitude_rg/ORAS5_wsm_200710_rg.nc.\n",
      "wsm generated\n",
      "Saved wsn to /Volumes/Thalassa/ORAS5/ORAS5_wind_stress_magnitude_rg/ORAS5_wsm_200711_rg.nc.\n",
      "wsm generated\n",
      "Saved wsn to /Volumes/Thalassa/ORAS5/ORAS5_wind_stress_magnitude_rg/ORAS5_wsm_200712_rg.nc.\n",
      "wsm generated\n",
      "Saved wsn to /Volumes/Thalassa/ORAS5/ORAS5_wind_stress_magnitude_rg/ORAS5_wsm_200801_rg.nc.\n",
      "wsm generated\n",
      "Saved wsn to /Volumes/Thalassa/ORAS5/ORAS5_wind_stress_magnitude_rg/ORAS5_wsm_200802_rg.nc.\n",
      "wsm generated\n",
      "Saved wsn to /Volumes/Thalassa/ORAS5/ORAS5_wind_stress_magnitude_rg/ORAS5_wsm_200803_rg.nc.\n",
      "wsm generated\n",
      "Saved wsn to /Volumes/Thalassa/ORAS5/ORAS5_wind_stress_magnitude_rg/ORAS5_wsm_200804_rg.nc.\n",
      "wsm generated\n",
      "Saved wsn to /Volumes/Thalassa/ORAS5/ORAS5_wind_stress_magnitude_rg/ORAS5_wsm_200805_rg.nc.\n",
      "wsm generated\n",
      "Saved wsn to /Volumes/Thalassa/ORAS5/ORAS5_wind_stress_magnitude_rg/ORAS5_wsm_200806_rg.nc.\n",
      "wsm generated\n",
      "Saved wsn to /Volumes/Thalassa/ORAS5/ORAS5_wind_stress_magnitude_rg/ORAS5_wsm_200807_rg.nc.\n",
      "wsm generated\n",
      "Saved wsn to /Volumes/Thalassa/ORAS5/ORAS5_wind_stress_magnitude_rg/ORAS5_wsm_200808_rg.nc.\n",
      "wsm generated\n",
      "Saved wsn to /Volumes/Thalassa/ORAS5/ORAS5_wind_stress_magnitude_rg/ORAS5_wsm_200809_rg.nc.\n",
      "wsm generated\n",
      "Saved wsn to /Volumes/Thalassa/ORAS5/ORAS5_wind_stress_magnitude_rg/ORAS5_wsm_200810_rg.nc.\n",
      "wsm generated\n",
      "Saved wsn to /Volumes/Thalassa/ORAS5/ORAS5_wind_stress_magnitude_rg/ORAS5_wsm_200811_rg.nc.\n",
      "wsm generated\n",
      "Saved wsn to /Volumes/Thalassa/ORAS5/ORAS5_wind_stress_magnitude_rg/ORAS5_wsm_200812_rg.nc.\n",
      "wsm generated\n",
      "Saved wsn to /Volumes/Thalassa/ORAS5/ORAS5_wind_stress_magnitude_rg/ORAS5_wsm_200901_rg.nc.\n",
      "wsm generated\n",
      "Saved wsn to /Volumes/Thalassa/ORAS5/ORAS5_wind_stress_magnitude_rg/ORAS5_wsm_200902_rg.nc.\n",
      "wsm generated\n",
      "Saved wsn to /Volumes/Thalassa/ORAS5/ORAS5_wind_stress_magnitude_rg/ORAS5_wsm_200903_rg.nc.\n",
      "wsm generated\n",
      "Saved wsn to /Volumes/Thalassa/ORAS5/ORAS5_wind_stress_magnitude_rg/ORAS5_wsm_200904_rg.nc.\n",
      "wsm generated\n",
      "Saved wsn to /Volumes/Thalassa/ORAS5/ORAS5_wind_stress_magnitude_rg/ORAS5_wsm_200905_rg.nc.\n",
      "wsm generated\n",
      "Saved wsn to /Volumes/Thalassa/ORAS5/ORAS5_wind_stress_magnitude_rg/ORAS5_wsm_200906_rg.nc.\n",
      "wsm generated\n",
      "Saved wsn to /Volumes/Thalassa/ORAS5/ORAS5_wind_stress_magnitude_rg/ORAS5_wsm_200907_rg.nc.\n",
      "wsm generated\n",
      "Saved wsn to /Volumes/Thalassa/ORAS5/ORAS5_wind_stress_magnitude_rg/ORAS5_wsm_200908_rg.nc.\n",
      "wsm generated\n",
      "Saved wsn to /Volumes/Thalassa/ORAS5/ORAS5_wind_stress_magnitude_rg/ORAS5_wsm_200909_rg.nc.\n",
      "wsm generated\n",
      "Saved wsn to /Volumes/Thalassa/ORAS5/ORAS5_wind_stress_magnitude_rg/ORAS5_wsm_200910_rg.nc.\n",
      "wsm generated\n",
      "Saved wsn to /Volumes/Thalassa/ORAS5/ORAS5_wind_stress_magnitude_rg/ORAS5_wsm_200911_rg.nc.\n",
      "wsm generated\n",
      "Saved wsn to /Volumes/Thalassa/ORAS5/ORAS5_wind_stress_magnitude_rg/ORAS5_wsm_200912_rg.nc.\n",
      "wsm generated\n",
      "Saved wsn to /Volumes/Thalassa/ORAS5/ORAS5_wind_stress_magnitude_rg/ORAS5_wsm_201001_rg.nc.\n",
      "wsm generated\n",
      "Saved wsn to /Volumes/Thalassa/ORAS5/ORAS5_wind_stress_magnitude_rg/ORAS5_wsm_201002_rg.nc.\n",
      "wsm generated\n",
      "Saved wsn to /Volumes/Thalassa/ORAS5/ORAS5_wind_stress_magnitude_rg/ORAS5_wsm_201003_rg.nc.\n",
      "wsm generated\n",
      "Saved wsn to /Volumes/Thalassa/ORAS5/ORAS5_wind_stress_magnitude_rg/ORAS5_wsm_201004_rg.nc.\n",
      "wsm generated\n",
      "Saved wsn to /Volumes/Thalassa/ORAS5/ORAS5_wind_stress_magnitude_rg/ORAS5_wsm_201005_rg.nc.\n",
      "wsm generated\n",
      "Saved wsn to /Volumes/Thalassa/ORAS5/ORAS5_wind_stress_magnitude_rg/ORAS5_wsm_201006_rg.nc.\n",
      "wsm generated\n",
      "Saved wsn to /Volumes/Thalassa/ORAS5/ORAS5_wind_stress_magnitude_rg/ORAS5_wsm_201007_rg.nc.\n",
      "wsm generated\n",
      "Saved wsn to /Volumes/Thalassa/ORAS5/ORAS5_wind_stress_magnitude_rg/ORAS5_wsm_201008_rg.nc.\n",
      "wsm generated\n",
      "Saved wsn to /Volumes/Thalassa/ORAS5/ORAS5_wind_stress_magnitude_rg/ORAS5_wsm_201009_rg.nc.\n",
      "wsm generated\n",
      "Saved wsn to /Volumes/Thalassa/ORAS5/ORAS5_wind_stress_magnitude_rg/ORAS5_wsm_201010_rg.nc.\n",
      "wsm generated\n",
      "Saved wsn to /Volumes/Thalassa/ORAS5/ORAS5_wind_stress_magnitude_rg/ORAS5_wsm_201011_rg.nc.\n",
      "wsm generated\n",
      "Saved wsn to /Volumes/Thalassa/ORAS5/ORAS5_wind_stress_magnitude_rg/ORAS5_wsm_201012_rg.nc.\n",
      "wsm generated\n",
      "Saved wsn to /Volumes/Thalassa/ORAS5/ORAS5_wind_stress_magnitude_rg/ORAS5_wsm_201101_rg.nc.\n",
      "wsm generated\n",
      "Saved wsn to /Volumes/Thalassa/ORAS5/ORAS5_wind_stress_magnitude_rg/ORAS5_wsm_201102_rg.nc.\n",
      "wsm generated\n",
      "Saved wsn to /Volumes/Thalassa/ORAS5/ORAS5_wind_stress_magnitude_rg/ORAS5_wsm_201103_rg.nc.\n",
      "wsm generated\n",
      "Saved wsn to /Volumes/Thalassa/ORAS5/ORAS5_wind_stress_magnitude_rg/ORAS5_wsm_201104_rg.nc.\n",
      "wsm generated\n",
      "Saved wsn to /Volumes/Thalassa/ORAS5/ORAS5_wind_stress_magnitude_rg/ORAS5_wsm_201105_rg.nc.\n",
      "wsm generated\n",
      "Saved wsn to /Volumes/Thalassa/ORAS5/ORAS5_wind_stress_magnitude_rg/ORAS5_wsm_201106_rg.nc.\n",
      "wsm generated\n",
      "Saved wsn to /Volumes/Thalassa/ORAS5/ORAS5_wind_stress_magnitude_rg/ORAS5_wsm_201107_rg.nc.\n",
      "wsm generated\n",
      "Saved wsn to /Volumes/Thalassa/ORAS5/ORAS5_wind_stress_magnitude_rg/ORAS5_wsm_201108_rg.nc.\n",
      "wsm generated\n",
      "Saved wsn to /Volumes/Thalassa/ORAS5/ORAS5_wind_stress_magnitude_rg/ORAS5_wsm_201109_rg.nc.\n",
      "wsm generated\n",
      "Saved wsn to /Volumes/Thalassa/ORAS5/ORAS5_wind_stress_magnitude_rg/ORAS5_wsm_201110_rg.nc.\n",
      "wsm generated\n",
      "Saved wsn to /Volumes/Thalassa/ORAS5/ORAS5_wind_stress_magnitude_rg/ORAS5_wsm_201111_rg.nc.\n",
      "wsm generated\n",
      "Saved wsn to /Volumes/Thalassa/ORAS5/ORAS5_wind_stress_magnitude_rg/ORAS5_wsm_201112_rg.nc.\n",
      "wsm generated\n",
      "Saved wsn to /Volumes/Thalassa/ORAS5/ORAS5_wind_stress_magnitude_rg/ORAS5_wsm_201201_rg.nc.\n",
      "wsm generated\n",
      "Saved wsn to /Volumes/Thalassa/ORAS5/ORAS5_wind_stress_magnitude_rg/ORAS5_wsm_201202_rg.nc.\n",
      "wsm generated\n",
      "Saved wsn to /Volumes/Thalassa/ORAS5/ORAS5_wind_stress_magnitude_rg/ORAS5_wsm_201203_rg.nc.\n",
      "wsm generated\n",
      "Saved wsn to /Volumes/Thalassa/ORAS5/ORAS5_wind_stress_magnitude_rg/ORAS5_wsm_201204_rg.nc.\n",
      "wsm generated\n",
      "Saved wsn to /Volumes/Thalassa/ORAS5/ORAS5_wind_stress_magnitude_rg/ORAS5_wsm_201205_rg.nc.\n",
      "wsm generated\n",
      "Saved wsn to /Volumes/Thalassa/ORAS5/ORAS5_wind_stress_magnitude_rg/ORAS5_wsm_201206_rg.nc.\n",
      "wsm generated\n",
      "Saved wsn to /Volumes/Thalassa/ORAS5/ORAS5_wind_stress_magnitude_rg/ORAS5_wsm_201207_rg.nc.\n",
      "wsm generated\n",
      "Saved wsn to /Volumes/Thalassa/ORAS5/ORAS5_wind_stress_magnitude_rg/ORAS5_wsm_201208_rg.nc.\n",
      "wsm generated\n",
      "Saved wsn to /Volumes/Thalassa/ORAS5/ORAS5_wind_stress_magnitude_rg/ORAS5_wsm_201209_rg.nc.\n",
      "wsm generated\n",
      "Saved wsn to /Volumes/Thalassa/ORAS5/ORAS5_wind_stress_magnitude_rg/ORAS5_wsm_201210_rg.nc.\n",
      "wsm generated\n",
      "Saved wsn to /Volumes/Thalassa/ORAS5/ORAS5_wind_stress_magnitude_rg/ORAS5_wsm_201211_rg.nc.\n",
      "wsm generated\n",
      "Saved wsn to /Volumes/Thalassa/ORAS5/ORAS5_wind_stress_magnitude_rg/ORAS5_wsm_201212_rg.nc.\n",
      "wsm generated\n",
      "Saved wsn to /Volumes/Thalassa/ORAS5/ORAS5_wind_stress_magnitude_rg/ORAS5_wsm_201301_rg.nc.\n",
      "wsm generated\n",
      "Saved wsn to /Volumes/Thalassa/ORAS5/ORAS5_wind_stress_magnitude_rg/ORAS5_wsm_201302_rg.nc.\n",
      "wsm generated\n",
      "Saved wsn to /Volumes/Thalassa/ORAS5/ORAS5_wind_stress_magnitude_rg/ORAS5_wsm_201303_rg.nc.\n",
      "wsm generated\n",
      "Saved wsn to /Volumes/Thalassa/ORAS5/ORAS5_wind_stress_magnitude_rg/ORAS5_wsm_201304_rg.nc.\n",
      "wsm generated\n",
      "Saved wsn to /Volumes/Thalassa/ORAS5/ORAS5_wind_stress_magnitude_rg/ORAS5_wsm_201305_rg.nc.\n",
      "wsm generated\n",
      "Saved wsn to /Volumes/Thalassa/ORAS5/ORAS5_wind_stress_magnitude_rg/ORAS5_wsm_201306_rg.nc.\n",
      "wsm generated\n",
      "Saved wsn to /Volumes/Thalassa/ORAS5/ORAS5_wind_stress_magnitude_rg/ORAS5_wsm_201307_rg.nc.\n",
      "wsm generated\n",
      "Saved wsn to /Volumes/Thalassa/ORAS5/ORAS5_wind_stress_magnitude_rg/ORAS5_wsm_201308_rg.nc.\n",
      "wsm generated\n",
      "Saved wsn to /Volumes/Thalassa/ORAS5/ORAS5_wind_stress_magnitude_rg/ORAS5_wsm_201309_rg.nc.\n",
      "wsm generated\n",
      "Saved wsn to /Volumes/Thalassa/ORAS5/ORAS5_wind_stress_magnitude_rg/ORAS5_wsm_201310_rg.nc.\n",
      "wsm generated\n",
      "Saved wsn to /Volumes/Thalassa/ORAS5/ORAS5_wind_stress_magnitude_rg/ORAS5_wsm_201311_rg.nc.\n",
      "wsm generated\n",
      "Saved wsn to /Volumes/Thalassa/ORAS5/ORAS5_wind_stress_magnitude_rg/ORAS5_wsm_201312_rg.nc.\n",
      "wsm generated\n",
      "Saved wsn to /Volumes/Thalassa/ORAS5/ORAS5_wind_stress_magnitude_rg/ORAS5_wsm_201401_rg.nc.\n",
      "wsm generated\n",
      "Saved wsn to /Volumes/Thalassa/ORAS5/ORAS5_wind_stress_magnitude_rg/ORAS5_wsm_201402_rg.nc.\n",
      "wsm generated\n",
      "Saved wsn to /Volumes/Thalassa/ORAS5/ORAS5_wind_stress_magnitude_rg/ORAS5_wsm_201403_rg.nc.\n",
      "wsm generated\n",
      "Saved wsn to /Volumes/Thalassa/ORAS5/ORAS5_wind_stress_magnitude_rg/ORAS5_wsm_201404_rg.nc.\n",
      "wsm generated\n",
      "Saved wsn to /Volumes/Thalassa/ORAS5/ORAS5_wind_stress_magnitude_rg/ORAS5_wsm_201405_rg.nc.\n",
      "wsm generated\n",
      "Saved wsn to /Volumes/Thalassa/ORAS5/ORAS5_wind_stress_magnitude_rg/ORAS5_wsm_201406_rg.nc.\n",
      "wsm generated\n",
      "Saved wsn to /Volumes/Thalassa/ORAS5/ORAS5_wind_stress_magnitude_rg/ORAS5_wsm_201407_rg.nc.\n",
      "wsm generated\n",
      "Saved wsn to /Volumes/Thalassa/ORAS5/ORAS5_wind_stress_magnitude_rg/ORAS5_wsm_201408_rg.nc.\n",
      "wsm generated\n",
      "Saved wsn to /Volumes/Thalassa/ORAS5/ORAS5_wind_stress_magnitude_rg/ORAS5_wsm_201409_rg.nc.\n",
      "wsm generated\n",
      "Saved wsn to /Volumes/Thalassa/ORAS5/ORAS5_wind_stress_magnitude_rg/ORAS5_wsm_201410_rg.nc.\n",
      "wsm generated\n",
      "Saved wsn to /Volumes/Thalassa/ORAS5/ORAS5_wind_stress_magnitude_rg/ORAS5_wsm_201411_rg.nc.\n",
      "wsm generated\n",
      "Saved wsn to /Volumes/Thalassa/ORAS5/ORAS5_wind_stress_magnitude_rg/ORAS5_wsm_201412_rg.nc.\n",
      "wsm generated\n",
      "Saved wsn to /Volumes/Thalassa/ORAS5/ORAS5_wind_stress_magnitude_rg/ORAS5_wsm_201501_rg.nc.\n",
      "wsm generated\n",
      "Saved wsn to /Volumes/Thalassa/ORAS5/ORAS5_wind_stress_magnitude_rg/ORAS5_wsm_201502_rg.nc.\n",
      "wsm generated\n",
      "Saved wsn to /Volumes/Thalassa/ORAS5/ORAS5_wind_stress_magnitude_rg/ORAS5_wsm_201503_rg.nc.\n",
      "wsm generated\n",
      "Saved wsn to /Volumes/Thalassa/ORAS5/ORAS5_wind_stress_magnitude_rg/ORAS5_wsm_201504_rg.nc.\n",
      "wsm generated\n",
      "Saved wsn to /Volumes/Thalassa/ORAS5/ORAS5_wind_stress_magnitude_rg/ORAS5_wsm_201505_rg.nc.\n",
      "wsm generated\n",
      "Saved wsn to /Volumes/Thalassa/ORAS5/ORAS5_wind_stress_magnitude_rg/ORAS5_wsm_201506_rg.nc.\n",
      "wsm generated\n",
      "Saved wsn to /Volumes/Thalassa/ORAS5/ORAS5_wind_stress_magnitude_rg/ORAS5_wsm_201507_rg.nc.\n",
      "wsm generated\n",
      "Saved wsn to /Volumes/Thalassa/ORAS5/ORAS5_wind_stress_magnitude_rg/ORAS5_wsm_201508_rg.nc.\n",
      "wsm generated\n",
      "Saved wsn to /Volumes/Thalassa/ORAS5/ORAS5_wind_stress_magnitude_rg/ORAS5_wsm_201509_rg.nc.\n",
      "wsm generated\n",
      "Saved wsn to /Volumes/Thalassa/ORAS5/ORAS5_wind_stress_magnitude_rg/ORAS5_wsm_201510_rg.nc.\n",
      "wsm generated\n",
      "Saved wsn to /Volumes/Thalassa/ORAS5/ORAS5_wind_stress_magnitude_rg/ORAS5_wsm_201511_rg.nc.\n",
      "wsm generated\n",
      "Saved wsn to /Volumes/Thalassa/ORAS5/ORAS5_wind_stress_magnitude_rg/ORAS5_wsm_201512_rg.nc.\n",
      "wsm generated\n",
      "Saved wsn to /Volumes/Thalassa/ORAS5/ORAS5_wind_stress_magnitude_rg/ORAS5_wsm_201601_rg.nc.\n",
      "wsm generated\n",
      "Saved wsn to /Volumes/Thalassa/ORAS5/ORAS5_wind_stress_magnitude_rg/ORAS5_wsm_201602_rg.nc.\n",
      "wsm generated\n",
      "Saved wsn to /Volumes/Thalassa/ORAS5/ORAS5_wind_stress_magnitude_rg/ORAS5_wsm_201603_rg.nc.\n",
      "wsm generated\n",
      "Saved wsn to /Volumes/Thalassa/ORAS5/ORAS5_wind_stress_magnitude_rg/ORAS5_wsm_201604_rg.nc.\n",
      "wsm generated\n",
      "Saved wsn to /Volumes/Thalassa/ORAS5/ORAS5_wind_stress_magnitude_rg/ORAS5_wsm_201605_rg.nc.\n",
      "wsm generated\n",
      "Saved wsn to /Volumes/Thalassa/ORAS5/ORAS5_wind_stress_magnitude_rg/ORAS5_wsm_201606_rg.nc.\n",
      "wsm generated\n",
      "Saved wsn to /Volumes/Thalassa/ORAS5/ORAS5_wind_stress_magnitude_rg/ORAS5_wsm_201607_rg.nc.\n",
      "wsm generated\n",
      "Saved wsn to /Volumes/Thalassa/ORAS5/ORAS5_wind_stress_magnitude_rg/ORAS5_wsm_201608_rg.nc.\n",
      "wsm generated\n",
      "Saved wsn to /Volumes/Thalassa/ORAS5/ORAS5_wind_stress_magnitude_rg/ORAS5_wsm_201609_rg.nc.\n",
      "wsm generated\n",
      "Saved wsn to /Volumes/Thalassa/ORAS5/ORAS5_wind_stress_magnitude_rg/ORAS5_wsm_201610_rg.nc.\n",
      "wsm generated\n",
      "Saved wsn to /Volumes/Thalassa/ORAS5/ORAS5_wind_stress_magnitude_rg/ORAS5_wsm_201611_rg.nc.\n",
      "wsm generated\n",
      "Saved wsn to /Volumes/Thalassa/ORAS5/ORAS5_wind_stress_magnitude_rg/ORAS5_wsm_201612_rg.nc.\n",
      "wsm generated\n",
      "Saved wsn to /Volumes/Thalassa/ORAS5/ORAS5_wind_stress_magnitude_rg/ORAS5_wsm_201701_rg.nc.\n",
      "wsm generated\n",
      "Saved wsn to /Volumes/Thalassa/ORAS5/ORAS5_wind_stress_magnitude_rg/ORAS5_wsm_201702_rg.nc.\n",
      "wsm generated\n",
      "Saved wsn to /Volumes/Thalassa/ORAS5/ORAS5_wind_stress_magnitude_rg/ORAS5_wsm_201703_rg.nc.\n",
      "wsm generated\n",
      "Saved wsn to /Volumes/Thalassa/ORAS5/ORAS5_wind_stress_magnitude_rg/ORAS5_wsm_201704_rg.nc.\n",
      "wsm generated\n",
      "Saved wsn to /Volumes/Thalassa/ORAS5/ORAS5_wind_stress_magnitude_rg/ORAS5_wsm_201705_rg.nc.\n",
      "wsm generated\n",
      "Saved wsn to /Volumes/Thalassa/ORAS5/ORAS5_wind_stress_magnitude_rg/ORAS5_wsm_201706_rg.nc.\n",
      "wsm generated\n",
      "Saved wsn to /Volumes/Thalassa/ORAS5/ORAS5_wind_stress_magnitude_rg/ORAS5_wsm_201707_rg.nc.\n",
      "wsm generated\n",
      "Saved wsn to /Volumes/Thalassa/ORAS5/ORAS5_wind_stress_magnitude_rg/ORAS5_wsm_201708_rg.nc.\n",
      "wsm generated\n",
      "Saved wsn to /Volumes/Thalassa/ORAS5/ORAS5_wind_stress_magnitude_rg/ORAS5_wsm_201709_rg.nc.\n",
      "wsm generated\n",
      "Saved wsn to /Volumes/Thalassa/ORAS5/ORAS5_wind_stress_magnitude_rg/ORAS5_wsm_201710_rg.nc.\n",
      "wsm generated\n",
      "Saved wsn to /Volumes/Thalassa/ORAS5/ORAS5_wind_stress_magnitude_rg/ORAS5_wsm_201711_rg.nc.\n",
      "wsm generated\n",
      "Saved wsn to /Volumes/Thalassa/ORAS5/ORAS5_wind_stress_magnitude_rg/ORAS5_wsm_201712_rg.nc.\n",
      "wsm generated\n",
      "Saved wsn to /Volumes/Thalassa/ORAS5/ORAS5_wind_stress_magnitude_rg/ORAS5_wsm_201801_rg.nc.\n",
      "wsm generated\n",
      "Saved wsn to /Volumes/Thalassa/ORAS5/ORAS5_wind_stress_magnitude_rg/ORAS5_wsm_201802_rg.nc.\n",
      "wsm generated\n",
      "Saved wsn to /Volumes/Thalassa/ORAS5/ORAS5_wind_stress_magnitude_rg/ORAS5_wsm_201803_rg.nc.\n",
      "wsm generated\n",
      "Saved wsn to /Volumes/Thalassa/ORAS5/ORAS5_wind_stress_magnitude_rg/ORAS5_wsm_201804_rg.nc.\n",
      "wsm generated\n",
      "Saved wsn to /Volumes/Thalassa/ORAS5/ORAS5_wind_stress_magnitude_rg/ORAS5_wsm_201805_rg.nc.\n",
      "wsm generated\n",
      "Saved wsn to /Volumes/Thalassa/ORAS5/ORAS5_wind_stress_magnitude_rg/ORAS5_wsm_201806_rg.nc.\n",
      "wsm generated\n",
      "Saved wsn to /Volumes/Thalassa/ORAS5/ORAS5_wind_stress_magnitude_rg/ORAS5_wsm_201807_rg.nc.\n",
      "wsm generated\n",
      "Saved wsn to /Volumes/Thalassa/ORAS5/ORAS5_wind_stress_magnitude_rg/ORAS5_wsm_201808_rg.nc.\n",
      "wsm generated\n",
      "Saved wsn to /Volumes/Thalassa/ORAS5/ORAS5_wind_stress_magnitude_rg/ORAS5_wsm_201809_rg.nc.\n",
      "wsm generated\n",
      "Saved wsn to /Volumes/Thalassa/ORAS5/ORAS5_wind_stress_magnitude_rg/ORAS5_wsm_201810_rg.nc.\n",
      "wsm generated\n",
      "Saved wsn to /Volumes/Thalassa/ORAS5/ORAS5_wind_stress_magnitude_rg/ORAS5_wsm_201811_rg.nc.\n",
      "wsm generated\n",
      "Saved wsn to /Volumes/Thalassa/ORAS5/ORAS5_wind_stress_magnitude_rg/ORAS5_wsm_201812_rg.nc.\n",
      "wsm generated\n",
      "Saved wsn to /Volumes/Thalassa/ORAS5/ORAS5_wind_stress_magnitude_rg/ORAS5_wsm_201901_rg.nc.\n",
      "wsm generated\n",
      "Saved wsn to /Volumes/Thalassa/ORAS5/ORAS5_wind_stress_magnitude_rg/ORAS5_wsm_201902_rg.nc.\n",
      "wsm generated\n",
      "Saved wsn to /Volumes/Thalassa/ORAS5/ORAS5_wind_stress_magnitude_rg/ORAS5_wsm_201903_rg.nc.\n",
      "wsm generated\n",
      "Saved wsn to /Volumes/Thalassa/ORAS5/ORAS5_wind_stress_magnitude_rg/ORAS5_wsm_201904_rg.nc.\n",
      "wsm generated\n",
      "Saved wsn to /Volumes/Thalassa/ORAS5/ORAS5_wind_stress_magnitude_rg/ORAS5_wsm_201905_rg.nc.\n",
      "wsm generated\n",
      "Saved wsn to /Volumes/Thalassa/ORAS5/ORAS5_wind_stress_magnitude_rg/ORAS5_wsm_201906_rg.nc.\n",
      "wsm generated\n",
      "Saved wsn to /Volumes/Thalassa/ORAS5/ORAS5_wind_stress_magnitude_rg/ORAS5_wsm_201907_rg.nc.\n",
      "wsm generated\n",
      "Saved wsn to /Volumes/Thalassa/ORAS5/ORAS5_wind_stress_magnitude_rg/ORAS5_wsm_201908_rg.nc.\n",
      "wsm generated\n",
      "Saved wsn to /Volumes/Thalassa/ORAS5/ORAS5_wind_stress_magnitude_rg/ORAS5_wsm_201909_rg.nc.\n",
      "wsm generated\n",
      "Saved wsn to /Volumes/Thalassa/ORAS5/ORAS5_wind_stress_magnitude_rg/ORAS5_wsm_201910_rg.nc.\n",
      "wsm generated\n",
      "Saved wsn to /Volumes/Thalassa/ORAS5/ORAS5_wind_stress_magnitude_rg/ORAS5_wsm_201911_rg.nc.\n",
      "wsm generated\n",
      "Saved wsn to /Volumes/Thalassa/ORAS5/ORAS5_wind_stress_magnitude_rg/ORAS5_wsm_201912_rg.nc.\n",
      "wsm generated\n",
      "Saved wsn to /Volumes/Thalassa/ORAS5/ORAS5_wind_stress_magnitude_rg/ORAS5_wsm_202001_rg.nc.\n",
      "wsm generated\n",
      "Saved wsn to /Volumes/Thalassa/ORAS5/ORAS5_wind_stress_magnitude_rg/ORAS5_wsm_202002_rg.nc.\n",
      "wsm generated\n",
      "Saved wsn to /Volumes/Thalassa/ORAS5/ORAS5_wind_stress_magnitude_rg/ORAS5_wsm_202003_rg.nc.\n",
      "wsm generated\n",
      "Saved wsn to /Volumes/Thalassa/ORAS5/ORAS5_wind_stress_magnitude_rg/ORAS5_wsm_202004_rg.nc.\n",
      "wsm generated\n",
      "Saved wsn to /Volumes/Thalassa/ORAS5/ORAS5_wind_stress_magnitude_rg/ORAS5_wsm_202005_rg.nc.\n",
      "wsm generated\n",
      "Saved wsn to /Volumes/Thalassa/ORAS5/ORAS5_wind_stress_magnitude_rg/ORAS5_wsm_202006_rg.nc.\n",
      "wsm generated\n",
      "Saved wsn to /Volumes/Thalassa/ORAS5/ORAS5_wind_stress_magnitude_rg/ORAS5_wsm_202007_rg.nc.\n",
      "wsm generated\n",
      "Saved wsn to /Volumes/Thalassa/ORAS5/ORAS5_wind_stress_magnitude_rg/ORAS5_wsm_202008_rg.nc.\n",
      "wsm generated\n",
      "Saved wsn to /Volumes/Thalassa/ORAS5/ORAS5_wind_stress_magnitude_rg/ORAS5_wsm_202009_rg.nc.\n",
      "wsm generated\n",
      "Saved wsn to /Volumes/Thalassa/ORAS5/ORAS5_wind_stress_magnitude_rg/ORAS5_wsm_202010_rg.nc.\n",
      "wsm generated\n",
      "Saved wsn to /Volumes/Thalassa/ORAS5/ORAS5_wind_stress_magnitude_rg/ORAS5_wsm_202011_rg.nc.\n",
      "wsm generated\n",
      "Saved wsn to /Volumes/Thalassa/ORAS5/ORAS5_wind_stress_magnitude_rg/ORAS5_wsm_202012_rg.nc.\n",
      "wsm generated\n",
      "Saved wsn to /Volumes/Thalassa/ORAS5/ORAS5_wind_stress_magnitude_rg/ORAS5_wsm_202101_rg.nc.\n",
      "wsm generated\n",
      "Saved wsn to /Volumes/Thalassa/ORAS5/ORAS5_wind_stress_magnitude_rg/ORAS5_wsm_202102_rg.nc.\n",
      "wsm generated\n",
      "Saved wsn to /Volumes/Thalassa/ORAS5/ORAS5_wind_stress_magnitude_rg/ORAS5_wsm_202103_rg.nc.\n",
      "wsm generated\n",
      "Saved wsn to /Volumes/Thalassa/ORAS5/ORAS5_wind_stress_magnitude_rg/ORAS5_wsm_202104_rg.nc.\n",
      "wsm generated\n",
      "Saved wsn to /Volumes/Thalassa/ORAS5/ORAS5_wind_stress_magnitude_rg/ORAS5_wsm_202105_rg.nc.\n",
      "wsm generated\n",
      "Saved wsn to /Volumes/Thalassa/ORAS5/ORAS5_wind_stress_magnitude_rg/ORAS5_wsm_202106_rg.nc.\n",
      "wsm generated\n",
      "Saved wsn to /Volumes/Thalassa/ORAS5/ORAS5_wind_stress_magnitude_rg/ORAS5_wsm_202107_rg.nc.\n",
      "wsm generated\n",
      "Saved wsn to /Volumes/Thalassa/ORAS5/ORAS5_wind_stress_magnitude_rg/ORAS5_wsm_202108_rg.nc.\n",
      "wsm generated\n",
      "Saved wsn to /Volumes/Thalassa/ORAS5/ORAS5_wind_stress_magnitude_rg/ORAS5_wsm_202109_rg.nc.\n",
      "wsm generated\n",
      "Saved wsn to /Volumes/Thalassa/ORAS5/ORAS5_wind_stress_magnitude_rg/ORAS5_wsm_202110_rg.nc.\n",
      "wsm generated\n",
      "Saved wsn to /Volumes/Thalassa/ORAS5/ORAS5_wind_stress_magnitude_rg/ORAS5_wsm_202111_rg.nc.\n",
      "wsm generated\n",
      "Saved wsn to /Volumes/Thalassa/ORAS5/ORAS5_wind_stress_magnitude_rg/ORAS5_wsm_202112_rg.nc.\n",
      "wsm generated\n",
      "Saved wsn to /Volumes/Thalassa/ORAS5/ORAS5_wind_stress_magnitude_rg/ORAS5_wsm_202201_rg.nc.\n",
      "wsm generated\n",
      "Saved wsn to /Volumes/Thalassa/ORAS5/ORAS5_wind_stress_magnitude_rg/ORAS5_wsm_202202_rg.nc.\n",
      "wsm generated\n",
      "Saved wsn to /Volumes/Thalassa/ORAS5/ORAS5_wind_stress_magnitude_rg/ORAS5_wsm_202203_rg.nc.\n",
      "wsm generated\n",
      "Saved wsn to /Volumes/Thalassa/ORAS5/ORAS5_wind_stress_magnitude_rg/ORAS5_wsm_202204_rg.nc.\n",
      "wsm generated\n",
      "Saved wsn to /Volumes/Thalassa/ORAS5/ORAS5_wind_stress_magnitude_rg/ORAS5_wsm_202205_rg.nc.\n",
      "wsm generated\n",
      "Saved wsn to /Volumes/Thalassa/ORAS5/ORAS5_wind_stress_magnitude_rg/ORAS5_wsm_202206_rg.nc.\n",
      "wsm generated\n",
      "Saved wsn to /Volumes/Thalassa/ORAS5/ORAS5_wind_stress_magnitude_rg/ORAS5_wsm_202207_rg.nc.\n",
      "wsm generated\n",
      "Saved wsn to /Volumes/Thalassa/ORAS5/ORAS5_wind_stress_magnitude_rg/ORAS5_wsm_202208_rg.nc.\n",
      "wsm generated\n",
      "Saved wsn to /Volumes/Thalassa/ORAS5/ORAS5_wind_stress_magnitude_rg/ORAS5_wsm_202209_rg.nc.\n",
      "wsm generated\n",
      "Saved wsn to /Volumes/Thalassa/ORAS5/ORAS5_wind_stress_magnitude_rg/ORAS5_wsm_202210_rg.nc.\n",
      "wsm generated\n",
      "Saved wsn to /Volumes/Thalassa/ORAS5/ORAS5_wind_stress_magnitude_rg/ORAS5_wsm_202211_rg.nc.\n",
      "wsm generated\n",
      "Saved wsn to /Volumes/Thalassa/ORAS5/ORAS5_wind_stress_magnitude_rg/ORAS5_wsm_202212_rg.nc.\n",
      "wsm generated\n",
      "Saved wsn to /Volumes/Thalassa/ORAS5/ORAS5_wind_stress_magnitude_rg/ORAS5_wsm_202301_rg.nc.\n",
      "wsm generated\n",
      "Saved wsn to /Volumes/Thalassa/ORAS5/ORAS5_wind_stress_magnitude_rg/ORAS5_wsm_202302_rg.nc.\n",
      "wsm generated\n",
      "Saved wsn to /Volumes/Thalassa/ORAS5/ORAS5_wind_stress_magnitude_rg/ORAS5_wsm_202303_rg.nc.\n",
      "wsm generated\n",
      "Saved wsn to /Volumes/Thalassa/ORAS5/ORAS5_wind_stress_magnitude_rg/ORAS5_wsm_202304_rg.nc.\n",
      "wsm generated\n",
      "Saved wsn to /Volumes/Thalassa/ORAS5/ORAS5_wind_stress_magnitude_rg/ORAS5_wsm_202305_rg.nc.\n",
      "wsm generated\n",
      "Saved wsn to /Volumes/Thalassa/ORAS5/ORAS5_wind_stress_magnitude_rg/ORAS5_wsm_202306_rg.nc.\n",
      "wsm generated\n",
      "Saved wsn to /Volumes/Thalassa/ORAS5/ORAS5_wind_stress_magnitude_rg/ORAS5_wsm_202307_rg.nc.\n",
      "wsm generated\n",
      "Saved wsn to /Volumes/Thalassa/ORAS5/ORAS5_wind_stress_magnitude_rg/ORAS5_wsm_202308_rg.nc.\n",
      "wsm generated\n",
      "Saved wsn to /Volumes/Thalassa/ORAS5/ORAS5_wind_stress_magnitude_rg/ORAS5_wsm_202309_rg.nc.\n",
      "wsm generated\n",
      "Saved wsn to /Volumes/Thalassa/ORAS5/ORAS5_wind_stress_magnitude_rg/ORAS5_wsm_202310_rg.nc.\n",
      "wsm generated\n",
      "Saved wsn to /Volumes/Thalassa/ORAS5/ORAS5_wind_stress_magnitude_rg/ORAS5_wsm_202311_rg.nc.\n",
      "wsm generated\n",
      "Saved wsn to /Volumes/Thalassa/ORAS5/ORAS5_wind_stress_magnitude_rg/ORAS5_wsm_202312_rg.nc.\n",
      "wsm generated\n",
      "Saved wsn to /Volumes/Thalassa/ORAS5/ORAS5_wind_stress_magnitude_rg/ORAS5_wsm_202401_rg.nc.\n",
      "wsm generated\n",
      "Saved wsn to /Volumes/Thalassa/ORAS5/ORAS5_wind_stress_magnitude_rg/ORAS5_wsm_202402_rg.nc.\n",
      "wsm generated\n",
      "Saved wsn to /Volumes/Thalassa/ORAS5/ORAS5_wind_stress_magnitude_rg/ORAS5_wsm_202403_rg.nc.\n",
      "wsm generated\n",
      "Saved wsn to /Volumes/Thalassa/ORAS5/ORAS5_wind_stress_magnitude_rg/ORAS5_wsm_202404_rg.nc.\n",
      "wsm generated\n",
      "Saved wsn to /Volumes/Thalassa/ORAS5/ORAS5_wind_stress_magnitude_rg/ORAS5_wsm_202405_rg.nc.\n",
      "wsm generated\n",
      "Saved wsn to /Volumes/Thalassa/ORAS5/ORAS5_wind_stress_magnitude_rg/ORAS5_wsm_202406_rg.nc.\n",
      "wsm generated\n",
      "Saved wsn to /Volumes/Thalassa/ORAS5/ORAS5_wind_stress_magnitude_rg/ORAS5_wsm_202407_rg.nc.\n",
      "wsm generated\n",
      "Saved wsn to /Volumes/Thalassa/ORAS5/ORAS5_wind_stress_magnitude_rg/ORAS5_wsm_202408_rg.nc.\n",
      "wsm generated\n",
      "Saved wsn to /Volumes/Thalassa/ORAS5/ORAS5_wind_stress_magnitude_rg/ORAS5_wsm_202409_rg.nc.\n",
      "wsm generated\n",
      "Saved wsn to /Volumes/Thalassa/ORAS5/ORAS5_wind_stress_magnitude_rg/ORAS5_wsm_202410_rg.nc.\n",
      "wsm generated\n",
      "Saved wsn to /Volumes/Thalassa/ORAS5/ORAS5_wind_stress_magnitude_rg/ORAS5_wsm_202411_rg.nc.\n"
     ]
    }
   ],
   "source": [
    "input_path_u = \"/Volumes/Thalassa/ORAS5/ORAS5_original_data/ORAS5_wind_stress/taux_rg\"\n",
    "input_path_v = \"/Volumes/Thalassa/ORAS5/ORAS5_original_data/ORAS5_wind_stress/tauy_rg\"\n",
    "\n",
    "output_path = \"/Volumes/Thalassa/ORAS5/ORAS5_wind_stress_magnitude_rg\"\n",
    "os.makedirs(output_path, exist_ok=True)\n",
    "\n",
    "# List all NetCDF files in the directory\n",
    "files_u = sorted([os.path.join(input_path_u, f) for f in os.listdir(input_path_u) if f.endswith('.nc')])\n",
    "files_v = sorted([os.path.join(input_path_v, f) for f in os.listdir(input_path_v) if f.endswith('.nc')])\n",
    "\n",
    "calculate_and_append_wsm(files_u,files_v, output_path)"
   ]
  },
  {
   "cell_type": "code",
   "execution_count": 47,
   "id": "38b0d8c1-af79-4dd5-906b-e8b3a4d06aae",
   "metadata": {},
   "outputs": [
    {
     "ename": "FileNotFoundError",
     "evalue": "[Errno 2] No such file or directory: '/Volumes/Thalassa/ORAS5/ORAS5_wind_stress/taux_rg'",
     "output_type": "error",
     "traceback": [
      "\u001b[0;31m---------------------------------------------------------------------------\u001b[0m",
      "\u001b[0;31mFileNotFoundError\u001b[0m                         Traceback (most recent call last)",
      "\u001b[0;32m/var/folders/7k/p5ykrvrj5zv_t9x91y1lsv9w0000gn/T/ipykernel_1707/2287970932.py\u001b[0m in \u001b[0;36m<module>\u001b[0;34m\u001b[0m\n\u001b[1;32m      6\u001b[0m \u001b[0;34m\u001b[0m\u001b[0m\n\u001b[1;32m      7\u001b[0m \u001b[0;31m# List all NetCDF files in the directory\u001b[0m\u001b[0;34m\u001b[0m\u001b[0;34m\u001b[0m\u001b[0;34m\u001b[0m\u001b[0m\n\u001b[0;32m----> 8\u001b[0;31m \u001b[0mfiles_u\u001b[0m \u001b[0;34m=\u001b[0m \u001b[0msorted\u001b[0m\u001b[0;34m(\u001b[0m\u001b[0;34m[\u001b[0m\u001b[0mos\u001b[0m\u001b[0;34m.\u001b[0m\u001b[0mpath\u001b[0m\u001b[0;34m.\u001b[0m\u001b[0mjoin\u001b[0m\u001b[0;34m(\u001b[0m\u001b[0minput_path_u\u001b[0m\u001b[0;34m,\u001b[0m \u001b[0mf\u001b[0m\u001b[0;34m)\u001b[0m \u001b[0;32mfor\u001b[0m \u001b[0mf\u001b[0m \u001b[0;32min\u001b[0m \u001b[0mos\u001b[0m\u001b[0;34m.\u001b[0m\u001b[0mlistdir\u001b[0m\u001b[0;34m(\u001b[0m\u001b[0minput_path_u\u001b[0m\u001b[0;34m)\u001b[0m \u001b[0;32mif\u001b[0m \u001b[0mf\u001b[0m\u001b[0;34m.\u001b[0m\u001b[0mendswith\u001b[0m\u001b[0;34m(\u001b[0m\u001b[0;34m'.nc'\u001b[0m\u001b[0;34m)\u001b[0m\u001b[0;34m]\u001b[0m\u001b[0;34m)\u001b[0m\u001b[0;34m\u001b[0m\u001b[0;34m\u001b[0m\u001b[0m\n\u001b[0m\u001b[1;32m      9\u001b[0m \u001b[0mfiles_v\u001b[0m \u001b[0;34m=\u001b[0m \u001b[0msorted\u001b[0m\u001b[0;34m(\u001b[0m\u001b[0;34m[\u001b[0m\u001b[0mos\u001b[0m\u001b[0;34m.\u001b[0m\u001b[0mpath\u001b[0m\u001b[0;34m.\u001b[0m\u001b[0mjoin\u001b[0m\u001b[0;34m(\u001b[0m\u001b[0minput_path_v\u001b[0m\u001b[0;34m,\u001b[0m \u001b[0mf\u001b[0m\u001b[0;34m)\u001b[0m \u001b[0;32mfor\u001b[0m \u001b[0mf\u001b[0m \u001b[0;32min\u001b[0m \u001b[0mos\u001b[0m\u001b[0;34m.\u001b[0m\u001b[0mlistdir\u001b[0m\u001b[0;34m(\u001b[0m\u001b[0minput_path_v\u001b[0m\u001b[0;34m)\u001b[0m \u001b[0;32mif\u001b[0m \u001b[0mf\u001b[0m\u001b[0;34m.\u001b[0m\u001b[0mendswith\u001b[0m\u001b[0;34m(\u001b[0m\u001b[0;34m'.nc'\u001b[0m\u001b[0;34m)\u001b[0m\u001b[0;34m]\u001b[0m\u001b[0;34m)\u001b[0m\u001b[0;34m\u001b[0m\u001b[0;34m\u001b[0m\u001b[0m\n\u001b[1;32m     10\u001b[0m \u001b[0;34m\u001b[0m\u001b[0m\n",
      "\u001b[0;31mFileNotFoundError\u001b[0m: [Errno 2] No such file or directory: '/Volumes/Thalassa/ORAS5/ORAS5_wind_stress/taux_rg'"
     ]
    }
   ],
   "source": [
    "input_path_u = \"/Volumes/Thalassa/ORAS5/ORAS5_wind_stress/taux_rg\"\n",
    "input_path_v = \"/Volumes/Thalassa/ORAS5/ORAS5_wind_stress/tauy_rg\"\n",
    "\n",
    "output_path = \"/Volumes/Thalassa/ORAS5/ORAS5_wind_stress_curl\"\n",
    "os.makedirs(output_path, exist_ok=True)\n",
    "\n",
    "# List all NetCDF files in the directory\n",
    "files_u = sorted([os.path.join(input_path_u, f) for f in os.listdir(input_path_u) if f.endswith('.nc')])\n",
    "files_v = sorted([os.path.join(input_path_v, f) for f in os.listdir(input_path_v) if f.endswith('.nc')])\n",
    "\n",
    "calculate_and_append_curl(files_u,files_v, output_path)"
   ]
  },
  {
   "cell_type": "code",
   "execution_count": 48,
   "id": "adea5e3e-a7a5-45eb-8294-d20e05270022",
   "metadata": {},
   "outputs": [
    {
     "ename": "OSError",
     "evalue": "no files to open",
     "output_type": "error",
     "traceback": [
      "\u001b[0;31m---------------------------------------------------------------------------\u001b[0m",
      "\u001b[0;31mOSError\u001b[0m                                   Traceback (most recent call last)",
      "\u001b[0;32m/var/folders/7k/p5ykrvrj5zv_t9x91y1lsv9w0000gn/T/ipykernel_1707/3299421019.py\u001b[0m in \u001b[0;36m<module>\u001b[0;34m\u001b[0m\n\u001b[0;32m----> 1\u001b[0;31m \u001b[0ma\u001b[0m\u001b[0;34m=\u001b[0m\u001b[0mxr\u001b[0m\u001b[0;34m.\u001b[0m\u001b[0mopen_mfdataset\u001b[0m\u001b[0;34m(\u001b[0m\u001b[0;34m'/Volumes/Thalassa/ORAS5/ORAS5_wind_stress_curl/*.nc'\u001b[0m\u001b[0;34m)\u001b[0m\u001b[0;34m.\u001b[0m\u001b[0mcurl\u001b[0m\u001b[0;34m.\u001b[0m\u001b[0msel\u001b[0m\u001b[0;34m(\u001b[0m\u001b[0mlat\u001b[0m\u001b[0;34m=\u001b[0m\u001b[0mslice\u001b[0m\u001b[0;34m(\u001b[0m\u001b[0;34m-\u001b[0m\u001b[0;36m5\u001b[0m\u001b[0;34m,\u001b[0m\u001b[0;36m5\u001b[0m\u001b[0;34m)\u001b[0m\u001b[0;34m,\u001b[0m\u001b[0mlon\u001b[0m\u001b[0;34m=\u001b[0m\u001b[0mslice\u001b[0m\u001b[0;34m(\u001b[0m\u001b[0;36m325\u001b[0m\u001b[0;34m,\u001b[0m\u001b[0;36m340\u001b[0m\u001b[0;34m)\u001b[0m\u001b[0;34m)\u001b[0m\u001b[0;34m.\u001b[0m\u001b[0mmean\u001b[0m\u001b[0;34m(\u001b[0m\u001b[0;34m(\u001b[0m\u001b[0;34m'lat'\u001b[0m\u001b[0;34m,\u001b[0m\u001b[0;34m'lon'\u001b[0m\u001b[0;34m)\u001b[0m\u001b[0;34m)\u001b[0m\u001b[0;34m\u001b[0m\u001b[0;34m\u001b[0m\u001b[0m\n\u001b[0m",
      "\u001b[0;32m~/miniconda3/envs/xesmf_env/lib/python3.7/site-packages/xarray/backends/api.py\u001b[0m in \u001b[0;36mopen_mfdataset\u001b[0;34m(paths, chunks, concat_dim, compat, preprocess, engine, data_vars, coords, combine, parallel, join, attrs_file, combine_attrs, **kwargs)\u001b[0m\n\u001b[1;32m    871\u001b[0m \u001b[0;34m\u001b[0m\u001b[0m\n\u001b[1;32m    872\u001b[0m     \u001b[0;32mif\u001b[0m \u001b[0;32mnot\u001b[0m \u001b[0mpaths\u001b[0m\u001b[0;34m:\u001b[0m\u001b[0;34m\u001b[0m\u001b[0;34m\u001b[0m\u001b[0m\n\u001b[0;32m--> 873\u001b[0;31m         \u001b[0;32mraise\u001b[0m \u001b[0mOSError\u001b[0m\u001b[0;34m(\u001b[0m\u001b[0;34m\"no files to open\"\u001b[0m\u001b[0;34m)\u001b[0m\u001b[0;34m\u001b[0m\u001b[0;34m\u001b[0m\u001b[0m\n\u001b[0m\u001b[1;32m    874\u001b[0m \u001b[0;34m\u001b[0m\u001b[0m\n\u001b[1;32m    875\u001b[0m     \u001b[0;32mif\u001b[0m \u001b[0mcombine\u001b[0m \u001b[0;34m==\u001b[0m \u001b[0;34m\"nested\"\u001b[0m\u001b[0;34m:\u001b[0m\u001b[0;34m\u001b[0m\u001b[0;34m\u001b[0m\u001b[0m\n",
      "\u001b[0;31mOSError\u001b[0m: no files to open"
     ]
    }
   ],
   "source": [
    "a=xr.open_mfdataset('/Volumes/Thalassa/ORAS5/ORAS5_wind_stress_curl/*.nc').curl.sel(lat=slice(-5,5),lon=slice(325,340)).mean(('lat','lon'))"
   ]
  },
  {
   "cell_type": "code",
   "execution_count": 49,
   "id": "74447a38-fbe7-49b3-a366-02e76dfa68e1",
   "metadata": {},
   "outputs": [
    {
     "ename": "NameError",
     "evalue": "name 'a' is not defined",
     "output_type": "error",
     "traceback": [
      "\u001b[0;31m---------------------------------------------------------------------------\u001b[0m",
      "\u001b[0;31mNameError\u001b[0m                                 Traceback (most recent call last)",
      "\u001b[0;32m/var/folders/7k/p5ykrvrj5zv_t9x91y1lsv9w0000gn/T/ipykernel_1707/3001110149.py\u001b[0m in \u001b[0;36m<module>\u001b[0;34m\u001b[0m\n\u001b[0;32m----> 1\u001b[0;31m \u001b[0ma\u001b[0m\u001b[0;34m.\u001b[0m\u001b[0mgroupby\u001b[0m\u001b[0;34m(\u001b[0m\u001b[0;34m'time_counter.month'\u001b[0m\u001b[0;34m)\u001b[0m\u001b[0;34m.\u001b[0m\u001b[0mmean\u001b[0m\u001b[0;34m(\u001b[0m\u001b[0;34m)\u001b[0m\u001b[0;34m.\u001b[0m\u001b[0mplot\u001b[0m\u001b[0;34m(\u001b[0m\u001b[0;34m)\u001b[0m\u001b[0;34m\u001b[0m\u001b[0;34m\u001b[0m\u001b[0m\n\u001b[0m",
      "\u001b[0;31mNameError\u001b[0m: name 'a' is not defined"
     ]
    }
   ],
   "source": [
    "a.groupby('time_counter.month').mean().plot()"
   ]
  },
  {
   "cell_type": "code",
   "execution_count": 2,
   "id": "d27053ec-8e50-4779-9512-97535517f22b",
   "metadata": {},
   "outputs": [
    {
     "name": "stdout",
     "output_type": "stream",
     "text": [
      "Opening ERA5 fluxes...\n",
      "Opening ERA5 SST...\n",
      "Opening ORAS5 SOS...\n",
      "Opening ORAS5 hflux...\n",
      "(648, 180, 360)\n",
      "Saved SSDflux outputs to /Volumes/Thalassa/ERA5_data/SSDflux_rg/SSDflux_ERA5_ORAS5.nc\n"
     ]
    }
   ],
   "source": [
    "#Calculate SSDflux from ERA5 heat fluxes and ORAS5 sos\n",
    "\n",
    "ERA5_fluxes_path='/Volumes/Thalassa/ERA5_data/ERA5_fluxes_rg'\n",
    "ORAS5_fluxes_path='/Volumes/Thalassa/ORAS5/ORAS5_hflux_rg'\n",
    "ERA5_sst_path='/Volumes/Thalassa/ERA5_data/ERA5_sst_rg'\n",
    "ORAS5_sos_path='/Volumes/Thalassa/ORAS5/ORAS5_sosaline_rg'\n",
    "output_path='/Volumes/Thalassa/ERA5_data/SSDflux_rg'\n",
    "\n",
    "#ORAS:\n",
    "#sos == psu \n",
    "\n",
    "#ERA5 fluxes:\n",
    "#sshf== surface_upward_sensible_heat_flux        == J m-2\n",
    "#slhf== surface_upward_latent_heat_flux          == J m-2\n",
    "#ssr == surface_net_downward_shortwave_flux      == J m-2\n",
    "#str == surface_net_upward_longwave_flux         == J m-2\n",
    "#e   == lwe_thickness_of_water_evaporation_amount== m of water equivalent\n",
    "#tp  == Total precipitation == m\n",
    "\n",
    "#ERA5 sst\n",
    "# sst ==Sea surface temperature\"== K\n",
    "\n",
    "calculate_SSDflux_ERA5_ORAS5_mfdataset(ERA5_fluxes_path, ORAS5_fluxes_path, ERA5_sst_path, ORAS5_sos_path, output_path)\n"
   ]
  },
  {
   "cell_type": "code",
   "execution_count": 238,
   "id": "db69e058-6e83-4863-80cb-66241aa31e1a",
   "metadata": {},
   "outputs": [
    {
     "data": {
      "text/plain": [
       "<matplotlib.collections.QuadMesh at 0x7f900a0173d0>"
      ]
     },
     "execution_count": 238,
     "metadata": {},
     "output_type": "execute_result"
    },
    {
     "data": {
      "image/png": "[encoded data removed]",
      "text/plain": [
       "<Figure size 640x480 with 2 Axes>"
      ]
     },
     "metadata": {},
     "output_type": "display_data"
    }
   ],
   "source": []
  },
  {
   "cell_type": "code",
   "execution_count": 45,
   "id": "466dd52b-af7a-4928-b4fb-a7c7462251ad",
   "metadata": {},
   "outputs": [
    {
     "data": {
      "text/plain": [
       "<matplotlib.collections.QuadMesh at 0x7f7bd14dce10>"
      ]
     },
     "execution_count": 45,
     "metadata": {},
     "output_type": "execute_result"
    },
    {
     "data": {
      "image/png": "[encoded data removed]",
      "text/plain": [
       "<Figure size 640x480 with 2 Axes>"
      ]
     },
     "metadata": {},
     "output_type": "display_data"
    }
   ],
   "source": [
    "c=xr.open_dataset('/Volumes/Thalassa/ERA5_data/SSDflux_rg/SSDflux_ERA5_ORAS5.nc').Frho\n",
    "c.groupby('time.month').mean('time').sel(month=11).plot()"
   ]
  },
  {
   "cell_type": "code",
   "execution_count": 15,
   "id": "b2d84caf-63bc-4e39-8f3b-30eb671d3a1f",
   "metadata": {},
   "outputs": [],
   "source": [
    "a=xr.open_dataset('/Volumes/Thalassa/CMIP6_forcings_RG_360/SSDflux_output/UKESM1-1_atm_forcing_SSDflux.nc').Fs#.isel(time=1).plot()"
   ]
  },
  {
   "cell_type": "code",
   "execution_count": 16,
   "id": "e5378f86-f333-48c7-aa1f-e2dfe8eda745",
   "metadata": {},
   "outputs": [
    {
     "data": {
      "text/plain": [
       "<matplotlib.collections.QuadMesh at 0x7f856e87e290>"
      ]
     },
     "execution_count": 16,
     "metadata": {},
     "output_type": "execute_result"
    },
    {
     "data": {
      "image/png": "[encoded data removed]",
      "text/plain": [
       "<Figure size 640x480 with 2 Axes>"
      ]
     },
     "metadata": {},
     "output_type": "display_data"
    }
   ],
   "source": [
    "a.groupby('time.month').mean('time').sel(month=1).plot()"
   ]
  },
  {
   "cell_type": "code",
   "execution_count": 246,
   "id": "0f6b7508-d645-4f87-bd33-eeeeb82091fe",
   "metadata": {},
   "outputs": [
    {
     "data": {
      "text/plain": [
       "<matplotlib.collections.QuadMesh at 0x7f856e3ef410>"
      ]
     },
     "execution_count": 14,
     "metadata": {},
     "output_type": "execute_result"
    },
    {
     "data": {
      "image/png": "[encoded data removed]",
      "text/plain": [
       "<Figure size 640x480 with 2 Axes>"
      ]
     },
     "metadata": {},
     "output_type": "display_data"
    }
   ],
   "source": [
    "a"
   ]
  },
  {
   "cell_type": "code",
   "execution_count": 17,
   "id": "cde5c4c4-bf67-4515-b8c1-a220483b62ab",
   "metadata": {},
   "outputs": [
    {
     "data": {
      "text/plain": [
       "<matplotlib.collections.QuadMesh at 0x7f856e139f50>"
      ]
     },
     "execution_count": 17,
     "metadata": {},
     "output_type": "execute_result"
    },
    {
     "data": {
      "image/png": "[encoded data removed]",
      "text/plain": [
       "<Figure size 640x480 with 2 Axes>"
      ]
     },
     "metadata": {},
     "output_type": "display_data"
    }
   ],
   "source": [
    "\n",
    "\n",
    "b=xr.open_dataset('/Users/ignasi/Desktop/Oceanography/IEO/somavilla_etal_2024/MERRA2/MERRA2_CMEMS_obs_200001-202312.Frho.nc').Frho\n",
    "\n",
    "b.groupby('time.month').mean('time').sel(month=6).plot()"
   ]
  },
  {
   "cell_type": "code",
   "execution_count": 8,
   "id": "65352fec-f534-45c2-9c89-fb5c8f0ecb1d",
   "metadata": {},
   "outputs": [
    {
     "name": "stdout",
     "output_type": "stream",
     "text": [
      "Perturbed ΔPE: 0.000000 J/m²\n"
     ]
    }
   ],
   "source": [
    "import numpy as np\n",
    "from scipy.integrate import quad\n",
    "\n",
    "# Test with perturbed parameters\n",
    "a1, a2, a3 = 1025, 0.1, 1027  # Baseline densities\n",
    "b3, b2, c2 = 0.02, 0.1, 0.01  # Adjusted shape parameters\n",
    "D, h = 50, 200  # Mixed layer depth, total depth\n",
    "g = 9.81  # Gravitational acceleration\n",
    "\n",
    "# Perturb density profile slightly\n",
    "def rho(z):\n",
    "    if z < D:\n",
    "        return a1\n",
    "    else:\n",
    "        return a3 + b3 * (z - D) + 0.001  # Small perturbation added\n",
    "\n",
    "# Recalculate integrals\n",
    "rho_z_pyc = quad(lambda z: rho(z) * z, D, h)[0]\n",
    "rho_pyc = quad(rho, D, h)[0]\n",
    "rho_z_mixed = a1 * (D**2) / 2\n",
    "rho_mixed = a1 * D\n",
    "rho_z_total = rho_z_mixed + rho_z_pyc\n",
    "rho_total = rho_mixed + rho_pyc\n",
    "\n",
    "# Average density and depth centroid\n",
    "rho_avg = rho_total / h\n",
    "z_centroid = rho_z_total / rho_total\n",
    "\n",
    "# Potential Energy Anomaly\n",
    "delta_PE = g * (rho_z_total - rho_avg * z_centroid * h)\n",
    "\n",
    "# Results\n",
    "print(f\"Perturbed ΔPE: {delta_PE:.6f} J/m²\")\n"
   ]
  },
  {
   "cell_type": "code",
   "execution_count": 9,
   "id": "aa498e10-69e5-44d8-ac13-e39d12101bfb",
   "metadata": {},
   "outputs": [
    {
     "name": "stdout",
     "output_type": "stream",
     "text": [
      "Absolute Difference (Δ): 0.0000000000\n"
     ]
    }
   ],
   "source": [
    "delta = rho_z_total - (rho_avg * z_centroid * h)\n",
    "print(f\"Absolute Difference (Δ): {delta:.10f}\")"
   ]
  },
  {
   "cell_type": "code",
   "execution_count": null,
   "id": "1865f7de-60de-453e-8587-9ef6c5a48dab",
   "metadata": {},
   "outputs": [],
   "source": []
  }
 ],
 "metadata": {
  "kernelspec": {
   "display_name": "Python 3 (ipykernel)",
   "language": "python",
   "name": "python3"
  },
  "language_info": {
   "codemirror_mode": {
    "name": "ipython",
    "version": 3
   },
   "file_extension": ".py",
   "mimetype": "text/x-python",
   "name": "python",
   "nbconvert_exporter": "python",
   "pygments_lexer": "ipython3",
   "version": "3.7.12"
  }
 },
 "nbformat": 4,
 "nbformat_minor": 5
}
